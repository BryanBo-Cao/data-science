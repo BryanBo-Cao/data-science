{
 "cells": [
  {
   "cell_type": "markdown",
   "metadata": {},
   "source": [
    "# Objective 1: Churn Prediction\n",
    "#### Bryan Bo Cao\n",
    "Github: https://github.com/BryanBo-Cao/data-science/tree/master/music-box/src/\n",
    "## Feature Generation\n",
    "#### Baseline Features: Frequency & Device Type (saved in df_model_final_frequency.csv)\n",
    "['freq_P_last_1',\n",
    " 'freq_P_last_3',\n",
    " 'freq_P_last_7',\n",
    " 'freq_P_last_14',\n",
    " 'freq_P_last_30',\n",
    " 'freq_D_last_1',\n",
    " 'freq_D_last_3',\n",
    " 'freq_D_last_7',\n",
    " 'freq_D_last_14',\n",
    " 'freq_D_last_30',\n",
    " 'device_type_1',\n",
    " 'device_type_2']\n",
    "\n",
    "#### Our Features: Frequency, Recency, Total Play Time, Song Play, Listen Threshold & Device Type (saved in df_model_final_bryanbc_frequency_recency_playtime_songplay80pcnt_listenthreshold.csv)\n",
    "['freq_P_last_1',\n",
    " 'freq_P_last_3',\n",
    " 'freq_P_last_7',\n",
    " 'freq_P_last_14',\n",
    " 'freq_P_last_30',\n",
    " 'freq_D_last_1',\n",
    " 'freq_D_last_3',\n",
    " 'freq_D_last_7',\n",
    " 'freq_D_last_14',\n",
    " 'freq_D_last_30',\n",
    " 'recency',\n",
    " 'total_play_time_D_last_1',\n",
    " 'total_play_time_D_last_3',\n",
    " 'total_play_time_D_last_7',\n",
    " 'total_play_time_D_last_14',\n",
    " 'total_play_time_D_last_30',\n",
    " 'song_play_80_pcnt_last_1',\n",
    " 'song_play_80_pcnt_last_3',\n",
    " 'song_play_80_pcnt_last_7',\n",
    " 'song_play_80_pcnt_last_14',\n",
    " 'song_play_80_pcnt_last_30',\n",
    " 'listen_threshold_last_1',\n",
    " 'listen_threshold_last_3',\n",
    " 'listen_threshold_last_7',\n",
    " 'listen_threshold_last_14',\n",
    " 'listen_threshold_last_30',\n",
    " 'device_type_1',\n",
    " 'device_type_2']"
   ]
  },
  {
   "cell_type": "markdown",
   "metadata": {},
   "source": [
    "# Load data into Spark DataFrame"
   ]
  },
  {
   "cell_type": "code",
   "execution_count": 1,
   "metadata": {
    "collapsed": false
   },
   "outputs": [],
   "source": [
    "from pyspark import SparkContext"
   ]
  },
  {
   "cell_type": "code",
   "execution_count": 2,
   "metadata": {
    "collapsed": true
   },
   "outputs": [],
   "source": [
    "import pyspark.sql.functions as F"
   ]
  },
  {
   "cell_type": "code",
   "execution_count": 3,
   "metadata": {
    "collapsed": true
   },
   "outputs": [],
   "source": [
    "# We use matplotlib for plotting\n",
    "import matplotlib.pyplot as plt\n",
    "\n",
    "# This statement allow to display plot without asking to\n",
    "%matplotlib inline"
   ]
  },
  {
   "cell_type": "markdown",
   "metadata": {},
   "source": [
    "Reference: https://gist.github.com/ololobus/4c221a0891775eaa86b0\n",
    "My Spark version is 2.3.1, so first set environment variable \"SPARK_HOME\" to be \"/usr/local/Cellar/apache-spark/2.3.1/libexec/\"\n",
    "\n",
    "```\n",
    "export SPARK_HOME=\"/usr/local/Cellar/apache-spark/2.3.1/libexec/\"\n",
    "```\n",
    "before launching jupyter notebook by\n",
    "```\n",
    "jupyter-notebook\n",
    "```"
   ]
  },
  {
   "cell_type": "code",
   "execution_count": 4,
   "metadata": {
    "collapsed": false
   },
   "outputs": [
    {
     "name": "stdout",
     "output_type": "stream",
     "text": [
      "Welcome to\n",
      "      ____              __\n",
      "     / __/__  ___ _____/ /__\n",
      "    _\\ \\/ _ \\/ _ `/ __/  '_/\n",
      "   /__ / .__/\\_,_/_/ /_/\\_\\   version 2.3.1\n",
      "      /_/\n",
      "\n",
      "Using Python version 2.7.15 (default, May  1 2018 18:37:05)\n",
      "SparkSession available as 'spark'.\n"
     ]
    }
   ],
   "source": [
    "import os\n",
    "execfile(os.path.join(os.environ[\"SPARK_HOME\"], 'python/pyspark/shell.py'))"
   ]
  },
  {
   "cell_type": "code",
   "execution_count": 5,
   "metadata": {
    "collapsed": false
   },
   "outputs": [
    {
     "data": {
      "text/html": [
       "\n",
       "        <div>\n",
       "            <p><b>SparkContext</b></p>\n",
       "\n",
       "            <p><a href=\"http://10.0.0.5:4040\">Spark UI</a></p>\n",
       "\n",
       "            <dl>\n",
       "              <dt>Version</dt>\n",
       "                <dd><code>v2.3.1</code></dd>\n",
       "              <dt>Master</dt>\n",
       "                <dd><code>local[*]</code></dd>\n",
       "              <dt>AppName</dt>\n",
       "                <dd><code>pyspark-shell</code></dd>\n",
       "            </dl>\n",
       "        </div>\n",
       "        "
      ],
      "text/plain": [
       "<SparkContext master=local[*] appName=pyspark-shell>"
      ]
     },
     "execution_count": 5,
     "metadata": {},
     "output_type": "execute_result"
    }
   ],
   "source": [
    "sc"
   ]
  },
  {
   "cell_type": "code",
   "execution_count": 6,
   "metadata": {
    "collapsed": false
   },
   "outputs": [
    {
     "data": {
      "text/plain": [
       "DataFrame[uid: string, event: string, song_id: string, date: string]"
      ]
     },
     "execution_count": 6,
     "metadata": {},
     "output_type": "execute_result"
    }
   ],
   "source": [
    "df = spark.read.csv('../data/event_ds.csv',header=True).cache()\n",
    "df"
   ]
  },
  {
   "cell_type": "code",
   "execution_count": 7,
   "metadata": {
    "collapsed": false
   },
   "outputs": [
    {
     "name": "stdout",
     "output_type": "stream",
     "text": [
      "+---------+-----+--------+----------+\n",
      "|      uid|event| song_id|      date|\n",
      "+---------+-----+--------+----------+\n",
      "|168551247|    P|11881432|2017-03-30|\n",
      "|168551026|    P|19477157|2017-03-30|\n",
      "|168551417|    P|  727161|2017-03-30|\n",
      "|168548493|    P| 6661513|2017-03-30|\n",
      "|168550890|    P|23491657|2017-03-30|\n",
      "|168548493|    P|19586155|2017-03-30|\n",
      "|168542653|    P|  133095|2017-03-30|\n",
      "|168551495|    P|22797719|2017-03-30|\n",
      "|168551008|    P|   58391|2017-03-30|\n",
      "|168551085|    P|23491653|2017-03-30|\n",
      "|168551524|    P| 6635279|2017-03-30|\n",
      "|168548493|    P|20671123|2017-03-30|\n",
      "|168548493|    P| 4371507|2017-03-30|\n",
      "|168548426|    P| 1012999|2017-03-30|\n",
      "|168547258|    P|15807836|2017-03-30|\n",
      "|168547258|    P| 6509123|2017-03-30|\n",
      "|168551160|    P|23155908|2017-03-30|\n",
      "|168547258|    P|15807836|2017-03-30|\n",
      "|168551417|    P| 6686174|2017-03-30|\n",
      "|168549715|    P| 6822825|2017-03-30|\n",
      "+---------+-----+--------+----------+\n",
      "only showing top 20 rows\n",
      "\n"
     ]
    }
   ],
   "source": [
    "df.show()"
   ]
  },
  {
   "cell_type": "code",
   "execution_count": 8,
   "metadata": {
    "collapsed": false
   },
   "outputs": [
    {
     "data": {
      "text/plain": [
       "9057207"
      ]
     },
     "execution_count": 8,
     "metadata": {},
     "output_type": "execute_result"
    }
   ],
   "source": [
    "df.count()"
   ]
  },
  {
   "cell_type": "code",
   "execution_count": 9,
   "metadata": {
    "collapsed": false
   },
   "outputs": [
    {
     "data": {
      "text/plain": [
       "DataFrame[uid: string, event: string, song_id: string, date: date]"
      ]
     },
     "execution_count": 9,
     "metadata": {},
     "output_type": "execute_result"
    }
   ],
   "source": [
    "# create new or overwrite original field with withColumn\n",
    "df = df.withColumn('date',F.col('date').cast('date'))\n",
    "df"
   ]
  },
  {
   "cell_type": "code",
   "execution_count": 10,
   "metadata": {
    "collapsed": false
   },
   "outputs": [
    {
     "name": "stdout",
     "output_type": "stream",
     "text": [
      "+---------+-----+--------+----------+\n",
      "|      uid|event| song_id|      date|\n",
      "+---------+-----+--------+----------+\n",
      "|168551247|    P|11881432|2017-03-30|\n",
      "|168551026|    P|19477157|2017-03-30|\n",
      "|168551417|    P|  727161|2017-03-30|\n",
      "|168548493|    P| 6661513|2017-03-30|\n",
      "|168550890|    P|23491657|2017-03-30|\n",
      "|168548493|    P|19586155|2017-03-30|\n",
      "|168542653|    P|  133095|2017-03-30|\n",
      "|168551495|    P|22797719|2017-03-30|\n",
      "|168551008|    P|   58391|2017-03-30|\n",
      "|168551085|    P|23491653|2017-03-30|\n",
      "|168551524|    P| 6635279|2017-03-30|\n",
      "|168548493|    P|20671123|2017-03-30|\n",
      "|168548493|    P| 4371507|2017-03-30|\n",
      "|168548426|    P| 1012999|2017-03-30|\n",
      "|168547258|    P|15807836|2017-03-30|\n",
      "|168547258|    P| 6509123|2017-03-30|\n",
      "|168551160|    P|23155908|2017-03-30|\n",
      "|168547258|    P|15807836|2017-03-30|\n",
      "|168551417|    P| 6686174|2017-03-30|\n",
      "|168549715|    P| 6822825|2017-03-30|\n",
      "+---------+-----+--------+----------+\n",
      "only showing top 20 rows\n",
      "\n"
     ]
    }
   ],
   "source": [
    "df.show()"
   ]
  },
  {
   "cell_type": "code",
   "execution_count": null,
   "metadata": {
    "collapsed": true
   },
   "outputs": [],
   "source": []
  },
  {
   "cell_type": "markdown",
   "metadata": {},
   "source": [
    "### 10 Top popular songs"
   ]
  },
  {
   "cell_type": "code",
   "execution_count": 11,
   "metadata": {
    "collapsed": false
   },
   "outputs": [
    {
     "name": "stdout",
     "output_type": "stream",
     "text": [
      "+--------+-----+\n",
      "| song_id|count|\n",
      "+--------+-----+\n",
      "|12413478|    1|\n",
      "| 6687612|   62|\n",
      "|  562600|   51|\n",
      "| 6945528|  633|\n",
      "| 9878058|  115|\n",
      "| 7113735|  400|\n",
      "|  229171|   24|\n",
      "| 2756974|    3|\n",
      "|  388733|  981|\n",
      "|  163886|   52|\n",
      "|  149982|  245|\n",
      "| 4150591|   44|\n",
      "| 6340467| 5802|\n",
      "| 4241417|    2|\n",
      "| 7207280|  338|\n",
      "|   83461|  318|\n",
      "| 3572912| 1671|\n",
      "| 4193509|  533|\n",
      "|21766537|  991|\n",
      "| 6209571|    1|\n",
      "+--------+-----+\n",
      "only showing top 20 rows\n",
      "\n"
     ]
    }
   ],
   "source": [
    "df_song = df.groupBy(\"song_id\").count()\n",
    "df_song.show()"
   ]
  },
  {
   "cell_type": "code",
   "execution_count": 12,
   "metadata": {
    "collapsed": false
   },
   "outputs": [
    {
     "data": {
      "text/plain": [
       "[Row(song_id=u'0', count=733382),\n",
       " Row(song_id=u'9950164', count=85684),\n",
       " Row(song_id=u'15249349', count=56542),\n",
       " Row(song_id=u'5237384', count=42156),\n",
       " Row(song_id=u'6468891', count=35103),\n",
       " Row(song_id=u'5114569', count=29481),\n",
       " Row(song_id=u'15807836', count=23031),\n",
       " Row(song_id=u'6657692', count=22682),\n",
       " Row(song_id=u'3620537', count=20867),\n",
       " Row(song_id=u'16827761', count=18610)]"
      ]
     },
     "execution_count": 12,
     "metadata": {},
     "output_type": "execute_result"
    }
   ],
   "source": [
    "df_song.sort(\"count\", ascending=False).head(10)"
   ]
  },
  {
   "cell_type": "markdown",
   "metadata": {},
   "source": [
    "We could see that the most popular song based on Play, Download and Search frequency is song_id=u'0', count=733382, which is much greater than the second popular song of song_id=u'9950164', count=85684. One reason could be that song_id=u'0' may be the an imputed data for NA or missing data."
   ]
  },
  {
   "cell_type": "markdown",
   "metadata": {
    "collapsed": true
   },
   "source": [
    "### 10 Top active users"
   ]
  },
  {
   "cell_type": "code",
   "execution_count": 13,
   "metadata": {
    "collapsed": false
   },
   "outputs": [
    {
     "name": "stdout",
     "output_type": "stream",
     "text": [
      "+---------+-----+\n",
      "|      uid|count|\n",
      "+---------+-----+\n",
      "|168548023|    2|\n",
      "|168577296|   11|\n",
      "|168578813|   13|\n",
      "|168610161|   29|\n",
      "|168611268|   53|\n",
      "|168608260|    2|\n",
      "|120180992|   29|\n",
      "|168624798|   27|\n",
      "|168624733|   57|\n",
      "| 46395894|  900|\n",
      "|159183409|  614|\n",
      "|168678052|    7|\n",
      "|168678996|   62|\n",
      "|168679799|   12|\n",
      "|168678749|    8|\n",
      "|168683975|   21|\n",
      "|168684469|   53|\n",
      "|168687868|    5|\n",
      "|168741359|   17|\n",
      "|168746567|    2|\n",
      "+---------+-----+\n",
      "only showing top 20 rows\n",
      "\n"
     ]
    }
   ],
   "source": [
    "df_user = df.groupBy(\"uid\").count()\n",
    "df_user.show()"
   ]
  },
  {
   "cell_type": "code",
   "execution_count": 14,
   "metadata": {
    "collapsed": false
   },
   "outputs": [
    {
     "data": {
      "text/plain": [
       "[Row(uid=u'160555083', count=8449),\n",
       " Row(uid=u'168301741', count=6199),\n",
       " Row(uid=u'168164135', count=5169),\n",
       " Row(uid=u'168538207', count=4742),\n",
       " Row(uid=u'168459491', count=4675),\n",
       " Row(uid=u'168184589', count=4537),\n",
       " Row(uid=u'168189173', count=4473),\n",
       " Row(uid=u'168433739', count=4470),\n",
       " Row(uid=u'168677532', count=4468),\n",
       " Row(uid=u'168050344', count=4298)]"
      ]
     },
     "execution_count": 14,
     "metadata": {},
     "output_type": "execute_result"
    }
   ],
   "source": [
    "df_user.sort(\"count\", ascending=False).head(10)"
   ]
  },
  {
   "cell_type": "markdown",
   "metadata": {},
   "source": [
    "The result of these top 10 active users are based on Play and Download frequency."
   ]
  },
  {
   "cell_type": "code",
   "execution_count": null,
   "metadata": {
    "collapsed": true
   },
   "outputs": [],
   "source": []
  },
  {
   "cell_type": "code",
   "execution_count": 15,
   "metadata": {
    "collapsed": false
   },
   "outputs": [
    {
     "data": {
      "text/plain": [
       "9057207"
      ]
     },
     "execution_count": 15,
     "metadata": {},
     "output_type": "execute_result"
    }
   ],
   "source": [
    "# simple count rows\n",
    "df.count()"
   ]
  },
  {
   "cell_type": "code",
   "execution_count": 16,
   "metadata": {
    "collapsed": false
   },
   "outputs": [
    {
     "data": {
      "text/plain": [
       "57920"
      ]
     },
     "execution_count": 16,
     "metadata": {},
     "output_type": "execute_result"
    }
   ],
   "source": [
    "# select operation, count distinct rows\n",
    "df.select('uid').distinct().count()"
   ]
  },
  {
   "cell_type": "code",
   "execution_count": 17,
   "metadata": {
    "collapsed": false
   },
   "outputs": [
    {
     "name": "stdout",
     "output_type": "stream",
     "text": [
      "+-----+-------+\n",
      "|event|  count|\n",
      "+-----+-------+\n",
      "|    D| 511542|\n",
      "|    P|8545665|\n",
      "+-----+-------+\n",
      "\n"
     ]
    }
   ],
   "source": [
    "# group by aggregation\n",
    "df.groupBy('event').count().show()"
   ]
  },
  {
   "cell_type": "code",
   "execution_count": 18,
   "metadata": {
    "collapsed": false
   },
   "outputs": [
    {
     "name": "stdout",
     "output_type": "stream",
     "text": [
      "+-----+-------+--------+\n",
      "|event|  count| max_uid|\n",
      "+-----+-------+--------+\n",
      "|    D| 511542|99765326|\n",
      "|    P|8545665|99996283|\n",
      "+-----+-------+--------+\n",
      "\n"
     ]
    }
   ],
   "source": [
    "# group by aggregation, more general (count, min, max, mean), multiple at once\n",
    "df.groupBy('event').agg(\n",
    "    F.count(F.col('uid')).alias('count'),\n",
    "    F.max(F.col('uid')).alias('max_uid')\n",
    ").show()"
   ]
  },
  {
   "cell_type": "code",
   "execution_count": 19,
   "metadata": {
    "collapsed": false
   },
   "outputs": [
    {
     "name": "stdout",
     "output_type": "stream",
     "text": [
      "+----------+-----+------+\n",
      "|      date|event| count|\n",
      "+----------+-----+------+\n",
      "|2017-04-01|    D| 24048|\n",
      "|2017-04-01|    P|384461|\n",
      "|2017-04-02|    D| 21871|\n",
      "|2017-04-02|    P|351661|\n",
      "|2017-04-03|    D| 16121|\n",
      "|2017-04-03|    P|195152|\n",
      "|2017-04-04|    D| 17556|\n",
      "|2017-04-04|    P|293588|\n",
      "|2017-04-05|    D| 13874|\n",
      "|2017-04-05|    P|238930|\n",
      "+----------+-----+------+\n",
      "\n"
     ]
    }
   ],
   "source": [
    "# filter operation\n",
    "# group by aggregation\n",
    "# order by operation\n",
    "df.filter((F.col('date')>='2017-04-01') & (F.col('date')<='2017-04-05')) \\\n",
    "                    .groupBy('date','event').count() \\\n",
    "                    .orderBy('date','event').show()"
   ]
  },
  {
   "cell_type": "code",
   "execution_count": 20,
   "metadata": {
    "collapsed": false
   },
   "outputs": [
    {
     "data": {
      "text/html": [
       "<div>\n",
       "<table border=\"1\" class=\"dataframe\">\n",
       "  <thead>\n",
       "    <tr style=\"text-align: right;\">\n",
       "      <th></th>\n",
       "      <th>date</th>\n",
       "      <th>count</th>\n",
       "    </tr>\n",
       "  </thead>\n",
       "  <tbody>\n",
       "    <tr>\n",
       "      <th>0</th>\n",
       "      <td>2017-04-09</td>\n",
       "      <td>249316</td>\n",
       "    </tr>\n",
       "    <tr>\n",
       "      <th>1</th>\n",
       "      <td>2017-05-11</td>\n",
       "      <td>136745</td>\n",
       "    </tr>\n",
       "    <tr>\n",
       "      <th>2</th>\n",
       "      <td>2017-04-25</td>\n",
       "      <td>169116</td>\n",
       "    </tr>\n",
       "    <tr>\n",
       "      <th>3</th>\n",
       "      <td>2017-04-03</td>\n",
       "      <td>211273</td>\n",
       "    </tr>\n",
       "    <tr>\n",
       "      <th>4</th>\n",
       "      <td>2017-04-29</td>\n",
       "      <td>172173</td>\n",
       "    </tr>\n",
       "  </tbody>\n",
       "</table>\n",
       "</div>"
      ],
      "text/plain": [
       "         date   count\n",
       "0  2017-04-09  249316\n",
       "1  2017-05-11  136745\n",
       "2  2017-04-25  169116\n",
       "3  2017-04-03  211273\n",
       "4  2017-04-29  172173"
      ]
     },
     "execution_count": 20,
     "metadata": {},
     "output_type": "execute_result"
    }
   ],
   "source": [
    "date_count = df.groupBy('date').count().toPandas()\n",
    "date_count.head(5)"
   ]
  },
  {
   "cell_type": "code",
   "execution_count": 21,
   "metadata": {
    "collapsed": false
   },
   "outputs": [
    {
     "data": {
      "text/plain": [
       "pandas.core.series.Series"
      ]
     },
     "execution_count": 21,
     "metadata": {},
     "output_type": "execute_result"
    }
   ],
   "source": [
    "type(date_count['count'])"
   ]
  },
  {
   "cell_type": "code",
   "execution_count": 22,
   "metadata": {
    "collapsed": false
   },
   "outputs": [
    {
     "data": {
      "text/plain": [
       "(array([736410., 736420., 736430., 736440., 736450., 736460., 736470.]),\n",
       " <a list of 7 Text xticklabel objects>)"
      ]
     },
     "execution_count": 22,
     "metadata": {},
     "output_type": "execute_result"
    },
    {
     "data": {
      "image/png": "[encoded data removed]",
      "text/plain": [
       "<matplotlib.figure.Figure at 0x115f23090>"
      ]
     },
     "metadata": {},
     "output_type": "display_data"
    }
   ],
   "source": [
    "from matplotlib.dates import date2num  \n",
    "date_count['date'] = date_count['date'].apply(date2num)\n",
    "plt.bar(date_count['date'],date_count['count'])\n",
    "plt.xticks(rotation='vertical')"
   ]
  },
  {
   "cell_type": "markdown",
   "metadata": {},
   "source": [
    "# Label definition"
   ]
  },
  {
   "cell_type": "code",
   "execution_count": 23,
   "metadata": {
    "collapsed": false
   },
   "outputs": [
    {
     "name": "stdout",
     "output_type": "stream",
     "text": [
      "('label window:', datetime.date(2017, 4, 29), '~', datetime.date(2017, 5, 12), 'days:', 14)\n",
      "('feature window:', datetime.date(2017, 3, 30), '~', datetime.date(2017, 4, 28), 'days:', 30)\n"
     ]
    }
   ],
   "source": [
    "import datetime\n",
    "from dateutil import parser\n",
    "\n",
    "label_window_size = 14\n",
    "label_window_end_date = parser.parse('2017-05-12').date()\n",
    "label_window_start_date = label_window_end_date - datetime.timedelta(label_window_size - 1)\n",
    "print('label window:',label_window_start_date,'~',label_window_end_date,'days:',label_window_size)\n",
    "\n",
    "feature_window_size = 30\n",
    "feature_window_end_date = label_window_start_date - datetime.timedelta(1)\n",
    "feature_window_start_date = feature_window_end_date  - datetime.timedelta(feature_window_size - 1)\n",
    "print('feature window:',feature_window_start_date,'~',feature_window_end_date,'days:',feature_window_size)"
   ]
  },
  {
   "cell_type": "code",
   "execution_count": 24,
   "metadata": {
    "collapsed": true
   },
   "outputs": [],
   "source": [
    "# all the uid we will model\n",
    "df_model_uid = df.filter((F.col('date')>=feature_window_start_date) & (F.col('date')<=feature_window_end_date))\\\n",
    "                    .select('uid').distinct()\n",
    "# active in label window (active label=0)\n",
    "df_active_uid_in_label_window = df.filter((F.col('date')>=label_window_start_date) & \\\n",
    "                                          (F.col('date')<=label_window_end_date))\\\n",
    "                            .select('uid').distinct().withColumn('label',F.lit(0))"
   ]
  },
  {
   "cell_type": "code",
   "execution_count": 25,
   "metadata": {
    "collapsed": true
   },
   "outputs": [],
   "source": [
    "# prepare label data (churn label=1; active label=0)\n",
    "df_label = df_model_uid.join(df_active_uid_in_label_window,on=['uid'],how='left')\n",
    "df_label = df_label.fillna(1)"
   ]
  },
  {
   "cell_type": "code",
   "execution_count": 26,
   "metadata": {
    "collapsed": false
   },
   "outputs": [
    {
     "name": "stdout",
     "output_type": "stream",
     "text": [
      "+-----+-----+\n",
      "|label|count|\n",
      "+-----+-----+\n",
      "|    1|35556|\n",
      "|    0|20966|\n",
      "+-----+-----+\n",
      "\n"
     ]
    }
   ],
   "source": [
    "df_label.groupBy('label').count().show()"
   ]
  },
  {
   "cell_type": "markdown",
   "metadata": {},
   "source": [
    "# Feature generation"
   ]
  },
  {
   "cell_type": "code",
   "execution_count": 27,
   "metadata": {
    "collapsed": true
   },
   "outputs": [],
   "source": [
    "# event_data in feature_window\n",
    "df_feature_window = df.filter((F.col('date')>=feature_window_start_date) & (F.col('date')<=feature_window_end_date))"
   ]
  },
  {
   "cell_type": "markdown",
   "metadata": {},
   "source": [
    "### Frequency features"
   ]
  },
  {
   "cell_type": "markdown",
   "metadata": {},
   "source": [
    "##### method 1"
   ]
  },
  {
   "cell_type": "code",
   "execution_count": 28,
   "metadata": {
    "collapsed": true
   },
   "outputs": [],
   "source": [
    "# define a function to generate frequency features\n",
    "def frequency_feature_generation(df,event,time_window,snapshot_date):\n",
    "    \"\"\"\n",
    "    generate frequency features for one event type and one time window\n",
    "    \"\"\"\n",
    "    df_feature = df.filter(F.col('event')==event)\\\n",
    "            .filter((F.col('date')>=snapshot_date-datetime.timedelta(time_window-1)) & \\\n",
    "                    (F.col('date')<=snapshot_date))\\\n",
    "            .groupBy('uid').agg(F.count(F.col('uid')).alias('freq_'+event+'_last_'+str(time_window)))\n",
    "    return df_feature"
   ]
  },
  {
   "cell_type": "code",
   "execution_count": 29,
   "metadata": {
    "collapsed": true
   },
   "outputs": [],
   "source": [
    "# generate one feature\n",
    "event = 'P'\n",
    "time_window = 3\n",
    "snapshot_date = feature_window_end_date\n",
    "df_feature = frequency_feature_generation(df_feature_window,event,time_window,snapshot_date)"
   ]
  },
  {
   "cell_type": "code",
   "execution_count": 30,
   "metadata": {
    "collapsed": false
   },
   "outputs": [
    {
     "name": "stdout",
     "output_type": "stream",
     "text": [
      "+---------+-------------+\n",
      "|      uid|freq_P_last_3|\n",
      "+---------+-------------+\n",
      "|167810312|          190|\n",
      "|167712206|           30|\n",
      "| 57077508|          243|\n",
      "|167761722|          146|\n",
      "|167896753|           31|\n",
      "+---------+-------------+\n",
      "only showing top 5 rows\n",
      "\n"
     ]
    }
   ],
   "source": [
    "df_feature.show(5)"
   ]
  },
  {
   "cell_type": "code",
   "execution_count": 31,
   "metadata": {
    "collapsed": true
   },
   "outputs": [],
   "source": [
    "# generate frequency features for all event_list, time_window_list\n",
    "# event_list = ['P','D','S']\n",
    "event_list = ['P','D']\n",
    "time_window_list = [1,3,7,14,30]\n",
    "df_feature_list = []\n",
    "for event in event_list:\n",
    "    for time_window in time_window_list:\n",
    "        df_feature_list.append(frequency_feature_generation(df_feature_window,event,time_window,snapshot_date))\n"
   ]
  },
  {
   "cell_type": "code",
   "execution_count": 32,
   "metadata": {
    "collapsed": false
   },
   "outputs": [
    {
     "data": {
      "text/plain": [
       "[DataFrame[uid: string, freq_P_last_1: bigint],\n",
       " DataFrame[uid: string, freq_P_last_3: bigint],\n",
       " DataFrame[uid: string, freq_P_last_7: bigint],\n",
       " DataFrame[uid: string, freq_P_last_14: bigint],\n",
       " DataFrame[uid: string, freq_P_last_30: bigint],\n",
       " DataFrame[uid: string, freq_D_last_1: bigint],\n",
       " DataFrame[uid: string, freq_D_last_3: bigint],\n",
       " DataFrame[uid: string, freq_D_last_7: bigint],\n",
       " DataFrame[uid: string, freq_D_last_14: bigint],\n",
       " DataFrame[uid: string, freq_D_last_30: bigint]]"
      ]
     },
     "execution_count": 32,
     "metadata": {},
     "output_type": "execute_result"
    }
   ],
   "source": [
    "df_feature_list"
   ]
  },
  {
   "cell_type": "markdown",
   "metadata": {},
   "source": [
    "##### method 2: too many dfs to join? do it another way"
   ]
  },
  {
   "cell_type": "code",
   "execution_count": 33,
   "metadata": {
    "collapsed": true
   },
   "outputs": [],
   "source": [
    "# define a function to generate frequency features for a list of time windows\n",
    "# using when().otherwise(), and list comprehension trick!\n",
    "def frequency_feature_generation_time_windows(df,event,time_window_list,snapshot_date):\n",
    "    \"\"\"\n",
    "    generate frequency features for one event type and a list of time windows\n",
    "    \"\"\"\n",
    "    df_feature = df \\\n",
    "        .filter(F.col('event')==event) \\\n",
    "        .groupBy('uid') \\\n",
    "        .agg(*[F.sum(F.when((F.col('date')>=snapshot_date-datetime.timedelta(time_window-1)) & \\\n",
    "                            (F.col('date')<=snapshot_date),1).otherwise(0)).alias('freq_'+event+'_last_'+\\\n",
    "                                                                                  str(time_window)) \\\n",
    "                for time_window in time_window_list]\n",
    "            )# *[] opens list and make them comma separated\n",
    "    return df_feature"
   ]
  },
  {
   "cell_type": "code",
   "execution_count": 34,
   "metadata": {
    "collapsed": false
   },
   "outputs": [
    {
     "name": "stdout",
     "output_type": "stream",
     "text": [
      "+---------+-------------+-------------+-------------+--------------+--------------+\n",
      "|      uid|freq_P_last_1|freq_P_last_3|freq_P_last_7|freq_P_last_14|freq_P_last_30|\n",
      "+---------+-------------+-------------+-------------+--------------+--------------+\n",
      "|168548023|            0|            0|            0|             0|             2|\n",
      "|168577296|            0|            0|            0|             0|            11|\n",
      "|168578813|            0|            0|            0|             0|            13|\n",
      "|168610161|            0|            0|            0|             2|            29|\n",
      "|168611268|            3|            8|            8|            12|            29|\n",
      "+---------+-------------+-------------+-------------+--------------+--------------+\n",
      "only showing top 5 rows\n",
      "\n"
     ]
    }
   ],
   "source": [
    "# generate one event type, all time windows \n",
    "event = 'P'\n",
    "time_window_list = [1,3,7,14,30]\n",
    "snapshot_date = feature_window_end_date\n",
    "df_feature = frequency_feature_generation_time_windows(df_feature_window,event,time_window_list,snapshot_date)\n",
    "df_feature.show(5)"
   ]
  },
  {
   "cell_type": "code",
   "execution_count": 35,
   "metadata": {
    "collapsed": true
   },
   "outputs": [],
   "source": [
    "# generate frequency features for all event_list, time_window_list\n",
    "# event_list = ['P','D','S']\n",
    "event_list = ['P','D']\n",
    "time_window_list = [1,3,7,14,30]\n",
    "df_feature_list = []\n",
    "for event in event_list:\n",
    "    df_feature_list.append(frequency_feature_generation_time_windows(df_feature_window,event,time_window_list,\\\n",
    "                                                                     snapshot_date))\n"
   ]
  },
  {
   "cell_type": "code",
   "execution_count": 36,
   "metadata": {
    "collapsed": false
   },
   "outputs": [
    {
     "data": {
      "text/plain": [
       "[DataFrame[uid: string, freq_P_last_1: bigint, freq_P_last_3: bigint, freq_P_last_7: bigint, freq_P_last_14: bigint, freq_P_last_30: bigint],\n",
       " DataFrame[uid: string, freq_D_last_1: bigint, freq_D_last_3: bigint, freq_D_last_7: bigint, freq_D_last_14: bigint, freq_D_last_30: bigint]]"
      ]
     },
     "execution_count": 36,
     "metadata": {},
     "output_type": "execute_result"
    }
   ],
   "source": [
    "df_feature_list"
   ]
  },
  {
   "cell_type": "markdown",
   "metadata": {},
   "source": [
    "### Recency feature"
   ]
  },
  {
   "cell_type": "code",
   "execution_count": 37,
   "metadata": {
    "collapsed": true
   },
   "outputs": [],
   "source": [
    "# event_data in feature_window\n",
    "import datetime"
   ]
  },
  {
   "cell_type": "code",
   "execution_count": 38,
   "metadata": {
    "collapsed": false
   },
   "outputs": [
    {
     "data": {
      "text/plain": [
       "datetime.date(2018, 7, 8)"
      ]
     },
     "execution_count": 38,
     "metadata": {},
     "output_type": "execute_result"
    }
   ],
   "source": [
    "current_date = datetime.date.today()\n",
    "current_date"
   ]
  },
  {
   "cell_type": "code",
   "execution_count": 39,
   "metadata": {
    "collapsed": true
   },
   "outputs": [],
   "source": [
    "# defined as days from last event\n",
    "# can generate one feature for each type of event\n",
    "def recency_feature_generation(df):\n",
    "    \"\"\"\n",
    "    generate recency features for one event type and a list of time windows\n",
    "    \"\"\"\n",
    "    df_feature = df.withColumn('recency', F.datediff(F.current_date(), F.col('date')))\n",
    "    df_feature = df_feature.select('uid', 'recency')\n",
    "    df_feature.show(5)\n",
    "    return df_feature"
   ]
  },
  {
   "cell_type": "code",
   "execution_count": 40,
   "metadata": {
    "collapsed": false
   },
   "outputs": [
    {
     "name": "stdout",
     "output_type": "stream",
     "text": [
      "+---------+-------+\n",
      "|      uid|recency|\n",
      "+---------+-------+\n",
      "|168551247|    465|\n",
      "|168551026|    465|\n",
      "|168551417|    465|\n",
      "|168548493|    465|\n",
      "|168550890|    465|\n",
      "+---------+-------+\n",
      "only showing top 5 rows\n",
      "\n"
     ]
    },
    {
     "data": {
      "text/plain": [
       "[DataFrame[uid: string, freq_P_last_1: bigint, freq_P_last_3: bigint, freq_P_last_7: bigint, freq_P_last_14: bigint, freq_P_last_30: bigint],\n",
       " DataFrame[uid: string, freq_D_last_1: bigint, freq_D_last_3: bigint, freq_D_last_7: bigint, freq_D_last_14: bigint, freq_D_last_30: bigint],\n",
       " DataFrame[uid: string, recency: int]]"
      ]
     },
     "execution_count": 40,
     "metadata": {},
     "output_type": "execute_result"
    }
   ],
   "source": [
    "df_feature_list.append(recency_feature_generation(df))\n",
    "df_feature_list"
   ]
  },
  {
   "cell_type": "code",
   "execution_count": 41,
   "metadata": {
    "collapsed": false
   },
   "outputs": [
    {
     "data": {
      "text/plain": [
       "9057207"
      ]
     },
     "execution_count": 41,
     "metadata": {},
     "output_type": "execute_result"
    }
   ],
   "source": [
    "df_feature_list[2].count()"
   ]
  },
  {
   "cell_type": "code",
   "execution_count": 42,
   "metadata": {
    "collapsed": false
   },
   "outputs": [
    {
     "data": {
      "text/plain": [
       "9057207"
      ]
     },
     "execution_count": 42,
     "metadata": {},
     "output_type": "execute_result"
    }
   ],
   "source": [
    "df.count()"
   ]
  },
  {
   "cell_type": "code",
   "execution_count": null,
   "metadata": {
    "collapsed": false
   },
   "outputs": [],
   "source": []
  },
  {
   "cell_type": "markdown",
   "metadata": {},
   "source": [
    "### Profile features"
   ]
  },
  {
   "cell_type": "code",
   "execution_count": 43,
   "metadata": {
    "collapsed": false
   },
   "outputs": [
    {
     "name": "stdout",
     "output_type": "stream",
     "text": [
      "+---------+------+--------+----------+---------+-----------+\n",
      "|      uid|device| song_id|      date|play_time|song_length|\n",
      "+---------+------+--------+----------+---------+-----------+\n",
      "|168551247|    ar|11881432|2017-03-30|       78|        149|\n",
      "|168551026|    ar|19477157|2017-03-30|        2|         31|\n",
      "|168551417|    ar|  727161|2017-03-30|       27|        226|\n",
      "|168548493|    ip| 6661513|2017-03-30|       63|        243|\n",
      "|168550890|    ar|23491657|2017-03-30|      330|        331|\n",
      "+---------+------+--------+----------+---------+-----------+\n",
      "only showing top 5 rows\n",
      "\n"
     ]
    }
   ],
   "source": [
    "df_play = spark.read.csv('../data/play_ds.csv',header=True)\n",
    "df_play.show(5)"
   ]
  },
  {
   "cell_type": "code",
   "execution_count": 44,
   "metadata": {
    "collapsed": true
   },
   "outputs": [],
   "source": [
    "df_play_feature_window = df_play.filter((F.col('date')>=feature_window_start_date) & \\\n",
    "                                        (F.col('date')<=feature_window_end_date))\n",
    "df_profile_tmp = df_play_feature_window.select('uid','device').distinct()"
   ]
  },
  {
   "cell_type": "code",
   "execution_count": 45,
   "metadata": {
    "collapsed": false
   },
   "outputs": [
    {
     "name": "stdout",
     "output_type": "stream",
     "text": [
      "+------+-----+\n",
      "|device|count|\n",
      "+------+-----+\n",
      "|    ar|49358|\n",
      "|    ip| 7011|\n",
      "+------+-----+\n",
      "\n"
     ]
    }
   ],
   "source": [
    "df_profile_tmp.groupBy('device').count().show()"
   ]
  },
  {
   "cell_type": "code",
   "execution_count": 46,
   "metadata": {
    "collapsed": false
   },
   "outputs": [
    {
     "data": {
      "text/plain": [
       "56369"
      ]
     },
     "execution_count": 46,
     "metadata": {},
     "output_type": "execute_result"
    }
   ],
   "source": [
    "# check if one user has two devices\n",
    "df_profile_tmp.count()"
   ]
  },
  {
   "cell_type": "code",
   "execution_count": 47,
   "metadata": {
    "collapsed": false
   },
   "outputs": [
    {
     "data": {
      "text/plain": [
       "56369"
      ]
     },
     "execution_count": 47,
     "metadata": {},
     "output_type": "execute_result"
    }
   ],
   "source": [
    "df_profile_tmp.distinct().count()"
   ]
  },
  {
   "cell_type": "code",
   "execution_count": 48,
   "metadata": {
    "collapsed": false
   },
   "outputs": [
    {
     "name": "stdout",
     "output_type": "stream",
     "text": [
      "+-----------+-----+\n",
      "|device_type|count|\n",
      "+-----------+-----+\n",
      "|          1| 7011|\n",
      "|          2|49358|\n",
      "+-----------+-----+\n",
      "\n"
     ]
    }
   ],
   "source": [
    "df_profile_tmp = df_profile_tmp.withColumn('device_type',F.when(F.col('device')=='ip',1).otherwise(2))\n",
    "df_profile_tmp.groupBy('device_type').count().show()"
   ]
  },
  {
   "cell_type": "code",
   "execution_count": 49,
   "metadata": {
    "collapsed": false
   },
   "outputs": [
    {
     "name": "stdout",
     "output_type": "stream",
     "text": [
      "+-----------+-----+\n",
      "|device_type|count|\n",
      "+-----------+-----+\n",
      "|       null|  166|\n",
      "|          1| 7011|\n",
      "|          2|49358|\n",
      "+-----------+-----+\n",
      "\n"
     ]
    }
   ],
   "source": [
    "df_profile = df_label.select('uid').join(df_profile_tmp.select('uid','device_type'),on='uid',how='left')\n",
    "df_profile.groupBy('device_type').count().show()"
   ]
  },
  {
   "cell_type": "markdown",
   "metadata": {},
   "source": [
    "### Total play time features"
   ]
  },
  {
   "cell_type": "code",
   "execution_count": 50,
   "metadata": {
    "collapsed": false
   },
   "outputs": [],
   "source": [
    "# Can you generate total song play time features (using play_ds data) for different time window\n",
    "# using play data (need to clean play time first, play time may be negative in data)"
   ]
  },
  {
   "cell_type": "markdown",
   "metadata": {},
   "source": [
    "Filter df_play, only deal with songs whose play_time is non-negative."
   ]
  },
  {
   "cell_type": "code",
   "execution_count": 51,
   "metadata": {
    "collapsed": false
   },
   "outputs": [
    {
     "name": "stdout",
     "output_type": "stream",
     "text": [
      "+---------+------+--------+----------+---------+-----------+\n",
      "|      uid|device| song_id|      date|play_time|song_length|\n",
      "+---------+------+--------+----------+---------+-----------+\n",
      "|168551247|    ar|11881432|2017-03-30|       78|        149|\n",
      "|168551026|    ar|19477157|2017-03-30|        2|         31|\n",
      "|168551417|    ar|  727161|2017-03-30|       27|        226|\n",
      "|168548493|    ip| 6661513|2017-03-30|       63|        243|\n",
      "|168550890|    ar|23491657|2017-03-30|      330|        331|\n",
      "+---------+------+--------+----------+---------+-----------+\n",
      "only showing top 5 rows\n",
      "\n"
     ]
    }
   ],
   "source": [
    "df_play.show(5)"
   ]
  },
  {
   "cell_type": "code",
   "execution_count": 52,
   "metadata": {
    "collapsed": false
   },
   "outputs": [
    {
     "data": {
      "text/plain": [
       "8545665"
      ]
     },
     "execution_count": 52,
     "metadata": {},
     "output_type": "execute_result"
    }
   ],
   "source": [
    "df_play_cnt = df_play.count()\n",
    "df_play_cnt"
   ]
  },
  {
   "cell_type": "code",
   "execution_count": 53,
   "metadata": {
    "collapsed": false
   },
   "outputs": [
    {
     "name": "stdout",
     "output_type": "stream",
     "text": [
      "+---------+------+--------+----------+---------+-----------+\n",
      "|      uid|device| song_id|      date|play_time|song_length|\n",
      "+---------+------+--------+----------+---------+-----------+\n",
      "|168551247|    ar|11881432|2017-03-30|       78|        149|\n",
      "|168551026|    ar|19477157|2017-03-30|        2|         31|\n",
      "|168551417|    ar|  727161|2017-03-30|       27|        226|\n",
      "|168548493|    ip| 6661513|2017-03-30|       63|        243|\n",
      "|168550890|    ar|23491657|2017-03-30|      330|        331|\n",
      "+---------+------+--------+----------+---------+-----------+\n",
      "only showing top 5 rows\n",
      "\n"
     ]
    }
   ],
   "source": [
    "df_play_clean = df_play.filter(F.col('play_time') >= 0)\n",
    "df_play_clean.show(5)"
   ]
  },
  {
   "cell_type": "code",
   "execution_count": 54,
   "metadata": {
    "collapsed": false
   },
   "outputs": [
    {
     "data": {
      "text/plain": [
       "8503318"
      ]
     },
     "execution_count": 54,
     "metadata": {},
     "output_type": "execute_result"
    }
   ],
   "source": [
    "df_play_clean_cnt = df_play_clean.count()\n",
    "df_play_clean_cnt"
   ]
  },
  {
   "cell_type": "code",
   "execution_count": 55,
   "metadata": {
    "collapsed": false
   },
   "outputs": [
    {
     "data": {
      "text/plain": [
       "42347"
      ]
     },
     "execution_count": 55,
     "metadata": {},
     "output_type": "execute_result"
    }
   ],
   "source": [
    "df_play_cnt - df_play_clean_cnt"
   ]
  },
  {
   "cell_type": "markdown",
   "metadata": {
    "collapsed": true
   },
   "source": [
    "We can see that there are 42347 records whose play_time is negative."
   ]
  },
  {
   "cell_type": "code",
   "execution_count": 56,
   "metadata": {
    "collapsed": false
   },
   "outputs": [],
   "source": [
    "# define a function to generate play_time features for a list of time windows\n",
    "# using when().otherwise(), and list comprehension trick!\n",
    "def total_play_time_feature_generation_time_windows(df,time_window_list,snapshot_date):\n",
    "    \"\"\"\n",
    "    generate frequency features for one event type and a list of time windows\n",
    "    \"\"\"\n",
    "    df_feature = df \\\n",
    "        .groupBy('uid') \\\n",
    "        .agg(*[F.sum(F.when((F.col('date')>=snapshot_date-datetime.timedelta(time_window-1)) & \\\n",
    "                            (F.col('date')<=snapshot_date), \\\n",
    "                            F.col('play_time')).otherwise(0)).alias('total_play_time_'+ \\\n",
    "                                                                    event+'_last_'+str(time_window)) \\\n",
    "                for time_window in time_window_list]\n",
    "            )# *[] opens list and make them comma separated\n",
    "    return df_feature"
   ]
  },
  {
   "cell_type": "code",
   "execution_count": 57,
   "metadata": {
    "collapsed": false
   },
   "outputs": [
    {
     "name": "stdout",
     "output_type": "stream",
     "text": [
      "+---------+------------------------+------------------------+------------------------+-------------------------+-------------------------+\n",
      "|      uid|total_play_time_D_last_1|total_play_time_D_last_3|total_play_time_D_last_7|total_play_time_D_last_14|total_play_time_D_last_30|\n",
      "+---------+------------------------+------------------------+------------------------+-------------------------+-------------------------+\n",
      "|168548023|                     0.0|                     0.0|                     0.0|                      0.0|                    264.0|\n",
      "|168577296|                     0.0|                     0.0|                     0.0|                      0.0|                   2092.0|\n",
      "|168578813|                     0.0|                     0.0|                     0.0|                      0.0|                    659.0|\n",
      "|168610161|                     0.0|                     0.0|                     0.0|                     14.0|                    187.0|\n",
      "|168611268|                   944.0|                  1831.0|                  1831.0|                   2831.0|                   4123.0|\n",
      "+---------+------------------------+------------------------+------------------------+-------------------------+-------------------------+\n",
      "only showing top 5 rows\n",
      "\n"
     ]
    }
   ],
   "source": [
    "# generate all time windows \n",
    "time_window_list = [1,3,7,14,30]\n",
    "snapshot_date = feature_window_end_date\n",
    "df_feature = total_play_time_feature_generation_time_windows(df_play_clean,time_window_list,snapshot_date)\n",
    "df_feature.show(5)"
   ]
  },
  {
   "cell_type": "markdown",
   "metadata": {},
   "source": [
    "Append the play_time feature to feature list"
   ]
  },
  {
   "cell_type": "code",
   "execution_count": 58,
   "metadata": {
    "collapsed": false
   },
   "outputs": [
    {
     "data": {
      "text/plain": [
       "[DataFrame[uid: string, freq_P_last_1: bigint, freq_P_last_3: bigint, freq_P_last_7: bigint, freq_P_last_14: bigint, freq_P_last_30: bigint],\n",
       " DataFrame[uid: string, freq_D_last_1: bigint, freq_D_last_3: bigint, freq_D_last_7: bigint, freq_D_last_14: bigint, freq_D_last_30: bigint],\n",
       " DataFrame[uid: string, recency: int],\n",
       " DataFrame[uid: string, total_play_time_D_last_1: double, total_play_time_D_last_3: double, total_play_time_D_last_7: double, total_play_time_D_last_14: double, total_play_time_D_last_30: double]]"
      ]
     },
     "execution_count": 58,
     "metadata": {},
     "output_type": "execute_result"
    }
   ],
   "source": [
    "df_feature_list.append(df_feature)\n",
    "df_feature_list"
   ]
  },
  {
   "cell_type": "code",
   "execution_count": null,
   "metadata": {
    "collapsed": true
   },
   "outputs": [],
   "source": []
  },
  {
   "cell_type": "markdown",
   "metadata": {},
   "source": [
    "### Fancier frequency features\n",
    "### Song Play 80 Pcnt"
   ]
  },
  {
   "cell_type": "code",
   "execution_count": 59,
   "metadata": {
    "collapsed": true
   },
   "outputs": [],
   "source": [
    "# Can you generate counts of songs play 80% of their song length (using play_ds data) for different time window\n",
    "# using play data (need to clean play time and song length first, play time may be negative in data, song length may be zeros)"
   ]
  },
  {
   "cell_type": "markdown",
   "metadata": {
    "collapsed": true
   },
   "source": [
    "Filter df_play, only deal with songs whose play_time and song length are non-negative."
   ]
  },
  {
   "cell_type": "code",
   "execution_count": 60,
   "metadata": {
    "collapsed": false
   },
   "outputs": [
    {
     "name": "stdout",
     "output_type": "stream",
     "text": [
      "+---------+------+--------+----------+---------+-----------+\n",
      "|      uid|device| song_id|      date|play_time|song_length|\n",
      "+---------+------+--------+----------+---------+-----------+\n",
      "|168551247|    ar|11881432|2017-03-30|       78|        149|\n",
      "|168551026|    ar|19477157|2017-03-30|        2|         31|\n",
      "|168551417|    ar|  727161|2017-03-30|       27|        226|\n",
      "|168548493|    ip| 6661513|2017-03-30|       63|        243|\n",
      "|168550890|    ar|23491657|2017-03-30|      330|        331|\n",
      "+---------+------+--------+----------+---------+-----------+\n",
      "only showing top 5 rows\n",
      "\n"
     ]
    }
   ],
   "source": [
    "df_play.show(5)"
   ]
  },
  {
   "cell_type": "code",
   "execution_count": 61,
   "metadata": {
    "collapsed": false
   },
   "outputs": [
    {
     "data": {
      "text/plain": [
       "8545665"
      ]
     },
     "execution_count": 61,
     "metadata": {},
     "output_type": "execute_result"
    }
   ],
   "source": [
    "df_play_cnt = df_play.count()\n",
    "df_play_cnt"
   ]
  },
  {
   "cell_type": "code",
   "execution_count": 62,
   "metadata": {
    "collapsed": false
   },
   "outputs": [
    {
     "name": "stdout",
     "output_type": "stream",
     "text": [
      "+---------+------+--------+----------+---------+-----------+\n",
      "|      uid|device| song_id|      date|play_time|song_length|\n",
      "+---------+------+--------+----------+---------+-----------+\n",
      "|168551247|    ar|11881432|2017-03-30|       78|        149|\n",
      "|168551026|    ar|19477157|2017-03-30|        2|         31|\n",
      "|168551417|    ar|  727161|2017-03-30|       27|        226|\n",
      "|168548493|    ip| 6661513|2017-03-30|       63|        243|\n",
      "|168550890|    ar|23491657|2017-03-30|      330|        331|\n",
      "+---------+------+--------+----------+---------+-----------+\n",
      "only showing top 5 rows\n",
      "\n"
     ]
    }
   ],
   "source": [
    "df_play_clean = df_play.filter(F.col('play_time') >= 0)\n",
    "df_play_clean.show(5)"
   ]
  },
  {
   "cell_type": "code",
   "execution_count": 63,
   "metadata": {
    "collapsed": false
   },
   "outputs": [
    {
     "name": "stdout",
     "output_type": "stream",
     "text": [
      "+---------+------+--------+----------+---------+-----------+\n",
      "|      uid|device| song_id|      date|play_time|song_length|\n",
      "+---------+------+--------+----------+---------+-----------+\n",
      "|168551247|    ar|11881432|2017-03-30|       78|        149|\n",
      "|168551026|    ar|19477157|2017-03-30|        2|         31|\n",
      "|168551417|    ar|  727161|2017-03-30|       27|        226|\n",
      "|168548493|    ip| 6661513|2017-03-30|       63|        243|\n",
      "|168550890|    ar|23491657|2017-03-30|      330|        331|\n",
      "+---------+------+--------+----------+---------+-----------+\n",
      "only showing top 5 rows\n",
      "\n"
     ]
    }
   ],
   "source": [
    "df_play_clean = df_play_clean.filter(F.col('song_length') >= 0)\n",
    "df_play_clean.show(5)"
   ]
  },
  {
   "cell_type": "code",
   "execution_count": 64,
   "metadata": {
    "collapsed": false
   },
   "outputs": [
    {
     "data": {
      "text/plain": [
       "8502559"
      ]
     },
     "execution_count": 64,
     "metadata": {},
     "output_type": "execute_result"
    }
   ],
   "source": [
    "df_play_clean_cnt = df_play_clean.count()\n",
    "df_play_clean_cnt"
   ]
  },
  {
   "cell_type": "code",
   "execution_count": 65,
   "metadata": {
    "collapsed": false
   },
   "outputs": [
    {
     "data": {
      "text/plain": [
       "43106"
      ]
     },
     "execution_count": 65,
     "metadata": {},
     "output_type": "execute_result"
    }
   ],
   "source": [
    "df_play_cnt - df_play_clean_cnt"
   ]
  },
  {
   "cell_type": "markdown",
   "metadata": {
    "collapsed": true
   },
   "source": [
    "We can see that there are 43106 records whose play_time or song_length is negative."
   ]
  },
  {
   "cell_type": "code",
   "execution_count": 66,
   "metadata": {
    "collapsed": true
   },
   "outputs": [],
   "source": [
    "# define a function to generate song_play_80_pcnt features for a list of time windows\n",
    "# using when().otherwise(), and list comprehension trick!\n",
    "def song_play_80_pcnt_feature_generation_time_windows(df,time_window_list,snapshot_date):\n",
    "    \"\"\"\n",
    "    generate frequency features for one event type and a list of time windows\n",
    "    \"\"\"\n",
    "    df_feature = df \\\n",
    "        .groupBy('uid') \\\n",
    "        .agg(*[F.sum(F.when((F.col('date')>=snapshot_date-datetime.timedelta(time_window-1)) & \\\n",
    "                            (F.col('date')<=snapshot_date) & \\\n",
    "                            (F.col('play_time') / F.col('song_length') >= 0.8),\\\n",
    "                            1).otherwise(0)).alias('song_play_80_pcnt_last_'+str(time_window)) \\\n",
    "                for time_window in time_window_list]\n",
    "            )# *[] opens list and make them comma separated\n",
    "    return df_feature"
   ]
  },
  {
   "cell_type": "code",
   "execution_count": 67,
   "metadata": {
    "collapsed": false
   },
   "outputs": [
    {
     "name": "stdout",
     "output_type": "stream",
     "text": [
      "+---------+------------------------+------------------------+------------------------+-------------------------+-------------------------+\n",
      "|      uid|song_play_80_pcnt_last_1|song_play_80_pcnt_last_3|song_play_80_pcnt_last_7|song_play_80_pcnt_last_14|song_play_80_pcnt_last_30|\n",
      "+---------+------------------------+------------------------+------------------------+-------------------------+-------------------------+\n",
      "|168548023|                       0|                       0|                       0|                        0|                        1|\n",
      "|168577296|                       0|                       0|                       0|                        0|                        9|\n",
      "|168578813|                       0|                       0|                       0|                        0|                        1|\n",
      "|168610161|                       0|                       0|                       0|                        0|                        0|\n",
      "|168611268|                       3|                       6|                       6|                       10|                       11|\n",
      "+---------+------------------------+------------------------+------------------------+-------------------------+-------------------------+\n",
      "only showing top 5 rows\n",
      "\n"
     ]
    }
   ],
   "source": [
    "# generate all time windows \n",
    "time_window_list = [1,3,7,14,30]\n",
    "snapshot_date = feature_window_end_date\n",
    "df_feature = song_play_80_pcnt_feature_generation_time_windows(df_play_clean,time_window_list,snapshot_date)\n",
    "df_feature.show(5)"
   ]
  },
  {
   "cell_type": "code",
   "execution_count": 68,
   "metadata": {
    "collapsed": false
   },
   "outputs": [
    {
     "data": {
      "text/plain": [
       "[DataFrame[uid: string, freq_P_last_1: bigint, freq_P_last_3: bigint, freq_P_last_7: bigint, freq_P_last_14: bigint, freq_P_last_30: bigint],\n",
       " DataFrame[uid: string, freq_D_last_1: bigint, freq_D_last_3: bigint, freq_D_last_7: bigint, freq_D_last_14: bigint, freq_D_last_30: bigint],\n",
       " DataFrame[uid: string, recency: int],\n",
       " DataFrame[uid: string, total_play_time_D_last_1: double, total_play_time_D_last_3: double, total_play_time_D_last_7: double, total_play_time_D_last_14: double, total_play_time_D_last_30: double],\n",
       " DataFrame[uid: string, song_play_80_pcnt_last_1: bigint, song_play_80_pcnt_last_3: bigint, song_play_80_pcnt_last_7: bigint, song_play_80_pcnt_last_14: bigint, song_play_80_pcnt_last_30: bigint]]"
      ]
     },
     "execution_count": 68,
     "metadata": {},
     "output_type": "execute_result"
    }
   ],
   "source": [
    "df_feature_list.append(df_feature)\n",
    "df_feature_list"
   ]
  },
  {
   "cell_type": "code",
   "execution_count": null,
   "metadata": {
    "collapsed": true
   },
   "outputs": [],
   "source": []
  },
  {
   "cell_type": "markdown",
   "metadata": {},
   "source": [
    "### New feature\n",
    "### Listen Threshold features\n",
    "Create new feature called \"listen_threshold\", defined as counts of songs play time longer than 10s (using play_ds data) for different time window. The intuition is that when listening to a new song, in the first 10 seconds, a user would most likely have a feeling of whether he/she likes this song and might have a decision on whether to continue listening to this song or skip it. If a user skips too often for the first 10 seconds of a song, he/she might most likely become a churn user as well.\n",
    "\n",
    "Use play data (need to clean play time and song length first, play time may be negative in data, song length may be zeros)"
   ]
  },
  {
   "cell_type": "code",
   "execution_count": 69,
   "metadata": {
    "collapsed": false
   },
   "outputs": [
    {
     "name": "stdout",
     "output_type": "stream",
     "text": [
      "+---------+------+--------+----------+---------+-----------+\n",
      "|      uid|device| song_id|      date|play_time|song_length|\n",
      "+---------+------+--------+----------+---------+-----------+\n",
      "|168551247|    ar|11881432|2017-03-30|       78|        149|\n",
      "|168551026|    ar|19477157|2017-03-30|        2|         31|\n",
      "|168551417|    ar|  727161|2017-03-30|       27|        226|\n",
      "|168548493|    ip| 6661513|2017-03-30|       63|        243|\n",
      "|168550890|    ar|23491657|2017-03-30|      330|        331|\n",
      "+---------+------+--------+----------+---------+-----------+\n",
      "only showing top 5 rows\n",
      "\n"
     ]
    }
   ],
   "source": [
    "df_play_listentherhold_clean = df_play.filter(F.col('play_time') > 0)\n",
    "df_play_listentherhold_clean.show(5)"
   ]
  },
  {
   "cell_type": "code",
   "execution_count": 70,
   "metadata": {
    "collapsed": false
   },
   "outputs": [
    {
     "data": {
      "text/plain": [
       "6922267"
      ]
     },
     "execution_count": 70,
     "metadata": {},
     "output_type": "execute_result"
    }
   ],
   "source": [
    "df_play_listentherhold_clean_cnt = df_play_listentherhold_clean.count()\n",
    "df_play_listentherhold_clean_cnt"
   ]
  },
  {
   "cell_type": "code",
   "execution_count": 71,
   "metadata": {
    "collapsed": false
   },
   "outputs": [
    {
     "data": {
      "text/plain": [
       "1623398"
      ]
     },
     "execution_count": 71,
     "metadata": {},
     "output_type": "execute_result"
    }
   ],
   "source": [
    "df_play_cnt - df_play_listentherhold_clean_cnt"
   ]
  },
  {
   "cell_type": "code",
   "execution_count": 72,
   "metadata": {
    "collapsed": true
   },
   "outputs": [],
   "source": [
    "# define a function to generate listen_threshold features for a list of time windows\n",
    "# using when().otherwise(), and list comprehension trick!\n",
    "def listen_threshold_feature_generation_time_windows(df,time_window_list,snapshot_date):\n",
    "    \"\"\"\n",
    "    generate frequency features for one event type and a list of time windows\n",
    "    \"\"\"\n",
    "    df_feature = df \\\n",
    "        .groupBy('uid') \\\n",
    "        .agg(*[F.sum(F.when((F.col('date')>=snapshot_date-datetime.timedelta(time_window-1)) & \\\n",
    "                            (F.col('date')<=snapshot_date) & \\\n",
    "                            (F.col('play_time') > 10),\\\n",
    "                            1).otherwise(0)).alias('listen_threshold_last_'+str(time_window)) \\\n",
    "                for time_window in time_window_list]\n",
    "            )# *[] opens list and make them comma separated\n",
    "    return df_feature"
   ]
  },
  {
   "cell_type": "code",
   "execution_count": 73,
   "metadata": {
    "collapsed": false
   },
   "outputs": [
    {
     "name": "stdout",
     "output_type": "stream",
     "text": [
      "+---------+-----------------------+-----------------------+-----------------------+------------------------+------------------------+\n",
      "|      uid|listen_threshold_last_1|listen_threshold_last_3|listen_threshold_last_7|listen_threshold_last_14|listen_threshold_last_30|\n",
      "+---------+-----------------------+-----------------------+-----------------------+------------------------+------------------------+\n",
      "|168548023|                      0|                      0|                      0|                       0|                       1|\n",
      "|168577296|                      0|                      0|                      0|                       0|                      10|\n",
      "|168578813|                      0|                      0|                      0|                       0|                       9|\n",
      "|168610161|                      0|                      0|                      0|                       0|                       3|\n",
      "|168611268|                      3|                      7|                      7|                      11|                      28|\n",
      "+---------+-----------------------+-----------------------+-----------------------+------------------------+------------------------+\n",
      "only showing top 5 rows\n",
      "\n"
     ]
    }
   ],
   "source": [
    "# generate all time windows \n",
    "time_window_list = [1,3,7,14,30]\n",
    "snapshot_date = feature_window_end_date\n",
    "df_feature = listen_threshold_feature_generation_time_windows(df_play_clean,time_window_list,snapshot_date)\n",
    "df_feature.show(5)"
   ]
  },
  {
   "cell_type": "code",
   "execution_count": 74,
   "metadata": {
    "collapsed": false
   },
   "outputs": [
    {
     "data": {
      "text/plain": [
       "[DataFrame[uid: string, freq_P_last_1: bigint, freq_P_last_3: bigint, freq_P_last_7: bigint, freq_P_last_14: bigint, freq_P_last_30: bigint],\n",
       " DataFrame[uid: string, freq_D_last_1: bigint, freq_D_last_3: bigint, freq_D_last_7: bigint, freq_D_last_14: bigint, freq_D_last_30: bigint],\n",
       " DataFrame[uid: string, recency: int],\n",
       " DataFrame[uid: string, total_play_time_D_last_1: double, total_play_time_D_last_3: double, total_play_time_D_last_7: double, total_play_time_D_last_14: double, total_play_time_D_last_30: double],\n",
       " DataFrame[uid: string, song_play_80_pcnt_last_1: bigint, song_play_80_pcnt_last_3: bigint, song_play_80_pcnt_last_7: bigint, song_play_80_pcnt_last_14: bigint, song_play_80_pcnt_last_30: bigint],\n",
       " DataFrame[uid: string, listen_threshold_last_1: bigint, listen_threshold_last_3: bigint, listen_threshold_last_7: bigint, listen_threshold_last_14: bigint, listen_threshold_last_30: bigint]]"
      ]
     },
     "execution_count": 74,
     "metadata": {},
     "output_type": "execute_result"
    }
   ],
   "source": [
    "df_feature_list.append(df_feature)\n",
    "df_feature_list"
   ]
  },
  {
   "cell_type": "code",
   "execution_count": null,
   "metadata": {
    "collapsed": true
   },
   "outputs": [],
   "source": []
  },
  {
   "cell_type": "markdown",
   "metadata": {},
   "source": [
    "# Form training data"
   ]
  },
  {
   "cell_type": "code",
   "execution_count": 75,
   "metadata": {
    "collapsed": true
   },
   "outputs": [],
   "source": [
    "def join_feature_data(df_master,df_feature_list):\n",
    "    for df_feature in df_feature_list:\n",
    "        df_master = df_master.join(df_feature,on='uid',how='left')\n",
    "        #df_master.persist() # uncomment if number of joins is too many\n",
    "    return df_master\n",
    "    "
   ]
  },
  {
   "cell_type": "code",
   "execution_count": 76,
   "metadata": {
    "collapsed": true
   },
   "outputs": [],
   "source": [
    "# join all behavior features\n",
    "df_model_final = join_feature_data(df_label,df_feature_list)"
   ]
  },
  {
   "cell_type": "code",
   "execution_count": 77,
   "metadata": {
    "collapsed": true
   },
   "outputs": [],
   "source": [
    "# join all profile features\n",
    "df_model_final = join_feature_data(df_model_final,[df_profile])"
   ]
  },
  {
   "cell_type": "code",
   "execution_count": 78,
   "metadata": {
    "collapsed": false
   },
   "outputs": [
    {
     "data": {
      "text/plain": [
       "[Row(uid=u'117677098', label=0, freq_P_last_1=0, freq_P_last_3=20, freq_P_last_7=34, freq_P_last_14=91, freq_P_last_30=200, freq_D_last_1=0, freq_D_last_3=5, freq_D_last_7=6, freq_D_last_14=13, freq_D_last_30=15, recency=464, total_play_time_D_last_1=0.0, total_play_time_D_last_3=3299.0, total_play_time_D_last_7=6797.0, total_play_time_D_last_14=7740.0, total_play_time_D_last_30=28361.0, song_play_80_pcnt_last_1=0, song_play_80_pcnt_last_3=11, song_play_80_pcnt_last_7=23, song_play_80_pcnt_last_14=25, song_play_80_pcnt_last_30=102, listen_threshold_last_1=0, listen_threshold_last_3=17, listen_threshold_last_7=31, listen_threshold_last_14=41, listen_threshold_last_30=132, device_type=2),\n",
       " Row(uid=u'117677098', label=0, freq_P_last_1=0, freq_P_last_3=20, freq_P_last_7=34, freq_P_last_14=91, freq_P_last_30=200, freq_D_last_1=0, freq_D_last_3=5, freq_D_last_7=6, freq_D_last_14=13, freq_D_last_30=15, recency=464, total_play_time_D_last_1=0.0, total_play_time_D_last_3=3299.0, total_play_time_D_last_7=6797.0, total_play_time_D_last_14=7740.0, total_play_time_D_last_30=28361.0, song_play_80_pcnt_last_1=0, song_play_80_pcnt_last_3=11, song_play_80_pcnt_last_7=23, song_play_80_pcnt_last_14=25, song_play_80_pcnt_last_30=102, listen_threshold_last_1=0, listen_threshold_last_3=17, listen_threshold_last_7=31, listen_threshold_last_14=41, listen_threshold_last_30=132, device_type=2),\n",
       " Row(uid=u'117677098', label=0, freq_P_last_1=0, freq_P_last_3=20, freq_P_last_7=34, freq_P_last_14=91, freq_P_last_30=200, freq_D_last_1=0, freq_D_last_3=5, freq_D_last_7=6, freq_D_last_14=13, freq_D_last_30=15, recency=464, total_play_time_D_last_1=0.0, total_play_time_D_last_3=3299.0, total_play_time_D_last_7=6797.0, total_play_time_D_last_14=7740.0, total_play_time_D_last_30=28361.0, song_play_80_pcnt_last_1=0, song_play_80_pcnt_last_3=11, song_play_80_pcnt_last_7=23, song_play_80_pcnt_last_14=25, song_play_80_pcnt_last_30=102, listen_threshold_last_1=0, listen_threshold_last_3=17, listen_threshold_last_7=31, listen_threshold_last_14=41, listen_threshold_last_30=132, device_type=2),\n",
       " Row(uid=u'117677098', label=0, freq_P_last_1=0, freq_P_last_3=20, freq_P_last_7=34, freq_P_last_14=91, freq_P_last_30=200, freq_D_last_1=0, freq_D_last_3=5, freq_D_last_7=6, freq_D_last_14=13, freq_D_last_30=15, recency=464, total_play_time_D_last_1=0.0, total_play_time_D_last_3=3299.0, total_play_time_D_last_7=6797.0, total_play_time_D_last_14=7740.0, total_play_time_D_last_30=28361.0, song_play_80_pcnt_last_1=0, song_play_80_pcnt_last_3=11, song_play_80_pcnt_last_7=23, song_play_80_pcnt_last_14=25, song_play_80_pcnt_last_30=102, listen_threshold_last_1=0, listen_threshold_last_3=17, listen_threshold_last_7=31, listen_threshold_last_14=41, listen_threshold_last_30=132, device_type=2),\n",
       " Row(uid=u'117677098', label=0, freq_P_last_1=0, freq_P_last_3=20, freq_P_last_7=34, freq_P_last_14=91, freq_P_last_30=200, freq_D_last_1=0, freq_D_last_3=5, freq_D_last_7=6, freq_D_last_14=13, freq_D_last_30=15, recency=464, total_play_time_D_last_1=0.0, total_play_time_D_last_3=3299.0, total_play_time_D_last_7=6797.0, total_play_time_D_last_14=7740.0, total_play_time_D_last_30=28361.0, song_play_80_pcnt_last_1=0, song_play_80_pcnt_last_3=11, song_play_80_pcnt_last_7=23, song_play_80_pcnt_last_14=25, song_play_80_pcnt_last_30=102, listen_threshold_last_1=0, listen_threshold_last_3=17, listen_threshold_last_7=31, listen_threshold_last_14=41, listen_threshold_last_30=132, device_type=2),\n",
       " Row(uid=u'117677098', label=0, freq_P_last_1=0, freq_P_last_3=20, freq_P_last_7=34, freq_P_last_14=91, freq_P_last_30=200, freq_D_last_1=0, freq_D_last_3=5, freq_D_last_7=6, freq_D_last_14=13, freq_D_last_30=15, recency=464, total_play_time_D_last_1=0.0, total_play_time_D_last_3=3299.0, total_play_time_D_last_7=6797.0, total_play_time_D_last_14=7740.0, total_play_time_D_last_30=28361.0, song_play_80_pcnt_last_1=0, song_play_80_pcnt_last_3=11, song_play_80_pcnt_last_7=23, song_play_80_pcnt_last_14=25, song_play_80_pcnt_last_30=102, listen_threshold_last_1=0, listen_threshold_last_3=17, listen_threshold_last_7=31, listen_threshold_last_14=41, listen_threshold_last_30=132, device_type=2),\n",
       " Row(uid=u'117677098', label=0, freq_P_last_1=0, freq_P_last_3=20, freq_P_last_7=34, freq_P_last_14=91, freq_P_last_30=200, freq_D_last_1=0, freq_D_last_3=5, freq_D_last_7=6, freq_D_last_14=13, freq_D_last_30=15, recency=464, total_play_time_D_last_1=0.0, total_play_time_D_last_3=3299.0, total_play_time_D_last_7=6797.0, total_play_time_D_last_14=7740.0, total_play_time_D_last_30=28361.0, song_play_80_pcnt_last_1=0, song_play_80_pcnt_last_3=11, song_play_80_pcnt_last_7=23, song_play_80_pcnt_last_14=25, song_play_80_pcnt_last_30=102, listen_threshold_last_1=0, listen_threshold_last_3=17, listen_threshold_last_7=31, listen_threshold_last_14=41, listen_threshold_last_30=132, device_type=2),\n",
       " Row(uid=u'117677098', label=0, freq_P_last_1=0, freq_P_last_3=20, freq_P_last_7=34, freq_P_last_14=91, freq_P_last_30=200, freq_D_last_1=0, freq_D_last_3=5, freq_D_last_7=6, freq_D_last_14=13, freq_D_last_30=15, recency=464, total_play_time_D_last_1=0.0, total_play_time_D_last_3=3299.0, total_play_time_D_last_7=6797.0, total_play_time_D_last_14=7740.0, total_play_time_D_last_30=28361.0, song_play_80_pcnt_last_1=0, song_play_80_pcnt_last_3=11, song_play_80_pcnt_last_7=23, song_play_80_pcnt_last_14=25, song_play_80_pcnt_last_30=102, listen_threshold_last_1=0, listen_threshold_last_3=17, listen_threshold_last_7=31, listen_threshold_last_14=41, listen_threshold_last_30=132, device_type=2),\n",
       " Row(uid=u'117677098', label=0, freq_P_last_1=0, freq_P_last_3=20, freq_P_last_7=34, freq_P_last_14=91, freq_P_last_30=200, freq_D_last_1=0, freq_D_last_3=5, freq_D_last_7=6, freq_D_last_14=13, freq_D_last_30=15, recency=463, total_play_time_D_last_1=0.0, total_play_time_D_last_3=3299.0, total_play_time_D_last_7=6797.0, total_play_time_D_last_14=7740.0, total_play_time_D_last_30=28361.0, song_play_80_pcnt_last_1=0, song_play_80_pcnt_last_3=11, song_play_80_pcnt_last_7=23, song_play_80_pcnt_last_14=25, song_play_80_pcnt_last_30=102, listen_threshold_last_1=0, listen_threshold_last_3=17, listen_threshold_last_7=31, listen_threshold_last_14=41, listen_threshold_last_30=132, device_type=2),\n",
       " Row(uid=u'117677098', label=0, freq_P_last_1=0, freq_P_last_3=20, freq_P_last_7=34, freq_P_last_14=91, freq_P_last_30=200, freq_D_last_1=0, freq_D_last_3=5, freq_D_last_7=6, freq_D_last_14=13, freq_D_last_30=15, recency=463, total_play_time_D_last_1=0.0, total_play_time_D_last_3=3299.0, total_play_time_D_last_7=6797.0, total_play_time_D_last_14=7740.0, total_play_time_D_last_30=28361.0, song_play_80_pcnt_last_1=0, song_play_80_pcnt_last_3=11, song_play_80_pcnt_last_7=23, song_play_80_pcnt_last_14=25, song_play_80_pcnt_last_30=102, listen_threshold_last_1=0, listen_threshold_last_3=17, listen_threshold_last_7=31, listen_threshold_last_14=41, listen_threshold_last_30=132, device_type=2)]"
      ]
     },
     "execution_count": 78,
     "metadata": {},
     "output_type": "execute_result"
    }
   ],
   "source": [
    "df_model_final.head(10)"
   ]
  },
  {
   "cell_type": "code",
   "execution_count": 79,
   "metadata": {
    "collapsed": false
   },
   "outputs": [
    {
     "data": {
      "text/plain": [
       "9015732"
      ]
     },
     "execution_count": 79,
     "metadata": {},
     "output_type": "execute_result"
    }
   ],
   "source": [
    "df_model_final.count()"
   ]
  },
  {
   "cell_type": "code",
   "execution_count": null,
   "metadata": {
    "collapsed": true
   },
   "outputs": [],
   "source": []
  },
  {
   "cell_type": "markdown",
   "metadata": {},
   "source": [
    "From the first 10 data of df_model_final, we can see there are the left join produces too many uncessary rows."
   ]
  },
  {
   "cell_type": "code",
   "execution_count": 80,
   "metadata": {
    "collapsed": true
   },
   "outputs": [],
   "source": [
    "def join_feature_data(df_master,df_feature_list):\n",
    "    for df_feature in df_feature_list:\n",
    "        #df_master = df_master.join(df_feature,on='uid',how='inner')\n",
    "        df_master = df_master.join(df_feature,on='uid',how='left')\n",
    "        df_master.persist() # uncomment if number of joins is too many\n",
    "    return df_master\n",
    "    "
   ]
  },
  {
   "cell_type": "code",
   "execution_count": 81,
   "metadata": {
    "collapsed": false
   },
   "outputs": [
    {
     "data": {
      "text/plain": [
       "DataFrame[uid: string, label: int, freq_P_last_1: bigint, freq_P_last_3: bigint, freq_P_last_7: bigint, freq_P_last_14: bigint, freq_P_last_30: bigint, freq_D_last_1: bigint, freq_D_last_3: bigint, freq_D_last_7: bigint, freq_D_last_14: bigint, freq_D_last_30: bigint, recency: int, total_play_time_D_last_1: double, total_play_time_D_last_3: double, total_play_time_D_last_7: double, total_play_time_D_last_14: double, total_play_time_D_last_30: double, song_play_80_pcnt_last_1: bigint, song_play_80_pcnt_last_3: bigint, song_play_80_pcnt_last_7: bigint, song_play_80_pcnt_last_14: bigint, song_play_80_pcnt_last_30: bigint, listen_threshold_last_1: bigint, listen_threshold_last_3: bigint, listen_threshold_last_7: bigint, listen_threshold_last_14: bigint, listen_threshold_last_30: bigint]"
      ]
     },
     "execution_count": 81,
     "metadata": {},
     "output_type": "execute_result"
    }
   ],
   "source": [
    "# join all behavior features\n",
    "df_model_final = join_feature_data(df_label,df_feature_list)\n",
    "df_model_final"
   ]
  },
  {
   "cell_type": "code",
   "execution_count": 82,
   "metadata": {
    "collapsed": false
   },
   "outputs": [
    {
     "data": {
      "text/plain": [
       "DataFrame[uid: string, label: int, freq_P_last_1: bigint, freq_P_last_3: bigint, freq_P_last_7: bigint, freq_P_last_14: bigint, freq_P_last_30: bigint, freq_D_last_1: bigint, freq_D_last_3: bigint, freq_D_last_7: bigint, freq_D_last_14: bigint, freq_D_last_30: bigint, recency: int, total_play_time_D_last_1: double, total_play_time_D_last_3: double, total_play_time_D_last_7: double, total_play_time_D_last_14: double, total_play_time_D_last_30: double, song_play_80_pcnt_last_1: bigint, song_play_80_pcnt_last_3: bigint, song_play_80_pcnt_last_7: bigint, song_play_80_pcnt_last_14: bigint, song_play_80_pcnt_last_30: bigint, listen_threshold_last_1: bigint, listen_threshold_last_3: bigint, listen_threshold_last_7: bigint, listen_threshold_last_14: bigint, listen_threshold_last_30: bigint, device_type: int]"
      ]
     },
     "execution_count": 82,
     "metadata": {},
     "output_type": "execute_result"
    }
   ],
   "source": [
    "# join all profile features\n",
    "df_model_final = join_feature_data(df_model_final,[df_profile])\n",
    "df_model_final"
   ]
  },
  {
   "cell_type": "code",
   "execution_count": 83,
   "metadata": {
    "collapsed": false
   },
   "outputs": [
    {
     "data": {
      "text/plain": [
       "9015732"
      ]
     },
     "execution_count": 83,
     "metadata": {},
     "output_type": "execute_result"
    }
   ],
   "source": [
    "df_model_final.count()"
   ]
  },
  {
   "cell_type": "code",
   "execution_count": 84,
   "metadata": {
    "collapsed": false
   },
   "outputs": [
    {
     "data": {
      "text/plain": [
       "431783"
      ]
     },
     "execution_count": 84,
     "metadata": {},
     "output_type": "execute_result"
    }
   ],
   "source": [
    "df_model_final.distinct().count()"
   ]
  },
  {
   "cell_type": "code",
   "execution_count": 85,
   "metadata": {
    "collapsed": false
   },
   "outputs": [
    {
     "data": {
      "text/plain": [
       "[Row(uid=u'117677098', label=0, freq_P_last_1=0, freq_P_last_3=20, freq_P_last_7=34, freq_P_last_14=91, freq_P_last_30=200, freq_D_last_1=0, freq_D_last_3=5, freq_D_last_7=6, freq_D_last_14=13, freq_D_last_30=15, recency=464, total_play_time_D_last_1=0.0, total_play_time_D_last_3=3299.0, total_play_time_D_last_7=6797.0, total_play_time_D_last_14=7740.0, total_play_time_D_last_30=28361.0, song_play_80_pcnt_last_1=0, song_play_80_pcnt_last_3=11, song_play_80_pcnt_last_7=23, song_play_80_pcnt_last_14=25, song_play_80_pcnt_last_30=102, listen_threshold_last_1=0, listen_threshold_last_3=17, listen_threshold_last_7=31, listen_threshold_last_14=41, listen_threshold_last_30=132, device_type=2),\n",
       " Row(uid=u'117677098', label=0, freq_P_last_1=0, freq_P_last_3=20, freq_P_last_7=34, freq_P_last_14=91, freq_P_last_30=200, freq_D_last_1=0, freq_D_last_3=5, freq_D_last_7=6, freq_D_last_14=13, freq_D_last_30=15, recency=464, total_play_time_D_last_1=0.0, total_play_time_D_last_3=3299.0, total_play_time_D_last_7=6797.0, total_play_time_D_last_14=7740.0, total_play_time_D_last_30=28361.0, song_play_80_pcnt_last_1=0, song_play_80_pcnt_last_3=11, song_play_80_pcnt_last_7=23, song_play_80_pcnt_last_14=25, song_play_80_pcnt_last_30=102, listen_threshold_last_1=0, listen_threshold_last_3=17, listen_threshold_last_7=31, listen_threshold_last_14=41, listen_threshold_last_30=132, device_type=2),\n",
       " Row(uid=u'117677098', label=0, freq_P_last_1=0, freq_P_last_3=20, freq_P_last_7=34, freq_P_last_14=91, freq_P_last_30=200, freq_D_last_1=0, freq_D_last_3=5, freq_D_last_7=6, freq_D_last_14=13, freq_D_last_30=15, recency=464, total_play_time_D_last_1=0.0, total_play_time_D_last_3=3299.0, total_play_time_D_last_7=6797.0, total_play_time_D_last_14=7740.0, total_play_time_D_last_30=28361.0, song_play_80_pcnt_last_1=0, song_play_80_pcnt_last_3=11, song_play_80_pcnt_last_7=23, song_play_80_pcnt_last_14=25, song_play_80_pcnt_last_30=102, listen_threshold_last_1=0, listen_threshold_last_3=17, listen_threshold_last_7=31, listen_threshold_last_14=41, listen_threshold_last_30=132, device_type=2),\n",
       " Row(uid=u'117677098', label=0, freq_P_last_1=0, freq_P_last_3=20, freq_P_last_7=34, freq_P_last_14=91, freq_P_last_30=200, freq_D_last_1=0, freq_D_last_3=5, freq_D_last_7=6, freq_D_last_14=13, freq_D_last_30=15, recency=464, total_play_time_D_last_1=0.0, total_play_time_D_last_3=3299.0, total_play_time_D_last_7=6797.0, total_play_time_D_last_14=7740.0, total_play_time_D_last_30=28361.0, song_play_80_pcnt_last_1=0, song_play_80_pcnt_last_3=11, song_play_80_pcnt_last_7=23, song_play_80_pcnt_last_14=25, song_play_80_pcnt_last_30=102, listen_threshold_last_1=0, listen_threshold_last_3=17, listen_threshold_last_7=31, listen_threshold_last_14=41, listen_threshold_last_30=132, device_type=2),\n",
       " Row(uid=u'117677098', label=0, freq_P_last_1=0, freq_P_last_3=20, freq_P_last_7=34, freq_P_last_14=91, freq_P_last_30=200, freq_D_last_1=0, freq_D_last_3=5, freq_D_last_7=6, freq_D_last_14=13, freq_D_last_30=15, recency=464, total_play_time_D_last_1=0.0, total_play_time_D_last_3=3299.0, total_play_time_D_last_7=6797.0, total_play_time_D_last_14=7740.0, total_play_time_D_last_30=28361.0, song_play_80_pcnt_last_1=0, song_play_80_pcnt_last_3=11, song_play_80_pcnt_last_7=23, song_play_80_pcnt_last_14=25, song_play_80_pcnt_last_30=102, listen_threshold_last_1=0, listen_threshold_last_3=17, listen_threshold_last_7=31, listen_threshold_last_14=41, listen_threshold_last_30=132, device_type=2)]"
      ]
     },
     "execution_count": 85,
     "metadata": {},
     "output_type": "execute_result"
    }
   ],
   "source": [
    "df_model_final.head(5)"
   ]
  },
  {
   "cell_type": "code",
   "execution_count": 86,
   "metadata": {
    "collapsed": false
   },
   "outputs": [
    {
     "data": {
      "text/plain": [
       "431783"
      ]
     },
     "execution_count": 86,
     "metadata": {},
     "output_type": "execute_result"
    }
   ],
   "source": [
    "df_model_final = df_model_final.distinct()\n",
    "df_model_final.count()"
   ]
  },
  {
   "cell_type": "code",
   "execution_count": 87,
   "metadata": {
    "collapsed": false
   },
   "outputs": [],
   "source": [
    "df_model_final_pd = df_model_final.fillna(0).toPandas()"
   ]
  },
  {
   "cell_type": "code",
   "execution_count": 88,
   "metadata": {
    "collapsed": false
   },
   "outputs": [],
   "source": [
    "df_model_final_pd.to_csv('../data/df_model_final_bryanbc_frequency_recency_playtime_songplay80pcnt_listenthreshold.csv',\\\n",
    "                         index=False)"
   ]
  },
  {
   "cell_type": "code",
   "execution_count": 89,
   "metadata": {
    "collapsed": true
   },
   "outputs": [],
   "source": [
    "#df_model_final_pd.to_csv('../data/df_model_final_frequency.csv',index=False)"
   ]
  }
 ],
 "metadata": {
  "kernelspec": {
   "display_name": "Python 3",
   "language": "python",
   "name": "python3"
  },
  "language_info": {
   "codemirror_mode": {
    "name": "ipython",
    "version": 2
   },
   "file_extension": ".py",
   "mimetype": "text/x-python",
   "name": "python",
   "nbconvert_exporter": "python",
   "pygments_lexer": "ipython2",
   "version": "2.7.13"
  }
 },
 "nbformat": 4,
 "nbformat_minor": 2
}

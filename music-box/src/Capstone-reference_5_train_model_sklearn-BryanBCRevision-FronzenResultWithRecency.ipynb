{
 "cells": [
  {
   "cell_type": "markdown",
   "metadata": {},
   "source": [
    "### Load data"
   ]
  },
  {
   "cell_type": "code",
   "execution_count": 1,
   "metadata": {
    "collapsed": true
   },
   "outputs": [],
   "source": [
    "import numpy as np\n",
    "import pandas as pd\n",
    "import matplotlib.pyplot as plt\n",
    "import warnings\n",
    "warnings.filterwarnings(\"ignore\")\n",
    "\n",
    "% matplotlib inline\n",
    "# Always make it pretty.\n",
    "plt.style.use('ggplot')"
   ]
  },
  {
   "cell_type": "code",
   "execution_count": 2,
   "metadata": {
    "collapsed": false
   },
   "outputs": [],
   "source": [
    "# Load data from file\n",
    "df = pd.read_csv('../data/df_model_final_bryanbc_recency.csv')"
   ]
  },
  {
   "cell_type": "code",
   "execution_count": 3,
   "metadata": {
    "collapsed": false
   },
   "outputs": [
    {
     "data": {
      "text/html": [
       "<div>\n",
       "<table border=\"1\" class=\"dataframe\">\n",
       "  <thead>\n",
       "    <tr style=\"text-align: right;\">\n",
       "      <th></th>\n",
       "      <th>uid</th>\n",
       "      <th>label</th>\n",
       "      <th>freq_P_last_1</th>\n",
       "      <th>freq_P_last_3</th>\n",
       "      <th>freq_P_last_7</th>\n",
       "      <th>freq_P_last_14</th>\n",
       "      <th>freq_P_last_30</th>\n",
       "      <th>freq_D_last_1</th>\n",
       "      <th>freq_D_last_3</th>\n",
       "      <th>freq_D_last_7</th>\n",
       "      <th>freq_D_last_14</th>\n",
       "      <th>freq_D_last_30</th>\n",
       "      <th>recency</th>\n",
       "      <th>device_type</th>\n",
       "    </tr>\n",
       "  </thead>\n",
       "  <tbody>\n",
       "    <tr>\n",
       "      <th>0</th>\n",
       "      <td>117677098</td>\n",
       "      <td>0</td>\n",
       "      <td>0</td>\n",
       "      <td>20</td>\n",
       "      <td>34</td>\n",
       "      <td>91</td>\n",
       "      <td>200</td>\n",
       "      <td>0</td>\n",
       "      <td>5</td>\n",
       "      <td>6</td>\n",
       "      <td>13</td>\n",
       "      <td>15</td>\n",
       "      <td>463</td>\n",
       "      <td>2</td>\n",
       "    </tr>\n",
       "    <tr>\n",
       "      <th>1</th>\n",
       "      <td>117677098</td>\n",
       "      <td>0</td>\n",
       "      <td>0</td>\n",
       "      <td>20</td>\n",
       "      <td>34</td>\n",
       "      <td>91</td>\n",
       "      <td>200</td>\n",
       "      <td>0</td>\n",
       "      <td>5</td>\n",
       "      <td>6</td>\n",
       "      <td>13</td>\n",
       "      <td>15</td>\n",
       "      <td>462</td>\n",
       "      <td>2</td>\n",
       "    </tr>\n",
       "    <tr>\n",
       "      <th>2</th>\n",
       "      <td>117677098</td>\n",
       "      <td>0</td>\n",
       "      <td>0</td>\n",
       "      <td>20</td>\n",
       "      <td>34</td>\n",
       "      <td>91</td>\n",
       "      <td>200</td>\n",
       "      <td>0</td>\n",
       "      <td>5</td>\n",
       "      <td>6</td>\n",
       "      <td>13</td>\n",
       "      <td>15</td>\n",
       "      <td>461</td>\n",
       "      <td>2</td>\n",
       "    </tr>\n",
       "    <tr>\n",
       "      <th>3</th>\n",
       "      <td>117677098</td>\n",
       "      <td>0</td>\n",
       "      <td>0</td>\n",
       "      <td>20</td>\n",
       "      <td>34</td>\n",
       "      <td>91</td>\n",
       "      <td>200</td>\n",
       "      <td>0</td>\n",
       "      <td>5</td>\n",
       "      <td>6</td>\n",
       "      <td>13</td>\n",
       "      <td>15</td>\n",
       "      <td>459</td>\n",
       "      <td>2</td>\n",
       "    </tr>\n",
       "    <tr>\n",
       "      <th>4</th>\n",
       "      <td>117677098</td>\n",
       "      <td>0</td>\n",
       "      <td>0</td>\n",
       "      <td>20</td>\n",
       "      <td>34</td>\n",
       "      <td>91</td>\n",
       "      <td>200</td>\n",
       "      <td>0</td>\n",
       "      <td>5</td>\n",
       "      <td>6</td>\n",
       "      <td>13</td>\n",
       "      <td>15</td>\n",
       "      <td>458</td>\n",
       "      <td>2</td>\n",
       "    </tr>\n",
       "    <tr>\n",
       "      <th>5</th>\n",
       "      <td>117677098</td>\n",
       "      <td>0</td>\n",
       "      <td>0</td>\n",
       "      <td>20</td>\n",
       "      <td>34</td>\n",
       "      <td>91</td>\n",
       "      <td>200</td>\n",
       "      <td>0</td>\n",
       "      <td>5</td>\n",
       "      <td>6</td>\n",
       "      <td>13</td>\n",
       "      <td>15</td>\n",
       "      <td>457</td>\n",
       "      <td>2</td>\n",
       "    </tr>\n",
       "    <tr>\n",
       "      <th>6</th>\n",
       "      <td>117677098</td>\n",
       "      <td>0</td>\n",
       "      <td>0</td>\n",
       "      <td>20</td>\n",
       "      <td>34</td>\n",
       "      <td>91</td>\n",
       "      <td>200</td>\n",
       "      <td>0</td>\n",
       "      <td>5</td>\n",
       "      <td>6</td>\n",
       "      <td>13</td>\n",
       "      <td>15</td>\n",
       "      <td>456</td>\n",
       "      <td>2</td>\n",
       "    </tr>\n",
       "    <tr>\n",
       "      <th>7</th>\n",
       "      <td>117677098</td>\n",
       "      <td>0</td>\n",
       "      <td>0</td>\n",
       "      <td>20</td>\n",
       "      <td>34</td>\n",
       "      <td>91</td>\n",
       "      <td>200</td>\n",
       "      <td>0</td>\n",
       "      <td>5</td>\n",
       "      <td>6</td>\n",
       "      <td>13</td>\n",
       "      <td>15</td>\n",
       "      <td>455</td>\n",
       "      <td>2</td>\n",
       "    </tr>\n",
       "    <tr>\n",
       "      <th>8</th>\n",
       "      <td>117677098</td>\n",
       "      <td>0</td>\n",
       "      <td>0</td>\n",
       "      <td>20</td>\n",
       "      <td>34</td>\n",
       "      <td>91</td>\n",
       "      <td>200</td>\n",
       "      <td>0</td>\n",
       "      <td>5</td>\n",
       "      <td>6</td>\n",
       "      <td>13</td>\n",
       "      <td>15</td>\n",
       "      <td>454</td>\n",
       "      <td>2</td>\n",
       "    </tr>\n",
       "    <tr>\n",
       "      <th>9</th>\n",
       "      <td>117677098</td>\n",
       "      <td>0</td>\n",
       "      <td>0</td>\n",
       "      <td>20</td>\n",
       "      <td>34</td>\n",
       "      <td>91</td>\n",
       "      <td>200</td>\n",
       "      <td>0</td>\n",
       "      <td>5</td>\n",
       "      <td>6</td>\n",
       "      <td>13</td>\n",
       "      <td>15</td>\n",
       "      <td>453</td>\n",
       "      <td>2</td>\n",
       "    </tr>\n",
       "  </tbody>\n",
       "</table>\n",
       "</div>"
      ],
      "text/plain": [
       "         uid  label  freq_P_last_1  freq_P_last_3  freq_P_last_7  \\\n",
       "0  117677098      0              0             20             34   \n",
       "1  117677098      0              0             20             34   \n",
       "2  117677098      0              0             20             34   \n",
       "3  117677098      0              0             20             34   \n",
       "4  117677098      0              0             20             34   \n",
       "5  117677098      0              0             20             34   \n",
       "6  117677098      0              0             20             34   \n",
       "7  117677098      0              0             20             34   \n",
       "8  117677098      0              0             20             34   \n",
       "9  117677098      0              0             20             34   \n",
       "\n",
       "   freq_P_last_14  freq_P_last_30  freq_D_last_1  freq_D_last_3  \\\n",
       "0              91             200              0              5   \n",
       "1              91             200              0              5   \n",
       "2              91             200              0              5   \n",
       "3              91             200              0              5   \n",
       "4              91             200              0              5   \n",
       "5              91             200              0              5   \n",
       "6              91             200              0              5   \n",
       "7              91             200              0              5   \n",
       "8              91             200              0              5   \n",
       "9              91             200              0              5   \n",
       "\n",
       "   freq_D_last_7  freq_D_last_14  freq_D_last_30  recency  device_type  \n",
       "0              6              13              15      463            2  \n",
       "1              6              13              15      462            2  \n",
       "2              6              13              15      461            2  \n",
       "3              6              13              15      459            2  \n",
       "4              6              13              15      458            2  \n",
       "5              6              13              15      457            2  \n",
       "6              6              13              15      456            2  \n",
       "7              6              13              15      455            2  \n",
       "8              6              13              15      454            2  \n",
       "9              6              13              15      453            2  "
      ]
     },
     "execution_count": 3,
     "metadata": {},
     "output_type": "execute_result"
    }
   ],
   "source": [
    "# Browse dataset\n",
    "df.head(10)"
   ]
  },
  {
   "cell_type": "code",
   "execution_count": 4,
   "metadata": {
    "collapsed": false
   },
   "outputs": [
    {
     "data": {
      "text/html": [
       "<div>\n",
       "<table border=\"1\" class=\"dataframe\">\n",
       "  <thead>\n",
       "    <tr style=\"text-align: right;\">\n",
       "      <th></th>\n",
       "      <th>uid</th>\n",
       "      <th>label</th>\n",
       "      <th>freq_P_last_1</th>\n",
       "      <th>freq_P_last_3</th>\n",
       "      <th>freq_P_last_7</th>\n",
       "      <th>freq_P_last_14</th>\n",
       "      <th>freq_P_last_30</th>\n",
       "      <th>freq_D_last_1</th>\n",
       "      <th>freq_D_last_3</th>\n",
       "      <th>freq_D_last_7</th>\n",
       "      <th>freq_D_last_14</th>\n",
       "      <th>freq_D_last_30</th>\n",
       "      <th>recency</th>\n",
       "      <th>device_type</th>\n",
       "    </tr>\n",
       "  </thead>\n",
       "  <tbody>\n",
       "    <tr>\n",
       "      <th>count</th>\n",
       "      <td>2.465580e+05</td>\n",
       "      <td>246558.000000</td>\n",
       "      <td>246558.000000</td>\n",
       "      <td>246558.000000</td>\n",
       "      <td>246558.000000</td>\n",
       "      <td>246558.000000</td>\n",
       "      <td>246558.000000</td>\n",
       "      <td>246558.000000</td>\n",
       "      <td>246558.000000</td>\n",
       "      <td>246558.000000</td>\n",
       "      <td>246558.000000</td>\n",
       "      <td>246558.000000</td>\n",
       "      <td>246558.000000</td>\n",
       "      <td>246558.000000</td>\n",
       "    </tr>\n",
       "    <tr>\n",
       "      <th>mean</th>\n",
       "      <td>1.669928e+08</td>\n",
       "      <td>0.170357</td>\n",
       "      <td>11.874520</td>\n",
       "      <td>36.389150</td>\n",
       "      <td>80.640928</td>\n",
       "      <td>169.856249</td>\n",
       "      <td>391.904079</td>\n",
       "      <td>0.522295</td>\n",
       "      <td>1.570365</td>\n",
       "      <td>3.634711</td>\n",
       "      <td>8.411351</td>\n",
       "      <td>30.108672</td>\n",
       "      <td>445.447509</td>\n",
       "      <td>1.814482</td>\n",
       "    </tr>\n",
       "    <tr>\n",
       "      <th>std</th>\n",
       "      <td>1.213174e+07</td>\n",
       "      <td>0.375947</td>\n",
       "      <td>26.204068</td>\n",
       "      <td>63.346785</td>\n",
       "      <td>119.570120</td>\n",
       "      <td>222.699644</td>\n",
       "      <td>434.155071</td>\n",
       "      <td>10.649741</td>\n",
       "      <td>14.371698</td>\n",
       "      <td>21.013463</td>\n",
       "      <td>41.515464</td>\n",
       "      <td>94.187640</td>\n",
       "      <td>13.000867</td>\n",
       "      <td>0.388718</td>\n",
       "    </tr>\n",
       "    <tr>\n",
       "      <th>min</th>\n",
       "      <td>2.695100e+05</td>\n",
       "      <td>0.000000</td>\n",
       "      <td>0.000000</td>\n",
       "      <td>0.000000</td>\n",
       "      <td>0.000000</td>\n",
       "      <td>0.000000</td>\n",
       "      <td>1.000000</td>\n",
       "      <td>0.000000</td>\n",
       "      <td>0.000000</td>\n",
       "      <td>0.000000</td>\n",
       "      <td>0.000000</td>\n",
       "      <td>1.000000</td>\n",
       "      <td>421.000000</td>\n",
       "      <td>1.000000</td>\n",
       "    </tr>\n",
       "    <tr>\n",
       "      <th>25%</th>\n",
       "      <td>1.679717e+08</td>\n",
       "      <td>0.000000</td>\n",
       "      <td>0.000000</td>\n",
       "      <td>0.000000</td>\n",
       "      <td>4.000000</td>\n",
       "      <td>24.000000</td>\n",
       "      <td>102.000000</td>\n",
       "      <td>0.000000</td>\n",
       "      <td>0.000000</td>\n",
       "      <td>0.000000</td>\n",
       "      <td>0.000000</td>\n",
       "      <td>3.000000</td>\n",
       "      <td>434.000000</td>\n",
       "      <td>2.000000</td>\n",
       "    </tr>\n",
       "    <tr>\n",
       "      <th>50%</th>\n",
       "      <td>1.683729e+08</td>\n",
       "      <td>0.000000</td>\n",
       "      <td>0.000000</td>\n",
       "      <td>11.000000</td>\n",
       "      <td>36.000000</td>\n",
       "      <td>93.000000</td>\n",
       "      <td>245.000000</td>\n",
       "      <td>0.000000</td>\n",
       "      <td>0.000000</td>\n",
       "      <td>0.000000</td>\n",
       "      <td>1.000000</td>\n",
       "      <td>9.000000</td>\n",
       "      <td>447.000000</td>\n",
       "      <td>2.000000</td>\n",
       "    </tr>\n",
       "    <tr>\n",
       "      <th>75%</th>\n",
       "      <td>1.687385e+08</td>\n",
       "      <td>0.000000</td>\n",
       "      <td>13.000000</td>\n",
       "      <td>46.000000</td>\n",
       "      <td>106.000000</td>\n",
       "      <td>227.000000</td>\n",
       "      <td>522.000000</td>\n",
       "      <td>0.000000</td>\n",
       "      <td>0.000000</td>\n",
       "      <td>2.000000</td>\n",
       "      <td>5.000000</td>\n",
       "      <td>27.000000</td>\n",
       "      <td>457.000000</td>\n",
       "      <td>2.000000</td>\n",
       "    </tr>\n",
       "    <tr>\n",
       "      <th>max</th>\n",
       "      <td>1.692551e+08</td>\n",
       "      <td>1.000000</td>\n",
       "      <td>525.000000</td>\n",
       "      <td>770.000000</td>\n",
       "      <td>1174.000000</td>\n",
       "      <td>2157.000000</td>\n",
       "      <td>3762.000000</td>\n",
       "      <td>1463.000000</td>\n",
       "      <td>1463.000000</td>\n",
       "      <td>1463.000000</td>\n",
       "      <td>1590.000000</td>\n",
       "      <td>3163.000000</td>\n",
       "      <td>464.000000</td>\n",
       "      <td>2.000000</td>\n",
       "    </tr>\n",
       "  </tbody>\n",
       "</table>\n",
       "</div>"
      ],
      "text/plain": [
       "                uid          label  freq_P_last_1  freq_P_last_3  \\\n",
       "count  2.465580e+05  246558.000000  246558.000000  246558.000000   \n",
       "mean   1.669928e+08       0.170357      11.874520      36.389150   \n",
       "std    1.213174e+07       0.375947      26.204068      63.346785   \n",
       "min    2.695100e+05       0.000000       0.000000       0.000000   \n",
       "25%    1.679717e+08       0.000000       0.000000       0.000000   \n",
       "50%    1.683729e+08       0.000000       0.000000      11.000000   \n",
       "75%    1.687385e+08       0.000000      13.000000      46.000000   \n",
       "max    1.692551e+08       1.000000     525.000000     770.000000   \n",
       "\n",
       "       freq_P_last_7  freq_P_last_14  freq_P_last_30  freq_D_last_1  \\\n",
       "count  246558.000000   246558.000000   246558.000000  246558.000000   \n",
       "mean       80.640928      169.856249      391.904079       0.522295   \n",
       "std       119.570120      222.699644      434.155071      10.649741   \n",
       "min         0.000000        0.000000        1.000000       0.000000   \n",
       "25%         4.000000       24.000000      102.000000       0.000000   \n",
       "50%        36.000000       93.000000      245.000000       0.000000   \n",
       "75%       106.000000      227.000000      522.000000       0.000000   \n",
       "max      1174.000000     2157.000000     3762.000000    1463.000000   \n",
       "\n",
       "       freq_D_last_3  freq_D_last_7  freq_D_last_14  freq_D_last_30  \\\n",
       "count  246558.000000  246558.000000   246558.000000   246558.000000   \n",
       "mean        1.570365       3.634711        8.411351       30.108672   \n",
       "std        14.371698      21.013463       41.515464       94.187640   \n",
       "min         0.000000       0.000000        0.000000        1.000000   \n",
       "25%         0.000000       0.000000        0.000000        3.000000   \n",
       "50%         0.000000       0.000000        1.000000        9.000000   \n",
       "75%         0.000000       2.000000        5.000000       27.000000   \n",
       "max      1463.000000    1463.000000     1590.000000     3163.000000   \n",
       "\n",
       "             recency    device_type  \n",
       "count  246558.000000  246558.000000  \n",
       "mean      445.447509       1.814482  \n",
       "std        13.000867       0.388718  \n",
       "min       421.000000       1.000000  \n",
       "25%       434.000000       2.000000  \n",
       "50%       447.000000       2.000000  \n",
       "75%       457.000000       2.000000  \n",
       "max       464.000000       2.000000  "
      ]
     },
     "execution_count": 4,
     "metadata": {},
     "output_type": "execute_result"
    }
   ],
   "source": [
    "# Show summary stats\n",
    "df.describe()"
   ]
  },
  {
   "cell_type": "code",
   "execution_count": 5,
   "metadata": {
    "collapsed": true
   },
   "outputs": [],
   "source": [
    "df['device_type_1'] = (df['device_type'] == 1).astype(int)\n",
    "df['device_type_2'] = (df['device_type'] == 2).astype(int)"
   ]
  },
  {
   "cell_type": "markdown",
   "metadata": {},
   "source": [
    "### Define Features and Target"
   ]
  },
  {
   "cell_type": "code",
   "execution_count": 6,
   "metadata": {
    "collapsed": true
   },
   "outputs": [],
   "source": [
    "selected_features = list(df.columns.values)"
   ]
  },
  {
   "cell_type": "code",
   "execution_count": 7,
   "metadata": {
    "collapsed": false
   },
   "outputs": [
    {
     "data": {
      "text/plain": [
       "['freq_P_last_1',\n",
       " 'freq_P_last_3',\n",
       " 'freq_P_last_7',\n",
       " 'freq_P_last_14',\n",
       " 'freq_P_last_30',\n",
       " 'freq_D_last_1',\n",
       " 'freq_D_last_3',\n",
       " 'freq_D_last_7',\n",
       " 'freq_D_last_14',\n",
       " 'freq_D_last_30',\n",
       " 'recency',\n",
       " 'device_type_1',\n",
       " 'device_type_2']"
      ]
     },
     "execution_count": 7,
     "metadata": {},
     "output_type": "execute_result"
    }
   ],
   "source": [
    "selected_features.remove('uid')\n",
    "selected_features.remove('label')\n",
    "selected_features.remove('device_type')\n",
    "selected_features"
   ]
  },
  {
   "cell_type": "code",
   "execution_count": 8,
   "metadata": {
    "collapsed": true
   },
   "outputs": [],
   "source": [
    "X = df[selected_features]\n",
    "y = df['label']"
   ]
  },
  {
   "cell_type": "code",
   "execution_count": 9,
   "metadata": {
    "collapsed": false
   },
   "outputs": [
    {
     "data": {
      "text/plain": [
       "(246558, 13)"
      ]
     },
     "execution_count": 9,
     "metadata": {},
     "output_type": "execute_result"
    }
   ],
   "source": [
    "X.shape"
   ]
  },
  {
   "cell_type": "code",
   "execution_count": 10,
   "metadata": {
    "collapsed": false
   },
   "outputs": [
    {
     "data": {
      "text/plain": [
       "0    0\n",
       "1    0\n",
       "2    0\n",
       "3    0\n",
       "4    0\n",
       "5    0\n",
       "6    0\n",
       "7    0\n",
       "8    0\n",
       "9    0\n",
       "Name: label, dtype: int64"
      ]
     },
     "execution_count": 10,
     "metadata": {},
     "output_type": "execute_result"
    }
   ],
   "source": [
    "y[:10]"
   ]
  },
  {
   "cell_type": "markdown",
   "metadata": {},
   "source": [
    "#### Let's Train-test split the data!"
   ]
  },
  {
   "cell_type": "code",
   "execution_count": 11,
   "metadata": {
    "collapsed": true
   },
   "outputs": [],
   "source": [
    "# import train test split function from sklearn\n",
    "from sklearn.model_selection import train_test_split\n",
    "X_train, X_test, y_train, y_test = train_test_split(X, y, test_size=0.2, random_state=0)"
   ]
  },
  {
   "cell_type": "markdown",
   "metadata": {},
   "source": [
    "### Train model using sklearn"
   ]
  },
  {
   "cell_type": "code",
   "execution_count": 12,
   "metadata": {
    "collapsed": true
   },
   "outputs": [],
   "source": [
    "# define function to perform train, test, and get model performance\n",
    "def train_test_model(clf, X_train, y_train, X_test, y_test):\n",
    "    # Fit a model by providing X and y from training set\n",
    "    clf.fit(X_train, y_train)\n",
    "\n",
    "    # Make prediction on the training data\n",
    "    y_train_pred = clf.predict(X_train)\n",
    "    p_train_pred = clf.predict_proba(X_train)[:,1]\n",
    "\n",
    "    # Make predictions on test data\n",
    "    y_test_pred = clf.predict(X_test)\n",
    "    p_test_pred = clf.predict_proba(X_test)[:,1]\n",
    "\n",
    "    # print model results\n",
    "    get_performance_metrics(y_train, p_train_pred, y_test, p_test_pred)\n",
    "    plot_roc_curve(y_train, p_train_pred, y_test, p_test_pred)\n"
   ]
  },
  {
   "cell_type": "markdown",
   "metadata": {},
   "source": [
    "### Calculate the metric scores for the model"
   ]
  },
  {
   "cell_type": "code",
   "execution_count": 13,
   "metadata": {
    "collapsed": true
   },
   "outputs": [],
   "source": [
    "%matplotlib inline\n",
    "import matplotlib.pyplot as plt\n",
    "from sklearn.metrics import roc_curve, auc\n",
    "\n",
    "def plot_roc_curve(y_train, y_train_pred, y_test, y_test_pred):\n",
    "    roc_auc_train = roc_auc_score(y_train, y_train_pred)\n",
    "    fpr_train, tpr_train, _ = roc_curve(y_train, y_train_pred)\n",
    "\n",
    "    roc_auc_test = roc_auc_score(y_test, y_test_pred)\n",
    "    fpr_test, tpr_test, _ = roc_curve(y_test, y_test_pred)\n",
    "    plt.figure()\n",
    "    lw = 2\n",
    "    plt.plot(fpr_train, tpr_train, color='green',\n",
    "             lw=lw, label='ROC Train (AUC = %0.4f)' % roc_auc_train)\n",
    "    plt.plot(fpr_test, tpr_test, color='darkorange',\n",
    "             lw=lw, label='ROC Test (AUC = %0.4f)' % roc_auc_test)\n",
    "    plt.plot([0, 1], [0, 1], color='navy', lw=lw, linestyle='--')\n",
    "    plt.xlim([0.0, 1.0])\n",
    "    plt.ylim([0.0, 1.05])\n",
    "    plt.xlabel('False Positive Rate')\n",
    "    plt.ylabel('True Positive Rate')\n",
    "    plt.title('Receiver operating characteristic example')\n",
    "    plt.legend(loc=\"lower right\")\n",
    "    plt.show()"
   ]
  },
  {
   "cell_type": "code",
   "execution_count": 14,
   "metadata": {
    "collapsed": true
   },
   "outputs": [],
   "source": [
    "# Import metrics functions from sklearn\n",
    "from sklearn.metrics import precision_score, accuracy_score, recall_score, f1_score, roc_auc_score"
   ]
  },
  {
   "cell_type": "code",
   "execution_count": 15,
   "metadata": {
    "collapsed": true
   },
   "outputs": [],
   "source": [
    "import pandas as pd\n",
    "# Helper method to print metric scores    \n",
    "def get_performance_metrics(y_train, y_train_pred, y_test, y_test_pred, threshold=0.5):\n",
    "    metric_names = ['AUC','Accuracy','Precision','Recall','f1-score']\n",
    "    metric_values_train = [roc_auc_score(y_train, y_train_pred),\n",
    "                    accuracy_score(y_train, y_train_pred>threshold),\n",
    "                    precision_score(y_train, y_train_pred>threshold),\n",
    "                    recall_score(y_train, y_train_pred>threshold),\n",
    "                    f1_score(y_train, y_train_pred>threshold)\n",
    "                   ]\n",
    "    metric_values_test = [roc_auc_score(y_test, y_test_pred),\n",
    "                    accuracy_score(y_test, y_test_pred>threshold),\n",
    "                    precision_score(y_test, y_test_pred>threshold),\n",
    "                    recall_score(y_test, y_test_pred>threshold),\n",
    "                    f1_score(y_test, y_test_pred>threshold)\n",
    "                   ]\n",
    "    all_metrics = pd.DataFrame({'metrics':metric_names,\n",
    "                                'train':metric_values_train,\n",
    "                                'test':metric_values_test},columns=['metrics','train','test']).set_index('metrics')\n",
    "    print(all_metrics)"
   ]
  },
  {
   "cell_type": "markdown",
   "metadata": {},
   "source": [
    "### Logistic Regression"
   ]
  },
  {
   "cell_type": "code",
   "execution_count": 16,
   "metadata": {
    "collapsed": false
   },
   "outputs": [
    {
     "name": "stdout",
     "output_type": "stream",
     "text": [
      "              train      test\n",
      "metrics                      \n",
      "AUC        0.890100  0.889159\n",
      "Accuracy   0.861488  0.861839\n",
      "Precision  0.707797  0.710606\n",
      "Recall     0.320447  0.310539\n",
      "f1-score   0.441163  0.432203\n"
     ]
    },
    {
     "data": {
      "image/png": "[encoded data removed]",
      "text/plain": [
       "<matplotlib.figure.Figure at 0x116088c50>"
      ]
     },
     "metadata": {},
     "output_type": "display_data"
    }
   ],
   "source": [
    "# Import logistic regression from sklearn\n",
    "from sklearn.linear_model import LogisticRegression\n",
    "\n",
    "# Initialize model by providing parameters\n",
    "# http://scikit-learn.org/stable/modules/generated/sklearn.linear_model.LogisticRegression.html\n",
    "clf = LogisticRegression(C=1.0, penalty='l2')\n",
    "# Fit a model by providing X and y from training set\n",
    "clf.fit(X_train, y_train)\n",
    "\n",
    "# Train test model\n",
    "train_test_model(clf, X_train, y_train, X_test, y_test)"
   ]
  },
  {
   "cell_type": "markdown",
   "metadata": {},
   "source": [
    "### Random Forest"
   ]
  },
  {
   "cell_type": "code",
   "execution_count": 17,
   "metadata": {
    "collapsed": false
   },
   "outputs": [
    {
     "name": "stdout",
     "output_type": "stream",
     "text": [
      "              train      test\n",
      "metrics                      \n",
      "AUC        0.978298  0.974141\n",
      "Accuracy   0.930919  0.925637\n",
      "Precision  0.833505  0.821590\n",
      "Recall     0.743648  0.716407\n",
      "f1-score   0.786017  0.765402\n"
     ]
    },
    {
     "data": {
      "image/png": "[encoded data removed]",
      "text/plain": [
       "<matplotlib.figure.Figure at 0x109dd3f50>"
      ]
     },
     "metadata": {},
     "output_type": "display_data"
    }
   ],
   "source": [
    "# http://scikit-learn.org/stable/modules/generated/sklearn.ensemble.RandomForestClassifier.html\n",
    "from sklearn.ensemble import RandomForestClassifier\n",
    "\n",
    "# Choose some parameter combinations to try\n",
    "parameters = {'n_estimators': 50,\n",
    "              'max_features': 'auto',\n",
    "              'criterion': 'gini',\n",
    "              'max_depth': 20,\n",
    "              'min_samples_split': 2,\n",
    "              'min_samples_leaf': 20,\n",
    "              'random_state': 0,\n",
    "              'n_jobs': -1\n",
    "              }\n",
    "\n",
    "clf = RandomForestClassifier(**parameters)\n",
    "\n",
    "# Fit a model by providing X and y from training set\n",
    "clf.fit(X_train, y_train)\n",
    "\n",
    "# Train test model\n",
    "train_test_model(clf, X_train, y_train, X_test, y_test)"
   ]
  },
  {
   "cell_type": "code",
   "execution_count": 18,
   "metadata": {
    "collapsed": false
   },
   "outputs": [
    {
     "data": {
      "image/png": "[encoded data removed]",
      "text/plain": [
       "<matplotlib.figure.Figure at 0x11495fc10>"
      ]
     },
     "metadata": {},
     "output_type": "display_data"
    }
   ],
   "source": [
    "df_feature_importance = pd.DataFrame()\n",
    "df_feature_importance['feature'] = selected_features\n",
    "df_feature_importance['importance'] = clf.feature_importances_\n",
    "df_feature_importance.sort_values('importance',inplace=True)\n",
    "\n",
    "ax = df_feature_importance.plot.barh()\n",
    "t = np.arange(len(df_feature_importance['feature']))\n",
    "ax.set_yticks(t)\n",
    "ax.set_yticklabels(df_feature_importance['feature'])\n",
    "plt.show()"
   ]
  },
  {
   "cell_type": "markdown",
   "metadata": {},
   "source": [
    "### Gradient Boosting Trees"
   ]
  },
  {
   "cell_type": "code",
   "execution_count": 19,
   "metadata": {
    "collapsed": false
   },
   "outputs": [
    {
     "name": "stdout",
     "output_type": "stream",
     "text": [
      "              train      test\n",
      "metrics                      \n",
      "AUC        0.952245  0.950381\n",
      "Accuracy   0.909027  0.907974\n",
      "Precision  0.771885  0.766573\n",
      "Recall     0.662616  0.656407\n",
      "f1-score   0.713089  0.707226\n"
     ]
    },
    {
     "data": {
      "image/png": "[encoded data removed]",
      "text/plain": [
       "<matplotlib.figure.Figure at 0x114352e90>"
      ]
     },
     "metadata": {},
     "output_type": "display_data"
    }
   ],
   "source": [
    "# http://scikit-learn.org/stable/modules/generated/sklearn.ensemble.GradientBoostingClassifier.html\n",
    "from sklearn.ensemble import GradientBoostingClassifier\n",
    "\n",
    "# Choose some parameter combinations to try\n",
    "parameters = {\n",
    "    'n_estimators': 100,\n",
    "    'max_depth': 5,\n",
    "    'learning_rate': 0.1,\n",
    "    'random_state': 42\n",
    "}\n",
    "\n",
    "# parameters = {\n",
    "#     'n_estimators': 50,\n",
    "#     'max_depth': 5,\n",
    "#     'learning_rate': 0.2,\n",
    "#     'subsample': 0.7,\n",
    "#     'max_features':0.8,\n",
    "#     'random_state': 42\n",
    "# }\n",
    "\n",
    "clf = GradientBoostingClassifier(**parameters)\n",
    "\n",
    "# Train test model\n",
    "train_test_model(clf, X_train, y_train, X_test, y_test)"
   ]
  },
  {
   "cell_type": "markdown",
   "metadata": {},
   "source": [
    "### Neural Network"
   ]
  },
  {
   "cell_type": "code",
   "execution_count": null,
   "metadata": {
    "collapsed": false
   },
   "outputs": [
    {
     "name": "stdout",
     "output_type": "stream",
     "text": [
      "              train      test\n",
      "metrics                      \n",
      "AUC        0.897319  0.896418\n",
      "Accuracy   0.875698  0.876541\n",
      "Precision  0.649182  0.650840\n",
      "Recall     0.590616  0.584431\n",
      "f1-score   0.618516  0.615851\n"
     ]
    },
    {
     "data": {
      "image/png": "[encoded data removed]",
      "text/plain": [
       "<matplotlib.figure.Figure at 0x11439ae50>"
      ]
     },
     "metadata": {},
     "output_type": "display_data"
    }
   ],
   "source": [
    "# http://scikit-learn.org/stable/modules/generated/sklearn.neural_network.MLPClassifier.html#sklearn.neural_network.MLPClassifier\n",
    "from sklearn.neural_network import MLPClassifier\n",
    "\n",
    "# Choose some parameter combinations to try\n",
    "parameters = {\n",
    "    'solver':'adam', \n",
    "    'activation':'relu',\n",
    "    'alpha':1e-5, #increase alpha->increase penalty :: http://scikit-learn.org/stable/auto_examples/neural_networks/plot_mlp_alpha.html#sphx-glr-auto-examples-neural-networks-plot-mlp-alpha-py\n",
    "    'hidden_layer_sizes':(5,5), \n",
    "    'learning_rate':'adaptive',\n",
    "    'random_state':1\n",
    "    }\n",
    "clf = MLPClassifier(**parameters)\n",
    "\n",
    "# Train test model\n",
    "train_test_model(clf, X_train, y_train, X_test, y_test)"
   ]
  },
  {
   "cell_type": "markdown",
   "metadata": {},
   "source": [
    "### HyperParameter Tuning: Grid Search"
   ]
  },
  {
   "cell_type": "code",
   "execution_count": null,
   "metadata": {
    "collapsed": false
   },
   "outputs": [],
   "source": [
    "from sklearn.ensemble import RandomForestClassifier\n",
    "from sklearn.metrics import make_scorer, roc_auc_score, accuracy_score\n",
    "from sklearn.model_selection import GridSearchCV\n",
    "\n",
    "# Choose the type of classifier. \n",
    "clf = RandomForestClassifier()\n",
    "\n",
    "# Choose some parameter combinations to try\n",
    "param_grid = {'n_estimators': [100,200], \n",
    "              'max_features': ['auto'], \n",
    "              'criterion': ['gini'],\n",
    "              'max_depth': [15,20,25], \n",
    "              'min_samples_split': [2],\n",
    "              'min_samples_leaf': [2,10,20],\n",
    "              'n_jobs':[-1]\n",
    "             }\n",
    "\n",
    "# Type of scoring used to compare parameter combinations\n",
    "acc_scorer = make_scorer(roc_auc_score)\n",
    "\n",
    "# Run the grid search\n",
    "# read theory\n",
    "grid_obj = GridSearchCV(clf, param_grid, cv=5, scoring=acc_scorer)\n",
    "grid_obj = grid_obj.fit(X_train, y_train)\n",
    "\n",
    "# Set the clf to the best combination of parameters\n",
    "clf = grid_obj.best_estimator_\n",
    "\n",
    "# Fit the best algorithm to the data. \n",
    "clf.fit(X_train, y_train)"
   ]
  },
  {
   "cell_type": "code",
   "execution_count": null,
   "metadata": {
    "collapsed": false
   },
   "outputs": [],
   "source": [
    "# Train test model\n",
    "train_test_model(clf, X_train, y_train, X_test, y_test)"
   ]
  },
  {
   "cell_type": "code",
   "execution_count": null,
   "metadata": {
    "collapsed": true
   },
   "outputs": [],
   "source": []
  },
  {
   "cell_type": "code",
   "execution_count": null,
   "metadata": {
    "collapsed": true
   },
   "outputs": [],
   "source": []
  }
 ],
 "metadata": {
  "anaconda-cloud": {},
  "kernelspec": {
   "display_name": "Python 3",
   "language": "python",
   "name": "python3"
  },
  "language_info": {
   "codemirror_mode": {
    "name": "ipython",
    "version": 2
   },
   "file_extension": ".py",
   "mimetype": "text/x-python",
   "name": "python",
   "nbconvert_exporter": "python",
   "pygments_lexer": "ipython2",
   "version": "2.7.15"
  }
 },
 "nbformat": 4,
 "nbformat_minor": 1
}

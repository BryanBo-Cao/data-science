{
 "cells": [
  {
   "cell_type": "markdown",
   "metadata": {},
   "source": [
    "## DS501-1802 Phase 3 Capstone\n",
    "## Recommendation On Download\n",
    "\n",
    "## Bryan Bo Cao\n",
    "\n",
    "### Github: https://github.com/BryanBo-Cao/data-science/tree/master/music-box/src/"
   ]
  },
  {
   "cell_type": "code",
   "execution_count": 1,
   "metadata": {
    "collapsed": false
   },
   "outputs": [],
   "source": [
    "import pandas as pd\n",
    "import numpy as np\n",
    "import matplotlib.pyplot as plt\n",
    "% matplotlib inline\n",
    "plt.style.use(\"ggplot\")"
   ]
  },
  {
   "cell_type": "code",
   "execution_count": 26,
   "metadata": {
    "collapsed": false
   },
   "outputs": [],
   "source": [
    "schema_down = ['uid','device','song_id','song_name','singer','param']\n",
    "df_down = pd.read_csv('../data/down/20170331_1_down.log',delimiter='\\t',header=None,index_col=None,names=schema_down)"
   ]
  },
  {
   "cell_type": "code",
   "execution_count": 27,
   "metadata": {
    "collapsed": false
   },
   "outputs": [
    {
     "data": {
      "text/html": [
       "<div>\n",
       "<table border=\"1\" class=\"dataframe\">\n",
       "  <thead>\n",
       "    <tr style=\"text-align: right;\">\n",
       "      <th></th>\n",
       "      <th>uid</th>\n",
       "      <th>device</th>\n",
       "      <th>song_id</th>\n",
       "      <th>song_name</th>\n",
       "      <th>singer</th>\n",
       "      <th>param</th>\n",
       "    </tr>\n",
       "  </thead>\n",
       "  <tbody>\n",
       "    <tr>\n",
       "      <th>0</th>\n",
       "      <td>167175597.0</td>\n",
       "      <td>ar</td>\n",
       "      <td>2833802.0</td>\n",
       "      <td>草原之夜</td>\n",
       "      <td>费玉清</td>\n",
       "      <td>0</td>\n",
       "    </tr>\n",
       "    <tr>\n",
       "      <th>1</th>\n",
       "      <td>168008024.0</td>\n",
       "      <td>ar</td>\n",
       "      <td>9859281.0</td>\n",
       "      <td>抬头月牙弯弯</td>\n",
       "      <td>MC半阳</td>\n",
       "      <td>0</td>\n",
       "    </tr>\n",
       "    <tr>\n",
       "      <th>2</th>\n",
       "      <td>167949371.0</td>\n",
       "      <td>ar</td>\n",
       "      <td>6807393.0</td>\n",
       "      <td>非常带劲</td>\n",
       "      <td>McTaiM</td>\n",
       "      <td>0</td>\n",
       "    </tr>\n",
       "    <tr>\n",
       "      <th>3</th>\n",
       "      <td>167654366.0</td>\n",
       "      <td>ip</td>\n",
       "      <td>399860.0</td>\n",
       "      <td>NaN</td>\n",
       "      <td>NaN</td>\n",
       "      <td>0</td>\n",
       "    </tr>\n",
       "    <tr>\n",
       "      <th>4</th>\n",
       "      <td>167969524.0</td>\n",
       "      <td>ar</td>\n",
       "      <td>6977636.0</td>\n",
       "      <td>你是伤我最深的那个人</td>\n",
       "      <td>雨霖枫</td>\n",
       "      <td>0</td>\n",
       "    </tr>\n",
       "    <tr>\n",
       "      <th>5</th>\n",
       "      <td>168014135.0</td>\n",
       "      <td>ar</td>\n",
       "      <td>6431766.0</td>\n",
       "      <td>Living</td>\n",
       "      <td>Florian Bur</td>\n",
       "      <td>0</td>\n",
       "    </tr>\n",
       "    <tr>\n",
       "      <th>6</th>\n",
       "      <td>167572709.0</td>\n",
       "      <td>ar</td>\n",
       "      <td>4221401.0</td>\n",
       "      <td>一曲红尘</td>\n",
       "      <td>高安</td>\n",
       "      <td>0</td>\n",
       "    </tr>\n",
       "    <tr>\n",
       "      <th>7</th>\n",
       "      <td>168310102.0</td>\n",
       "      <td>ip</td>\n",
       "      <td>3278304.0</td>\n",
       "      <td>NaN</td>\n",
       "      <td>NaN</td>\n",
       "      <td>0</td>\n",
       "    </tr>\n",
       "    <tr>\n",
       "      <th>8</th>\n",
       "      <td>167654366.0</td>\n",
       "      <td>ip</td>\n",
       "      <td>1043768.0</td>\n",
       "      <td>NaN</td>\n",
       "      <td>NaN</td>\n",
       "      <td>0</td>\n",
       "    </tr>\n",
       "    <tr>\n",
       "      <th>9</th>\n",
       "      <td>167569644.0</td>\n",
       "      <td>ar</td>\n",
       "      <td>4990551.0</td>\n",
       "      <td>香港之夜 - 快四 吉特巴</td>\n",
       "      <td>邓丽君</td>\n",
       "      <td>0</td>\n",
       "    </tr>\n",
       "    <tr>\n",
       "      <th>10</th>\n",
       "      <td>167710499.0</td>\n",
       "      <td>ar</td>\n",
       "      <td>23488042.0</td>\n",
       "      <td>恶魔少爷别吻我</td>\n",
       "      <td>李雨寿</td>\n",
       "      <td>0</td>\n",
       "    </tr>\n",
       "    <tr>\n",
       "      <th>11</th>\n",
       "      <td>167583534.0</td>\n",
       "      <td>ar</td>\n",
       "      <td>1124494.0</td>\n",
       "      <td>拜新年</td>\n",
       "      <td>凤凰传奇</td>\n",
       "      <td>0</td>\n",
       "    </tr>\n",
       "    <tr>\n",
       "      <th>12</th>\n",
       "      <td>167578876.0</td>\n",
       "      <td>ar</td>\n",
       "      <td>6685504.0</td>\n",
       "      <td>大哥</td>\n",
       "      <td>柯受良</td>\n",
       "      <td>0</td>\n",
       "    </tr>\n",
       "    <tr>\n",
       "      <th>13</th>\n",
       "      <td>167953407.0</td>\n",
       "      <td>ar</td>\n",
       "      <td>5861966.0</td>\n",
       "      <td>纯音乐 - 野鸡公野鸡叫声 - 纯音乐版</td>\n",
       "      <td>网络歌手</td>\n",
       "      <td>0</td>\n",
       "    </tr>\n",
       "    <tr>\n",
       "      <th>14</th>\n",
       "      <td>167654366.0</td>\n",
       "      <td>ip</td>\n",
       "      <td>81640.0</td>\n",
       "      <td>NaN</td>\n",
       "      <td>NaN</td>\n",
       "      <td>0</td>\n",
       "    </tr>\n",
       "    <tr>\n",
       "      <th>15</th>\n",
       "      <td>168037231.0</td>\n",
       "      <td>ar</td>\n",
       "      <td>21766074.0</td>\n",
       "      <td>相见恨晚</td>\n",
       "      <td>彭佳慧</td>\n",
       "      <td>0</td>\n",
       "    </tr>\n",
       "    <tr>\n",
       "      <th>16</th>\n",
       "      <td>168056885.0</td>\n",
       "      <td>ip</td>\n",
       "      <td>5220193.0</td>\n",
       "      <td>NaN</td>\n",
       "      <td>NaN</td>\n",
       "      <td>0</td>\n",
       "    </tr>\n",
       "    <tr>\n",
       "      <th>17</th>\n",
       "      <td>37025504.0</td>\n",
       "      <td>ar</td>\n",
       "      <td>21768510.0</td>\n",
       "      <td>如果可以</td>\n",
       "      <td>胡夏</td>\n",
       "      <td>0</td>\n",
       "    </tr>\n",
       "    <tr>\n",
       "      <th>18</th>\n",
       "      <td>167583534.0</td>\n",
       "      <td>ar</td>\n",
       "      <td>1161261.0</td>\n",
       "      <td>相亲相爱</td>\n",
       "      <td>凤凰传奇&amp;曹芙嘉&amp;丁于</td>\n",
       "      <td>0</td>\n",
       "    </tr>\n",
       "    <tr>\n",
       "      <th>19</th>\n",
       "      <td>37025504.0</td>\n",
       "      <td>ar</td>\n",
       "      <td>681318.0</td>\n",
       "      <td>Two Is Better Than One</td>\n",
       "      <td>Boys Like Girls</td>\n",
       "      <td>0</td>\n",
       "    </tr>\n",
       "    <tr>\n",
       "      <th>20</th>\n",
       "      <td>167991473.0</td>\n",
       "      <td>ar</td>\n",
       "      <td>9114815.0</td>\n",
       "      <td>Self Control (In the Style of Laura Branigan) ...</td>\n",
       "      <td>The Karaoke Channel</td>\n",
       "      <td>0</td>\n",
       "    </tr>\n",
       "    <tr>\n",
       "      <th>21</th>\n",
       "      <td>167573367.0</td>\n",
       "      <td>ar</td>\n",
       "      <td>23484836.0</td>\n",
       "      <td>雨夜想你</td>\n",
       "      <td>门丽</td>\n",
       "      <td>0</td>\n",
       "    </tr>\n",
       "    <tr>\n",
       "      <th>22</th>\n",
       "      <td>167785892.0</td>\n",
       "      <td>ar</td>\n",
       "      <td>1002776.0</td>\n",
       "      <td>《新水浒传》电视剧插曲(女声哼唱版)</td>\n",
       "      <td>电视原声</td>\n",
       "      <td>0</td>\n",
       "    </tr>\n",
       "    <tr>\n",
       "      <th>23</th>\n",
       "      <td>167586560.0</td>\n",
       "      <td>ip</td>\n",
       "      <td>6178524.0</td>\n",
       "      <td>NaN</td>\n",
       "      <td>NaN</td>\n",
       "      <td>0</td>\n",
       "    </tr>\n",
       "    <tr>\n",
       "      <th>24</th>\n",
       "      <td>168046334.0</td>\n",
       "      <td>ip</td>\n",
       "      <td>3212948.0</td>\n",
       "      <td>NaN</td>\n",
       "      <td>NaN</td>\n",
       "      <td>0</td>\n",
       "    </tr>\n",
       "    <tr>\n",
       "      <th>25</th>\n",
       "      <td>167991473.0</td>\n",
       "      <td>ar</td>\n",
       "      <td>893831.0</td>\n",
       "      <td>S&amp;M</td>\n",
       "      <td>Rihanna</td>\n",
       "      <td>0</td>\n",
       "    </tr>\n",
       "    <tr>\n",
       "      <th>26</th>\n",
       "      <td>167710499.0</td>\n",
       "      <td>ar</td>\n",
       "      <td>20929865.0</td>\n",
       "      <td>恶魔的爱-(电视剧《恶魔少爷别吻我2》主题曲)</td>\n",
       "      <td>李明霖&amp;李宏毅</td>\n",
       "      <td>0</td>\n",
       "    </tr>\n",
       "    <tr>\n",
       "      <th>27</th>\n",
       "      <td>167986603.0</td>\n",
       "      <td>ar</td>\n",
       "      <td>7056885.0</td>\n",
       "      <td>雅俗共赏</td>\n",
       "      <td>许嵩</td>\n",
       "      <td>0</td>\n",
       "    </tr>\n",
       "    <tr>\n",
       "      <th>28</th>\n",
       "      <td>167765316.0</td>\n",
       "      <td>ar</td>\n",
       "      <td>3314623.0</td>\n",
       "      <td>借点情借点爱</td>\n",
       "      <td>曹越</td>\n",
       "      <td>0</td>\n",
       "    </tr>\n",
       "    <tr>\n",
       "      <th>29</th>\n",
       "      <td>167756009.0</td>\n",
       "      <td>ar</td>\n",
       "      <td>6657692.0</td>\n",
       "      <td>走着走着就散了</td>\n",
       "      <td>庄心妍</td>\n",
       "      <td>0</td>\n",
       "    </tr>\n",
       "    <tr>\n",
       "      <th>...</th>\n",
       "      <td>...</td>\n",
       "      <td>...</td>\n",
       "      <td>...</td>\n",
       "      <td>...</td>\n",
       "      <td>...</td>\n",
       "      <td>...</td>\n",
       "    </tr>\n",
       "    <tr>\n",
       "      <th>70</th>\n",
       "      <td>167663391.0</td>\n",
       "      <td>ip</td>\n",
       "      <td>7088139.0</td>\n",
       "      <td>NaN</td>\n",
       "      <td>NaN</td>\n",
       "      <td>0</td>\n",
       "    </tr>\n",
       "    <tr>\n",
       "      <th>71</th>\n",
       "      <td>167583534.0</td>\n",
       "      <td>ar</td>\n",
       "      <td>1048681.0</td>\n",
       "      <td>我是一只小小鸟(48秒铃声版)</td>\n",
       "      <td>凤凰传奇</td>\n",
       "      <td>0</td>\n",
       "    </tr>\n",
       "    <tr>\n",
       "      <th>72</th>\n",
       "      <td>167654366.0</td>\n",
       "      <td>ip</td>\n",
       "      <td>6482561.0</td>\n",
       "      <td>NaN</td>\n",
       "      <td>NaN</td>\n",
       "      <td>0</td>\n",
       "    </tr>\n",
       "    <tr>\n",
       "      <th>73</th>\n",
       "      <td>167717604.0</td>\n",
       "      <td>ar</td>\n",
       "      <td>3932283.0</td>\n",
       "      <td>勿忘心安</td>\n",
       "      <td>张杰</td>\n",
       "      <td>0</td>\n",
       "    </tr>\n",
       "    <tr>\n",
       "      <th>74</th>\n",
       "      <td>167773293.0</td>\n",
       "      <td>ar</td>\n",
       "      <td>9102814.0</td>\n",
       "      <td>寂寞的人伤心的歌</td>\n",
       "      <td>杨海彪&amp;龙梅子</td>\n",
       "      <td>0</td>\n",
       "    </tr>\n",
       "    <tr>\n",
       "      <th>75</th>\n",
       "      <td>167583534.0</td>\n",
       "      <td>ar</td>\n",
       "      <td>3418894.0</td>\n",
       "      <td>飞天-(游戏《龙门客栈》主题曲)</td>\n",
       "      <td>凤凰传奇</td>\n",
       "      <td>0</td>\n",
       "    </tr>\n",
       "    <tr>\n",
       "      <th>76</th>\n",
       "      <td>167767950.0</td>\n",
       "      <td>ip</td>\n",
       "      <td>3554873.0</td>\n",
       "      <td>NaN</td>\n",
       "      <td>NaN</td>\n",
       "      <td>0</td>\n",
       "    </tr>\n",
       "    <tr>\n",
       "      <th>77</th>\n",
       "      <td>167654366.0</td>\n",
       "      <td>ip</td>\n",
       "      <td>6946805.0</td>\n",
       "      <td>NaN</td>\n",
       "      <td>NaN</td>\n",
       "      <td>0</td>\n",
       "    </tr>\n",
       "    <tr>\n",
       "      <th>78</th>\n",
       "      <td>168056276.0</td>\n",
       "      <td>ar</td>\n",
       "      <td>23082492.0</td>\n",
       "      <td>高尚</td>\n",
       "      <td>薛之谦</td>\n",
       "      <td>0</td>\n",
       "    </tr>\n",
       "    <tr>\n",
       "      <th>79</th>\n",
       "      <td>167898558.0</td>\n",
       "      <td>ar</td>\n",
       "      <td>195555.0</td>\n",
       "      <td>I Need You Tonight</td>\n",
       "      <td>Backstreet Boys</td>\n",
       "      <td>0</td>\n",
       "    </tr>\n",
       "    <tr>\n",
       "      <th>80</th>\n",
       "      <td>167774758.0</td>\n",
       "      <td>ar</td>\n",
       "      <td>20915154.0</td>\n",
       "      <td>吉拉拉</td>\n",
       "      <td>MC成宇</td>\n",
       "      <td>0</td>\n",
       "    </tr>\n",
       "    <tr>\n",
       "      <th>81</th>\n",
       "      <td>1685126.0</td>\n",
       "      <td>ar</td>\n",
       "      <td>1019648.0</td>\n",
       "      <td>女儿情</td>\n",
       "      <td>汤灿</td>\n",
       "      <td>0</td>\n",
       "    </tr>\n",
       "    <tr>\n",
       "      <th>82</th>\n",
       "      <td>167583534.0</td>\n",
       "      <td>ar</td>\n",
       "      <td>107805.0</td>\n",
       "      <td>我是一只小小鸟</td>\n",
       "      <td>凤凰传奇</td>\n",
       "      <td>0</td>\n",
       "    </tr>\n",
       "    <tr>\n",
       "      <th>83</th>\n",
       "      <td>167578876.0</td>\n",
       "      <td>ar</td>\n",
       "      <td>1941465.0</td>\n",
       "      <td>上海滩</td>\n",
       "      <td>叶丽仪</td>\n",
       "      <td>0</td>\n",
       "    </tr>\n",
       "    <tr>\n",
       "      <th>84</th>\n",
       "      <td>167898558.0</td>\n",
       "      <td>ar</td>\n",
       "      <td>195555.0</td>\n",
       "      <td>I Need You Tonight</td>\n",
       "      <td>Backstreet Boys</td>\n",
       "      <td>0</td>\n",
       "    </tr>\n",
       "    <tr>\n",
       "      <th>85</th>\n",
       "      <td>167934931.0</td>\n",
       "      <td>ar</td>\n",
       "      <td>4180329.0</td>\n",
       "      <td>擦干你的泪水</td>\n",
       "      <td>郑源</td>\n",
       "      <td>0</td>\n",
       "    </tr>\n",
       "    <tr>\n",
       "      <th>86</th>\n",
       "      <td>167741136.0</td>\n",
       "      <td>ar</td>\n",
       "      <td>7029125.0</td>\n",
       "      <td>我记不起-[I Don't Remember]-(TVB剧集《为食神探》片尾曲)</td>\n",
       "      <td>钟嘉欣</td>\n",
       "      <td>0</td>\n",
       "    </tr>\n",
       "    <tr>\n",
       "      <th>87</th>\n",
       "      <td>167779783.0</td>\n",
       "      <td>ar</td>\n",
       "      <td>1295436.0</td>\n",
       "      <td>单身</td>\n",
       "      <td>Outsider</td>\n",
       "      <td>0</td>\n",
       "    </tr>\n",
       "    <tr>\n",
       "      <th>88</th>\n",
       "      <td>167607147.0</td>\n",
       "      <td>ar</td>\n",
       "      <td>7504255.0</td>\n",
       "      <td>一人我两袖清风</td>\n",
       "      <td>颜小殇</td>\n",
       "      <td>0</td>\n",
       "    </tr>\n",
       "    <tr>\n",
       "      <th>89</th>\n",
       "      <td>167791406.0</td>\n",
       "      <td>ar</td>\n",
       "      <td>20867875.0</td>\n",
       "      <td>默 (Live)</td>\n",
       "      <td>张杰</td>\n",
       "      <td>0</td>\n",
       "    </tr>\n",
       "    <tr>\n",
       "      <th>90</th>\n",
       "      <td>167950455.0</td>\n",
       "      <td>ip</td>\n",
       "      <td>628848.0</td>\n",
       "      <td>NaN</td>\n",
       "      <td>NaN</td>\n",
       "      <td>0</td>\n",
       "    </tr>\n",
       "    <tr>\n",
       "      <th>91</th>\n",
       "      <td>167809391.0</td>\n",
       "      <td>ar</td>\n",
       "      <td>4177799.0</td>\n",
       "      <td>等你我等了那么久</td>\n",
       "      <td>DJ舞曲</td>\n",
       "      <td>0</td>\n",
       "    </tr>\n",
       "    <tr>\n",
       "      <th>92</th>\n",
       "      <td>167994651.0</td>\n",
       "      <td>ar</td>\n",
       "      <td>21770299.0</td>\n",
       "      <td>算什么男人 (Live)</td>\n",
       "      <td>周杰伦&amp;羽田</td>\n",
       "      <td>0</td>\n",
       "    </tr>\n",
       "    <tr>\n",
       "      <th>93</th>\n",
       "      <td>167663391.0</td>\n",
       "      <td>ip</td>\n",
       "      <td>7883553.0</td>\n",
       "      <td>NaN</td>\n",
       "      <td>NaN</td>\n",
       "      <td>0</td>\n",
       "    </tr>\n",
       "    <tr>\n",
       "      <th>94</th>\n",
       "      <td>168005343.0</td>\n",
       "      <td>ar</td>\n",
       "      <td>21766394.0</td>\n",
       "      <td>花好月圆夜</td>\n",
       "      <td>杨千嬅&amp;任贤齐</td>\n",
       "      <td>0</td>\n",
       "    </tr>\n",
       "    <tr>\n",
       "      <th>95</th>\n",
       "      <td>168058117.0</td>\n",
       "      <td>ar</td>\n",
       "      <td>504662.0</td>\n",
       "      <td>玩腻(DJ版)</td>\n",
       "      <td>DJ舞曲</td>\n",
       "      <td>0</td>\n",
       "    </tr>\n",
       "    <tr>\n",
       "      <th>96</th>\n",
       "      <td>168005343.0</td>\n",
       "      <td>ar</td>\n",
       "      <td>6333424.0</td>\n",
       "      <td>神的传说(电视剧《封神榜》片头曲)</td>\n",
       "      <td>谭咏麟</td>\n",
       "      <td>0</td>\n",
       "    </tr>\n",
       "    <tr>\n",
       "      <th>97</th>\n",
       "      <td>167865291.0</td>\n",
       "      <td>ar</td>\n",
       "      <td>3424031.0</td>\n",
       "      <td>一夜惊喜(电影《一夜惊喜》主题曲)</td>\n",
       "      <td>范冰冰&amp;李治廷</td>\n",
       "      <td>0</td>\n",
       "    </tr>\n",
       "    <tr>\n",
       "      <th>98</th>\n",
       "      <td>167865291.0</td>\n",
       "      <td>ar</td>\n",
       "      <td>509269.0</td>\n",
       "      <td>胭脂雪(《胭脂雪》电视剧主题曲)</td>\n",
       "      <td>范冰冰</td>\n",
       "      <td>0</td>\n",
       "    </tr>\n",
       "    <tr>\n",
       "      <th>99</th>\n",
       "      <td>167865291.0</td>\n",
       "      <td>ar</td>\n",
       "      <td>4273320.0</td>\n",
       "      <td>飞鸟(高质量)</td>\n",
       "      <td>范冰冰</td>\n",
       "      <td>0</td>\n",
       "    </tr>\n",
       "  </tbody>\n",
       "</table>\n",
       "<p>100 rows × 6 columns</p>\n",
       "</div>"
      ],
      "text/plain": [
       "            uid device     song_id  \\\n",
       "0   167175597.0     ar   2833802.0   \n",
       "1   168008024.0     ar   9859281.0   \n",
       "2   167949371.0     ar   6807393.0   \n",
       "3   167654366.0     ip    399860.0   \n",
       "4   167969524.0     ar   6977636.0   \n",
       "5   168014135.0     ar   6431766.0   \n",
       "6   167572709.0     ar   4221401.0   \n",
       "7   168310102.0     ip   3278304.0   \n",
       "8   167654366.0     ip   1043768.0   \n",
       "9   167569644.0     ar   4990551.0   \n",
       "10  167710499.0     ar  23488042.0   \n",
       "11  167583534.0     ar   1124494.0   \n",
       "12  167578876.0     ar   6685504.0   \n",
       "13  167953407.0     ar   5861966.0   \n",
       "14  167654366.0     ip     81640.0   \n",
       "15  168037231.0     ar  21766074.0   \n",
       "16  168056885.0     ip   5220193.0   \n",
       "17   37025504.0     ar  21768510.0   \n",
       "18  167583534.0     ar   1161261.0   \n",
       "19   37025504.0     ar    681318.0   \n",
       "20  167991473.0     ar   9114815.0   \n",
       "21  167573367.0     ar  23484836.0   \n",
       "22  167785892.0     ar   1002776.0   \n",
       "23  167586560.0     ip   6178524.0   \n",
       "24  168046334.0     ip   3212948.0   \n",
       "25  167991473.0     ar    893831.0   \n",
       "26  167710499.0     ar  20929865.0   \n",
       "27  167986603.0     ar   7056885.0   \n",
       "28  167765316.0     ar   3314623.0   \n",
       "29  167756009.0     ar   6657692.0   \n",
       "..          ...    ...         ...   \n",
       "70  167663391.0     ip   7088139.0   \n",
       "71  167583534.0     ar   1048681.0   \n",
       "72  167654366.0     ip   6482561.0   \n",
       "73  167717604.0     ar   3932283.0   \n",
       "74  167773293.0     ar   9102814.0   \n",
       "75  167583534.0     ar   3418894.0   \n",
       "76  167767950.0     ip   3554873.0   \n",
       "77  167654366.0     ip   6946805.0   \n",
       "78  168056276.0     ar  23082492.0   \n",
       "79  167898558.0     ar    195555.0   \n",
       "80  167774758.0     ar  20915154.0   \n",
       "81    1685126.0     ar   1019648.0   \n",
       "82  167583534.0     ar    107805.0   \n",
       "83  167578876.0     ar   1941465.0   \n",
       "84  167898558.0     ar    195555.0   \n",
       "85  167934931.0     ar   4180329.0   \n",
       "86  167741136.0     ar   7029125.0   \n",
       "87  167779783.0     ar   1295436.0   \n",
       "88  167607147.0     ar   7504255.0   \n",
       "89  167791406.0     ar  20867875.0   \n",
       "90  167950455.0     ip    628848.0   \n",
       "91  167809391.0     ar   4177799.0   \n",
       "92  167994651.0     ar  21770299.0   \n",
       "93  167663391.0     ip   7883553.0   \n",
       "94  168005343.0     ar  21766394.0   \n",
       "95  168058117.0     ar    504662.0   \n",
       "96  168005343.0     ar   6333424.0   \n",
       "97  167865291.0     ar   3424031.0   \n",
       "98  167865291.0     ar    509269.0   \n",
       "99  167865291.0     ar   4273320.0   \n",
       "\n",
       "                                            song_name               singer  \\\n",
       "0                                                草原之夜                  费玉清   \n",
       "1                                              抬头月牙弯弯                 MC半阳   \n",
       "2                                                非常带劲               McTaiM   \n",
       "3                                                 NaN                  NaN   \n",
       "4                                          你是伤我最深的那个人                  雨霖枫   \n",
       "5                                              Living          Florian Bur   \n",
       "6                                                一曲红尘                   高安   \n",
       "7                                                 NaN                  NaN   \n",
       "8                                                 NaN                  NaN   \n",
       "9                                       香港之夜 - 快四 吉特巴                  邓丽君   \n",
       "10                                            恶魔少爷别吻我                  李雨寿   \n",
       "11                                                拜新年                 凤凰传奇   \n",
       "12                                                 大哥                  柯受良   \n",
       "13                               纯音乐 - 野鸡公野鸡叫声 - 纯音乐版                 网络歌手   \n",
       "14                                                NaN                  NaN   \n",
       "15                                               相见恨晚                  彭佳慧   \n",
       "16                                                NaN                  NaN   \n",
       "17                                               如果可以                   胡夏   \n",
       "18                                               相亲相爱          凤凰传奇&曹芙嘉&丁于   \n",
       "19                             Two Is Better Than One      Boys Like Girls   \n",
       "20  Self Control (In the Style of Laura Branigan) ...  The Karaoke Channel   \n",
       "21                                               雨夜想你                   门丽   \n",
       "22                                 《新水浒传》电视剧插曲(女声哼唱版)                 电视原声   \n",
       "23                                                NaN                  NaN   \n",
       "24                                                NaN                  NaN   \n",
       "25                                                S&M              Rihanna   \n",
       "26                            恶魔的爱-(电视剧《恶魔少爷别吻我2》主题曲)              李明霖&李宏毅   \n",
       "27                                               雅俗共赏                   许嵩   \n",
       "28                                             借点情借点爱                   曹越   \n",
       "29                                            走着走着就散了                  庄心妍   \n",
       "..                                                ...                  ...   \n",
       "70                                                NaN                  NaN   \n",
       "71                                    我是一只小小鸟(48秒铃声版)                 凤凰传奇   \n",
       "72                                                NaN                  NaN   \n",
       "73                                               勿忘心安                   张杰   \n",
       "74                                           寂寞的人伤心的歌              杨海彪&龙梅子   \n",
       "75                                   飞天-(游戏《龙门客栈》主题曲)                 凤凰传奇   \n",
       "76                                                NaN                  NaN   \n",
       "77                                                NaN                  NaN   \n",
       "78                                                 高尚                  薛之谦   \n",
       "79                                 I Need You Tonight      Backstreet Boys   \n",
       "80                                                吉拉拉                 MC成宇   \n",
       "81                                                女儿情                   汤灿   \n",
       "82                                            我是一只小小鸟                 凤凰传奇   \n",
       "83                                                上海滩                  叶丽仪   \n",
       "84                                 I Need You Tonight      Backstreet Boys   \n",
       "85                                             擦干你的泪水                   郑源   \n",
       "86           我记不起-[I Don't Remember]-(TVB剧集《为食神探》片尾曲)                  钟嘉欣   \n",
       "87                                                 单身             Outsider   \n",
       "88                                            一人我两袖清风                  颜小殇   \n",
       "89                                           默 (Live)                   张杰   \n",
       "90                                                NaN                  NaN   \n",
       "91                                           等你我等了那么久                 DJ舞曲   \n",
       "92                                       算什么男人 (Live)               周杰伦&羽田   \n",
       "93                                                NaN                  NaN   \n",
       "94                                              花好月圆夜              杨千嬅&任贤齐   \n",
       "95                                            玩腻(DJ版)                 DJ舞曲   \n",
       "96                                  神的传说(电视剧《封神榜》片头曲)                  谭咏麟   \n",
       "97                                  一夜惊喜(电影《一夜惊喜》主题曲)              范冰冰&李治廷   \n",
       "98                                   胭脂雪(《胭脂雪》电视剧主题曲)                  范冰冰   \n",
       "99                                            飞鸟(高质量)                  范冰冰   \n",
       "\n",
       "   param  \n",
       "0      0  \n",
       "1      0  \n",
       "2      0  \n",
       "3      0  \n",
       "4      0  \n",
       "5      0  \n",
       "6      0  \n",
       "7      0  \n",
       "8      0  \n",
       "9      0  \n",
       "10     0  \n",
       "11     0  \n",
       "12     0  \n",
       "13     0  \n",
       "14     0  \n",
       "15     0  \n",
       "16     0  \n",
       "17     0  \n",
       "18     0  \n",
       "19     0  \n",
       "20     0  \n",
       "21     0  \n",
       "22     0  \n",
       "23     0  \n",
       "24     0  \n",
       "25     0  \n",
       "26     0  \n",
       "27     0  \n",
       "28     0  \n",
       "29     0  \n",
       "..   ...  \n",
       "70     0  \n",
       "71     0  \n",
       "72     0  \n",
       "73     0  \n",
       "74     0  \n",
       "75     0  \n",
       "76     0  \n",
       "77     0  \n",
       "78     0  \n",
       "79     0  \n",
       "80     0  \n",
       "81     0  \n",
       "82     0  \n",
       "83     0  \n",
       "84     0  \n",
       "85     0  \n",
       "86     0  \n",
       "87     0  \n",
       "88     0  \n",
       "89     0  \n",
       "90     0  \n",
       "91     0  \n",
       "92     0  \n",
       "93     0  \n",
       "94     0  \n",
       "95     0  \n",
       "96     0  \n",
       "97     0  \n",
       "98     0  \n",
       "99     0  \n",
       "\n",
       "[100 rows x 6 columns]"
      ]
     },
     "execution_count": 27,
     "metadata": {},
     "output_type": "execute_result"
    }
   ],
   "source": [
    "df_down.head(100)"
   ]
  },
  {
   "cell_type": "code",
   "execution_count": 28,
   "metadata": {
    "collapsed": false
   },
   "outputs": [
    {
     "data": {
      "text/html": [
       "<div>\n",
       "<table border=\"1\" class=\"dataframe\">\n",
       "  <thead>\n",
       "    <tr style=\"text-align: right;\">\n",
       "      <th></th>\n",
       "      <th>uid</th>\n",
       "      <th>song_id</th>\n",
       "    </tr>\n",
       "  </thead>\n",
       "  <tbody>\n",
       "    <tr>\n",
       "      <th>count</th>\n",
       "      <td>1.174870e+05</td>\n",
       "      <td>1.176000e+05</td>\n",
       "    </tr>\n",
       "    <tr>\n",
       "      <th>mean</th>\n",
       "      <td>1.544899e+08</td>\n",
       "      <td>5.591921e+06</td>\n",
       "    </tr>\n",
       "    <tr>\n",
       "      <th>std</th>\n",
       "      <td>4.315912e+07</td>\n",
       "      <td>6.048502e+06</td>\n",
       "    </tr>\n",
       "    <tr>\n",
       "      <th>min</th>\n",
       "      <td>0.000000e+00</td>\n",
       "      <td>0.000000e+00</td>\n",
       "    </tr>\n",
       "    <tr>\n",
       "      <th>25%</th>\n",
       "      <td>1.676874e+08</td>\n",
       "      <td>8.449500e+05</td>\n",
       "    </tr>\n",
       "    <tr>\n",
       "      <th>50%</th>\n",
       "      <td>1.678311e+08</td>\n",
       "      <td>4.258992e+06</td>\n",
       "    </tr>\n",
       "    <tr>\n",
       "      <th>75%</th>\n",
       "      <td>1.679641e+08</td>\n",
       "      <td>6.809850e+06</td>\n",
       "    </tr>\n",
       "    <tr>\n",
       "      <th>max</th>\n",
       "      <td>1.687678e+08</td>\n",
       "      <td>2.353208e+07</td>\n",
       "    </tr>\n",
       "  </tbody>\n",
       "</table>\n",
       "</div>"
      ],
      "text/plain": [
       "                uid       song_id\n",
       "count  1.174870e+05  1.176000e+05\n",
       "mean   1.544899e+08  5.591921e+06\n",
       "std    4.315912e+07  6.048502e+06\n",
       "min    0.000000e+00  0.000000e+00\n",
       "25%    1.676874e+08  8.449500e+05\n",
       "50%    1.678311e+08  4.258992e+06\n",
       "75%    1.679641e+08  6.809850e+06\n",
       "max    1.687678e+08  2.353208e+07"
      ]
     },
     "execution_count": 28,
     "metadata": {},
     "output_type": "execute_result"
    }
   ],
   "source": [
    "df_down.describe()"
   ]
  },
  {
   "cell_type": "code",
   "execution_count": 29,
   "metadata": {
    "collapsed": false
   },
   "outputs": [
    {
     "name": "stdout",
     "output_type": "stream",
     "text": [
      "<class 'pandas.core.frame.DataFrame'>\n",
      "RangeIndex: 117628 entries, 0 to 117627\n",
      "Data columns (total 6 columns):\n",
      "uid          117487 non-null float64\n",
      "device       117628 non-null object\n",
      "song_id      117600 non-null float64\n",
      "song_name    94646 non-null object\n",
      "singer       94481 non-null object\n",
      "param        117346 non-null object\n",
      "dtypes: float64(2), object(4)\n",
      "memory usage: 5.4+ MB\n"
     ]
    }
   ],
   "source": [
    "df_down.info()"
   ]
  },
  {
   "cell_type": "code",
   "execution_count": 32,
   "metadata": {
    "collapsed": false
   },
   "outputs": [
    {
     "data": {
      "text/plain": [
       "ar      94674\n",
       "ip      22813\n",
       "薛之谦        10\n",
       "张碧晨         5\n",
       "云菲菲         5\n",
       "经典老歌        3\n",
       "梦然          3\n",
       "铃声          3\n",
       "DJ舞曲        3\n",
       "韩红          2\n",
       "Name: device, dtype: int64"
      ]
     },
     "execution_count": 32,
     "metadata": {},
     "output_type": "execute_result"
    }
   ],
   "source": [
    "device_cnts = df_down.device.value_counts()\n",
    "device_cnts.head(10)"
   ]
  },
  {
   "cell_type": "code",
   "execution_count": null,
   "metadata": {
    "collapsed": true
   },
   "outputs": [],
   "source": []
  },
  {
   "cell_type": "markdown",
   "metadata": {},
   "source": [
    "# Visualize data"
   ]
  },
  {
   "cell_type": "code",
   "execution_count": 40,
   "metadata": {
    "collapsed": true
   },
   "outputs": [],
   "source": [
    "device_indexes = device_cnts.index.values\n",
    "device_indexes = device_indexes.tolist()"
   ]
  },
  {
   "cell_type": "code",
   "execution_count": 41,
   "metadata": {
    "collapsed": false
   },
   "outputs": [
    {
     "data": {
      "text/plain": [
       "<matplotlib.axes._subplots.AxesSubplot at 0x116422cd0>"
      ]
     },
     "execution_count": 41,
     "metadata": {},
     "output_type": "execute_result"
    },
    {
     "data": {
      "image/png": "[encoded data removed]",
      "text/plain": [
       "<matplotlib.figure.Figure at 0x1163fd590>"
      ]
     },
     "metadata": {},
     "output_type": "display_data"
    }
   ],
   "source": [
    "df_down.plot.hist(alpha=0.5)"
   ]
  },
  {
   "cell_type": "code",
   "execution_count": 42,
   "metadata": {
    "collapsed": false
   },
   "outputs": [
    {
     "data": {
      "text/plain": [
       "<matplotlib.axes._subplots.AxesSubplot at 0x11e9948d0>"
      ]
     },
     "execution_count": 42,
     "metadata": {},
     "output_type": "execute_result"
    },
    {
     "data": {
      "image/png": "[encoded data removed]",
      "text/plain": [
       "<matplotlib.figure.Figure at 0x11c714210>"
      ]
     },
     "metadata": {},
     "output_type": "display_data"
    }
   ],
   "source": [
    "df_down.device.value_counts().plot.hist(alpha=0.5)"
   ]
  },
  {
   "cell_type": "markdown",
   "metadata": {},
   "source": [
    "Apply log to df_down.device.value_counts()"
   ]
  },
  {
   "cell_type": "code",
   "execution_count": 43,
   "metadata": {
    "collapsed": false
   },
   "outputs": [
    {
     "data": {
      "image/png": "[encoded data removed]",
      "text/plain": [
       "<matplotlib.figure.Figure at 0x11e59fa10>"
      ]
     },
     "metadata": {},
     "output_type": "display_data"
    }
   ],
   "source": [
    "df_down.device.value_counts().apply(np.log).hist(alpha=0.5)\n",
    "plt.show()"
   ]
  },
  {
   "cell_type": "code",
   "execution_count": null,
   "metadata": {
    "collapsed": true
   },
   "outputs": [],
   "source": []
  },
  {
   "cell_type": "markdown",
   "metadata": {},
   "source": [
    "## Create training set and test set"
   ]
  },
  {
   "cell_type": "code",
   "execution_count": 44,
   "metadata": {
    "collapsed": false
   },
   "outputs": [
    {
     "name": "stderr",
     "output_type": "stream",
     "text": [
      "/Users/GundamOO/anaconda/envs/gl-env/lib/python2.7/site-packages/sklearn/cross_validation.py:41: DeprecationWarning: This module was deprecated in version 0.18 in favor of the model_selection module into which all the refactored classes and functions are moved. Also note that the interface of the new CV iterators are different from that of this module. This module will be removed in 0.20.\n",
      "  \"This module will be removed in 0.20.\", DeprecationWarning)\n"
     ]
    }
   ],
   "source": [
    "from sklearn.cross_validation import train_test_split\n",
    "df_down_train, df_down_test = train_test_split(\n",
    "                    df_down, test_size = 0.2, random_state = 64)"
   ]
  },
  {
   "cell_type": "code",
   "execution_count": 45,
   "metadata": {
    "collapsed": false
   },
   "outputs": [
    {
     "data": {
      "text/html": [
       "<div>\n",
       "<table border=\"1\" class=\"dataframe\">\n",
       "  <thead>\n",
       "    <tr style=\"text-align: right;\">\n",
       "      <th></th>\n",
       "      <th>uid</th>\n",
       "      <th>device</th>\n",
       "      <th>song_id</th>\n",
       "      <th>song_name</th>\n",
       "      <th>singer</th>\n",
       "      <th>param</th>\n",
       "    </tr>\n",
       "  </thead>\n",
       "  <tbody>\n",
       "    <tr>\n",
       "      <th>102047</th>\n",
       "      <td>168005554.0</td>\n",
       "      <td>ar</td>\n",
       "      <td>22082805.0</td>\n",
       "      <td>时差-(电视剧《不一样的美男子2》片尾曲)</td>\n",
       "      <td>东来东往</td>\n",
       "      <td>0</td>\n",
       "    </tr>\n",
       "    <tr>\n",
       "      <th>115796</th>\n",
       "      <td>167632621.0</td>\n",
       "      <td>ar</td>\n",
       "      <td>4849622.0</td>\n",
       "      <td>看得见的幸福 (电视剧《爱情最美丽》主题曲)</td>\n",
       "      <td>黄绮珊</td>\n",
       "      <td>0</td>\n",
       "    </tr>\n",
       "    <tr>\n",
       "      <th>73600</th>\n",
       "      <td>167955656.0</td>\n",
       "      <td>ar</td>\n",
       "      <td>150571.0</td>\n",
       "      <td>孤单北半球</td>\n",
       "      <td>欧得洋</td>\n",
       "      <td>0</td>\n",
       "    </tr>\n",
       "    <tr>\n",
       "      <th>44849</th>\n",
       "      <td>167653507.0</td>\n",
       "      <td>ar</td>\n",
       "      <td>5886466.0</td>\n",
       "      <td>唱着情歌流着泪(广场舞版4)</td>\n",
       "      <td>祁隆</td>\n",
       "      <td>0</td>\n",
       "    </tr>\n",
       "    <tr>\n",
       "      <th>100951</th>\n",
       "      <td>167655161.0</td>\n",
       "      <td>ar</td>\n",
       "      <td>703967.0</td>\n",
       "      <td>小燕子</td>\n",
       "      <td>儿童歌曲</td>\n",
       "      <td>0</td>\n",
       "    </tr>\n",
       "    <tr>\n",
       "      <th>5176</th>\n",
       "      <td>168043418.0</td>\n",
       "      <td>ar</td>\n",
       "      <td>648281.0</td>\n",
       "      <td>Bubbly</td>\n",
       "      <td>Colbie Caillat</td>\n",
       "      <td>0</td>\n",
       "    </tr>\n",
       "    <tr>\n",
       "      <th>76430</th>\n",
       "      <td>167954734.0</td>\n",
       "      <td>ip</td>\n",
       "      <td>511306.0</td>\n",
       "      <td>NaN</td>\n",
       "      <td>NaN</td>\n",
       "      <td>0</td>\n",
       "    </tr>\n",
       "    <tr>\n",
       "      <th>113835</th>\n",
       "      <td>167651391.0</td>\n",
       "      <td>ip</td>\n",
       "      <td>6871854.0</td>\n",
       "      <td>NaN</td>\n",
       "      <td>NaN</td>\n",
       "      <td>0</td>\n",
       "    </tr>\n",
       "    <tr>\n",
       "      <th>106217</th>\n",
       "      <td>167575488.0</td>\n",
       "      <td>ip</td>\n",
       "      <td>6752541.0</td>\n",
       "      <td>NaN</td>\n",
       "      <td>NaN</td>\n",
       "      <td>0</td>\n",
       "    </tr>\n",
       "    <tr>\n",
       "      <th>106635</th>\n",
       "      <td>1791497.0</td>\n",
       "      <td>ar</td>\n",
       "      <td>258834.0</td>\n",
       "      <td>北京北京</td>\n",
       "      <td>汪峰</td>\n",
       "      <td>0</td>\n",
       "    </tr>\n",
       "  </tbody>\n",
       "</table>\n",
       "</div>"
      ],
      "text/plain": [
       "                uid device     song_id               song_name  \\\n",
       "102047  168005554.0     ar  22082805.0   时差-(电视剧《不一样的美男子2》片尾曲)   \n",
       "115796  167632621.0     ar   4849622.0  看得见的幸福 (电视剧《爱情最美丽》主题曲)   \n",
       "73600   167955656.0     ar    150571.0                   孤单北半球   \n",
       "44849   167653507.0     ar   5886466.0          唱着情歌流着泪(广场舞版4)   \n",
       "100951  167655161.0     ar    703967.0                     小燕子   \n",
       "5176    168043418.0     ar    648281.0                  Bubbly   \n",
       "76430   167954734.0     ip    511306.0                     NaN   \n",
       "113835  167651391.0     ip   6871854.0                     NaN   \n",
       "106217  167575488.0     ip   6752541.0                     NaN   \n",
       "106635    1791497.0     ar    258834.0                    北京北京   \n",
       "\n",
       "                singer param  \n",
       "102047            东来东往     0  \n",
       "115796             黄绮珊     0  \n",
       "73600              欧得洋     0  \n",
       "44849               祁隆     0  \n",
       "100951            儿童歌曲     0  \n",
       "5176    Colbie Caillat     0  \n",
       "76430              NaN     0  \n",
       "113835             NaN     0  \n",
       "106217             NaN     0  \n",
       "106635              汪峰     0  "
      ]
     },
     "execution_count": 45,
     "metadata": {},
     "output_type": "execute_result"
    }
   ],
   "source": [
    "df_down_train.head(10)"
   ]
  },
  {
   "cell_type": "code",
   "execution_count": null,
   "metadata": {
    "collapsed": true
   },
   "outputs": [],
   "source": []
  },
  {
   "cell_type": "markdown",
   "metadata": {},
   "source": [
    "## Recommend songs"
   ]
  },
  {
   "cell_type": "code",
   "execution_count": 47,
   "metadata": {
    "collapsed": false
   },
   "outputs": [
    {
     "data": {
      "text/html": [
       "<div>\n",
       "<table border=\"1\" class=\"dataframe\">\n",
       "  <thead>\n",
       "    <tr style=\"text-align: right;\">\n",
       "      <th></th>\n",
       "      <th>uid</th>\n",
       "      <th>song_id</th>\n",
       "      <th>song_name</th>\n",
       "    </tr>\n",
       "  </thead>\n",
       "  <tbody>\n",
       "    <tr>\n",
       "      <th>0</th>\n",
       "      <td>167175597.0</td>\n",
       "      <td>2833802.0</td>\n",
       "      <td>草原之夜</td>\n",
       "    </tr>\n",
       "    <tr>\n",
       "      <th>1</th>\n",
       "      <td>168008024.0</td>\n",
       "      <td>9859281.0</td>\n",
       "      <td>抬头月牙弯弯</td>\n",
       "    </tr>\n",
       "    <tr>\n",
       "      <th>2</th>\n",
       "      <td>167949371.0</td>\n",
       "      <td>6807393.0</td>\n",
       "      <td>非常带劲</td>\n",
       "    </tr>\n",
       "    <tr>\n",
       "      <th>3</th>\n",
       "      <td>167654366.0</td>\n",
       "      <td>399860.0</td>\n",
       "      <td>NaN</td>\n",
       "    </tr>\n",
       "    <tr>\n",
       "      <th>4</th>\n",
       "      <td>167969524.0</td>\n",
       "      <td>6977636.0</td>\n",
       "      <td>你是伤我最深的那个人</td>\n",
       "    </tr>\n",
       "    <tr>\n",
       "      <th>5</th>\n",
       "      <td>168014135.0</td>\n",
       "      <td>6431766.0</td>\n",
       "      <td>Living</td>\n",
       "    </tr>\n",
       "    <tr>\n",
       "      <th>6</th>\n",
       "      <td>167572709.0</td>\n",
       "      <td>4221401.0</td>\n",
       "      <td>一曲红尘</td>\n",
       "    </tr>\n",
       "    <tr>\n",
       "      <th>7</th>\n",
       "      <td>168310102.0</td>\n",
       "      <td>3278304.0</td>\n",
       "      <td>NaN</td>\n",
       "    </tr>\n",
       "    <tr>\n",
       "      <th>8</th>\n",
       "      <td>167654366.0</td>\n",
       "      <td>1043768.0</td>\n",
       "      <td>NaN</td>\n",
       "    </tr>\n",
       "    <tr>\n",
       "      <th>9</th>\n",
       "      <td>167569644.0</td>\n",
       "      <td>4990551.0</td>\n",
       "      <td>香港之夜 - 快四 吉特巴</td>\n",
       "    </tr>\n",
       "  </tbody>\n",
       "</table>\n",
       "</div>"
      ],
      "text/plain": [
       "           uid    song_id      song_name\n",
       "0  167175597.0  2833802.0           草原之夜\n",
       "1  168008024.0  9859281.0         抬头月牙弯弯\n",
       "2  167949371.0  6807393.0           非常带劲\n",
       "3  167654366.0   399860.0            NaN\n",
       "4  167969524.0  6977636.0     你是伤我最深的那个人\n",
       "5  168014135.0  6431766.0         Living\n",
       "6  167572709.0  4221401.0           一曲红尘\n",
       "7  168310102.0  3278304.0            NaN\n",
       "8  167654366.0  1043768.0            NaN\n",
       "9  167569644.0  4990551.0  香港之夜 - 快四 吉特巴"
      ]
     },
     "execution_count": 47,
     "metadata": {},
     "output_type": "execute_result"
    }
   ],
   "source": [
    "# Reference: https://turi.com/products/create/docs/generated/graphlab.recommender.item_similarity_recommender.ItemSimilarityRecommender.html\n",
    "import graphlab\n",
    "# recommend based on \n",
    "df_for_rec_on_song_name = df_down[['uid', 'song_id', 'song_name']]\n",
    "df_for_rec_on_song_name.head(10)"
   ]
  },
  {
   "cell_type": "code",
   "execution_count": 48,
   "metadata": {
    "collapsed": false
   },
   "outputs": [
    {
     "data": {
      "text/plain": [
       "(117628, 3)"
      ]
     },
     "execution_count": 48,
     "metadata": {},
     "output_type": "execute_result"
    }
   ],
   "source": [
    "df_for_rec_on_song_name.shape"
   ]
  },
  {
   "cell_type": "markdown",
   "metadata": {},
   "source": [
    "### User"
   ]
  },
  {
   "cell_type": "code",
   "execution_count": 49,
   "metadata": {
    "collapsed": false
   },
   "outputs": [
    {
     "data": {
      "text/plain": [
       "1685126.0      2011\n",
       "167713459.0    1937\n",
       "37025504.0     1762\n",
       "1791497.0      1708\n",
       "736305.0       1459\n",
       "Name: uid, dtype: int64"
      ]
     },
     "execution_count": 49,
     "metadata": {},
     "output_type": "execute_result"
    }
   ],
   "source": [
    "df_for_rec_on_song_name_user_cnt = df_for_rec_on_song_name['uid'].value_counts()\n",
    "df_for_rec_on_song_name_user_cnt.head()"
   ]
  },
  {
   "cell_type": "code",
   "execution_count": 50,
   "metadata": {
    "collapsed": false
   },
   "outputs": [
    {
     "data": {
      "image/png": "[encoded data removed]",
      "text/plain": [
       "<matplotlib.figure.Figure at 0x125fe0a10>"
      ]
     },
     "metadata": {},
     "output_type": "display_data"
    }
   ],
   "source": [
    "df_for_rec_on_song_name_user_cnt.apply(np.log).hist()\n",
    "plt.show()"
   ]
  },
  {
   "cell_type": "markdown",
   "metadata": {},
   "source": [
    "### Song"
   ]
  },
  {
   "cell_type": "code",
   "execution_count": 51,
   "metadata": {
    "collapsed": false
   },
   "outputs": [
    {
     "data": {
      "text/plain": [
       "9950164.0    533\n",
       "6468891.0    289\n",
       "5237384.0    277\n",
       "6657692.0    233\n",
       "5114569.0    218\n",
       "Name: song_id, dtype: int64"
      ]
     },
     "execution_count": 51,
     "metadata": {},
     "output_type": "execute_result"
    }
   ],
   "source": [
    "df_for_rec_on_song_name_song_cnt = df_for_rec_on_song_name['song_id'].value_counts()\n",
    "df_for_rec_on_song_name_song_cnt.head()"
   ]
  },
  {
   "cell_type": "code",
   "execution_count": 52,
   "metadata": {
    "collapsed": false
   },
   "outputs": [
    {
     "data": {
      "image/png": "[encoded data removed]",
      "text/plain": [
       "<matplotlib.figure.Figure at 0x1264cd350>"
      ]
     },
     "metadata": {},
     "output_type": "display_data"
    }
   ],
   "source": [
    "df_for_rec_on_song_name_song_cnt.apply(np.log).hist()\n",
    "plt.show()"
   ]
  },
  {
   "cell_type": "code",
   "execution_count": null,
   "metadata": {
    "collapsed": true
   },
   "outputs": [],
   "source": []
  },
  {
   "cell_type": "markdown",
   "metadata": {},
   "source": [
    "### Fill na with 0 "
   ]
  },
  {
   "cell_type": "code",
   "execution_count": 53,
   "metadata": {
    "collapsed": true
   },
   "outputs": [],
   "source": [
    "df_down.fillna(0, inplace=True)"
   ]
  },
  {
   "cell_type": "markdown",
   "metadata": {},
   "source": [
    "## Clean column type"
   ]
  },
  {
   "cell_type": "code",
   "execution_count": 56,
   "metadata": {
    "collapsed": false
   },
   "outputs": [
    {
     "ename": "ValueError",
     "evalue": "invalid literal for long() with base 10: '167175597.0'",
     "output_type": "error",
     "traceback": [
      "\u001b[0;31m---------------------------------------------------------------------------\u001b[0m",
      "\u001b[0;31mValueError\u001b[0m                                Traceback (most recent call last)",
      "\u001b[0;32m<ipython-input-56-972bc750ee5b>\u001b[0m in \u001b[0;36m<module>\u001b[0;34m()\u001b[0m\n\u001b[0;32m----> 1\u001b[0;31m \u001b[0mdf_down\u001b[0m\u001b[0;34m[\u001b[0m\u001b[0;34m'uid'\u001b[0m\u001b[0;34m]\u001b[0m \u001b[0;34m=\u001b[0m \u001b[0mdf_down\u001b[0m\u001b[0;34m[\u001b[0m\u001b[0;34m'uid'\u001b[0m\u001b[0;34m]\u001b[0m\u001b[0;34m.\u001b[0m\u001b[0mastype\u001b[0m\u001b[0;34m(\u001b[0m\u001b[0mint\u001b[0m\u001b[0;34m)\u001b[0m\u001b[0;34m\u001b[0m\u001b[0m\n\u001b[0m\u001b[1;32m      2\u001b[0m \u001b[0mdf_down\u001b[0m\u001b[0;34m[\u001b[0m\u001b[0;34m'device'\u001b[0m\u001b[0;34m]\u001b[0m \u001b[0;34m=\u001b[0m \u001b[0mdf_down\u001b[0m\u001b[0;34m[\u001b[0m\u001b[0;34m'device'\u001b[0m\u001b[0;34m]\u001b[0m\u001b[0;34m.\u001b[0m\u001b[0mastype\u001b[0m\u001b[0;34m(\u001b[0m\u001b[0mstr\u001b[0m\u001b[0;34m)\u001b[0m\u001b[0;34m\u001b[0m\u001b[0m\n\u001b[1;32m      3\u001b[0m \u001b[0mdf_down\u001b[0m\u001b[0;34m[\u001b[0m\u001b[0;34m'song_id'\u001b[0m\u001b[0;34m]\u001b[0m \u001b[0;34m=\u001b[0m \u001b[0mdf_down\u001b[0m\u001b[0;34m[\u001b[0m\u001b[0;34m'song_id'\u001b[0m\u001b[0;34m]\u001b[0m\u001b[0;34m.\u001b[0m\u001b[0mastype\u001b[0m\u001b[0;34m(\u001b[0m\u001b[0mstr\u001b[0m\u001b[0;34m)\u001b[0m\u001b[0;34m\u001b[0m\u001b[0m\n\u001b[1;32m      4\u001b[0m \u001b[0mdf_down\u001b[0m\u001b[0;34m[\u001b[0m\u001b[0;34m'song_name'\u001b[0m\u001b[0;34m]\u001b[0m \u001b[0;34m=\u001b[0m \u001b[0mdf_down\u001b[0m\u001b[0;34m[\u001b[0m\u001b[0;34m'song_name'\u001b[0m\u001b[0;34m]\u001b[0m\u001b[0;34m.\u001b[0m\u001b[0mastype\u001b[0m\u001b[0;34m(\u001b[0m\u001b[0mstr\u001b[0m\u001b[0;34m)\u001b[0m\u001b[0;34m\u001b[0m\u001b[0m\n\u001b[1;32m      5\u001b[0m \u001b[0mdf_down\u001b[0m\u001b[0;34m[\u001b[0m\u001b[0;34m'singer'\u001b[0m\u001b[0;34m]\u001b[0m \u001b[0;34m=\u001b[0m \u001b[0mdf_down\u001b[0m\u001b[0;34m[\u001b[0m\u001b[0;34m'singer'\u001b[0m\u001b[0;34m]\u001b[0m\u001b[0;34m.\u001b[0m\u001b[0mastype\u001b[0m\u001b[0;34m(\u001b[0m\u001b[0mstr\u001b[0m\u001b[0;34m)\u001b[0m\u001b[0;34m\u001b[0m\u001b[0m\n",
      "\u001b[0;32m/Users/GundamOO/anaconda/envs/gl-env/lib/python2.7/site-packages/pandas/core/generic.pyc\u001b[0m in \u001b[0;36mastype\u001b[0;34m(self, dtype, copy, raise_on_error, **kwargs)\u001b[0m\n\u001b[1;32m   2945\u001b[0m \u001b[0;34m\u001b[0m\u001b[0m\n\u001b[1;32m   2946\u001b[0m         mgr = self._data.astype(dtype=dtype, copy=copy,\n\u001b[0;32m-> 2947\u001b[0;31m                                 raise_on_error=raise_on_error, **kwargs)\n\u001b[0m\u001b[1;32m   2948\u001b[0m         \u001b[0;32mreturn\u001b[0m \u001b[0mself\u001b[0m\u001b[0;34m.\u001b[0m\u001b[0m_constructor\u001b[0m\u001b[0;34m(\u001b[0m\u001b[0mmgr\u001b[0m\u001b[0;34m)\u001b[0m\u001b[0;34m.\u001b[0m\u001b[0m__finalize__\u001b[0m\u001b[0;34m(\u001b[0m\u001b[0mself\u001b[0m\u001b[0;34m)\u001b[0m\u001b[0;34m\u001b[0m\u001b[0m\n\u001b[1;32m   2949\u001b[0m \u001b[0;34m\u001b[0m\u001b[0m\n",
      "\u001b[0;32m/Users/GundamOO/anaconda/envs/gl-env/lib/python2.7/site-packages/pandas/core/internals.pyc\u001b[0m in \u001b[0;36mastype\u001b[0;34m(self, dtype, **kwargs)\u001b[0m\n\u001b[1;32m   2871\u001b[0m \u001b[0;34m\u001b[0m\u001b[0m\n\u001b[1;32m   2872\u001b[0m     \u001b[0;32mdef\u001b[0m \u001b[0mastype\u001b[0m\u001b[0;34m(\u001b[0m\u001b[0mself\u001b[0m\u001b[0;34m,\u001b[0m \u001b[0mdtype\u001b[0m\u001b[0;34m,\u001b[0m \u001b[0;34m**\u001b[0m\u001b[0mkwargs\u001b[0m\u001b[0;34m)\u001b[0m\u001b[0;34m:\u001b[0m\u001b[0;34m\u001b[0m\u001b[0m\n\u001b[0;32m-> 2873\u001b[0;31m         \u001b[0;32mreturn\u001b[0m \u001b[0mself\u001b[0m\u001b[0;34m.\u001b[0m\u001b[0mapply\u001b[0m\u001b[0;34m(\u001b[0m\u001b[0;34m'astype'\u001b[0m\u001b[0;34m,\u001b[0m \u001b[0mdtype\u001b[0m\u001b[0;34m=\u001b[0m\u001b[0mdtype\u001b[0m\u001b[0;34m,\u001b[0m \u001b[0;34m**\u001b[0m\u001b[0mkwargs\u001b[0m\u001b[0;34m)\u001b[0m\u001b[0;34m\u001b[0m\u001b[0m\n\u001b[0m\u001b[1;32m   2874\u001b[0m \u001b[0;34m\u001b[0m\u001b[0m\n\u001b[1;32m   2875\u001b[0m     \u001b[0;32mdef\u001b[0m \u001b[0mconvert\u001b[0m\u001b[0;34m(\u001b[0m\u001b[0mself\u001b[0m\u001b[0;34m,\u001b[0m \u001b[0;34m**\u001b[0m\u001b[0mkwargs\u001b[0m\u001b[0;34m)\u001b[0m\u001b[0;34m:\u001b[0m\u001b[0;34m\u001b[0m\u001b[0m\n",
      "\u001b[0;32m/Users/GundamOO/anaconda/envs/gl-env/lib/python2.7/site-packages/pandas/core/internals.pyc\u001b[0m in \u001b[0;36mapply\u001b[0;34m(self, f, axes, filter, do_integrity_check, consolidate, **kwargs)\u001b[0m\n\u001b[1;32m   2830\u001b[0m \u001b[0;34m\u001b[0m\u001b[0m\n\u001b[1;32m   2831\u001b[0m             \u001b[0mkwargs\u001b[0m\u001b[0;34m[\u001b[0m\u001b[0;34m'mgr'\u001b[0m\u001b[0;34m]\u001b[0m \u001b[0;34m=\u001b[0m \u001b[0mself\u001b[0m\u001b[0;34m\u001b[0m\u001b[0m\n\u001b[0;32m-> 2832\u001b[0;31m             \u001b[0mapplied\u001b[0m \u001b[0;34m=\u001b[0m \u001b[0mgetattr\u001b[0m\u001b[0;34m(\u001b[0m\u001b[0mb\u001b[0m\u001b[0;34m,\u001b[0m \u001b[0mf\u001b[0m\u001b[0;34m)\u001b[0m\u001b[0;34m(\u001b[0m\u001b[0;34m**\u001b[0m\u001b[0mkwargs\u001b[0m\u001b[0;34m)\u001b[0m\u001b[0;34m\u001b[0m\u001b[0m\n\u001b[0m\u001b[1;32m   2833\u001b[0m             \u001b[0mresult_blocks\u001b[0m \u001b[0;34m=\u001b[0m \u001b[0m_extend_blocks\u001b[0m\u001b[0;34m(\u001b[0m\u001b[0mapplied\u001b[0m\u001b[0;34m,\u001b[0m \u001b[0mresult_blocks\u001b[0m\u001b[0;34m)\u001b[0m\u001b[0;34m\u001b[0m\u001b[0m\n\u001b[1;32m   2834\u001b[0m \u001b[0;34m\u001b[0m\u001b[0m\n",
      "\u001b[0;32m/Users/GundamOO/anaconda/envs/gl-env/lib/python2.7/site-packages/pandas/core/internals.pyc\u001b[0m in \u001b[0;36mastype\u001b[0;34m(self, dtype, copy, raise_on_error, values, **kwargs)\u001b[0m\n\u001b[1;32m    420\u001b[0m                **kwargs):\n\u001b[1;32m    421\u001b[0m         return self._astype(dtype, copy=copy, raise_on_error=raise_on_error,\n\u001b[0;32m--> 422\u001b[0;31m                             values=values, **kwargs)\n\u001b[0m\u001b[1;32m    423\u001b[0m \u001b[0;34m\u001b[0m\u001b[0m\n\u001b[1;32m    424\u001b[0m     def _astype(self, dtype, copy=False, raise_on_error=True, values=None,\n",
      "\u001b[0;32m/Users/GundamOO/anaconda/envs/gl-env/lib/python2.7/site-packages/pandas/core/internals.pyc\u001b[0m in \u001b[0;36m_astype\u001b[0;34m(self, dtype, copy, raise_on_error, values, klass, mgr, **kwargs)\u001b[0m\n\u001b[1;32m    463\u001b[0m \u001b[0;34m\u001b[0m\u001b[0m\n\u001b[1;32m    464\u001b[0m                 \u001b[0;31m# _astype_nansafe works fine with 1-d only\u001b[0m\u001b[0;34m\u001b[0m\u001b[0;34m\u001b[0m\u001b[0m\n\u001b[0;32m--> 465\u001b[0;31m                 \u001b[0mvalues\u001b[0m \u001b[0;34m=\u001b[0m \u001b[0mcom\u001b[0m\u001b[0;34m.\u001b[0m\u001b[0m_astype_nansafe\u001b[0m\u001b[0;34m(\u001b[0m\u001b[0mvalues\u001b[0m\u001b[0;34m.\u001b[0m\u001b[0mravel\u001b[0m\u001b[0;34m(\u001b[0m\u001b[0;34m)\u001b[0m\u001b[0;34m,\u001b[0m \u001b[0mdtype\u001b[0m\u001b[0;34m,\u001b[0m \u001b[0mcopy\u001b[0m\u001b[0;34m=\u001b[0m\u001b[0mTrue\u001b[0m\u001b[0;34m)\u001b[0m\u001b[0;34m\u001b[0m\u001b[0m\n\u001b[0m\u001b[1;32m    466\u001b[0m                 \u001b[0mvalues\u001b[0m \u001b[0;34m=\u001b[0m \u001b[0mvalues\u001b[0m\u001b[0;34m.\u001b[0m\u001b[0mreshape\u001b[0m\u001b[0;34m(\u001b[0m\u001b[0mself\u001b[0m\u001b[0;34m.\u001b[0m\u001b[0mshape\u001b[0m\u001b[0;34m)\u001b[0m\u001b[0;34m\u001b[0m\u001b[0m\n\u001b[1;32m    467\u001b[0m \u001b[0;34m\u001b[0m\u001b[0m\n",
      "\u001b[0;32m/Users/GundamOO/anaconda/envs/gl-env/lib/python2.7/site-packages/pandas/core/common.pyc\u001b[0m in \u001b[0;36m_astype_nansafe\u001b[0;34m(arr, dtype, copy)\u001b[0m\n\u001b[1;32m   2626\u001b[0m     \u001b[0;32melif\u001b[0m \u001b[0marr\u001b[0m\u001b[0;34m.\u001b[0m\u001b[0mdtype\u001b[0m \u001b[0;34m==\u001b[0m \u001b[0mnp\u001b[0m\u001b[0;34m.\u001b[0m\u001b[0mobject_\u001b[0m \u001b[0;32mand\u001b[0m \u001b[0mnp\u001b[0m\u001b[0;34m.\u001b[0m\u001b[0missubdtype\u001b[0m\u001b[0;34m(\u001b[0m\u001b[0mdtype\u001b[0m\u001b[0;34m.\u001b[0m\u001b[0mtype\u001b[0m\u001b[0;34m,\u001b[0m \u001b[0mnp\u001b[0m\u001b[0;34m.\u001b[0m\u001b[0minteger\u001b[0m\u001b[0;34m)\u001b[0m\u001b[0;34m:\u001b[0m\u001b[0;34m\u001b[0m\u001b[0m\n\u001b[1;32m   2627\u001b[0m         \u001b[0;31m# work around NumPy brokenness, #1987\u001b[0m\u001b[0;34m\u001b[0m\u001b[0;34m\u001b[0m\u001b[0m\n\u001b[0;32m-> 2628\u001b[0;31m         \u001b[0;32mreturn\u001b[0m \u001b[0mlib\u001b[0m\u001b[0;34m.\u001b[0m\u001b[0mastype_intsafe\u001b[0m\u001b[0;34m(\u001b[0m\u001b[0marr\u001b[0m\u001b[0;34m.\u001b[0m\u001b[0mravel\u001b[0m\u001b[0;34m(\u001b[0m\u001b[0;34m)\u001b[0m\u001b[0;34m,\u001b[0m \u001b[0mdtype\u001b[0m\u001b[0;34m)\u001b[0m\u001b[0;34m.\u001b[0m\u001b[0mreshape\u001b[0m\u001b[0;34m(\u001b[0m\u001b[0marr\u001b[0m\u001b[0;34m.\u001b[0m\u001b[0mshape\u001b[0m\u001b[0;34m)\u001b[0m\u001b[0;34m\u001b[0m\u001b[0m\n\u001b[0m\u001b[1;32m   2629\u001b[0m \u001b[0;34m\u001b[0m\u001b[0m\n\u001b[1;32m   2630\u001b[0m     \u001b[0;32mif\u001b[0m \u001b[0mcopy\u001b[0m\u001b[0;34m:\u001b[0m\u001b[0;34m\u001b[0m\u001b[0m\n",
      "\u001b[0;32mpandas/lib.pyx\u001b[0m in \u001b[0;36mpandas.lib.astype_intsafe (pandas/lib.c:16620)\u001b[0;34m()\u001b[0m\n",
      "\u001b[0;32mpandas/src/util.pxd\u001b[0m in \u001b[0;36mutil.set_value_at (pandas/lib.c:67979)\u001b[0;34m()\u001b[0m\n",
      "\u001b[0;31mValueError\u001b[0m: invalid literal for long() with base 10: '167175597.0'"
     ]
    }
   ],
   "source": [
    "df_down['uid'] = df_down['uid'].astype(int)\n",
    "df_down['device'] = df_down['device'].astype(str)\n",
    "df_down['song_id'] = df_down['song_id'].astype(str)\n",
    "df_down['song_name'] = df_down['song_name'].astype(str)\n",
    "df_down['singer'] = df_down['singer'].astype(str)"
   ]
  },
  {
   "cell_type": "code",
   "execution_count": null,
   "metadata": {
    "collapsed": true
   },
   "outputs": [],
   "source": []
  },
  {
   "cell_type": "markdown",
   "metadata": {},
   "source": [
    "## Recommend songs based on song_type"
   ]
  },
  {
   "cell_type": "code",
   "execution_count": 57,
   "metadata": {
    "collapsed": false
   },
   "outputs": [
    {
     "ename": "TypeError",
     "evalue": "A common type cannot be infered from types integer, string.",
     "output_type": "error",
     "traceback": [
      "\u001b[0;31m---------------------------------------------------------------------------\u001b[0m",
      "\u001b[0;31mTypeError\u001b[0m                                 Traceback (most recent call last)",
      "\u001b[0;32m<ipython-input-57-e3813ed2c8e3>\u001b[0m in \u001b[0;36m<module>\u001b[0;34m()\u001b[0m\n\u001b[0;32m----> 1\u001b[0;31m \u001b[0msf_down_for_rec_on_song_name\u001b[0m \u001b[0;34m=\u001b[0m \u001b[0mgraphlab\u001b[0m\u001b[0;34m.\u001b[0m\u001b[0mSFrame\u001b[0m\u001b[0;34m(\u001b[0m\u001b[0mdf_down\u001b[0m\u001b[0;34m)\u001b[0m\u001b[0;34m\u001b[0m\u001b[0m\n\u001b[0m\u001b[1;32m      2\u001b[0m \u001b[0msf_down_for_rec_on_song_name\u001b[0m\u001b[0;34m.\u001b[0m\u001b[0mhead\u001b[0m\u001b[0;34m(\u001b[0m\u001b[0;34m)\u001b[0m\u001b[0;34m\u001b[0m\u001b[0m\n",
      "\u001b[0;32m/Users/GundamOO/anaconda/envs/gl-env/lib/python2.7/site-packages/graphlab/data_structures/sframe.pyc\u001b[0m in \u001b[0;36m__init__\u001b[0;34m(self, data, format, _proxy)\u001b[0m\n\u001b[1;32m    951\u001b[0m                     \u001b[0;32mpass\u001b[0m\u001b[0;34m\u001b[0m\u001b[0m\n\u001b[1;32m    952\u001b[0m                 \u001b[0;32melse\u001b[0m\u001b[0;34m:\u001b[0m\u001b[0;34m\u001b[0m\u001b[0m\n\u001b[0;32m--> 953\u001b[0;31m                     \u001b[0;32mraise\u001b[0m \u001b[0mValueError\u001b[0m\u001b[0;34m(\u001b[0m\u001b[0;34m'Unknown input type: '\u001b[0m \u001b[0;34m+\u001b[0m \u001b[0mformat\u001b[0m\u001b[0;34m)\u001b[0m\u001b[0;34m\u001b[0m\u001b[0m\n\u001b[0m\u001b[1;32m    954\u001b[0m \u001b[0;34m\u001b[0m\u001b[0m\n\u001b[1;32m    955\u001b[0m         \u001b[0msframe_size\u001b[0m \u001b[0;34m=\u001b[0m \u001b[0;34m-\u001b[0m\u001b[0;36m1\u001b[0m\u001b[0;34m\u001b[0m\u001b[0m\n",
      "\u001b[0;32m/Users/GundamOO/anaconda/envs/gl-env/lib/python2.7/site-packages/graphlab/cython/context.pyc\u001b[0m in \u001b[0;36m__exit__\u001b[0;34m(self, exc_type, exc_value, traceback)\u001b[0m\n\u001b[1;32m     47\u001b[0m             \u001b[0;32mif\u001b[0m \u001b[0;32mnot\u001b[0m \u001b[0mself\u001b[0m\u001b[0;34m.\u001b[0m\u001b[0mshow_cython_trace\u001b[0m\u001b[0;34m:\u001b[0m\u001b[0;34m\u001b[0m\u001b[0m\n\u001b[1;32m     48\u001b[0m                 \u001b[0;31m# To hide cython trace, we re-raise from here\u001b[0m\u001b[0;34m\u001b[0m\u001b[0;34m\u001b[0m\u001b[0m\n\u001b[0;32m---> 49\u001b[0;31m                 \u001b[0;32mraise\u001b[0m \u001b[0mexc_type\u001b[0m\u001b[0;34m(\u001b[0m\u001b[0mexc_value\u001b[0m\u001b[0;34m)\u001b[0m\u001b[0;34m\u001b[0m\u001b[0m\n\u001b[0m\u001b[1;32m     50\u001b[0m             \u001b[0;32melse\u001b[0m\u001b[0;34m:\u001b[0m\u001b[0;34m\u001b[0m\u001b[0m\n\u001b[1;32m     51\u001b[0m                 \u001b[0;31m# To show the full trace, we do nothing and let exception propagate\u001b[0m\u001b[0;34m\u001b[0m\u001b[0;34m\u001b[0m\u001b[0m\n",
      "\u001b[0;31mTypeError\u001b[0m: A common type cannot be infered from types integer, string."
     ]
    }
   ],
   "source": [
    "sf_down_for_rec_on_song_name = graphlab.SFrame(df_down)\n",
    "sf_down_for_rec_on_song_name.head()"
   ]
  },
  {
   "cell_type": "code",
   "execution_count": null,
   "metadata": {
    "collapsed": false
   },
   "outputs": [],
   "source": [
    "item_item_rec_on_song_type = graphlab.recommender.item_similarity_recommender.create(\n",
    "    sf_down_for_rec_on_song_type,\n",
    "    user_id = 'uid',\n",
    "    item_id = 'song_id',\n",
    "    target = 'song_name'\n",
    ")"
   ]
  },
  {
   "cell_type": "code",
   "execution_count": null,
   "metadata": {
    "collapsed": false
   },
   "outputs": [],
   "source": [
    "item_item_rec_on_song_type.summary()"
   ]
  },
  {
   "cell_type": "code",
   "execution_count": null,
   "metadata": {
    "collapsed": false
   },
   "outputs": [],
   "source": [
    "item_item_rec_on_song_type.get_similar_items()"
   ]
  },
  {
   "cell_type": "code",
   "execution_count": null,
   "metadata": {
    "collapsed": false
   },
   "outputs": [],
   "source": [
    "item_item_rec_on_song_type.recommend()"
   ]
  },
  {
   "cell_type": "code",
   "execution_count": null,
   "metadata": {
    "collapsed": false
   },
   "outputs": [],
   "source": []
  },
  {
   "cell_type": "code",
   "execution_count": null,
   "metadata": {
    "collapsed": true
   },
   "outputs": [],
   "source": []
  }
 ],
 "metadata": {
  "kernelspec": {
   "display_name": "Python 2",
   "language": "python",
   "name": "python2"
  },
  "language_info": {
   "codemirror_mode": {
    "name": "ipython",
    "version": 2
   },
   "file_extension": ".py",
   "mimetype": "text/x-python",
   "name": "python",
   "nbconvert_exporter": "python",
   "pygments_lexer": "ipython2",
   "version": "2.7.15"
  }
 },
 "nbformat": 4,
 "nbformat_minor": 1
}

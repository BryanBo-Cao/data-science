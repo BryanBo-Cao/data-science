{
 "cells": [
  {
   "cell_type": "markdown",
   "metadata": {},
   "source": [
    "# Objective 1: Churn Prediction"
   ]
  },
  {
   "cell_type": "markdown",
   "metadata": {},
   "source": [
    "## Objective 1.1 Validate dataset, identify missing values and find inconsistencies in the dataset."
   ]
  },
  {
   "cell_type": "markdown",
   "metadata": {},
   "source": [
    "## Get user id list and count"
   ]
  },
  {
   "cell_type": "code",
   "execution_count": 1,
   "metadata": {
    "collapsed": false
   },
   "outputs": [
    {
     "data": {
      "text/plain": [
       "0"
      ]
     },
     "execution_count": 1,
     "metadata": {},
     "output_type": "execute_result"
    }
   ],
   "source": [
    "# use shell script to count unique id (large file, slow)\n",
    "import os\n",
    "cmd=\"\"\"\n",
    "export LC_CTYPE=C \n",
    "export LANG=C\n",
    "# get uid field| sort | count unique ids | strip blank spaces | output to file\n",
    "cat ../data/play/all_play_log| cut -f1 -d$'\\t'| sort | uniq -c | sed -e 's/^ *//g;s/ *$//g'> ../data/uid_count.csv\n",
    "\"\"\"\n",
    "os.system(cmd)"
   ]
  },
  {
   "cell_type": "code",
   "execution_count": 2,
   "metadata": {
    "collapsed": false
   },
   "outputs": [],
   "source": [
    "import numpy as np\n",
    "import pandas as pd"
   ]
  },
  {
   "cell_type": "code",
   "execution_count": 3,
   "metadata": {
    "collapsed": true
   },
   "outputs": [],
   "source": [
    "df = pd.read_csv('../data/uid_count.csv',sep='\\s+', names=['count','uid'])"
   ]
  },
  {
   "cell_type": "code",
   "execution_count": 4,
   "metadata": {
    "collapsed": false
   },
   "outputs": [
    {
     "name": "stdout",
     "output_type": "stream",
     "text": [
      "<class 'pandas.core.frame.DataFrame'>\n",
      "RangeIndex: 594735 entries, 0 to 594734\n",
      "Data columns (total 2 columns):\n",
      "count    594735 non-null int64\n",
      "uid      594734 non-null float64\n",
      "dtypes: float64(1), int64(1)\n",
      "memory usage: 9.1 MB\n"
     ]
    }
   ],
   "source": [
    "df.info()"
   ]
  },
  {
   "cell_type": "code",
   "execution_count": 5,
   "metadata": {
    "collapsed": false
   },
   "outputs": [
    {
     "data": {
      "text/html": [
       "<div>\n",
       "<table border=\"1\" class=\"dataframe\">\n",
       "  <thead>\n",
       "    <tr style=\"text-align: right;\">\n",
       "      <th></th>\n",
       "      <th>count</th>\n",
       "      <th>uid</th>\n",
       "    </tr>\n",
       "  </thead>\n",
       "  <tbody>\n",
       "    <tr>\n",
       "      <th>count</th>\n",
       "      <td>5.947350e+05</td>\n",
       "      <td>5.947340e+05</td>\n",
       "    </tr>\n",
       "    <tr>\n",
       "      <th>mean</th>\n",
       "      <td>2.460525e+02</td>\n",
       "      <td>1.673628e+08</td>\n",
       "    </tr>\n",
       "    <tr>\n",
       "      <th>std</th>\n",
       "      <td>1.526662e+04</td>\n",
       "      <td>1.047142e+07</td>\n",
       "    </tr>\n",
       "    <tr>\n",
       "      <th>min</th>\n",
       "      <td>1.000000e+00</td>\n",
       "      <td>0.000000e+00</td>\n",
       "    </tr>\n",
       "    <tr>\n",
       "      <th>25%</th>\n",
       "      <td>9.000000e+00</td>\n",
       "      <td>1.680262e+08</td>\n",
       "    </tr>\n",
       "    <tr>\n",
       "      <th>50%</th>\n",
       "      <td>4.000000e+01</td>\n",
       "      <td>1.684782e+08</td>\n",
       "    </tr>\n",
       "    <tr>\n",
       "      <th>75%</th>\n",
       "      <td>1.740000e+02</td>\n",
       "      <td>1.687685e+08</td>\n",
       "    </tr>\n",
       "    <tr>\n",
       "      <th>max</th>\n",
       "      <td>7.501794e+06</td>\n",
       "      <td>1.692623e+08</td>\n",
       "    </tr>\n",
       "  </tbody>\n",
       "</table>\n",
       "</div>"
      ],
      "text/plain": [
       "              count           uid\n",
       "count  5.947350e+05  5.947340e+05\n",
       "mean   2.460525e+02  1.673628e+08\n",
       "std    1.526662e+04  1.047142e+07\n",
       "min    1.000000e+00  0.000000e+00\n",
       "25%    9.000000e+00  1.680262e+08\n",
       "50%    4.000000e+01  1.684782e+08\n",
       "75%    1.740000e+02  1.687685e+08\n",
       "max    7.501794e+06  1.692623e+08"
      ]
     },
     "execution_count": 5,
     "metadata": {},
     "output_type": "execute_result"
    }
   ],
   "source": [
    "df.describe()"
   ]
  },
  {
   "cell_type": "markdown",
   "metadata": {},
   "source": [
    "## Objective 1.2 Perform data cleaning and transformation, feature engineering."
   ]
  },
  {
   "cell_type": "code",
   "execution_count": 6,
   "metadata": {
    "collapsed": false
   },
   "outputs": [
    {
     "data": {
      "text/html": [
       "<div>\n",
       "<table border=\"1\" class=\"dataframe\">\n",
       "  <thead>\n",
       "    <tr style=\"text-align: right;\">\n",
       "      <th></th>\n",
       "      <th>count</th>\n",
       "      <th>uid</th>\n",
       "    </tr>\n",
       "  </thead>\n",
       "  <tbody>\n",
       "    <tr>\n",
       "      <th>0</th>\n",
       "      <td>False</td>\n",
       "      <td>True</td>\n",
       "    </tr>\n",
       "    <tr>\n",
       "      <th>1</th>\n",
       "      <td>False</td>\n",
       "      <td>False</td>\n",
       "    </tr>\n",
       "    <tr>\n",
       "      <th>2</th>\n",
       "      <td>False</td>\n",
       "      <td>False</td>\n",
       "    </tr>\n",
       "    <tr>\n",
       "      <th>3</th>\n",
       "      <td>False</td>\n",
       "      <td>False</td>\n",
       "    </tr>\n",
       "    <tr>\n",
       "      <th>4</th>\n",
       "      <td>False</td>\n",
       "      <td>False</td>\n",
       "    </tr>\n",
       "  </tbody>\n",
       "</table>\n",
       "</div>"
      ],
      "text/plain": [
       "   count    uid\n",
       "0  False   True\n",
       "1  False  False\n",
       "2  False  False\n",
       "3  False  False\n",
       "4  False  False"
      ]
     },
     "execution_count": 6,
     "metadata": {},
     "output_type": "execute_result"
    }
   ],
   "source": [
    "df.isnull().head(5)"
   ]
  },
  {
   "cell_type": "code",
   "execution_count": 7,
   "metadata": {
    "collapsed": false
   },
   "outputs": [
    {
     "data": {
      "text/plain": [
       "count    0\n",
       "uid      1\n",
       "dtype: int64"
      ]
     },
     "execution_count": 7,
     "metadata": {},
     "output_type": "execute_result"
    }
   ],
   "source": [
    "df.isnull().sum()"
   ]
  },
  {
   "cell_type": "markdown",
   "metadata": {},
   "source": [
    "### Imputing missing values.\n",
    "Notice that one uid is missing. Fill the missing data with the corresponding mean."
   ]
  },
  {
   "cell_type": "code",
   "execution_count": 8,
   "metadata": {
    "collapsed": false
   },
   "outputs": [
    {
     "data": {
      "text/html": [
       "<div>\n",
       "<table border=\"1\" class=\"dataframe\">\n",
       "  <thead>\n",
       "    <tr style=\"text-align: right;\">\n",
       "      <th></th>\n",
       "      <th>count</th>\n",
       "      <th>uid</th>\n",
       "    </tr>\n",
       "  </thead>\n",
       "  <tbody>\n",
       "    <tr>\n",
       "      <th>0</th>\n",
       "      <td>2</td>\n",
       "      <td>0.0</td>\n",
       "    </tr>\n",
       "    <tr>\n",
       "      <th>1</th>\n",
       "      <td>1167848</td>\n",
       "      <td>0.0</td>\n",
       "    </tr>\n",
       "    <tr>\n",
       "      <th>2</th>\n",
       "      <td>2</td>\n",
       "      <td>100002491.0</td>\n",
       "    </tr>\n",
       "    <tr>\n",
       "      <th>3</th>\n",
       "      <td>56</td>\n",
       "      <td>100052111.0</td>\n",
       "    </tr>\n",
       "    <tr>\n",
       "      <th>4</th>\n",
       "      <td>9</td>\n",
       "      <td>100071797.0</td>\n",
       "    </tr>\n",
       "    <tr>\n",
       "      <th>5</th>\n",
       "      <td>17</td>\n",
       "      <td>100077577.0</td>\n",
       "    </tr>\n",
       "    <tr>\n",
       "      <th>6</th>\n",
       "      <td>136</td>\n",
       "      <td>100077978.0</td>\n",
       "    </tr>\n",
       "    <tr>\n",
       "      <th>7</th>\n",
       "      <td>1346</td>\n",
       "      <td>100087237.0</td>\n",
       "    </tr>\n",
       "    <tr>\n",
       "      <th>8</th>\n",
       "      <td>84</td>\n",
       "      <td>100102865.0</td>\n",
       "    </tr>\n",
       "    <tr>\n",
       "      <th>9</th>\n",
       "      <td>4</td>\n",
       "      <td>100107633.0</td>\n",
       "    </tr>\n",
       "    <tr>\n",
       "      <th>10</th>\n",
       "      <td>106</td>\n",
       "      <td>100139083.0</td>\n",
       "    </tr>\n",
       "    <tr>\n",
       "      <th>11</th>\n",
       "      <td>484</td>\n",
       "      <td>100157378.0</td>\n",
       "    </tr>\n",
       "    <tr>\n",
       "      <th>12</th>\n",
       "      <td>1</td>\n",
       "      <td>100202448.0</td>\n",
       "    </tr>\n",
       "    <tr>\n",
       "      <th>13</th>\n",
       "      <td>270</td>\n",
       "      <td>100202712.0</td>\n",
       "    </tr>\n",
       "    <tr>\n",
       "      <th>14</th>\n",
       "      <td>16</td>\n",
       "      <td>100223381.0</td>\n",
       "    </tr>\n",
       "    <tr>\n",
       "      <th>15</th>\n",
       "      <td>4</td>\n",
       "      <td>100227405.0</td>\n",
       "    </tr>\n",
       "    <tr>\n",
       "      <th>16</th>\n",
       "      <td>22</td>\n",
       "      <td>100245413.0</td>\n",
       "    </tr>\n",
       "    <tr>\n",
       "      <th>17</th>\n",
       "      <td>3</td>\n",
       "      <td>100275411.0</td>\n",
       "    </tr>\n",
       "    <tr>\n",
       "      <th>18</th>\n",
       "      <td>16</td>\n",
       "      <td>100328129.0</td>\n",
       "    </tr>\n",
       "    <tr>\n",
       "      <th>19</th>\n",
       "      <td>2</td>\n",
       "      <td>100362850.0</td>\n",
       "    </tr>\n",
       "    <tr>\n",
       "      <th>20</th>\n",
       "      <td>411</td>\n",
       "      <td>100415077.0</td>\n",
       "    </tr>\n",
       "    <tr>\n",
       "      <th>21</th>\n",
       "      <td>101</td>\n",
       "      <td>100419770.0</td>\n",
       "    </tr>\n",
       "    <tr>\n",
       "      <th>22</th>\n",
       "      <td>1</td>\n",
       "      <td>10046311.0</td>\n",
       "    </tr>\n",
       "    <tr>\n",
       "      <th>23</th>\n",
       "      <td>1170</td>\n",
       "      <td>100474444.0</td>\n",
       "    </tr>\n",
       "    <tr>\n",
       "      <th>24</th>\n",
       "      <td>26</td>\n",
       "      <td>100517792.0</td>\n",
       "    </tr>\n",
       "    <tr>\n",
       "      <th>25</th>\n",
       "      <td>958</td>\n",
       "      <td>100549339.0</td>\n",
       "    </tr>\n",
       "    <tr>\n",
       "      <th>26</th>\n",
       "      <td>20</td>\n",
       "      <td>100581940.0</td>\n",
       "    </tr>\n",
       "    <tr>\n",
       "      <th>27</th>\n",
       "      <td>660</td>\n",
       "      <td>100596698.0</td>\n",
       "    </tr>\n",
       "    <tr>\n",
       "      <th>28</th>\n",
       "      <td>48</td>\n",
       "      <td>100631660.0</td>\n",
       "    </tr>\n",
       "    <tr>\n",
       "      <th>29</th>\n",
       "      <td>59</td>\n",
       "      <td>100643313.0</td>\n",
       "    </tr>\n",
       "    <tr>\n",
       "      <th>...</th>\n",
       "      <td>...</td>\n",
       "      <td>...</td>\n",
       "    </tr>\n",
       "    <tr>\n",
       "      <th>594705</th>\n",
       "      <td>41</td>\n",
       "      <td>9920471.0</td>\n",
       "    </tr>\n",
       "    <tr>\n",
       "      <th>594706</th>\n",
       "      <td>102</td>\n",
       "      <td>99259404.0</td>\n",
       "    </tr>\n",
       "    <tr>\n",
       "      <th>594707</th>\n",
       "      <td>1173</td>\n",
       "      <td>9929934.0</td>\n",
       "    </tr>\n",
       "    <tr>\n",
       "      <th>594708</th>\n",
       "      <td>18</td>\n",
       "      <td>99306221.0</td>\n",
       "    </tr>\n",
       "    <tr>\n",
       "      <th>594709</th>\n",
       "      <td>3</td>\n",
       "      <td>99331872.0</td>\n",
       "    </tr>\n",
       "    <tr>\n",
       "      <th>594710</th>\n",
       "      <td>2037</td>\n",
       "      <td>99337321.0</td>\n",
       "    </tr>\n",
       "    <tr>\n",
       "      <th>594711</th>\n",
       "      <td>1</td>\n",
       "      <td>99370487.0</td>\n",
       "    </tr>\n",
       "    <tr>\n",
       "      <th>594712</th>\n",
       "      <td>285</td>\n",
       "      <td>99387196.0</td>\n",
       "    </tr>\n",
       "    <tr>\n",
       "      <th>594713</th>\n",
       "      <td>1</td>\n",
       "      <td>99436434.0</td>\n",
       "    </tr>\n",
       "    <tr>\n",
       "      <th>594714</th>\n",
       "      <td>127</td>\n",
       "      <td>99440434.0</td>\n",
       "    </tr>\n",
       "    <tr>\n",
       "      <th>594715</th>\n",
       "      <td>1761</td>\n",
       "      <td>99517142.0</td>\n",
       "    </tr>\n",
       "    <tr>\n",
       "      <th>594716</th>\n",
       "      <td>18</td>\n",
       "      <td>99523675.0</td>\n",
       "    </tr>\n",
       "    <tr>\n",
       "      <th>594717</th>\n",
       "      <td>8</td>\n",
       "      <td>99532742.0</td>\n",
       "    </tr>\n",
       "    <tr>\n",
       "      <th>594718</th>\n",
       "      <td>5</td>\n",
       "      <td>99554908.0</td>\n",
       "    </tr>\n",
       "    <tr>\n",
       "      <th>594719</th>\n",
       "      <td>874</td>\n",
       "      <td>99556827.0</td>\n",
       "    </tr>\n",
       "    <tr>\n",
       "      <th>594720</th>\n",
       "      <td>136</td>\n",
       "      <td>99560754.0</td>\n",
       "    </tr>\n",
       "    <tr>\n",
       "      <th>594721</th>\n",
       "      <td>679</td>\n",
       "      <td>99581051.0</td>\n",
       "    </tr>\n",
       "    <tr>\n",
       "      <th>594722</th>\n",
       "      <td>606</td>\n",
       "      <td>99651190.0</td>\n",
       "    </tr>\n",
       "    <tr>\n",
       "      <th>594723</th>\n",
       "      <td>162</td>\n",
       "      <td>99689252.0</td>\n",
       "    </tr>\n",
       "    <tr>\n",
       "      <th>594724</th>\n",
       "      <td>5</td>\n",
       "      <td>99693228.0</td>\n",
       "    </tr>\n",
       "    <tr>\n",
       "      <th>594725</th>\n",
       "      <td>105</td>\n",
       "      <td>99694113.0</td>\n",
       "    </tr>\n",
       "    <tr>\n",
       "      <th>594726</th>\n",
       "      <td>28</td>\n",
       "      <td>99725077.0</td>\n",
       "    </tr>\n",
       "    <tr>\n",
       "      <th>594727</th>\n",
       "      <td>3549</td>\n",
       "      <td>99765326.0</td>\n",
       "    </tr>\n",
       "    <tr>\n",
       "      <th>594728</th>\n",
       "      <td>78</td>\n",
       "      <td>99800656.0</td>\n",
       "    </tr>\n",
       "    <tr>\n",
       "      <th>594729</th>\n",
       "      <td>40</td>\n",
       "      <td>99850419.0</td>\n",
       "    </tr>\n",
       "    <tr>\n",
       "      <th>594730</th>\n",
       "      <td>20</td>\n",
       "      <td>99899327.0</td>\n",
       "    </tr>\n",
       "    <tr>\n",
       "      <th>594731</th>\n",
       "      <td>8</td>\n",
       "      <td>99980028.0</td>\n",
       "    </tr>\n",
       "    <tr>\n",
       "      <th>594732</th>\n",
       "      <td>42</td>\n",
       "      <td>99995513.0</td>\n",
       "    </tr>\n",
       "    <tr>\n",
       "      <th>594733</th>\n",
       "      <td>227</td>\n",
       "      <td>99996283.0</td>\n",
       "    </tr>\n",
       "    <tr>\n",
       "      <th>594734</th>\n",
       "      <td>10</td>\n",
       "      <td>99997797.0</td>\n",
       "    </tr>\n",
       "  </tbody>\n",
       "</table>\n",
       "<p>594735 rows × 2 columns</p>\n",
       "</div>"
      ],
      "text/plain": [
       "          count          uid\n",
       "0             2          0.0\n",
       "1       1167848          0.0\n",
       "2             2  100002491.0\n",
       "3            56  100052111.0\n",
       "4             9  100071797.0\n",
       "5            17  100077577.0\n",
       "6           136  100077978.0\n",
       "7          1346  100087237.0\n",
       "8            84  100102865.0\n",
       "9             4  100107633.0\n",
       "10          106  100139083.0\n",
       "11          484  100157378.0\n",
       "12            1  100202448.0\n",
       "13          270  100202712.0\n",
       "14           16  100223381.0\n",
       "15            4  100227405.0\n",
       "16           22  100245413.0\n",
       "17            3  100275411.0\n",
       "18           16  100328129.0\n",
       "19            2  100362850.0\n",
       "20          411  100415077.0\n",
       "21          101  100419770.0\n",
       "22            1   10046311.0\n",
       "23         1170  100474444.0\n",
       "24           26  100517792.0\n",
       "25          958  100549339.0\n",
       "26           20  100581940.0\n",
       "27          660  100596698.0\n",
       "28           48  100631660.0\n",
       "29           59  100643313.0\n",
       "...         ...          ...\n",
       "594705       41    9920471.0\n",
       "594706      102   99259404.0\n",
       "594707     1173    9929934.0\n",
       "594708       18   99306221.0\n",
       "594709        3   99331872.0\n",
       "594710     2037   99337321.0\n",
       "594711        1   99370487.0\n",
       "594712      285   99387196.0\n",
       "594713        1   99436434.0\n",
       "594714      127   99440434.0\n",
       "594715     1761   99517142.0\n",
       "594716       18   99523675.0\n",
       "594717        8   99532742.0\n",
       "594718        5   99554908.0\n",
       "594719      874   99556827.0\n",
       "594720      136   99560754.0\n",
       "594721      679   99581051.0\n",
       "594722      606   99651190.0\n",
       "594723      162   99689252.0\n",
       "594724        5   99693228.0\n",
       "594725      105   99694113.0\n",
       "594726       28   99725077.0\n",
       "594727     3549   99765326.0\n",
       "594728       78   99800656.0\n",
       "594729       40   99850419.0\n",
       "594730       20   99899327.0\n",
       "594731        8   99980028.0\n",
       "594732       42   99995513.0\n",
       "594733      227   99996283.0\n",
       "594734       10   99997797.0\n",
       "\n",
       "[594735 rows x 2 columns]"
      ]
     },
     "execution_count": 8,
     "metadata": {},
     "output_type": "execute_result"
    }
   ],
   "source": [
    "df.fillna(0)"
   ]
  },
  {
   "cell_type": "code",
   "execution_count": null,
   "metadata": {
    "collapsed": true
   },
   "outputs": [],
   "source": []
  },
  {
   "cell_type": "markdown",
   "metadata": {},
   "source": [
    "## Remove bots and outliers"
   ]
  },
  {
   "cell_type": "code",
   "execution_count": 9,
   "metadata": {
    "collapsed": true
   },
   "outputs": [],
   "source": [
    "# We use matplotlib for plotting\n",
    "import matplotlib.pyplot as plt\n",
    "\n",
    "# This statement allow to display plot without asking to\n",
    "%matplotlib inline"
   ]
  },
  {
   "cell_type": "code",
   "execution_count": 10,
   "metadata": {
    "collapsed": false
   },
   "outputs": [
    {
     "data": {
      "text/plain": [
       "<matplotlib.text.Text at 0x10e084c50>"
      ]
     },
     "execution_count": 10,
     "metadata": {},
     "output_type": "execute_result"
    },
    {
     "data": {
      "image/png": "[encoded data removed]",
      "text/plain": [
       "<matplotlib.figure.Figure at 0x10218ad50>"
      ]
     },
     "metadata": {},
     "output_type": "display_data"
    }
   ],
   "source": [
    "np.log10(df['count']).plot.hist(bins=np.arange(0,5,0.2))\n",
    "plt.xlabel(\"user # plays (10^n)\")"
   ]
  },
  {
   "cell_type": "code",
   "execution_count": 11,
   "metadata": {
    "collapsed": false
   },
   "outputs": [
    {
     "name": "stdout",
     "output_type": "stream",
     "text": [
      "5195.394000000553\n"
     ]
    }
   ],
   "source": [
    "top_count_threshold = np.percentile(df['count'],99.9)\n",
    "print(top_count_threshold)"
   ]
  },
  {
   "cell_type": "code",
   "execution_count": 12,
   "metadata": {
    "collapsed": false
   },
   "outputs": [
    {
     "name": "stdout",
     "output_type": "stream",
     "text": [
      "('total number of users:', 594735)\n"
     ]
    }
   ],
   "source": [
    "print(\"total number of users:\",len(df['uid']))"
   ]
  },
  {
   "cell_type": "code",
   "execution_count": 13,
   "metadata": {
    "collapsed": true
   },
   "outputs": [],
   "source": [
    "# remove bots: get id with play counts<top_count_threshold\n",
    "id_list_bot_removed = np.array(df['uid'][df['count']<top_count_threshold].dropna())"
   ]
  },
  {
   "cell_type": "code",
   "execution_count": 14,
   "metadata": {
    "collapsed": false
   },
   "outputs": [
    {
     "name": "stdout",
     "output_type": "stream",
     "text": [
      "('total number of users after bot removed:', 594139)\n"
     ]
    }
   ],
   "source": [
    "print(\"total number of users after bot removed:\",len(id_list_bot_removed))"
   ]
  },
  {
   "cell_type": "markdown",
   "metadata": {},
   "source": [
    "# Apply downsample on uid level"
   ]
  },
  {
   "cell_type": "code",
   "execution_count": 15,
   "metadata": {
    "collapsed": true
   },
   "outputs": [],
   "source": [
    "# downsample ids\n",
    "np.random.seed = 1\n",
    "id_subset = set(id_list_bot_removed[np.random.random(id_list_bot_removed.shape)<0.1])"
   ]
  },
  {
   "cell_type": "code",
   "execution_count": 16,
   "metadata": {
    "collapsed": false
   },
   "outputs": [
    {
     "name": "stdout",
     "output_type": "stream",
     "text": [
      "('total number of users after down sample:', 59587)\n"
     ]
    }
   ],
   "source": [
    "print(\"total number of users after down sample:\",len(id_subset))"
   ]
  },
  {
   "cell_type": "code",
   "execution_count": 17,
   "metadata": {
    "collapsed": true
   },
   "outputs": [],
   "source": [
    "# define date conversion function\n",
    "import datetime\n",
    "def convert_date(s):\n",
    "    s = str(s).strip()\n",
    "    try:\n",
    "        year = int(s[:4])\n",
    "        month = int(s[4:6])\n",
    "        day = int(s[6:8])\n",
    "        return datetime.date(year,month,day)\n",
    "    except:\n",
    "        return None"
   ]
  },
  {
   "cell_type": "code",
   "execution_count": 18,
   "metadata": {
    "collapsed": false
   },
   "outputs": [
    {
     "data": {
      "text/plain": [
       "'\\nimport csv\\nimport codecs\\ninput_file = \\'../data/play/all_play_log\\'\\noutput_file = \\'../data/play_ds.csv\\'\\ninput_field_list = [\\'uid\\',\\'device\\',\\'song_id\\',\\'song_type\\',\\'song_name\\',\\'singer\\',\\'play_time\\',\\'song_length\\',\\'paid_flag\\',\\'date\\']\\noutput_field_list = [\\'uid\\',\\'device\\',\\'song_id\\',\\'date\\',\\'play_time\\',\\'song_length\\']\\ni=0\\n\\nimport sys\\nreload(sys)\\nsys.setdefaultencoding(\\'utf8\\')\\n\\n#with open(input_file,\\'r\\',encoding=\\'latin-1\\') as fin, open(output_file,\\'w\\') as fout:\\nwith codecs.open(input_file,\\'r\\',encoding=\\'latin-1\\') as fin, open(output_file,\\'w\\') as fout:\\n    csvin = csv.DictReader(fin,delimiter=\\'\\t\\',fieldnames=input_field_list,quoting=csv.QUOTE_NONE)\\n    csvout = csv.writer(fout,delimiter=\\',\\')\\n    csvout.writerow(output_field_list) # write header\\n    for row in csvin:\\n        i+=1\\n        if i%1000000==0:\\n            print(\"#row processed:\",i)\\n        try:\\n            int(row[\\'uid\\'])\\n        except:\\n            continue\\n        if int(row[\\'uid\\']) in id_subset:\\n            row[\\'date\\'] = convert_date(row[\\'date\\'])\\n            if row[\\'date\\'] != None: \\n                csvout.writerow([str(row[key]).strip() for key in output_field_list])\\n'"
      ]
     },
     "execution_count": 18,
     "metadata": {},
     "output_type": "execute_result"
    }
   ],
   "source": [
    "# down sample play by uid\n",
    "'''\n",
    "import csv\n",
    "import codecs\n",
    "input_file = '../data/play/all_play_log'\n",
    "output_file = '../data/play_ds.csv'\n",
    "input_field_list = ['uid','device','song_id','song_type','song_name','singer','play_time','song_length','paid_flag','date']\n",
    "output_field_list = ['uid','device','song_id','date','play_time','song_length']\n",
    "i=0\n",
    "\n",
    "import sys\n",
    "reload(sys)\n",
    "sys.setdefaultencoding('utf8')\n",
    "\n",
    "#with open(input_file,'r',encoding='latin-1') as fin, open(output_file,'w') as fout:\n",
    "with codecs.open(input_file,'r',encoding='latin-1') as fin, open(output_file,'w') as fout:\n",
    "    csvin = csv.DictReader(fin,delimiter='\\t',fieldnames=input_field_list,quoting=csv.QUOTE_NONE)\n",
    "    csvout = csv.writer(fout,delimiter=',')\n",
    "    csvout.writerow(output_field_list) # write header\n",
    "    for row in csvin:\n",
    "        i+=1\n",
    "        if i%1000000==0:\n",
    "            print(\"#row processed:\",i)\n",
    "        try:\n",
    "            int(row['uid'])\n",
    "        except:\n",
    "            continue\n",
    "        if int(row['uid']) in id_subset:\n",
    "            row['date'] = convert_date(row['date'])\n",
    "            if row['date'] != None: \n",
    "                csvout.writerow([str(row[key]).strip() for key in output_field_list])\n",
    "'''"
   ]
  },
  {
   "cell_type": "code",
   "execution_count": null,
   "metadata": {
    "collapsed": false
   },
   "outputs": [
    {
     "data": {
      "text/plain": [
       "'\\nimport csv\\nimport codecs\\ninput_file = \\'../data/down/all_down_log\\'\\noutput_file = \\'../data/down_ds.csv\\'\\ninput_field_list = [\\'uid\\',\\'device\\',\\'song_id\\',\\'song_name\\',\\'singer\\',\\'paid_flag\\',\\'date\\']\\noutput_field_list = [\\'uid\\',\\'device\\',\\'song_id\\',\\'date\\']\\ni=0\\n\\nimport sys\\nreload(sys)\\nsys.setdefaultencoding(\\'utf8\\')\\n\\n#with open(input_file,\\'r\\',encoding=\\'latin-1\\') as fin, open(output_file,\\'w\\') as fout:\\nwith codecs.open(input_file,\\'r\\',encoding=\\'latin-1\\') as fin, open(output_file,\\'w\\') as fout:\\n    csvin = csv.DictReader(fin,delimiter=\\'\\t\\',fieldnames=input_field_list,quoting=csv.QUOTE_NONE)\\n    csvout = csv.writer(fout,delimiter=\\',\\')\\n    csvout.writerow(output_field_list) # write header\\n    for row in csvin:\\n        i+=1\\n        if i%1000000==0:\\n            print(\"#row processed:\",i)\\n        try:\\n            int(row[\\'uid\\'])\\n        except:\\n            continue\\n        if int(row[\\'uid\\']) in id_subset:\\n            row[\\'date\\'] = convert_date(row[\\'date\\'])\\n            if row[\\'date\\'] != None: \\n                csvout.writerow([str(row[key]).strip() for key in output_field_list])\\n'"
      ]
     },
     "execution_count": 19,
     "metadata": {},
     "output_type": "execute_result"
    }
   ],
   "source": [
    "# down sample download by uid\n",
    "'''\n",
    "import csv\n",
    "import codecs\n",
    "input_file = '../data/down/all_down_log'\n",
    "output_file = '../data/down_ds.csv'\n",
    "input_field_list = ['uid','device','song_id','song_name','singer','paid_flag','date']\n",
    "output_field_list = ['uid','device','song_id','date']\n",
    "i=0\n",
    "\n",
    "import sys\n",
    "reload(sys)\n",
    "sys.setdefaultencoding('utf8')\n",
    "\n",
    "#with open(input_file,'r',encoding='latin-1') as fin, open(output_file,'w') as fout:\n",
    "with codecs.open(input_file,'r',encoding='latin-1') as fin, open(output_file,'w') as fout:\n",
    "    csvin = csv.DictReader(fin,delimiter='\\t',fieldnames=input_field_list,quoting=csv.QUOTE_NONE)\n",
    "    csvout = csv.writer(fout,delimiter=',')\n",
    "    csvout.writerow(output_field_list) # write header\n",
    "    for row in csvin:\n",
    "        i+=1\n",
    "        if i%1000000==0:\n",
    "            print(\"#row processed:\",i)\n",
    "        try:\n",
    "            int(row['uid'])\n",
    "        except:\n",
    "            continue\n",
    "        if int(row['uid']) in id_subset:\n",
    "            row['date'] = convert_date(row['date'])\n",
    "            if row['date'] != None: \n",
    "                csvout.writerow([str(row[key]).strip() for key in output_field_list])\n",
    "'''"
   ]
  },
  {
   "cell_type": "code",
   "execution_count": null,
   "metadata": {
    "collapsed": false
   },
   "outputs": [],
   "source": [
    "# down sample search by uid  \n",
    "import csv\n",
    "import codecs\n",
    "input_file = '../data/search/all_search_log'\n",
    "output_file = '../data/search_ds.csv'\n",
    "input_field_list = ['uid','device','time_stamp','search_query','date']\n",
    "output_field_list = ['uid','device','date']\n",
    "i=0\n",
    "\n",
    "import sys\n",
    "reload(sys)\n",
    "sys.setdefaultencoding('utf8')\n",
    "\n",
    "#with open(input_file,'r',encoding='latin-1') as fin, open(output_file,'w') as fout:\n",
    "with codecs.open(input_file,'r',encoding='latin-1') as fin, open(output_file,'w') as fout:\n",
    "    fin = fin.read().decode(\"latin1\")\n",
    "    csvin = csv.DictReader(fin,delimiter='\\t',fieldnames=input_field_list,quoting=csv.QUOTE_NONE)\n",
    "    csvout = csv.writer(fout,delimiter=',')\n",
    "    csvout.writerow(output_field_list) # write header\n",
    "    for row in csvin:\n",
    "        i+=1\n",
    "        if i%1000000==0:\n",
    "            print(\"#row processed:\",i)\n",
    "        try:\n",
    "            int(row['uid'])\n",
    "        except:\n",
    "            continue\n",
    "        if int(row['uid']) in id_subset:\n",
    "            row['date'] = convert_date(row['date'])\n",
    "            if row['date'] != None: \n",
    "                csvout.writerow([str(row[key]).strip() for key in output_field_list])\n"
   ]
  },
  {
   "cell_type": "markdown",
   "metadata": {},
   "source": [
    "# Create event table for feature generation"
   ]
  },
  {
   "cell_type": "code",
   "execution_count": null,
   "metadata": {
    "collapsed": false
   },
   "outputs": [],
   "source": [
    "play_file = '../data/play_ds.csv'\n",
    "down_file = '../data/down_ds.csv'\n",
    "search_file = '../data/search_ds.csv'\n",
    "output_file = '../data/event_ds.csv'\n",
    "play_field_list = ['uid','device','song_id','date','play_time','song_length']\n",
    "down_field_list = ['uid','device','song_id','date']\n",
    "search_field_list = ['uid','device','date']\n",
    "output_field_list = ['uid','event','song_id','date']\n",
    "with open(play_file,'r') as f_play, open(down_file,'r') as f_down, \\\n",
    "open(search_file,'r') as f_search,open(output_file,'w') as f_out:\n",
    "    csvplay = csv.DictReader(f_play,delimiter=',')\n",
    "    csvdown = csv.DictReader(f_down,delimiter=',')\n",
    "    csvsearch = csv.DictReader(f_search,delimiter=',')\n",
    "    csvout = csv.writer(f_out,delimiter=',')\n",
    "    csvout.writerow(output_field_list) # write header\n",
    "    print('Processing play ...')\n",
    "    for row in csvplay:\n",
    "        row['event'] = 'P'\n",
    "        row['date']\n",
    "        csvout.writerow([row[key] for key in output_field_list])\n",
    "    print('Processing down ...')\n",
    "    for row in csvdown:\n",
    "        row['event'] = 'D'\n",
    "        csvout.writerow([row[key] for key in output_field_list])\n",
    "    print('Processing search ...')\n",
    "    for row in csvsearch:\n",
    "        row['event'] = 'S'\n",
    "        csvout.writerow([row.get(key,'') for key in output_field_list])\n"
   ]
  },
  {
   "cell_type": "code",
   "execution_count": null,
   "metadata": {
    "collapsed": false
   },
   "outputs": [],
   "source": [
    "print(\"Finished\")"
   ]
  },
  {
   "cell_type": "code",
   "execution_count": null,
   "metadata": {
    "collapsed": true
   },
   "outputs": [],
   "source": []
  }
 ],
 "metadata": {
  "kernelspec": {
   "display_name": "Python 2",
   "language": "python",
   "name": "python2"
  },
  "language_info": {
   "codemirror_mode": {
    "name": "ipython",
    "version": 2
   },
   "file_extension": ".py",
   "mimetype": "text/x-python",
   "name": "python",
   "nbconvert_exporter": "python",
   "pygments_lexer": "ipython2",
   "version": "2.7.15"
  }
 },
 "nbformat": 4,
 "nbformat_minor": 2
}

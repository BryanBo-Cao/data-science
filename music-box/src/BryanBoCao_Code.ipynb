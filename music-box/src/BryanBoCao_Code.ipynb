{
 "cells": [
  {
   "cell_type": "markdown",
   "metadata": {},
   "source": [
    "## DS501-1802 Phase 3 Capstone\n",
    "\n",
    "## Bryan Bo Cao\n",
    "\n",
    "### Github: https://github.com/BryanBo-Cao/data-science/tree/master/music-box/src/BryanBoCao_Code.ipynb"
   ]
  },
  {
   "cell_type": "code",
   "execution_count": 2,
   "metadata": {},
   "outputs": [],
   "source": [
    "import pandas as pd\n",
    "import numpy as np\n",
    "import matplotlib.pyplot as plt\n",
    "% matplotlib inline\n",
    "plt.style.use(\"ggplot\")"
   ]
  },
  {
   "cell_type": "code",
   "execution_count": 7,
   "metadata": {},
   "outputs": [
    {
     "name": "stderr",
     "output_type": "stream",
     "text": [
      "/Users/GundamOO/anaconda/envs/py36/lib/python3.6/site-packages/IPython/core/interactiveshell.py:2785: DtypeWarning: Columns (2) have mixed types. Specify dtype option on import or set low_memory=False.\n",
      "  interactivity=interactivity, compiler=compiler, result=result)\n"
     ]
    }
   ],
   "source": [
    "schema_play = ['uid','device','song_id','song_type','song_name','singer','play_time','song_length','paid_flag']\n",
    "df_play = pd.read_csv('../data/play/20170331_1_play.log',delimiter='\\t',header=None,index_col=None,names=schema_play)"
   ]
  },
  {
   "cell_type": "code",
   "execution_count": 10,
   "metadata": {},
   "outputs": [
    {
     "data": {
      "text/html": [
       "<div>\n",
       "<style scoped>\n",
       "    .dataframe tbody tr th:only-of-type {\n",
       "        vertical-align: middle;\n",
       "    }\n",
       "\n",
       "    .dataframe tbody tr th {\n",
       "        vertical-align: top;\n",
       "    }\n",
       "\n",
       "    .dataframe thead th {\n",
       "        text-align: right;\n",
       "    }\n",
       "</style>\n",
       "<table border=\"1\" class=\"dataframe\">\n",
       "  <thead>\n",
       "    <tr style=\"text-align: right;\">\n",
       "      <th></th>\n",
       "      <th>uid</th>\n",
       "      <th>device</th>\n",
       "      <th>song_id</th>\n",
       "      <th>song_type</th>\n",
       "      <th>song_name</th>\n",
       "      <th>singer</th>\n",
       "      <th>play_time</th>\n",
       "      <th>song_length</th>\n",
       "      <th>paid_flag</th>\n",
       "    </tr>\n",
       "  </thead>\n",
       "  <tbody>\n",
       "    <tr>\n",
       "      <th>0</th>\n",
       "      <td>167584071.0</td>\n",
       "      <td>ar</td>\n",
       "      <td>4.38999e+06</td>\n",
       "      <td>0.0</td>\n",
       "      <td>魔幻手机</td>\n",
       "      <td>伤感歌曲</td>\n",
       "      <td>0</td>\n",
       "      <td>0.0</td>\n",
       "      <td>0.0</td>\n",
       "    </tr>\n",
       "    <tr>\n",
       "      <th>1</th>\n",
       "      <td>168029752.0</td>\n",
       "      <td>ar</td>\n",
       "      <td>1.02636e+06</td>\n",
       "      <td>0.0</td>\n",
       "      <td>你在天边</td>\n",
       "      <td>容中尔甲</td>\n",
       "      <td>0</td>\n",
       "      <td>277.0</td>\n",
       "      <td>0.0</td>\n",
       "    </tr>\n",
       "    <tr>\n",
       "      <th>2</th>\n",
       "      <td>167584071.0</td>\n",
       "      <td>ar</td>\n",
       "      <td>503175</td>\n",
       "      <td>0.0</td>\n",
       "      <td>奇迹再现(电视剧《迪加奥特曼》主题曲)</td>\n",
       "      <td>毛毛</td>\n",
       "      <td>0</td>\n",
       "      <td>0.0</td>\n",
       "      <td>0.0</td>\n",
       "    </tr>\n",
       "    <tr>\n",
       "      <th>3</th>\n",
       "      <td>168029752.0</td>\n",
       "      <td>ar</td>\n",
       "      <td>234903</td>\n",
       "      <td>0.0</td>\n",
       "      <td>梦中的达娃卓玛</td>\n",
       "      <td>容中尔甲</td>\n",
       "      <td>0</td>\n",
       "      <td>315.0</td>\n",
       "      <td>0.0</td>\n",
       "    </tr>\n",
       "    <tr>\n",
       "      <th>4</th>\n",
       "      <td>167965547.0</td>\n",
       "      <td>ar</td>\n",
       "      <td>6.60614e+06</td>\n",
       "      <td>0.0</td>\n",
       "      <td>心锁</td>\n",
       "      <td>杨小曼&amp;冷漠</td>\n",
       "      <td>256</td>\n",
       "      <td>256.0</td>\n",
       "      <td>0.0</td>\n",
       "    </tr>\n",
       "  </tbody>\n",
       "</table>\n",
       "</div>"
      ],
      "text/plain": [
       "           uid device      song_id  song_type            song_name  singer  \\\n",
       "0  167584071.0     ar  4.38999e+06        0.0                 魔幻手机    伤感歌曲   \n",
       "1  168029752.0     ar  1.02636e+06        0.0                 你在天边    容中尔甲   \n",
       "2  167584071.0     ar       503175        0.0  奇迹再现(电视剧《迪加奥特曼》主题曲)      毛毛   \n",
       "3  168029752.0     ar       234903        0.0              梦中的达娃卓玛    容中尔甲   \n",
       "4  167965547.0     ar  6.60614e+06        0.0                   心锁  杨小曼&冷漠   \n",
       "\n",
       "  play_time  song_length  paid_flag  \n",
       "0         0          0.0        0.0  \n",
       "1         0        277.0        0.0  \n",
       "2         0          0.0        0.0  \n",
       "3         0        315.0        0.0  \n",
       "4       256        256.0        0.0  "
      ]
     },
     "execution_count": 10,
     "metadata": {},
     "output_type": "execute_result"
    }
   ],
   "source": [
    "df_play.head()"
   ]
  },
  {
   "cell_type": "code",
   "execution_count": 11,
   "metadata": {},
   "outputs": [
    {
     "data": {
      "text/html": [
       "<div>\n",
       "<style scoped>\n",
       "    .dataframe tbody tr th:only-of-type {\n",
       "        vertical-align: middle;\n",
       "    }\n",
       "\n",
       "    .dataframe tbody tr th {\n",
       "        vertical-align: top;\n",
       "    }\n",
       "\n",
       "    .dataframe thead th {\n",
       "        text-align: right;\n",
       "    }\n",
       "</style>\n",
       "<table border=\"1\" class=\"dataframe\">\n",
       "  <thead>\n",
       "    <tr style=\"text-align: right;\">\n",
       "      <th></th>\n",
       "      <th>uid</th>\n",
       "      <th>song_type</th>\n",
       "      <th>song_length</th>\n",
       "      <th>paid_flag</th>\n",
       "    </tr>\n",
       "  </thead>\n",
       "  <tbody>\n",
       "    <tr>\n",
       "      <th>count</th>\n",
       "      <td>1.860168e+06</td>\n",
       "      <td>1.858873e+06</td>\n",
       "      <td>1.859603e+06</td>\n",
       "      <td>1.859670e+06</td>\n",
       "    </tr>\n",
       "    <tr>\n",
       "      <th>mean</th>\n",
       "      <td>1.447586e+08</td>\n",
       "      <td>1.422830e-01</td>\n",
       "      <td>3.598380e+02</td>\n",
       "      <td>4.427667e-03</td>\n",
       "    </tr>\n",
       "    <tr>\n",
       "      <th>std</th>\n",
       "      <td>5.519367e+07</td>\n",
       "      <td>7.243009e-01</td>\n",
       "      <td>1.069461e+04</td>\n",
       "      <td>1.333122e+00</td>\n",
       "    </tr>\n",
       "    <tr>\n",
       "      <th>min</th>\n",
       "      <td>0.000000e+00</td>\n",
       "      <td>0.000000e+00</td>\n",
       "      <td>-1.000000e+00</td>\n",
       "      <td>0.000000e+00</td>\n",
       "    </tr>\n",
       "    <tr>\n",
       "      <th>25%</th>\n",
       "      <td>1.676101e+08</td>\n",
       "      <td>0.000000e+00</td>\n",
       "      <td>1.800000e+02</td>\n",
       "      <td>0.000000e+00</td>\n",
       "    </tr>\n",
       "    <tr>\n",
       "      <th>50%</th>\n",
       "      <td>1.677840e+08</td>\n",
       "      <td>0.000000e+00</td>\n",
       "      <td>2.340000e+02</td>\n",
       "      <td>0.000000e+00</td>\n",
       "    </tr>\n",
       "    <tr>\n",
       "      <th>75%</th>\n",
       "      <td>1.679364e+08</td>\n",
       "      <td>0.000000e+00</td>\n",
       "      <td>2.740000e+02</td>\n",
       "      <td>0.000000e+00</td>\n",
       "    </tr>\n",
       "    <tr>\n",
       "      <th>max</th>\n",
       "      <td>1.687785e+08</td>\n",
       "      <td>1.980000e+02</td>\n",
       "      <td>3.103254e+06</td>\n",
       "      <td>4.300000e+02</td>\n",
       "    </tr>\n",
       "  </tbody>\n",
       "</table>\n",
       "</div>"
      ],
      "text/plain": [
       "                uid     song_type   song_length     paid_flag\n",
       "count  1.860168e+06  1.858873e+06  1.859603e+06  1.859670e+06\n",
       "mean   1.447586e+08  1.422830e-01  3.598380e+02  4.427667e-03\n",
       "std    5.519367e+07  7.243009e-01  1.069461e+04  1.333122e+00\n",
       "min    0.000000e+00  0.000000e+00 -1.000000e+00  0.000000e+00\n",
       "25%    1.676101e+08  0.000000e+00  1.800000e+02  0.000000e+00\n",
       "50%    1.677840e+08  0.000000e+00  2.340000e+02  0.000000e+00\n",
       "75%    1.679364e+08  0.000000e+00  2.740000e+02  0.000000e+00\n",
       "max    1.687785e+08  1.980000e+02  3.103254e+06  4.300000e+02"
      ]
     },
     "execution_count": 11,
     "metadata": {},
     "output_type": "execute_result"
    }
   ],
   "source": [
    "df_play.describe()"
   ]
  },
  {
   "cell_type": "code",
   "execution_count": 12,
   "metadata": {},
   "outputs": [
    {
     "name": "stdout",
     "output_type": "stream",
     "text": [
      "<class 'pandas.core.frame.DataFrame'>\n",
      "RangeIndex: 1860666 entries, 0 to 1860665\n",
      "Data columns (total 9 columns):\n",
      "uid            float64\n",
      "device         object\n",
      "song_id        object\n",
      "song_type      float64\n",
      "song_name      object\n",
      "singer         object\n",
      "play_time      object\n",
      "song_length    float64\n",
      "paid_flag      float64\n",
      "dtypes: float64(4), object(5)\n",
      "memory usage: 127.8+ MB\n"
     ]
    }
   ],
   "source": [
    "df_play.info()"
   ]
  },
  {
   "cell_type": "code",
   "execution_count": 24,
   "metadata": {},
   "outputs": [
    {
     "data": {
      "text/plain": [
       "0.0     1631080\n",
       "1.0      208354\n",
       "2.0       18585\n",
       "3.0         356\n",
       "40.0         51\n",
       "30.0         42\n",
       "34.0         27\n",
       "39.0         26\n",
       "33.0         23\n",
       "31.0         23\n",
       "Name: song_type, dtype: int64"
      ]
     },
     "execution_count": 24,
     "metadata": {},
     "output_type": "execute_result"
    }
   ],
   "source": [
    "song_type_cnts = df_play.song_type.value_counts()\n",
    "song_type_cnts.head(10)"
   ]
  },
  {
   "cell_type": "markdown",
   "metadata": {},
   "source": [
    "### Visualize data"
   ]
  },
  {
   "cell_type": "code",
   "execution_count": 49,
   "metadata": {},
   "outputs": [],
   "source": [
    "song_type_indexes = song_type_cnts.index.values\n",
    "song_type_indexes = song_type_indexes.tolist()"
   ]
  },
  {
   "cell_type": "code",
   "execution_count": 65,
   "metadata": {},
   "outputs": [
    {
     "data": {
      "text/plain": [
       "<matplotlib.axes._subplots.AxesSubplot at 0x10b604a90>"
      ]
     },
     "execution_count": 65,
     "metadata": {},
     "output_type": "execute_result"
    },
    {
     "data": {
      "image/png": "[encoded data removed]",
      "text/plain": [
       "<Figure size 432x288 with 1 Axes>"
      ]
     },
     "metadata": {},
     "output_type": "display_data"
    }
   ],
   "source": [
    "df_play.plot.hist(alpha=0.5)"
   ]
  },
  {
   "cell_type": "code",
   "execution_count": 66,
   "metadata": {},
   "outputs": [
    {
     "data": {
      "text/plain": [
       "<matplotlib.axes._subplots.AxesSubplot at 0x10a2885c0>"
      ]
     },
     "execution_count": 66,
     "metadata": {},
     "output_type": "execute_result"
    },
    {
     "data": {
      "image/png": "[encoded data removed]",
      "text/plain": [
       "<Figure size 432x288 with 1 Axes>"
      ]
     },
     "metadata": {},
     "output_type": "display_data"
    }
   ],
   "source": [
    "df_play.song_type.plot.hist(alpha=0.5)"
   ]
  },
  {
   "cell_type": "code",
   "execution_count": 67,
   "metadata": {},
   "outputs": [
    {
     "data": {
      "text/plain": [
       "<matplotlib.axes._subplots.AxesSubplot at 0x109ba0d68>"
      ]
     },
     "execution_count": 67,
     "metadata": {},
     "output_type": "execute_result"
    },
    {
     "data": {
      "image/png": "[encoded data removed]",
      "text/plain": [
       "<Figure size 432x288 with 1 Axes>"
      ]
     },
     "metadata": {},
     "output_type": "display_data"
    }
   ],
   "source": [
    "df_play.song_type.value_counts().plot.hist(alpha=0.5)"
   ]
  },
  {
   "cell_type": "code",
   "execution_count": 73,
   "metadata": {},
   "outputs": [
    {
     "data": {
      "text/plain": [
       "<matplotlib.axes._subplots.AxesSubplot at 0x1096e7320>"
      ]
     },
     "execution_count": 73,
     "metadata": {},
     "output_type": "execute_result"
    },
    {
     "data": {
      "image/png": "[encoded data removed]",
      "text/plain": [
       "<Figure size 432x288 with 1 Axes>"
      ]
     },
     "metadata": {},
     "output_type": "display_data"
    }
   ],
   "source": [
    "df_play.device.value_counts().plot.hist(alpha=0.5)"
   ]
  },
  {
   "cell_type": "markdown",
   "metadata": {},
   "source": [
    " "
   ]
  },
  {
   "cell_type": "code",
   "execution_count": null,
   "metadata": {},
   "outputs": [],
   "source": []
  },
  {
   "cell_type": "code",
   "execution_count": null,
   "metadata": {},
   "outputs": [],
   "source": []
  }
 ],
 "metadata": {
  "kernelspec": {
   "display_name": "Python 3",
   "language": "python",
   "name": "python3"
  },
  "language_info": {
   "codemirror_mode": {
    "name": "ipython",
    "version": 3
   },
   "file_extension": ".py",
   "mimetype": "text/x-python",
   "name": "python",
   "nbconvert_exporter": "python",
   "pygments_lexer": "ipython3",
   "version": "3.6.5"
  }
 },
 "nbformat": 4,
 "nbformat_minor": 1
}

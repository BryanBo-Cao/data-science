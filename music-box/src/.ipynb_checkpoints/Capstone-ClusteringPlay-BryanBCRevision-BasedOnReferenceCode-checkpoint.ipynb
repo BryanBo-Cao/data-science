{
 "cells": [
  {
   "cell_type": "markdown",
   "metadata": {},
   "source": [
    "## DS501-1802 Phase 3 Capstone\n",
    "\n",
    "## Clustering Play\n",
    "\n",
    "#### Bryan Bo Cao\n",
    "Github: https://github.com/BryanBo-Cao/data-science/tree/master/music-box/src/"
   ]
  },
  {
   "cell_type": "code",
   "execution_count": 1,
   "metadata": {
    "collapsed": true
   },
   "outputs": [],
   "source": [
    "import pandas as pd\n",
    "import numpy as np\n",
    "import matplotlib.pyplot as plt\n",
    "% matplotlib inline\n",
    "plt.style.use(\"ggplot\")"
   ]
  },
  {
   "cell_type": "code",
   "execution_count": 2,
   "metadata": {
    "collapsed": false
   },
   "outputs": [
    {
     "name": "stderr",
     "output_type": "stream",
     "text": [
      "/Users/GundamOO/anaconda/envs/gl-env/lib/python2.7/site-packages/IPython/core/interactiveshell.py:2723: DtypeWarning: Columns (2) have mixed types. Specify dtype option on import or set low_memory=False.\n",
      "  interactivity=interactivity, compiler=compiler, result=result)\n"
     ]
    }
   ],
   "source": [
    "schema_play = ['uid','device','song_id','song_type','song_name','singer','play_time','song_length','paid_flag']\n",
    "df_play = pd.read_csv('../data/play/20170331_1_play.log',delimiter='\\t',header=None,index_col=None,names=schema_play)"
   ]
  },
  {
   "cell_type": "code",
   "execution_count": 3,
   "metadata": {
    "collapsed": false
   },
   "outputs": [
    {
     "data": {
      "text/html": [
       "<div>\n",
       "<table border=\"1\" class=\"dataframe\">\n",
       "  <thead>\n",
       "    <tr style=\"text-align: right;\">\n",
       "      <th></th>\n",
       "      <th>uid</th>\n",
       "      <th>device</th>\n",
       "      <th>song_id</th>\n",
       "      <th>song_type</th>\n",
       "      <th>song_name</th>\n",
       "      <th>singer</th>\n",
       "      <th>play_time</th>\n",
       "      <th>song_length</th>\n",
       "      <th>paid_flag</th>\n",
       "    </tr>\n",
       "  </thead>\n",
       "  <tbody>\n",
       "    <tr>\n",
       "      <th>0</th>\n",
       "      <td>167584071.0</td>\n",
       "      <td>ar</td>\n",
       "      <td>4.38999e+06</td>\n",
       "      <td>0.0</td>\n",
       "      <td>魔幻手机</td>\n",
       "      <td>伤感歌曲</td>\n",
       "      <td>0</td>\n",
       "      <td>0.0</td>\n",
       "      <td>0.0</td>\n",
       "    </tr>\n",
       "    <tr>\n",
       "      <th>1</th>\n",
       "      <td>168029752.0</td>\n",
       "      <td>ar</td>\n",
       "      <td>1.02636e+06</td>\n",
       "      <td>0.0</td>\n",
       "      <td>你在天边</td>\n",
       "      <td>容中尔甲</td>\n",
       "      <td>0</td>\n",
       "      <td>277.0</td>\n",
       "      <td>0.0</td>\n",
       "    </tr>\n",
       "    <tr>\n",
       "      <th>2</th>\n",
       "      <td>167584071.0</td>\n",
       "      <td>ar</td>\n",
       "      <td>503175</td>\n",
       "      <td>0.0</td>\n",
       "      <td>奇迹再现(电视剧《迪加奥特曼》主题曲)</td>\n",
       "      <td>毛毛</td>\n",
       "      <td>0</td>\n",
       "      <td>0.0</td>\n",
       "      <td>0.0</td>\n",
       "    </tr>\n",
       "    <tr>\n",
       "      <th>3</th>\n",
       "      <td>168029752.0</td>\n",
       "      <td>ar</td>\n",
       "      <td>234903</td>\n",
       "      <td>0.0</td>\n",
       "      <td>梦中的达娃卓玛</td>\n",
       "      <td>容中尔甲</td>\n",
       "      <td>0</td>\n",
       "      <td>315.0</td>\n",
       "      <td>0.0</td>\n",
       "    </tr>\n",
       "    <tr>\n",
       "      <th>4</th>\n",
       "      <td>167965547.0</td>\n",
       "      <td>ar</td>\n",
       "      <td>6.60614e+06</td>\n",
       "      <td>0.0</td>\n",
       "      <td>心锁</td>\n",
       "      <td>杨小曼&amp;冷漠</td>\n",
       "      <td>256</td>\n",
       "      <td>256.0</td>\n",
       "      <td>0.0</td>\n",
       "    </tr>\n",
       "  </tbody>\n",
       "</table>\n",
       "</div>"
      ],
      "text/plain": [
       "           uid device      song_id  song_type            song_name  singer  \\\n",
       "0  167584071.0     ar  4.38999e+06        0.0                 魔幻手机    伤感歌曲   \n",
       "1  168029752.0     ar  1.02636e+06        0.0                 你在天边    容中尔甲   \n",
       "2  167584071.0     ar       503175        0.0  奇迹再现(电视剧《迪加奥特曼》主题曲)      毛毛   \n",
       "3  168029752.0     ar       234903        0.0              梦中的达娃卓玛    容中尔甲   \n",
       "4  167965547.0     ar  6.60614e+06        0.0                   心锁  杨小曼&冷漠   \n",
       "\n",
       "  play_time  song_length  paid_flag  \n",
       "0         0          0.0        0.0  \n",
       "1         0        277.0        0.0  \n",
       "2         0          0.0        0.0  \n",
       "3         0        315.0        0.0  \n",
       "4       256        256.0        0.0  "
      ]
     },
     "execution_count": 3,
     "metadata": {},
     "output_type": "execute_result"
    }
   ],
   "source": [
    "df_play.head()"
   ]
  },
  {
   "cell_type": "code",
   "execution_count": 4,
   "metadata": {
    "collapsed": false
   },
   "outputs": [
    {
     "data": {
      "text/html": [
       "<div>\n",
       "<table border=\"1\" class=\"dataframe\">\n",
       "  <thead>\n",
       "    <tr style=\"text-align: right;\">\n",
       "      <th></th>\n",
       "      <th>uid</th>\n",
       "      <th>song_type</th>\n",
       "      <th>song_length</th>\n",
       "      <th>paid_flag</th>\n",
       "    </tr>\n",
       "  </thead>\n",
       "  <tbody>\n",
       "    <tr>\n",
       "      <th>count</th>\n",
       "      <td>1.860168e+06</td>\n",
       "      <td>1.858873e+06</td>\n",
       "      <td>1.859603e+06</td>\n",
       "      <td>1.859670e+06</td>\n",
       "    </tr>\n",
       "    <tr>\n",
       "      <th>mean</th>\n",
       "      <td>1.447586e+08</td>\n",
       "      <td>1.422830e-01</td>\n",
       "      <td>3.598380e+02</td>\n",
       "      <td>4.427667e-03</td>\n",
       "    </tr>\n",
       "    <tr>\n",
       "      <th>std</th>\n",
       "      <td>5.519367e+07</td>\n",
       "      <td>7.243009e-01</td>\n",
       "      <td>1.069461e+04</td>\n",
       "      <td>1.333122e+00</td>\n",
       "    </tr>\n",
       "    <tr>\n",
       "      <th>min</th>\n",
       "      <td>0.000000e+00</td>\n",
       "      <td>0.000000e+00</td>\n",
       "      <td>-1.000000e+00</td>\n",
       "      <td>0.000000e+00</td>\n",
       "    </tr>\n",
       "    <tr>\n",
       "      <th>25%</th>\n",
       "      <td>1.676101e+08</td>\n",
       "      <td>0.000000e+00</td>\n",
       "      <td>1.800000e+02</td>\n",
       "      <td>0.000000e+00</td>\n",
       "    </tr>\n",
       "    <tr>\n",
       "      <th>50%</th>\n",
       "      <td>1.677840e+08</td>\n",
       "      <td>0.000000e+00</td>\n",
       "      <td>2.340000e+02</td>\n",
       "      <td>0.000000e+00</td>\n",
       "    </tr>\n",
       "    <tr>\n",
       "      <th>75%</th>\n",
       "      <td>1.679364e+08</td>\n",
       "      <td>0.000000e+00</td>\n",
       "      <td>2.740000e+02</td>\n",
       "      <td>0.000000e+00</td>\n",
       "    </tr>\n",
       "    <tr>\n",
       "      <th>max</th>\n",
       "      <td>1.687785e+08</td>\n",
       "      <td>1.980000e+02</td>\n",
       "      <td>3.103254e+06</td>\n",
       "      <td>4.300000e+02</td>\n",
       "    </tr>\n",
       "  </tbody>\n",
       "</table>\n",
       "</div>"
      ],
      "text/plain": [
       "                uid     song_type   song_length     paid_flag\n",
       "count  1.860168e+06  1.858873e+06  1.859603e+06  1.859670e+06\n",
       "mean   1.447586e+08  1.422830e-01  3.598380e+02  4.427667e-03\n",
       "std    5.519367e+07  7.243009e-01  1.069461e+04  1.333122e+00\n",
       "min    0.000000e+00  0.000000e+00 -1.000000e+00  0.000000e+00\n",
       "25%    1.676101e+08  0.000000e+00  1.800000e+02  0.000000e+00\n",
       "50%    1.677840e+08  0.000000e+00  2.340000e+02  0.000000e+00\n",
       "75%    1.679364e+08  0.000000e+00  2.740000e+02  0.000000e+00\n",
       "max    1.687785e+08  1.980000e+02  3.103254e+06  4.300000e+02"
      ]
     },
     "execution_count": 4,
     "metadata": {},
     "output_type": "execute_result"
    }
   ],
   "source": [
    "df_play.describe()"
   ]
  },
  {
   "cell_type": "code",
   "execution_count": 5,
   "metadata": {
    "collapsed": false
   },
   "outputs": [
    {
     "name": "stdout",
     "output_type": "stream",
     "text": [
      "<class 'pandas.core.frame.DataFrame'>\n",
      "RangeIndex: 1860666 entries, 0 to 1860665\n",
      "Data columns (total 9 columns):\n",
      "uid            float64\n",
      "device         object\n",
      "song_id        object\n",
      "song_type      float64\n",
      "song_name      object\n",
      "singer         object\n",
      "play_time      object\n",
      "song_length    float64\n",
      "paid_flag      float64\n",
      "dtypes: float64(4), object(5)\n",
      "memory usage: 127.8+ MB\n"
     ]
    }
   ],
   "source": [
    "df_play.info()"
   ]
  },
  {
   "cell_type": "code",
   "execution_count": 6,
   "metadata": {
    "collapsed": false
   },
   "outputs": [
    {
     "data": {
      "text/plain": [
       "0.0     1631080\n",
       "1.0      208354\n",
       "2.0       18585\n",
       "3.0         356\n",
       "40.0         51\n",
       "30.0         42\n",
       "34.0         27\n",
       "39.0         26\n",
       "31.0         23\n",
       "33.0         23\n",
       "Name: song_type, dtype: int64"
      ]
     },
     "execution_count": 6,
     "metadata": {},
     "output_type": "execute_result"
    }
   ],
   "source": [
    "song_type_cnts = df_play.song_type.value_counts()\n",
    "song_type_cnts.head(10)"
   ]
  },
  {
   "cell_type": "code",
   "execution_count": null,
   "metadata": {
    "collapsed": true
   },
   "outputs": [],
   "source": []
  },
  {
   "cell_type": "markdown",
   "metadata": {},
   "source": [
    "# Visualize data"
   ]
  },
  {
   "cell_type": "code",
   "execution_count": 7,
   "metadata": {
    "collapsed": true
   },
   "outputs": [],
   "source": [
    "song_type_indexes = song_type_cnts.index.values\n",
    "song_type_indexes = song_type_indexes.tolist()"
   ]
  },
  {
   "cell_type": "code",
   "execution_count": 8,
   "metadata": {
    "collapsed": false
   },
   "outputs": [
    {
     "data": {
      "text/plain": [
       "<matplotlib.axes._subplots.AxesSubplot at 0x12358f950>"
      ]
     },
     "execution_count": 8,
     "metadata": {},
     "output_type": "execute_result"
    },
    {
     "data": {
      "image/png": "[encoded data removed]",
      "text/plain": [
       "<matplotlib.figure.Figure at 0x12358ff90>"
      ]
     },
     "metadata": {},
     "output_type": "display_data"
    }
   ],
   "source": [
    "df_play.plot.hist(alpha=0.5)"
   ]
  },
  {
   "cell_type": "code",
   "execution_count": 9,
   "metadata": {
    "collapsed": false
   },
   "outputs": [
    {
     "data": {
      "text/plain": [
       "<matplotlib.axes._subplots.AxesSubplot at 0x11618c8d0>"
      ]
     },
     "execution_count": 9,
     "metadata": {},
     "output_type": "execute_result"
    },
    {
     "data": {
      "image/png": "[encoded data removed]",
      "text/plain": [
       "<matplotlib.figure.Figure at 0x115e0ec50>"
      ]
     },
     "metadata": {},
     "output_type": "display_data"
    }
   ],
   "source": [
    "df_play.song_type.plot.hist(alpha=0.5)"
   ]
  },
  {
   "cell_type": "code",
   "execution_count": 10,
   "metadata": {
    "collapsed": false
   },
   "outputs": [
    {
     "data": {
      "text/plain": [
       "<matplotlib.axes._subplots.AxesSubplot at 0x121057b10>"
      ]
     },
     "execution_count": 10,
     "metadata": {},
     "output_type": "execute_result"
    },
    {
     "data": {
      "image/png": "[encoded data removed]",
      "text/plain": [
       "<matplotlib.figure.Figure at 0x1210601d0>"
      ]
     },
     "metadata": {},
     "output_type": "display_data"
    }
   ],
   "source": [
    "df_play.song_type.value_counts().plot.hist(alpha=0.5)"
   ]
  },
  {
   "cell_type": "markdown",
   "metadata": {},
   "source": [
    "Apply log to df_play.song_type.value_counts()"
   ]
  },
  {
   "cell_type": "code",
   "execution_count": 11,
   "metadata": {
    "collapsed": false
   },
   "outputs": [
    {
     "data": {
      "image/png": "[encoded data removed]",
      "text/plain": [
       "<matplotlib.figure.Figure at 0x120f9c750>"
      ]
     },
     "metadata": {},
     "output_type": "display_data"
    }
   ],
   "source": [
    "df_play.song_type.value_counts().apply(np.log).hist(alpha=0.5)\n",
    "plt.show()"
   ]
  },
  {
   "cell_type": "code",
   "execution_count": 12,
   "metadata": {
    "collapsed": false
   },
   "outputs": [
    {
     "data": {
      "text/plain": [
       "<matplotlib.axes._subplots.AxesSubplot at 0x122bf9610>"
      ]
     },
     "execution_count": 12,
     "metadata": {},
     "output_type": "execute_result"
    },
    {
     "data": {
      "image/png": "[encoded data removed]",
      "text/plain": [
       "<matplotlib.figure.Figure at 0x122c8f7d0>"
      ]
     },
     "metadata": {},
     "output_type": "display_data"
    }
   ],
   "source": [
    "df_play.device.value_counts().plot.hist(alpha=0.5)"
   ]
  },
  {
   "cell_type": "markdown",
   "metadata": {},
   "source": [
    "Apply log to df_play.device.value_counts()"
   ]
  },
  {
   "cell_type": "code",
   "execution_count": 13,
   "metadata": {
    "collapsed": false
   },
   "outputs": [
    {
     "data": {
      "image/png": "[encoded data removed]",
      "text/plain": [
       "<matplotlib.figure.Figure at 0x122b8f950>"
      ]
     },
     "metadata": {},
     "output_type": "display_data"
    }
   ],
   "source": [
    "df_play.device.value_counts().apply(np.log).hist(alpha=0.5)\n",
    "plt.show()"
   ]
  },
  {
   "cell_type": "markdown",
   "metadata": {},
   "source": [
    " "
   ]
  },
  {
   "cell_type": "code",
   "execution_count": null,
   "metadata": {
    "collapsed": true
   },
   "outputs": [],
   "source": []
  },
  {
   "cell_type": "markdown",
   "metadata": {},
   "source": [
    "## Deal with missing values\n",
    "### Find missing values"
   ]
  },
  {
   "cell_type": "code",
   "execution_count": 14,
   "metadata": {
    "collapsed": false
   },
   "outputs": [
    {
     "name": "stdout",
     "output_type": "stream",
     "text": [
      "(105, 'missing')\n"
     ]
    }
   ],
   "source": [
    "df_play_song_name_na = pd.isnull(df_play.song_name)\n",
    "na_cnt = 0\n",
    "for i in df_play_song_name_na:\n",
    "    if (i):\n",
    "        na_cnt += 1\n",
    "print(na_cnt, \"missing\")"
   ]
  },
  {
   "cell_type": "markdown",
   "metadata": {},
   "source": [
    "### Fill missing value na with 'no_name'"
   ]
  },
  {
   "cell_type": "code",
   "execution_count": 15,
   "metadata": {
    "collapsed": false
   },
   "outputs": [
    {
     "name": "stdout",
     "output_type": "stream",
     "text": [
      "(0, 'missing after filling')\n"
     ]
    }
   ],
   "source": [
    "df_play = df_play.fillna(value='no_name')\n",
    "df_play_song_name_na = pd.isnull(df_play.song_name)\n",
    "na_cnt = 0\n",
    "for i in df_play_song_name_na:\n",
    "    if (i):\n",
    "        na_cnt += 1\n",
    "print(na_cnt, \"missing after filling\")"
   ]
  },
  {
   "cell_type": "code",
   "execution_count": null,
   "metadata": {
    "collapsed": true
   },
   "outputs": [],
   "source": []
  },
  {
   "cell_type": "markdown",
   "metadata": {},
   "source": [
    "## Create training set and test set"
   ]
  },
  {
   "cell_type": "code",
   "execution_count": 16,
   "metadata": {
    "collapsed": false
   },
   "outputs": [
    {
     "name": "stderr",
     "output_type": "stream",
     "text": [
      "/Users/GundamOO/anaconda/envs/gl-env/lib/python2.7/site-packages/sklearn/cross_validation.py:41: DeprecationWarning: This module was deprecated in version 0.18 in favor of the model_selection module into which all the refactored classes and functions are moved. Also note that the interface of the new CV iterators are different from that of this module. This module will be removed in 0.20.\n",
      "  \"This module will be removed in 0.20.\", DeprecationWarning)\n"
     ]
    }
   ],
   "source": [
    "from sklearn.cross_validation import train_test_split\n",
    "df_play_train, df_play_test = train_test_split(\n",
    "                    df_play, test_size = 0.2, random_state = 64)"
   ]
  },
  {
   "cell_type": "code",
   "execution_count": 17,
   "metadata": {
    "collapsed": false
   },
   "outputs": [
    {
     "data": {
      "text/html": [
       "<div>\n",
       "<table border=\"1\" class=\"dataframe\">\n",
       "  <thead>\n",
       "    <tr style=\"text-align: right;\">\n",
       "      <th></th>\n",
       "      <th>uid</th>\n",
       "      <th>device</th>\n",
       "      <th>song_id</th>\n",
       "      <th>song_type</th>\n",
       "      <th>song_name</th>\n",
       "      <th>singer</th>\n",
       "      <th>play_time</th>\n",
       "      <th>song_length</th>\n",
       "      <th>paid_flag</th>\n",
       "    </tr>\n",
       "  </thead>\n",
       "  <tbody>\n",
       "    <tr>\n",
       "      <th>1250689</th>\n",
       "      <td>1.67584e+08</td>\n",
       "      <td>ar</td>\n",
       "      <td>1169064</td>\n",
       "      <td>0</td>\n",
       "      <td>你把爱情给了谁</td>\n",
       "      <td>龙梅子</td>\n",
       "      <td>236</td>\n",
       "      <td>236</td>\n",
       "      <td>0</td>\n",
       "    </tr>\n",
       "    <tr>\n",
       "      <th>1270101</th>\n",
       "      <td>1.68032e+08</td>\n",
       "      <td>ip</td>\n",
       "      <td>6414906</td>\n",
       "      <td>0</td>\n",
       "      <td>See You Again</td>\n",
       "      <td>Wiz Khalifa&amp;Charlie Puth</td>\n",
       "      <td>229</td>\n",
       "      <td>229</td>\n",
       "      <td>0</td>\n",
       "    </tr>\n",
       "    <tr>\n",
       "      <th>624718</th>\n",
       "      <td>1.68009e+08</td>\n",
       "      <td>ip</td>\n",
       "      <td>6.05468e+06</td>\n",
       "      <td>0</td>\n",
       "      <td>小跳蛙铃声</td>\n",
       "      <td>网络歌手</td>\n",
       "      <td>33</td>\n",
       "      <td>33</td>\n",
       "      <td>0</td>\n",
       "    </tr>\n",
       "    <tr>\n",
       "      <th>900605</th>\n",
       "      <td>1.68009e+08</td>\n",
       "      <td>ip</td>\n",
       "      <td>107471</td>\n",
       "      <td>0</td>\n",
       "      <td>天路</td>\n",
       "      <td>韩红</td>\n",
       "      <td>9</td>\n",
       "      <td>262</td>\n",
       "      <td>0</td>\n",
       "    </tr>\n",
       "    <tr>\n",
       "      <th>12580</th>\n",
       "      <td>1.67797e+08</td>\n",
       "      <td>ar</td>\n",
       "      <td>6.29429e+06</td>\n",
       "      <td>0</td>\n",
       "      <td>可惜没如果</td>\n",
       "      <td>林俊杰</td>\n",
       "      <td>214</td>\n",
       "      <td>215</td>\n",
       "      <td>0</td>\n",
       "    </tr>\n",
       "    <tr>\n",
       "      <th>971594</th>\n",
       "      <td>1.67724e+08</td>\n",
       "      <td>ar</td>\n",
       "      <td>170121</td>\n",
       "      <td>0</td>\n",
       "      <td>花儿为什么这样红</td>\n",
       "      <td>韦唯</td>\n",
       "      <td>248</td>\n",
       "      <td>249</td>\n",
       "      <td>0</td>\n",
       "    </tr>\n",
       "    <tr>\n",
       "      <th>1515555</th>\n",
       "      <td>736305</td>\n",
       "      <td>ar</td>\n",
       "      <td>6.44431e+06</td>\n",
       "      <td>0</td>\n",
       "      <td>佛陀的爱</td>\n",
       "      <td>柯佩磊</td>\n",
       "      <td>203</td>\n",
       "      <td>224</td>\n",
       "      <td>0</td>\n",
       "    </tr>\n",
       "    <tr>\n",
       "      <th>1380788</th>\n",
       "      <td>1.68513e+06</td>\n",
       "      <td>ar</td>\n",
       "      <td>3.57778e+06</td>\n",
       "      <td>0</td>\n",
       "      <td>小宝贝快快睡</td>\n",
       "      <td>香香</td>\n",
       "      <td>240</td>\n",
       "      <td>241</td>\n",
       "      <td>0</td>\n",
       "    </tr>\n",
       "    <tr>\n",
       "      <th>1223216</th>\n",
       "      <td>1.67736e+08</td>\n",
       "      <td>ar</td>\n",
       "      <td>2.83881e+06</td>\n",
       "      <td>0</td>\n",
       "      <td>长安长安</td>\n",
       "      <td>梁博</td>\n",
       "      <td>124</td>\n",
       "      <td>124</td>\n",
       "      <td>0</td>\n",
       "    </tr>\n",
       "    <tr>\n",
       "      <th>168065</th>\n",
       "      <td>1.67742e+08</td>\n",
       "      <td>ar</td>\n",
       "      <td>226130</td>\n",
       "      <td>0</td>\n",
       "      <td>恭喜发财</td>\n",
       "      <td>卓依婷</td>\n",
       "      <td>201</td>\n",
       "      <td>202</td>\n",
       "      <td>0</td>\n",
       "    </tr>\n",
       "  </tbody>\n",
       "</table>\n",
       "</div>"
      ],
      "text/plain": [
       "                 uid device      song_id song_type      song_name  \\\n",
       "1250689  1.67584e+08     ar      1169064         0        你把爱情给了谁   \n",
       "1270101  1.68032e+08     ip      6414906         0  See You Again   \n",
       "624718   1.68009e+08     ip  6.05468e+06         0          小跳蛙铃声   \n",
       "900605   1.68009e+08     ip       107471         0             天路   \n",
       "12580    1.67797e+08     ar  6.29429e+06         0          可惜没如果   \n",
       "971594   1.67724e+08     ar       170121         0       花儿为什么这样红   \n",
       "1515555       736305     ar  6.44431e+06         0           佛陀的爱   \n",
       "1380788  1.68513e+06     ar  3.57778e+06         0         小宝贝快快睡   \n",
       "1223216  1.67736e+08     ar  2.83881e+06         0           长安长安   \n",
       "168065   1.67742e+08     ar       226130         0           恭喜发财   \n",
       "\n",
       "                           singer play_time song_length paid_flag  \n",
       "1250689                       龙梅子       236         236         0  \n",
       "1270101  Wiz Khalifa&Charlie Puth       229         229         0  \n",
       "624718                       网络歌手        33          33         0  \n",
       "900605                         韩红         9         262         0  \n",
       "12580                         林俊杰       214         215         0  \n",
       "971594                         韦唯       248         249         0  \n",
       "1515555                       柯佩磊       203         224         0  \n",
       "1380788                        香香       240         241         0  \n",
       "1223216                        梁博       124         124         0  \n",
       "168065                        卓依婷       201         202         0  "
      ]
     },
     "execution_count": 17,
     "metadata": {},
     "output_type": "execute_result"
    }
   ],
   "source": [
    "df_play_train.head(10)"
   ]
  },
  {
   "cell_type": "code",
   "execution_count": null,
   "metadata": {
    "collapsed": true
   },
   "outputs": [],
   "source": []
  },
  {
   "cell_type": "markdown",
   "metadata": {},
   "source": [
    "# Clustering"
   ]
  },
  {
   "cell_type": "markdown",
   "metadata": {},
   "source": [
    "## Cluster songs based on song_name"
   ]
  },
  {
   "cell_type": "code",
   "execution_count": 18,
   "metadata": {
    "collapsed": true
   },
   "outputs": [],
   "source": [
    "from sklearn.feature_extraction.text import TfidfVectorizer"
   ]
  },
  {
   "cell_type": "code",
   "execution_count": 19,
   "metadata": {
    "collapsed": true
   },
   "outputs": [],
   "source": [
    "vectorizer = TfidfVectorizer(stop_words = 'english', max_features = 1000)"
   ]
  },
  {
   "cell_type": "markdown",
   "metadata": {},
   "source": [
    "### Due to the size of the data and my computer, reduce the size to only 10000"
   ]
  },
  {
   "cell_type": "code",
   "execution_count": 20,
   "metadata": {
    "collapsed": false
   },
   "outputs": [
    {
     "data": {
      "text/plain": [
       "528077     ...Baby One More Time\n",
       "430792                    一万个舍不得\n",
       "1317122                     水墨江南\n",
       "449924                       走天涯\n",
       "1582862                       慢慢\n",
       "372634                     Sofia\n",
       "1263006                     隐隐约约\n",
       "771681          我心永恒(《泰坦尼克号》片尾曲)\n",
       "1491314                 思美人(伴奏版)\n",
       "1549524                     花桥流水\n",
       "Name: song_name, dtype: object"
      ]
     },
     "execution_count": 20,
     "metadata": {},
     "output_type": "execute_result"
    }
   ],
   "source": [
    "df_play_song_name_sample = df_play.song_name.sample(10000)\n",
    "df_play_song_name_sample.head(10)"
   ]
  },
  {
   "cell_type": "code",
   "execution_count": 21,
   "metadata": {
    "collapsed": false
   },
   "outputs": [
    {
     "data": {
      "text/plain": [
       "(10000,)"
      ]
     },
     "execution_count": 21,
     "metadata": {},
     "output_type": "execute_result"
    }
   ],
   "source": [
    "df_play_song_name_sample.shape"
   ]
  },
  {
   "cell_type": "code",
   "execution_count": 22,
   "metadata": {
    "collapsed": false
   },
   "outputs": [
    {
     "data": {
      "text/plain": [
       "30932                            超级英雄\n",
       "498912                             逆战\n",
       "7159                               比才\n",
       "628530                       伤心城市(原版)\n",
       "139020               张杰 - 突然想爱你(Live)\n",
       "1715694             Stay Here Forever\n",
       "388875                            陌生人\n",
       "1216710                 爱上7妹你就说(绝美电子)\n",
       "155181                  See You Again\n",
       "540344                       爱情错位 DJ版\n",
       "1177510                            故梦\n",
       "1374176                         你把我灌醉\n",
       "424527          凉凉-(电视剧《三生三世十里桃花》片尾曲)\n",
       "1843750                          生来倔强\n",
       "732585                         亲爱的别想我\n",
       "1746260                            初雪\n",
       "1606593        糖糖 249104124 气场霸主 引领嗨潮\n",
       "276523                           胡桃夹子\n",
       "1621356                          理想三旬\n",
       "350733     温暖你的冬(失恋版)-(电视剧《是！尚先生》片尾曲)\n",
       "655798                             绅士\n",
       "242078                  徐良、汪苏泷 - 后会无期\n",
       "952734                           厚德载物\n",
       "1579238                         很傻很天真\n",
       "506136                     最近流行铃声精选40\n",
       "1540827                           那一天\n",
       "1411557                         我只在乎你\n",
       "1455660                         Piano\n",
       "1768883                     中华人民共和国国歌\n",
       "812297                   菊花爆满山(Live版)\n",
       "                      ...            \n",
       "114531                        你好(女孩声)\n",
       "1628095                     野孩子(Live)\n",
       "374072                         不分手的恋爱\n",
       "903838                            唱这歌\n",
       "1132729                          心心相印\n",
       "41620            Дыши [Dyshi,Breathe]\n",
       "1801490                    008隋唐演义(上)\n",
       "1254474                       当我想你的时候\n",
       "944081                        喜欢你 (原唱\n",
       "413235                             演员\n",
       "745639                    李玉刚 - 刚好遇见你\n",
       "1220213                 楞严咒(标准快诵版6分钟)\n",
       "679779                       远在北方孤独的鬼\n",
       "421935                           一曲红尘\n",
       "1146317                          为你等待\n",
       "1040352         邓丽君 - 路边的野花不要采 - 原版伴奏\n",
       "1381159                           丑八怪\n",
       "599732                           梦里是谁\n",
       "339326                           告白气球\n",
       "1300068                           白玫瑰\n",
       "352199                            小蛮腰\n",
       "1489457                         我是中国人\n",
       "780863                          我只在乎你\n",
       "1769470                       秋叶黄了想爹娘\n",
       "918623                           心有独钟\n",
       "362418                             圆圈\n",
       "1203332                     天下(dj加快版)\n",
       "1822038                        阿尔山的姑娘\n",
       "1789643                        僕はあなたを\n",
       "1487007                          勉为其难\n",
       "Name: song_name, dtype: object"
      ]
     },
     "execution_count": 22,
     "metadata": {},
     "output_type": "execute_result"
    }
   ],
   "source": [
    "df_play_train_song_name_sample = df_play_train.song_name.sample(10000)\n",
    "df_play_train_song_name_sample"
   ]
  },
  {
   "cell_type": "code",
   "execution_count": 23,
   "metadata": {
    "collapsed": false
   },
   "outputs": [
    {
     "data": {
      "text/plain": [
       "30932                   超级英雄\n",
       "498912                    逆战\n",
       "7159                      比才\n",
       "628530              伤心城市(原版)\n",
       "139020      张杰 - 突然想爱你(Live)\n",
       "1715694    Stay Here Forever\n",
       "388875                   陌生人\n",
       "1216710        爱上7妹你就说(绝美电子)\n",
       "155181         See You Again\n",
       "540344              爱情错位 DJ版\n",
       "Name: song_name, dtype: object"
      ]
     },
     "execution_count": 23,
     "metadata": {},
     "output_type": "execute_result"
    }
   ],
   "source": [
    "df_play_train_song_name_sample.head(10)"
   ]
  },
  {
   "cell_type": "code",
   "execution_count": 24,
   "metadata": {
    "collapsed": true
   },
   "outputs": [],
   "source": [
    "df_play_song_name_sample_v = vectorizer.fit_transform(df_play_song_name_sample).toarray()"
   ]
  },
  {
   "cell_type": "code",
   "execution_count": 25,
   "metadata": {
    "collapsed": true
   },
   "outputs": [],
   "source": [
    "df_play_train_song_name_sample_v = vectorizer.fit_transform(df_play_train_song_name_sample).toarray()"
   ]
  },
  {
   "cell_type": "code",
   "execution_count": 26,
   "metadata": {
    "collapsed": false
   },
   "outputs": [
    {
     "data": {
      "text/plain": [
       "[u'2015',\n",
       " u'2016',\n",
       " u'30\\u79d2\\u94c3\\u58f0\\u7248',\n",
       " u'32\\u79d2\\u94c3\\u58f0\\u7248',\n",
       " u'34\\u79d2\\u94c3\\u58f0\\u7248',\n",
       " u'36\\u79d2\\u94c3\\u58f0\\u7248',\n",
       " u'3d',\n",
       " u'acoustic',\n",
       " u'animals',\n",
       " u'away',\n",
       " u'baby',\n",
       " u'bad',\n",
       " u'beat',\n",
       " u'beautiful',\n",
       " u'beauty',\n",
       " u'better',\n",
       " u'big',\n",
       " u'black',\n",
       " u'bling',\n",
       " u'body',\n",
       " u'bonus',\n",
       " u'boom',\n",
       " u'booty',\n",
       " u'bounce',\n",
       " u'bow',\n",
       " u'boy',\n",
       " u'butter',\n",
       " u'bye',\n",
       " u'cctv\\u97f3\\u4e50\\u9891\\u9053',\n",
       " u'cd',\n",
       " u'church',\n",
       " u'cil',\n",
       " u'city',\n",
       " u'color',\n",
       " u'com',\n",
       " u'coming',\n",
       " u'dance',\n",
       " u'darkness',\n",
       " u'day',\n",
       " u'dear',\n",
       " u'deep',\n",
       " u'demo',\n",
       " u'detresse',\n",
       " u'diamonds',\n",
       " u'dj',\n",
       " u'dj\\u7248',\n",
       " u'dj\\u821e\\u66f2',\n",
       " u'don',\n",
       " u'dream',\n",
       " u'ed',\n",
       " u'edit',\n",
       " u'electronic',\n",
       " u'en',\n",
       " u'end',\n",
       " u'everybody',\n",
       " u'everytime',\n",
       " u'explicit',\n",
       " u'extended',\n",
       " u'face',\n",
       " u'fade',\n",
       " u'faded',\n",
       " u'fantastic',\n",
       " u'far',\n",
       " u'feat',\n",
       " u'fly',\n",
       " u'forever',\n",
       " u'free',\n",
       " u'girl',\n",
       " u'girls',\n",
       " u'god',\n",
       " u'good',\n",
       " u'goodbye',\n",
       " u'got',\n",
       " u'gotta',\n",
       " u'hand',\n",
       " u'happy',\n",
       " u'heart',\n",
       " u'hold\\u4e0d\\u4f4f\\u7684\\u7231',\n",
       " u'home',\n",
       " u'hot',\n",
       " u'house',\n",
       " u'imagine',\n",
       " u'immortals',\n",
       " u'jagger',\n",
       " u'japanese',\n",
       " u'july',\n",
       " u'just',\n",
       " u'knew',\n",
       " u'know',\n",
       " u'la',\n",
       " u'lady',\n",
       " u'late',\n",
       " u'leave',\n",
       " u'let',\n",
       " u'life',\n",
       " u'like',\n",
       " u'little',\n",
       " u'live',\n",
       " u'live\\u7248',\n",
       " u'long',\n",
       " u'loop',\n",
       " u'love',\n",
       " u'mad',\n",
       " u'make',\n",
       " u'mama',\n",
       " u'man',\n",
       " u'maps',\n",
       " u'marchi',\n",
       " u'maybe',\n",
       " u'mc\\u9ad8\\u8fea',\n",
       " u'mean',\n",
       " u'mind',\n",
       " u'mix',\n",
       " u'moment',\n",
       " u'moon',\n",
       " u'moves',\n",
       " u'movie',\n",
       " u'mp3',\n",
       " u'mqms2',\n",
       " u'msg_0518340328179d6bb39e860106',\n",
       " u'music',\n",
       " u'na',\n",
       " u'need',\n",
       " u'new',\n",
       " u'night',\n",
       " u'oh',\n",
       " u'op',\n",
       " u'original',\n",
       " u'outside',\n",
       " u'party',\n",
       " u'payphone',\n",
       " u'perfect',\n",
       " u'piano',\n",
       " u'poker',\n",
       " u'possible',\n",
       " u'quit',\n",
       " u'radio',\n",
       " u'rain',\n",
       " u'remix',\n",
       " u'ride',\n",
       " u'right',\n",
       " u'river',\n",
       " u'rock',\n",
       " u'rolling',\n",
       " u'run',\n",
       " u'sad',\n",
       " u'say',\n",
       " u'schnappi',\n",
       " u'set',\n",
       " u'sex',\n",
       " u'sexy',\n",
       " u'shape',\n",
       " u'shoulder',\n",
       " u'single',\n",
       " u'size',\n",
       " u'sky',\n",
       " u'someday',\n",
       " u'song',\n",
       " u'starboy',\n",
       " u'stars',\n",
       " u'stay',\n",
       " u'stop',\n",
       " u'sugar',\n",
       " u'summer',\n",
       " u'superstition',\n",
       " u'talk',\n",
       " u'terrien',\n",
       " u'tfboys',\n",
       " u'thing',\n",
       " u'thinking',\n",
       " u'time',\n",
       " u'toc',\n",
       " u'today',\n",
       " u'tomorrow',\n",
       " u'tonight',\n",
       " u'track',\n",
       " u'trance',\n",
       " u'trouble',\n",
       " u'truth',\n",
       " u'try',\n",
       " u'tv',\n",
       " u'ver',\n",
       " u'version',\n",
       " u'video',\n",
       " u'waiting',\n",
       " u'wanna',\n",
       " u'want',\n",
       " u'water',\n",
       " u'way',\n",
       " u'weiwei',\n",
       " u'whistle',\n",
       " u'wish',\n",
       " u'wonder',\n",
       " u'world',\n",
       " u'written',\n",
       " u'yeah\\u5c0f\\u9ec4\\u4eba\\u7535\\u4e50\\u5473\\u9053_158372',\n",
       " u'yesterday',\n",
       " u'york',\n",
       " u'young',\n",
       " u'\\u4e00\\u4e07\\u4e2a\\u5bf9\\u4e0d\\u8d77',\n",
       " u'\\u4e00\\u4e07\\u4e2a\\u7406\\u7531',\n",
       " u'\\u4e00\\u4e07\\u4e2a\\u820d\\u4e0d\\u5f97',\n",
       " u'\\u4e00\\u4e2a\\u4eba\\u7684\\u5bc2\\u5bde\\u4e24\\u4e2a\\u4eba\\u7684\\u9519',\n",
       " u'\\u4e00\\u4eba\\u4e00\\u9996\\u6210\\u540d\\u66f2',\n",
       " u'\\u4e00\\u4eba\\u6211\\u996e\\u9152\\u9189',\n",
       " u'\\u4e00\\u4eba\\u996e\\u9152\\u9189',\n",
       " u'\\u4e00\\u4eba\\u996e\\u9152\\u9189\\u552f\\u7f8e\\u7ffb\\u5531',\n",
       " u'\\u4e00\\u526a\\u6885',\n",
       " u'\\u4e00\\u5343\\u4e07\\u4e2a\\u62e5\\u62b1',\n",
       " u'\\u4e00\\u534a',\n",
       " u'\\u4e00\\u53ea\\u54c8\\u5df4\\u72d7',\n",
       " u'\\u4e00\\u573a\\u6e38\\u620f\\u4e00\\u573a\\u68a6',\n",
       " u'\\u4e00\\u58f6\\u8001\\u9152',\n",
       " u'\\u4e00\\u5929\\u4e00\\u5929',\n",
       " u'\\u4e00\\u5ff5\\u4e4b\\u95f4',\n",
       " u'\\u4e00\\u65e0\\u6240\\u6709',\n",
       " u'\\u4e00\\u66f2\\u7ea2\\u5c18',\n",
       " u'\\u4e00\\u6b21\\u5c31\\u597d',\n",
       " u'\\u4e00\\u751f\\u4f55\\u6c42',\n",
       " u'\\u4e00\\u751f\\u6240\\u7231',\n",
       " u'\\u4e00\\u751f\\u65e0\\u6094',\n",
       " u'\\u4e00\\u751f\\u6700\\u7231\\u7684\\u662f\\u4f60',\n",
       " u'\\u4e00\\u751f\\u6709\\u4f60',\n",
       " u'\\u4e00\\u767e\\u4e2a\\u653e\\u5fc3',\n",
       " u'\\u4e00\\u7b11\\u503e\\u57ce',\n",
       " u'\\u4e00\\u8d77\\u8d70\\u8fc7\\u7684\\u65e5\\u5b50',\n",
       " u'\\u4e00\\u8def\\u4e0a\\u6709\\u4f60',\n",
       " u'\\u4e00\\u8def\\u5411\\u5317',\n",
       " u'\\u4e03\\u6708\\u4e03\\u65e5\\u6674',\n",
       " u'\\u4e07\\u4e07\\u6ca1\\u60f3\\u5230',\n",
       " u'\\u4e07\\u6c34\\u5343\\u5c71\\u603b\\u662f\\u60c5',\n",
       " u'\\u4e09\\u5341\\u5c81\\u7684\\u5973\\u4eba',\n",
       " u'\\u4e09\\u53ea\\u5c0f\\u718a',\n",
       " u'\\u4e09\\u5b57\\u7ecf',\n",
       " u'\\u4e09\\u751f\\u4e09\\u4e16',\n",
       " u'\\u4e09\\u751f\\u4e09\\u4e16\\u5341\\u91cc\\u6843\\u82b1',\n",
       " u'\\u4e0a\\u6d77\\u6ee9',\n",
       " u'\\u4e0b\\u4e00\\u79d2',\n",
       " u'\\u4e0b\\u4e00\\u7ad9\\u5929\\u540e',\n",
       " u'\\u4e0b\\u5b8c\\u8fd9\\u573a\\u96e8',\n",
       " u'\\u4e0b\\u5b9a\\u51b3\\u5fc3\\u5fd8\\u8bb0\\u4f60',\n",
       " u'\\u4e0b\\u8f88\\u5b50\\u4e5f\\u8981\\u627e\\u5230\\u4f60',\n",
       " u'\\u4e0b\\u8f88\\u5b50\\u505a\\u4f60\\u7684\\u5973\\u4eba',\n",
       " u'\\u4e0d\\u4f1a\\u8bf4\\u8bdd\\u7684\\u7231\\u60c5',\n",
       " u'\\u4e0d\\u518d\\u72b9\\u8c6b',\n",
       " u'\\u4e0d\\u518d\\u8054\\u7cfb',\n",
       " u'\\u4e0d\\u5206\\u624b\\u7684\\u604b\\u7231',\n",
       " u'\\u4e0d\\u5fc5\\u5728\\u4e4e\\u6211\\u662f\\u8c01',\n",
       " u'\\u4e0d\\u662f\\u56e0\\u4e3a\\u5bc2\\u5bde\\u624d\\u60f3\\u4f60',\n",
       " u'\\u4e0d\\u80fd\\u8bf4\\u7684\\u79d8\\u5bc6',\n",
       " u'\\u4e0d\\u88c5\\u9970\\u4f60\\u7684\\u68a6',\n",
       " u'\\u4e0d\\u8981\\u5728\\u6211\\u5bc2\\u5bde\\u7684\\u65f6\\u5019\\u8bf4\\u7231\\u6211',\n",
       " u'\\u4e0d\\u8981\\u5fd8\\u8bb0\\u6211\\u7231\\u4f60',\n",
       " u'\\u4e0d\\u8981\\u8bf4\\u8bdd',\n",
       " u'\\u4e0d\\u8bf4\\u518d\\u89c1',\n",
       " u'\\u4e11\\u516b\\u602a',\n",
       " u'\\u4e11\\u89d2',\n",
       " u'\\u4e16\\u4e0a\\u53ea\\u6709\\u5988\\u5988\\u597d',\n",
       " u'\\u4e1c\\u65b9\\u6bcd\\u4eb2',\n",
       " u'\\u4e24\\u4e2a\\u4eba',\n",
       " u'\\u4e24\\u4e2a\\u4eba\\u7684\\u56de\\u5fc6\\u4e00\\u4e2a\\u4eba\\u8fc7',\n",
       " u'\\u4e24\\u53ea\\u8001\\u864e',\n",
       " u'\\u4e2b\\u5934',\n",
       " u'\\u4e2d\\u56fd\\u6708\\u4eae',\n",
       " u'\\u4e2d\\u6587\\u5ba3\\u4f20\\u66f2',\n",
       " u'\\u4e3a\\u4e86\\u8c01',\n",
       " u'\\u4e3a\\u4e86\\u9047\\u89c1\\u4f60',\n",
       " u'\\u4e3a\\u4f60\\u6211\\u53d7\\u51b7\\u98ce\\u5439',\n",
       " u'\\u4e3a\\u60c5\\u6240\\u4f24',\n",
       " u'\\u4e3a\\u7231\\u75f4\\u72c2',\n",
       " u'\\u4e3b\\u4eba\\u516c\\u4eba\\u7269\\u66f2',\n",
       " u'\\u4e3b\\u9898\\u66f2',\n",
       " u'\\u4e5d\\u4e5d\\u516b\\u5341\\u4e00',\n",
       " u'\\u4e5d\\u513f',\n",
       " u'\\u4e5d\\u5dde\\u5929\\u7a7a\\u57ce',\n",
       " u'\\u4e71\\u4e16\\u70fd\\u706b\\u51fa\\u82f1\\u96c4',\n",
       " u'\\u4e89\\u6c14',\n",
       " u'\\u4e91\\u5dc5\\u4e4b\\u4e0a',\n",
       " u'\\u4eac\\u57ce\\u56db\\u5c11',\n",
       " u'\\u4eb2\\u7231\\u7684\\u4f60\\u5728\\u54ea\\u91cc',\n",
       " u'\\u4eb2\\u7231\\u7684\\u522b\\u60f3\\u6211',\n",
       " u'\\u4eb2\\u7231\\u7684\\u5c0f\\u5b69',\n",
       " u'\\u4eba\\u6c11\\u7684\\u540d\\u4e49',\n",
       " u'\\u4eba\\u8d70\\u8336\\u51c9',\n",
       " u'\\u4ec0\\u4e48\\u6837\\u7684\\u7231\\u60c5',\n",
       " u'\\u4eca\\u751f\\u7231\\u7684\\u5c31\\u662f\\u4f60',\n",
       " u'\\u4ece\\u4f60\\u7684\\u5168\\u4e16\\u754c\\u8def\\u8fc7',\n",
       " u'\\u4ece\\u5929\\u513f\\u964d',\n",
       " u'\\u4ee5\\u4eba\\u6c11\\u7684\\u540d\\u4e49',\n",
       " u'\\u4ee5\\u540e\\u7684\\u4ee5\\u540e',\n",
       " u'\\u4f20\\u5947',\n",
       " u'\\u4f24\\u4e0d\\u8d77',\n",
       " u'\\u4f24\\u4e86\\u5fc3\\u7684\\u5973\\u4eba\\u600e\\u4e48\\u4e86',\n",
       " u'\\u4f24\\u5fc3\\u57ce\\u5e02',\n",
       " u'\\u4f24\\u5fc3\\u7684\\u65f6\\u5019\\u53ef\\u4ee5\\u542c\\u60c5\\u6b4c',\n",
       " u'\\u4f24\\u611f\\u6b4c\\u66f2',\n",
       " u'\\u4f34\\u594f',\n",
       " u'\\u4f34\\u594f\\u7248',\n",
       " u'\\u4f55\\u4ee5\\u7b19\\u7bab\\u9ed8',\n",
       " u'\\u4f59\\u7f6a',\n",
       " u'\\u4f5b\\u6559',\n",
       " u'\\u4f60\\u4e0d\\u662f\\u771f\\u6b63\\u7684\\u5feb\\u4e50',\n",
       " u'\\u4f60\\u4e0d\\u6765\\u6211\\u4e0d\\u8001',\n",
       " u'\\u4f60\\u4f1a\\u7231\\u6211\\u5230\\u4ec0\\u4e48\\u65f6\\u5019',\n",
       " u'\\u4f60\\u5230\\u5e95\\u6709\\u6ca1\\u6709\\u7231\\u8fc7\\u6211',\n",
       " u'\\u4f60\\u5230\\u5e95\\u7231\\u8c01',\n",
       " u'\\u4f60\\u597d',\n",
       " u'\\u4f60\\u5c31\\u4e0d\\u8981\\u60f3\\u8d77\\u6211',\n",
       " u'\\u4f60\\u6002\\u4e86',\n",
       " u'\\u4f60\\u600e\\u4e48\\u8bf4',\n",
       " u'\\u4f60\\u628a\\u7231\\u60c5\\u7ed9\\u4e86\\u8c01',\n",
       " u'\\u4f60\\u6c38\\u8fdc\\u4e0d\\u77e5\\u9053',\n",
       " u'\\u4f60\\u7167\\u987e\\u597d\\u4ed6',\n",
       " u'\\u4f60\\u725b\\u4ec0\\u4e48\\u725b',\n",
       " u'\\u4f60\\u7684\\u540d\\u5b57',\n",
       " u'\\u4f60\\u7684\\u80cc\\u5305',\n",
       " u'\\u4f60\\u7684\\u8fc7\\u53bb\\u6211\\u4e0d\\u4ecb\\u610f',\n",
       " u'\\u4f60\\u8d70\\u5427',\n",
       " u'\\u4f60\\u8fc7\\u5f97\\u597d\\u5417',\n",
       " u'\\u4f60\\u8fd8\\u8981\\u6211\\u600e\\u6837',\n",
       " u'\\u4fe1\\u4ef0',\n",
       " u'\\u5014\\u5f3a',\n",
       " u'\\u501a\\u5929\\u5c60\\u9f99\\u8bb0',\n",
       " u'\\u501f\\u53e3',\n",
       " u'\\u501f\\u7528\\u4e00\\u4e0b\\u4f60\\u7684\\u7231',\n",
       " u'\\u503e\\u5c3d\\u5929\\u4e0b',\n",
       " u'\\u5047\\u5982',\n",
       " u'\\u5047\\u5982\\u7231\\u6709\\u5929\\u610f',\n",
       " u'\\u504f\\u504f\\u559c\\u6b22\\u4f60',\n",
       " u'\\u504f\\u7231',\n",
       " u'\\u505a\\u4f60\\u5fc3\\u4e0a\\u7684\\u4eba',\n",
       " u'\\u505a\\u6211\\u8001\\u5a46\\u597d\\u4e0d\\u597d',\n",
       " u'\\u5077\\u60c5',\n",
       " u'\\u50bb\\u50bb\\u7684\\u7231\\u50bb\\u50bb\\u7b49\\u5f85',\n",
       " u'\\u513f\\u6b4c',\n",
       " u'\\u5144\\u5f1f\\u62b1\\u4e00\\u4e0b',\n",
       " u'\\u5149\\u8f89\\u5c81\\u6708',\n",
       " u'\\u514b\\u7f57\\u5730\\u4e9a\\u72c2\\u60f3\\u66f2',\n",
       " u'\\u5165\\u620f\\u592a\\u6df1',\n",
       " u'\\u5168\\u4e16\\u754c\\u5ba3\\u5e03\\u7231\\u4f60',\n",
       " u'\\u5168\\u4e16\\u754c\\u8c01\\u503e\\u542c\\u4f60',\n",
       " u'\\u518d\\u5ea6\\u91cd\\u76f8\\u9022',\n",
       " u'\\u518d\\u89c1',\n",
       " u'\\u518d\\u89c1\\u53ea\\u662f\\u964c\\u751f\\u4eba',\n",
       " u'\\u519b\\u4e2d\\u7eff\\u82b1',\n",
       " u'\\u519c\\u592b\\u6e14\\u592b',\n",
       " u'\\u51ac\\u5929\\u7684\\u79d8\\u5bc6',\n",
       " u'\\u51b0\\u96ea\\u5927\\u4f5c\\u6218',\n",
       " u'\\u51b0\\u96ea\\u5947\\u7f18',\n",
       " u'\\u51b2\\u52a8\\u7684\\u60e9\\u7f5a',\n",
       " u'\\u51b7\\u6f20',\n",
       " u'\\u51c9\\u51c9',\n",
       " u'\\u51e0\\u5ea6\\u68a6\\u56de\\u5927\\u5510',\n",
       " u'\\u51e4\\u51f0\\u60c5\\u6b4c',\n",
       " u'\\u51fa\\u5c40',\n",
       " u'\\u5200\\u5c71\\u706b\\u6d77',\n",
       " u'\\u5200\\u65a9\\u9006\\u5f92',\n",
       " u'\\u5200\\u90ce',\n",
       " u'\\u521a\\u521a\\u597d',\n",
       " u'\\u521a\\u597d\\u9047\\u89c1\\u4f60',\n",
       " u'\\u521d\\u5b66\\u8005',\n",
       " u'\\u521d\\u89c1\\u7248\\u4e3b\\u9898\\u66f2',\n",
       " u'\\u521d\\u96ea',\n",
       " u'\\u522b\\u6015\\u6211\\u4f24\\u5fc3',\n",
       " u'\\u522b\\u628a\\u75bc\\u4f60\\u7684\\u4eba\\u5f04\\u4e22\\u4e86',\n",
       " u'\\u522b\\u65e0\\u6240\\u6c42',\n",
       " u'\\u522b\\u8bf4\\u6211\\u7684\\u773c\\u6cea\\u4f60\\u65e0\\u6240\\u8c13',\n",
       " u'\\u5230\\u4e0d\\u4e86',\n",
       " u'\\u5243\\u5200\\u8fb9\\u7f18',\n",
       " u'\\u524d\\u4e16\\u7684\\u60c5\\u4eca\\u751f\\u7684\\u7f18',\n",
       " u'\\u524d\\u524d\\u524d\\u4e16',\n",
       " u'\\u5269\\u4e0b\\u7684\\u76db\\u590f',\n",
       " u'\\u529f\\u592b\\u745c\\u4f3d',\n",
       " u'\\u52a8\\u6f2b',\n",
       " u'\\u52a8\\u6f2b\\u4e3b\\u9898\\u66f2',\n",
       " u'\\u52a8\\u7269\\u4e16\\u754c',\n",
       " u'\\u52a8\\u753b',\n",
       " u'\\u52a8\\u753b\\u7247',\n",
       " u'\\u52a8\\u753b\\u7535\\u5f71',\n",
       " u'\\u52c7\\u6c14',\n",
       " u'\\u52c9\\u4e3a\\u5176\\u96be',\n",
       " u'\\u52cb\\u7ae0',\n",
       " u'\\u5306\\u5306\\u90a3\\u5e74',\n",
       " u'\\u5317\\u4e0a\\u5e7f\\u4e0d\\u76f8\\u4fe1\\u773c\\u6cea',\n",
       " u'\\u5317\\u4eac',\n",
       " u'\\u5341\\u4e00\\u5e74',\n",
       " u'\\u5341\\u5e74',\n",
       " u'\\u5341\\u5e74\\u620e\\u9a6c\\u5fc3\\u5b64\\u5355',\n",
       " u'\\u5341\\u70b9\\u534a\\u7684\\u5730\\u94c1',\n",
       " u'\\u5341\\u9001\\u7ea2\\u519b',\n",
       " u'\\u5343\\u5343\\u9615\\u6b4c',\n",
       " u'\\u5343\\u5343\\u9619\\u6b4c',\n",
       " u'\\u5343\\u53e4',\n",
       " u'\\u5343\\u5e74\\u6cea',\n",
       " u'\\u5343\\u91cc\\u4e4b\\u5916',\n",
       " u'\\u5348\\u591cdj',\n",
       " u'\\u5353\\u739b',\n",
       " u'\\u5355\\u66f2',\n",
       " u'\\u5355\\u8eab\\u60c5\\u6b4c',\n",
       " u'\\u5357\\u5c71\\u5357',\n",
       " u'\\u5357\\u65b9\\u59d1\\u5a18',\n",
       " u'\\u5357\\u65e0\\u836f\\u5e08\\u7409\\u7483\\u5149\\u5982\\u6765',\n",
       " u'\\u5357\\u6ce5\\u6e7e',\n",
       " u'\\u5357\\u6d77\\u59d1\\u5a18',\n",
       " u'\\u5371\\u9669\\u4e16\\u754c',\n",
       " u'\\u5377\\u73e0\\u5e18',\n",
       " u'\\u539f\\u5531',\n",
       " u'\\u539f\\u7248',\n",
       " u'\\u53c8\\u5728\\u68a6\\u4e2d\\u89c1\\u5230\\u4f60',\n",
       " u'\\u53c8\\u89c1\\u5c71\\u91cc\\u7ea2',\n",
       " u'\\u53cb\\u60c5\\u5c81\\u6708',\n",
       " u'\\u53d1\\u5982\\u96ea',\n",
       " u'\\u53d1\\u70e7\\u7248',\n",
       " u'\\u53ea\\u662f\\u6ca1\\u6709\\u5982\\u679c',\n",
       " u'\\u53ef\\u60dc\\u4e0d\\u662f\\u4f60',\n",
       " u'\\u540c\\u4e00\\u9996\\u6b4c',\n",
       " u'\\u540c\\u540d\\u4e2d\\u6587\\u4e3b\\u9898\\u66f2',\n",
       " u'\\u540c\\u540d\\u4e3b\\u9898\\u66f2',\n",
       " u'\\u540c\\u684c\\u7684\\u4f60',\n",
       " u'\\u540e\\u4f1a\\u65e0\\u671f',\n",
       " u'\\u542c\\u4e0d\\u5230',\n",
       " u'\\u542c\\u542c\\u6211\\u7684\\u5fc3',\n",
       " u'\\u542c\\u8bf4\\u4f60\\u6709\\u4e86\\u65b0\\u7684\\u7231\\u4eba',\n",
       " u'\\u543b\\u522b',\n",
       " u'\\u544a\\u767d\\u6c14\\u7403',\n",
       " u'\\u547c\\u4f26\\u8d1d\\u5c14\\u5927\\u8349\\u539f',\n",
       " u'\\u547d\\u786c',\n",
       " u'\\u54b1\\u4eec\\u76f8\\u7231\\u5427',\n",
       " u'\\u54b1\\u4eec\\u7ed3\\u5a5a\\u5427',\n",
       " u'\\u54c7\\u4e09\\u79d2',\n",
       " u'\\u54ed\\u7802',\n",
       " u'\\u5531\\u7740\\u60c5\\u6b4c\\u6d41\\u7740\\u6cea',\n",
       " u'\\u5577\\u4e2a\\u54e9\\u4e2a\\u5577',\n",
       " u'\\u557c\\u7b11\\u59fb\\u7f18',\n",
       " u'\\u559c\\u6b22\\u4f60',\n",
       " u'\\u56db\\u5b63\\u7ae5\\u8c23',\n",
       " u'\\u56de\\u5fc6\\u90a3\\u4e48\\u4f24',\n",
       " u'\\u56de\\u5fc6\\u91cc\\u7684\\u90a3\\u4e2a\\u4eba',\n",
       " u'\\u56e0\\u4e3a\\u7231\\u60c5',\n",
       " u'\\u56e0\\u4e3a\\u9047\\u89c1\\u4f60',\n",
       " u'\\u56fd\\u8bed',\n",
       " u'\\u56fd\\u8bed\\u7248',\n",
       " u'\\u5728\\u6b64\\u523b',\n",
       " u'\\u5728\\u8def\\u65c1',\n",
       " u'\\u574f\\u5973\\u5b69',\n",
       " u'\\u57ce\\u91cc\\u7684\\u6708\\u5149',\n",
       " u'\\u590f\\u6d1b\\u7279\\u70e6\\u607c',\n",
       " u'\\u591a\\u5e78\\u8fd0',\n",
       " u'\\u591c\\u66f2',\n",
       " u'\\u591c\\u7a7a\\u4e2d\\u6700\\u4eae\\u7684\\u661f',\n",
       " u'\\u591c\\u8272',\n",
       " u'\\u5927\\u57ce\\u5c0f\\u7231',\n",
       " u'\\u5927\\u60b2\\u5492',\n",
       " u'\\u5927\\u60b2\\u5492\\u7537\\u58f0\\u7248',\n",
       " u'\\u5927\\u68a6\\u60f3\\u5bb6',\n",
       " u'\\u5927\\u6d77',\n",
       " u'\\u5927\\u738b\\u53eb\\u6211\\u6765\\u5de1\\u5c71',\n",
       " u'\\u5927\\u8bdd\\u897f\\u6e38',\n",
       " u'\\u5927\\u95f9\\u5929\\u7afa',\n",
       " u'\\u5929\\u4e4b\\u75d5',\n",
       " u'\\u5929\\u4eae\\u4e86',\n",
       " u'\\u5929\\u4f7f\\u7684\\u7fc5\\u8180',\n",
       " u'\\u5929\\u5728\\u4e0b\\u96e8\\u6211\\u5728\\u60f3\\u4f60',\n",
       " u'\\u5929\\u5929\\u5411\\u4e0a',\n",
       " u'\\u5929\\u654c',\n",
       " u'\\u5929\\u6daf',\n",
       " u'\\u5929\\u6daf\\u6b4c\\u5973',\n",
       " u'\\u5929\\u7a7a\\u4e4b\\u57ce',\n",
       " u'\\u5929\\u884c\\u4e5d\\u6b4c',\n",
       " u'\\u5929\\u8def',\n",
       " u'\\u592a\\u50bb',\n",
       " u'\\u5954\\u8dd1',\n",
       " u'\\u5957\\u9a6c\\u6746',\n",
       " u'\\u5965\\u529b\\u7ed9',\n",
       " u'\\u5973\\u4eba\\u5fc3',\n",
       " u'\\u5973\\u4eba\\u7684\\u9009\\u62e9',\n",
       " u'\\u5973\\u4eba\\u82b1',\n",
       " u'\\u5973\\u513f\\u60c5',\n",
       " u'\\u5973\\u58f0\\u7248',\n",
       " u'\\u5973\\u5b69\\u58f0',\n",
       " u'\\u5979\\u8bf4',\n",
       " u'\\u5979\\u8bf4\\u5979\\u6ca1\\u559d\\u9189',\n",
       " u'\\u597d\\u4e45\\u4e0d\\u89c1',\n",
       " u'\\u597d\\u53ef\\u60dc',\n",
       " u'\\u597d\\u805a\\u597d\\u6563',\n",
       " u'\\u5982\\u679c\\u4e00\\u5207\\u6ca1\\u6709\\u53d1\\u751f\\u8fc7',\n",
       " u'\\u5982\\u679c\\u6211\\u7231\\u4f60',\n",
       " u'\\u5982\\u679c\\u6ca1\\u6709\\u4f60',\n",
       " u'\\u5988\\u54aa\\u7684\\u6000\\u62b1\\u91cc',\n",
       " u'\\u59d1\\u5a18',\n",
       " u'\\u5ac1\\u8863',\n",
       " u'\\u5b58\\u5728',\n",
       " u'\\u5b64\\u5355\\u5317\\u534a\\u7403',\n",
       " u'\\u5b88\\u5019\\u5728\\u51cc\\u6668\\u4e24\\u70b9\\u7684\\u4f24\\u5fc3\\u9152\\u5427',\n",
       " u'\\u5b8c\\u6574\\u7248',\n",
       " u'\\u5b8c\\u7f8e\\u4e16\\u754c',\n",
       " u'\\u5b9d\\u8d1d',\n",
       " u'\\u5ba0\\u7231',\n",
       " u'\\u5ba3\\u4f20\\u63a8\\u5e7f\\u66f2',\n",
       " u'\\u5ba3\\u4f20\\u66f2',\n",
       " u'\\u5bb9\\u6613\\u53d7\\u4f24\\u7684\\u5973\\u4eba',\n",
       " u'\\u5bc2\\u5bde\\u5bc2\\u5bde\\u5c31\\u597d',\n",
       " u'\\u5bc2\\u5bde\\u662f\\u4f60\\u7ed9\\u7684\\u82e6',\n",
       " u'\\u5bc2\\u5bde\\u6c99\\u6d32\\u51b7',\n",
       " u'\\u5bc2\\u5bde\\u7684\\u4eba\\u4f24\\u5fc3\\u7684\\u6b4c',\n",
       " u'\\u5bf8\\u5fc3\\u7b11\\u50b2',\n",
       " u'\\u5bf9\\u5531\\u7248',\n",
       " u'\\u5bf9\\u7740\\u80cc\\u5f71\\u8bf4\\u7231\\u4f60',\n",
       " u'\\u5c04\\u96d5\\u82f1\\u96c4\\u4f20',\n",
       " u'\\u5c0f\\u4e09',\n",
       " u'\\u5c0f\\u5154\\u5b50\\u4e56\\u4e56',\n",
       " u'\\u5c0f\\u57ce\\u6545\\u4e8b',\n",
       " u'\\u5c0f\\u5b69',\n",
       " u'\\u5c0f\\u5b9d\\u8d1d',\n",
       " u'\\u5c0f\\u5b9d\\u8d1d\\u5feb\\u5feb\\u7761',\n",
       " u'\\u5c0f\\u5c0f\\u7684\\u592a\\u9633',\n",
       " u'\\u5c0f\\u5c0f\\u7684\\u65b0\\u5a18\\u82b1',\n",
       " u'\\u5c0f\\u5e78\\u8fd0',\n",
       " u'\\u5c0f\\u60c5\\u6b4c',\n",
       " u'\\u5c0f\\u624b\\u62cd\\u62cd',\n",
       " u'\\u5c0f\\u65f6\\u4ee3',\n",
       " u'\\u5c0f\\u65f6\\u4ee33',\n",
       " u'\\u5c0f\\u7cbe\\u7075',\n",
       " u'\\u5c0f\\u82b3',\n",
       " u'\\u5c0f\\u82f9\\u679c',\n",
       " u'\\u5c0f\\u86ee\\u8170',\n",
       " u'\\u5c0f\\u87ba\\u53f7',\n",
       " u'\\u5c11\\u5e74\\u5440',\n",
       " u'\\u5c31\\u662f\\u8ba9\\u4f60\\u7f8e',\n",
       " u'\\u5c31\\u7b97\\u6ca1\\u6709\\u5982\\u679c',\n",
       " u'\\u5c31\\u8ba9\\u6211\\u7231\\u4f60',\n",
       " u'\\u5c81\\u6708\\u98ce\\u4e91',\n",
       " u'\\u5d07\\u62dc',\n",
       " u'\\u5de6\\u80a9',\n",
       " u'\\u5e1d\\u90fd',\n",
       " u'\\u5e72\\u676f',\n",
       " u'\\u5e72\\u7269\\u5973',\n",
       " u'\\u5e73\\u51e1\\u4e4b\\u8def',\n",
       " u'\\u5e74\\u5c11\\u6709\\u4f60',\n",
       " u'\\u5e74\\u8f6e',\n",
       " u'\\u5e78\\u798f\\u604b\\u4eba',\n",
       " u'\\u5e78\\u798f\\u7684\\u4e24\\u4e2a\\u4eba',\n",
       " u'\\u5e78\\u8fd0\\u7b26\\u53f7',\n",
       " u'\\u5e79\\u7269\\u5973',\n",
       " u'\\u5e7f\\u573a\\u821e',\n",
       " u'\\u5e7f\\u573a\\u821e\\u62c9\\u5e76',\n",
       " u'\\u5f20\\u5b66\\u53cb',\n",
       " u'\\u5f20\\u6770',\n",
       " u'\\u5f53\\u4f60',\n",
       " u'\\u5f53\\u4f60\\u8001\\u4e86',\n",
       " u'\\u5f53\\u6211\\u5b64\\u72ec\\u7684\\u65f6\\u5019\\u8fd8\\u53ef\\u4ee5\\u62b1\\u7740\\u4f60',\n",
       " u'\\u5f53\\u6211\\u60f3\\u4f60\\u7684\\u65f6\\u5019',\n",
       " u'\\u5f53\\u7231\\u5df2\\u6210\\u5f80\\u4e8b',\n",
       " u'\\u5f80\\u4e8b\\u53ea\\u80fd\\u56de\\u5473',\n",
       " u'\\u5f81\\u670d',\n",
       " u'\\u5f85\\u6211\\u957f\\u53d1\\u53ca\\u8170',\n",
       " u'\\u5f97\\u5230\\u4f60\\u7684\\u4eba\\u5374\\u5f97\\u4e0d\\u5230\\u4f60\\u7684\\u5fc3',\n",
       " u'\\u5fae\\u5fae\\u4e00\\u7b11\\u5f88\\u503e\\u57ce',\n",
       " u'\\u5fae\\u7535\\u5f71',\n",
       " u'\\u5fc3\\u5899',\n",
       " u'\\u5fc3\\u6709\\u72ec\\u949f',\n",
       " u'\\u5fc3\\u7ecf',\n",
       " u'\\u5fc3\\u96e8',\n",
       " u'\\u5fd8\\u4e0d\\u6389\\u7684\\u4f24',\n",
       " u'\\u5fd8\\u60c5\\u6c34',\n",
       " u'\\u5fd8\\u8bb0\\u65f6\\u95f4',\n",
       " u'\\u5fe0\\u4e49\\u4e8c\\u5b57',\n",
       " u'\\u600e\\u4e48\\u80fd\\u5fd8\\u4e86',\n",
       " u'\\u6012\\u653e\\u7684\\u751f\\u547d',\n",
       " u'\\u601d\\u6155',\n",
       " u'\\u602a\\u6211\\u54af',\n",
       " u'\\u604b\\u4eba\\u5fc3',\n",
       " u'\\u604b\\u66f21990',\n",
       " u'\\u6070\\u597d',\n",
       " u'\\u609f\\u7a7a',\n",
       " u'\\u60c5\\u4e66',\n",
       " u'\\u60c5\\u4eba',\n",
       " u'\\u60c5\\u4eba\\u9e64\\u9876\\u7ea2',\n",
       " u'\\u60c5\\u5723',\n",
       " u'\\u60ca\\u96f7',\n",
       " u'\\u60f3\\u4f60\\u60f3\\u75af\\u4e86',\n",
       " u'\\u610f\\u5916',\n",
       " u'\\u613f\\u505a\\u83e9\\u8428\\u90a3\\u6735\\u83b2',\n",
       " u'\\u6210\\u90fd',\n",
       " u'\\u6211\\u4e0d\\u540e\\u6094',\n",
       " u'\\u6211\\u4ece\\u8349\\u539f\\u6765',\n",
       " u'\\u6211\\u4eec\\u4e0d\\u8be5\\u8fd9\\u6837\\u7684',\n",
       " u'\\u6211\\u4eec\\u7684\\u7eaa\\u5ff5',\n",
       " u'\\u6211\\u4eec\\u90fd\\u4e00\\u6837',\n",
       " u'\\u6211\\u4eec\\u90fd\\u662f\\u5973\\u6c49\\u5b50',\n",
       " u'\\u6211\\u53ea\\u5728\\u4e4e\\u4f60',\n",
       " u'\\u6211\\u53ef\\u4ee5\\u5fd8\\u8bb0\\u4f60',\n",
       " u'\\u6211\\u548c\\u8349\\u539f\\u6709\\u4e2a\\u7ea6\\u5b9a',\n",
       " u'\\u6211\\u56db\\u6d77\\u4e3a\\u5bb6',\n",
       " u'\\u6211\\u597d\\u50cf\\u5728\\u54ea\\u89c1\\u8fc7\\u4f60',\n",
       " u'\\u6211\\u597d\\u60f3\\u4f60',\n",
       " u'\\u6211\\u60f3\\u5ff5\\u4f60\\u4e00\\u5982\\u72ec\\u81ea\\u64b8\\u7ba1\\u7684\\u60b2\\u4f24',\n",
       " u'\\u6211\\u662f\\u4f60\\u7684\\u98ce',\n",
       " u'\\u6211\\u662f\\u5426\\u4e5f\\u5728\\u4f60\\u5fc3\\u4e2d',\n",
       " u'\\u6211\\u662f\\u771f\\u7684\\u7231\\u4e0a\\u4f60',\n",
       " u'\\u6211\\u6700\\u4eb2\\u7231\\u7684',\n",
       " u'\\u6211\\u7231\\u4f60',\n",
       " u'\\u6211\\u7231\\u4f60\\u80dc\\u8fc7\\u4f60\\u7231\\u6211',\n",
       " u'\\u6211\\u7231\\u6211\\u7684\\u5e7c\\u513f\\u56ed',\n",
       " u'\\u6211\\u7684\\u5507\\u543b\\u4e0d\\u5230\\u6211\\u7231\\u7684\\u4eba',\n",
       " u'\\u6211\\u7684\\u58f0\\u97f3',\n",
       " u'\\u6211\\u7684\\u5929\\u7a7a',\n",
       " u'\\u6211\\u7684\\u597d\\u5144\\u5f1f',\n",
       " u'\\u6211\\u7684\\u597d\\u5988\\u5988',\n",
       " u'\\u6211\\u7684\\u5c0f\\u53ef\\u7231',\n",
       " u'\\u6211\\u7684\\u5fc3\\u5728\\u6d77\\u5bf9\\u9762',\n",
       " u'\\u6211\\u7684\\u5fc3\\u592a\\u4e71',\n",
       " u'\\u6211\\u7684\\u5feb\\u4e50\\u5c31\\u662f\\u60f3\\u4f60',\n",
       " u'\\u6211\\u7684\\u672a\\u6765\\u4e0d\\u662f\\u68a6',\n",
       " u'\\u6211\\u7684\\u68a6',\n",
       " u'\\u6211\\u7684\\u8499\\u53e4\\u9a6c',\n",
       " u'\\u6211\\u76f8\\u4fe1',\n",
       " u'\\u6211\\u8981\\u4f60',\n",
       " u'\\u6211\\u8981\\u9189\\u5728\\u8349\\u539f\\u4e0a',\n",
       " u'\\u6211\\u8fd8\\u60f3\\u5979',\n",
       " u'\\u624b\\u5fc3\\u91cc\\u7684\\u6e29\\u67d4',\n",
       " u'\\u628a\\u60b2\\u4f24\\u7559\\u7ed9\\u81ea\\u5df1',\n",
       " u'\\u6291\\u90c1\\u6210\\u75be',\n",
       " u'\\u62ab\\u7740\\u7f8a\\u76ae\\u7684\\u72fc',\n",
       " u'\\u6349\\u6ce5\\u9cc5',\n",
       " u'\\u63a8\\u5e7f\\u66f2',\n",
       " u'\\u63d2\\u66f2',\n",
       " u'\\u6446\\u6e21\\u4eba',\n",
       " u'\\u6447\\u7bee\\u66f2',\n",
       " u'\\u64e6\\u80a9\\u800c\\u8fc7',\n",
       " u'\\u6545\\u4e61\\u7684\\u539f\\u98ce\\u666f',\n",
       " u'\\u6545\\u68a6',\n",
       " u'\\u6591\\u9a6c',\n",
       " u'\\u65ad\\u60c5\\u7b14',\n",
       " u'\\u65ad\\u6865\\u6b8b\\u96ea',\n",
       " u'\\u65ad\\u70b9',\n",
       " u'\\u65af\\u7434\\u9ad8\\u4e3d\\u7684\\u4f24\\u5fc3',\n",
       " u'\\u65b0\\u7248',\n",
       " u'\\u65b9\\u5706\\u51e0\\u91cc',\n",
       " u'\\u65b9\\u5706\\u7248\\u63a8\\u5e7f\\u66f2',\n",
       " u'\\u65e0\\u6240\\u8c13',\n",
       " u'\\u65e0\\u7ebf\\u7535\\u89c6\\u5267',\n",
       " u'\\u65e5\\u672c\\u52a8\\u6f2b\\u4e3b\\u9898\\u66f2',\n",
       " u'\\u65f6\\u5149\\u7b14\\u58a8',\n",
       " u'\\u65f6\\u95f4\\u716e\\u96e8',\n",
       " u'\\u65f6\\u95f4\\u90fd\\u53bb\\u54ea\\u513f\\u4e86',\n",
       " u'\\u660e\\u5929',\n",
       " u'\\u660e\\u5929\\u4f1a\\u66f4\\u597d',\n",
       " u'\\u660e\\u660e\\u767d\\u767d\\u6211\\u7684\\u5fc3',\n",
       " u'\\u661f\\u8bed\\u5fc3\\u613f',\n",
       " u'\\u6625\\u5929\\u91cc',\n",
       " u'\\u6625\\u6696\\u82b1\\u5f00',\n",
       " u'\\u6625\\u7684\\u4e34\\u7ec8',\n",
       " u'\\u6628\\u591c\\u661f\\u8fb0',\n",
       " u'\\u662f\\u4f60',\n",
       " u'\\u665a\\u79cb',\n",
       " u'\\u6674\\u5929',\n",
       " u'\\u6696\\u6c34\\u66f2',\n",
       " u'\\u66a7\\u6627',\n",
       " u'\\u66f2\\u76ee',\n",
       " u'\\u66fe\\u7ecf\\u7684\\u4f60',\n",
       " u'\\u6700\\u4f73\\u635f\\u53cb',\n",
       " u'\\u6700\\u521d\\u7684\\u68a6\\u60f3',\n",
       " u'\\u6700\\u540e\\u4e00\\u6b21\\u7684\\u6e29\\u67d4',\n",
       " u'\\u6700\\u540e\\u7684\\u8bf7\\u6c42',\n",
       " u'\\u6700\\u65b0\\u94c3\\u58f0\\u7cbe\\u90098',\n",
       " u'\\u6700\\u70ab\\u6c11\\u65cf\\u98ce',\n",
       " u'\\u6700\\u719f\\u6089\\u7684\\u964c\\u751f\\u4eba',\n",
       " u'\\u6700\\u7231',\n",
       " u'\\u6700\\u8fdc\\u7684\\u4f60\\u662f\\u6211\\u6700\\u8fd1\\u7684\\u7231',\n",
       " u'\\u6708\\u4e0b\\u60c5\\u6b4c',\n",
       " u'\\u6708\\u4eae\\u4e4b\\u4e0a',\n",
       " u'\\u6708\\u4eae\\u60f9\\u7684\\u7978',\n",
       " u'\\u6708\\u5149',\n",
       " u'\\u6708\\u534a\\u5c0f\\u591c\\u66f2',\n",
       " u'\\u6708\\u6ee1\\u897f\\u697c',\n",
       " u'\\u6709\\u4f55\\u4e0d\\u53ef',\n",
       " u'\\u6709\\u591a\\u5c11\\u7231\\u53ef\\u4ee5\\u91cd\\u6765',\n",
       " u'\\u6709\\u6ca1\\u6709\\u4eba\\u544a\\u8bc9\\u4f60',\n",
       " u'\\u6709\\u70b9\\u751c',\n",
       " u'\\u670b\\u53cb',\n",
       " u'\\u670b\\u53cb\\u522b\\u54ed',\n",
       " u'\\u670b\\u53cb\\u7684\\u9152',\n",
       " u'\\u674e\\u7389\\u521a',\n",
       " u'\\u674e\\u767d',\n",
       " u'\\u6765\\u65e5\\u65b9\\u957f',\n",
       " u'\\u6765\\u751f\\u7f18',\n",
       " u'\\u6789\\u51dd\\u7709',\n",
       " u'\\u6797\\u4e2d\\u9e1f',\n",
       " u'\\u6797\\u4fca\\u6770',\n",
       " u'\\u67aa\\u6218\\u7f51\\u6e38',\n",
       " u'\\u67ff\\u5b50',\n",
       " u'\\u6800\\u5b50\\u82b1\\u5f00',\n",
       " u'\\u6881\\u795d',\n",
       " u'\\u6881\\u9759\\u8339',\n",
       " u'\\u68a6\\u56de\\u8fd8',\n",
       " u'\\u68a6\\u8349\\u539f',\n",
       " u'\\u68a6\\u9192\\u65f6\\u5206',\n",
       " u'\\u68a6\\u91cc\\u6c34\\u4e61',\n",
       " u'\\u6975\\u697d\\u6d44\\u571f',\n",
       " u'\\u6a21\\u7279',\n",
       " u'\\u6b4c\\u5728\\u98de',\n",
       " u'\\u6b63\\u9752\\u6625\\u63a8\\u5e7f\\u66f2',\n",
       " u'\\u6b7b\\u4e86\\u90fd\\u8981\\u7231',\n",
       " u'\\u6b87\\u96ea',\n",
       " u'\\u6c34\\u624b',\n",
       " u'\\u6c42\\u4f5b',\n",
       " u'\\u6c5f\\u5357',\n",
       " u'\\u6c5f\\u6e56',\n",
       " u'\\u6c5f\\u6e56\\u5927\\u9053',\n",
       " u'\\u6c6a\\u5cf0',\n",
       " u'\\u6c89\\u9ed8\\u662f\\u91d1',\n",
       " u'\\u6ca1\\u6709\\u4ec0\\u4e48\\u4e0d\\u540c',\n",
       " u'\\u6ca1\\u6709\\u4f60\\u966a\\u4f34\\u771f\\u7684\\u597d\\u5b64\\u5355',\n",
       " u'\\u6cb3\\u6d41',\n",
       " u'\\u6ce1\\u6cab',\n",
       " u'\\u6cf0\\u56fd\\u60c5\\u54e5',\n",
       " u'\\u6d1b\\u514b\\u738b\\u56fd3',\n",
       " u'\\u6d6a\\u5b50\\u5fc3\\u58f0',\n",
       " u'\\u6d6e\\u5938',\n",
       " u'\\u6d77\\u5e95',\n",
       " u'\\u6d77\\u9614\\u5929\\u7a7a',\n",
       " u'\\u6d9b\\u58f0\\u4f9d\\u65e7',\n",
       " u'\\u6df1\\u591c',\n",
       " u'\\u6df1\\u591c\\u4e66\\u5e97',\n",
       " u'\\u6e05\\u660e\\u96e8\\u4e0a',\n",
       " u'\\u6e29\\u67d4\\u4e61',\n",
       " u'\\u6eda\\u6eda\\u7ea2\\u5c18',\n",
       " u'\\u6f02\\u4eae\\u7684\\u674e\\u6167\\u73cd',\n",
       " u'\\u6f02\\u6d0b\\u8fc7\\u6d77\\u6765\\u770b\\u4f60',\n",
       " u'\\u6f14\\u5458',\n",
       " u'\\u6f14\\u594f\\u7248',\n",
       " u'\\u6f2b\\u52a8\\u4f5c',\n",
       " u'\\u6f2b\\u6b65\\u4eba\\u751f\\u8def',\n",
       " u'\\u6f47\\u6d12\\u8d70\\u4e00\\u56de',\n",
       " u'\\u706b\\u706b\\u7684\\u59d1\\u5a18',\n",
       " u'\\u706b\\u82d7',\n",
       " u'\\u706b\\u8fa3\\u8fa3\\u7684\\u60c5\\u6b4c',\n",
       " u'\\u7070\\u59d1\\u5a18',\n",
       " u'\\u7075\\u5f02\\u4e8b\\u4ef6\\u7c3fvol',\n",
       " u'\\u70df\\u706b',\n",
       " u'\\u70df\\u82b1\\u6613\\u51b7',\n",
       " u'\\u7231\\u4e0a\\u4e00\\u4e2a\\u4e0d\\u56de\\u5bb6\\u7684\\u4eba',\n",
       " u'\\u7231\\u4e0d\\u7231\\u6211',\n",
       " u'\\u7231\\u4e0e\\u75db\\u7684\\u8fb9\\u7f18',\n",
       " u'\\u7231\\u4f60',\n",
       " u'\\u7231\\u4f60\\u5728\\u5fc3\\u53e3\\u96be\\u5f00',\n",
       " u'\\u7231\\u56da',\n",
       " u'\\u7231\\u5728\\u6df1\\u79cb',\n",
       " u'\\u7231\\u5982\\u6f6e\\u6c34',\n",
       " u'\\u7231\\u5f88\\u7b80\\u5355',\n",
       " u'\\u7231\\u5f88\\u7f8e',\n",
       " u'\\u7231\\u60c5\\u5feb\\u9012',\n",
       " u'\\u7231\\u60c5\\u7761\\u9192\\u4e86',\n",
       " u'\\u7231\\u60c5\\u8f6c\\u79fb',\n",
       " u'\\u7231\\u60c5\\u9519\\u4f4d',\n",
       " u'\\u7231\\u62fc\\u624d\\u4f1a\\u8d62',\n",
       " u'\\u7231\\u662f\\u4e00\\u4e2a\\u75af\\u5b57',\n",
       " u'\\u7231\\u662f\\u4f60\\u6211',\n",
       " u'\\u7231\\u6b87',\n",
       " u'\\u7231\\u6c5f\\u5c71\\u66f4\\u7231\\u7f8e\\u4eba',\n",
       " u'\\u7231\\u6cb3',\n",
       " u'\\u7231\\u7684\\u4e16\\u754c\\u53ea\\u6709\\u4f60',\n",
       " u'\\u7231\\u7684\\u4f9b\\u517b',\n",
       " u'\\u7231\\u8981\\u600e\\u4e48\\u8bf4\\u51fa\\u53e3',\n",
       " u'\\u7231\\u8981\\u9003',\n",
       " u'\\u7236\\u4eb2',\n",
       " u'\\u7236\\u4eb2\\u5199\\u7684\\u6563\\u6587\\u8bd7',\n",
       " u'\\u7238\\u7238\\u5988\\u5988\\u542c\\u6211\\u8bf4',\n",
       " u'\\u7247\\u5934\\u66f2',\n",
       " u'\\u7247\\u5c3e\\u4e3b\\u9898\\u66f2',\n",
       " u'\\u7247\\u5c3e\\u66f2',\n",
       " u'\\u7247\\u6bb5',\n",
       " u'\\u7267\\u7f8a\\u66f2',\n",
       " u'\\u7275\\u4e1d\\u620f',\n",
       " u'\\u7279\\u522b\\u7248',\n",
       " u'\\u7279\\u522b\\u7684\\u7231\\u7ed9\\u7279\\u522b\\u7684\\u4f60',\n",
       " u'\\u72af\\u8d31',\n",
       " u'\\u72af\\u9519',\n",
       " u'\\u72d0\\u5996\\u5c0f\\u7ea2\\u5a18',\n",
       " u'\\u72ec\\u5531\\u7248',\n",
       " u'\\u72ec\\u5bb6\\u8bb0\\u5fc6',\n",
       " u'\\u72ec\\u89d2\\u620f',\n",
       " u'\\u731b\\u9f99\\u8fc7\\u6c5f',\n",
       " u'\\u738b\\u5983',\n",
       " u'\\u73ab\\u7470',\n",
       " u'\\u73ab\\u7470\\u662f\\u6211\\u5077\\u7684',\n",
       " u'\\u73ab\\u7470\\u82b1\\u7684\\u846c\\u793c',\n",
       " u'\\u73af\\u7ed5',\n",
       " u'\\u73af\\u7ed5dj',\n",
       " u'\\u73b0\\u573a\\u7248',\n",
       " u'\\u73cd\\u60dc',\n",
       " u'\\u7406\\u60f3\\u4e09\\u65ec',\n",
       " u'\\u751c\\u871c\\u871c',\n",
       " u'\\u751f\\u65e5\\u5feb\\u4e50',\n",
       " u'\\u751f\\u6765\\u5014\\u5f3a',\n",
       " u'\\u751f\\u6d3b\\u4e0d\\u6b62\\u773c\\u524d\\u7684\\u82df\\u4e14',\n",
       " u'\\u7535\\u5f71',\n",
       " u'\\u7535\\u5f71\\u4e3b\\u9898\\u66f2',\n",
       " u'\\u7535\\u89c6',\n",
       " u'\\u7535\\u89c6\\u5267',\n",
       " u'\\u7535\\u89c6\\u5267\\u4e3b\\u9898\\u66f2',\n",
       " u'\\u7535\\u89c6\\u5267\\u7247\\u5c3e\\u66f2',\n",
       " u'\\u7535\\u89c6\\u7247\\u5c3e\\u66f2',\n",
       " u'\\u7537\\u4eba\\u82b1',\n",
       " u'\\u7537\\u58f0\\u7248',\n",
       " u'\\u7537\\u5b69',\n",
       " u'\\u753b\\u5fc3',\n",
       " u'\\u7559\\u5728\\u6211\\u8eab\\u8fb9',\n",
       " u'\\u75db\\u5f7b\\u5fc3\\u6249',\n",
       " u'\\u75de\\u5b50\\u82f1\\u96c4',\n",
       " u'\\u767d\\u566a\\u97f3',\n",
       " u'\\u767d\\u72d0',\n",
       " u'\\u767d\\u9f99\\u9a6c',\n",
       " u'\\u7687\\u540e\\u5927\\u9053\\u4e1c',\n",
       " u'\\u76ae\\u5361\\u4e18',\n",
       " u'\\u76ae\\u76ae\\u867e\\u6211\\u4eec\\u8d70',\n",
       " u'\\u76db\\u590f\\u5149\\u5e74',\n",
       " u'\\u76f8\\u601d\\u6e21\\u53e3',\n",
       " u'\\u76f8\\u601d\\u7684\\u503a',\n",
       " u'\\u76f8\\u89c1\\u6068\\u665a',\n",
       " u'\\u770b\\u900f\\u7231\\u60c5\\u770b\\u900f\\u4f60',\n",
       " u'\\u771f\\u7684\\u7231\\u4f60',\n",
       " u'\\u7761\\u5427',\n",
       " u'\\u793e\\u4f1a\\u6447',\n",
       " u'\\u7941\\u9686',\n",
       " u'\\u795d\\u4f60\\u4e00\\u8def\\u987a\\u98ce',\n",
       " u'\\u795e\\u96d5\\u4fa0\\u4fa3',\n",
       " u'\\u79bb\\u522b\\u7684\\u79cb\\u5929',\n",
       " u'\\u79bb\\u5f00\\u7684\\u4eba\\u7559\\u4e0b\\u7684\\u6b4c',\n",
       " u'\\u79cb\\u5929\\u4e0d\\u56de\\u6765',\n",
       " u'\\u7a33\\u7a33\\u7684\\u5e78\\u798f',\n",
       " u'\\u7a3b\\u9999',\n",
       " u'\\u7a7a\\u6c14',\n",
       " u'\\u7a81\\u7136\\u597d\\u60f3\\u4f60',\n",
       " u'\\u7a81\\u7136\\u60f3\\u7231\\u4f60',\n",
       " u'\\u7a81\\u7136\\u60f3\\u8d77\\u4f60',\n",
       " u'\\u7ad9\\u5728\\u8349\\u539f\\u671b\\u5317\\u4eac',\n",
       " u'\\u7ae5\\u58f0\\u7248',\n",
       " u'\\u7ae5\\u8bdd\\u9547',\n",
       " u'\\u7b11\\u5fd8\\u4e66',\n",
       " u'\\u7b14\\u8bb0',\n",
       " u'\\u7b2c\\u4e00\\u6b21',\n",
       " u'\\u7b2c\\u4e8c\\u5b63',\n",
       " u'\\u7b49\\u4e00\\u5206\\u949f',\n",
       " u'\\u7b49\\u4f60\\u7b49\\u4e86\\u90a3\\u4e48\\u4e45',\n",
       " u'\\u7b49\\u4f60\\u7b49\\u5230\\u6211\\u5fc3\\u75db',\n",
       " u'\\u7b54\\u5e94\\u4e0d\\u7231\\u4f60',\n",
       " u'\\u7b80\\u5355\\u7231',\n",
       " u'\\u7c7b\\u4f3c\\u7231\\u60c5',\n",
       " u'\\u7c89\\u7ea2\\u732a\\u5c0f\\u59b9',\n",
       " u'\\u7c89\\u7ea2\\u8272\\u7684\\u56de\\u5fc6',\n",
       " u'\\u7ca4\\u8bed',\n",
       " u'\\u7ca4\\u8bed\\u7248',\n",
       " u'\\u7cbe\\u7075\\u738b\\u5ea7',\n",
       " u'\\u7d20\\u989c',\n",
       " u'\\u7e41\\u82b1',\n",
       " u'\\u7ea2\\u5c18\\u60c5\\u6b4c',\n",
       " u'\\u7ea2\\u65e5',\n",
       " u'\\u7ea2\\u73ab\\u7470',\n",
       " u'\\u7ea2\\u8272\\u9ad8\\u8ddf\\u978b',\n",
       " u'\\u7ea2\\u8c46',\n",
       " u'\\u7ea2\\u8c46\\u66f2',\n",
       " u'\\u7ea2\\u989c\\u65e7',\n",
       " u'\\u7ea2\\u9ad8\\u7cb1',\n",
       " u'\\u7ea6\\u5b9a',\n",
       " u'\\u7eaf\\u97f3\\u4e50',\n",
       " u'\\u7ec5\\u58eb',\n",
       " u'\\u7ed9\\u6211\\u4e00\\u4e2a\\u7406\\u7531\\u5fd8\\u8bb0',\n",
       " u'\\u7ed9\\u6211\\u4e00\\u9996\\u6b4c\\u7684\\u65f6\\u95f4',\n",
       " u'\\u7efc\\u827a',\n",
       " u'\\u7eff\\u7f57\\u88d9',\n",
       " u'\\u7f51\\u7edc\\u5267',\n",
       " u'\\u7f51\\u7edc\\u60c5\\u7f18',\n",
       " u'\\u7f51\\u7edc\\u6b4c\\u624b',\n",
       " u'\\u7f55\\u89c1\\u786c\\u66f2',\n",
       " u'\\u7f8e\\u4e3d\\u7684\\u795e\\u8bdd',\n",
       " u'\\u7f8e\\u4e3d\\u7684\\u79d8\\u5bc6',\n",
       " u'\\u7f8e\\u4eba\\u5236\\u9020',\n",
       " u'\\u7f8e\\u5973\\u4e0e\\u91ce\\u517d',\n",
       " u'\\u7f8e\\u9152\\u52a0\\u5496\\u5561',\n",
       " u'\\u8001\\u4e5d\\u95e8',\n",
       " u'\\u8001\\u5730\\u65b9\\u7684\\u96e8',\n",
       " u'\\u8001\\u5a46\\u4f60\\u542c\\u6211\\u8bf4',\n",
       " u'\\u8001\\u5a46\\u4f60\\u8f9b\\u82e6\\u4e86',\n",
       " u'\\u8001\\u5a46\\u6700\\u5927',\n",
       " u'\\u8001\\u7537\\u5b69',\n",
       " u'\\u8001\\u7537\\u5b69\\u4e4b\\u731b\\u9f99\\u8fc7\\u6c5f',\n",
       " u'\\u8001\\u7537\\u5b69\\u731b\\u9f99\\u8fc7\\u6c5f',\n",
       " u'\\u80e1\\u6843\\u5939\\u5b50',\n",
       " u'\\u81ea\\u5df1',\n",
       " u'\\u81ea\\u7531\\u98de\\u7fd4',\n",
       " u'\\u81f3\\u5c11\\u8fd8\\u6709\\u4f60',\n",
       " u'\\u81f4\\u7231',\n",
       " u'\\u81f4\\u9752\\u6625',\n",
       " u'\\u820d\\u4e0d\\u5f97',\n",
       " u'\\u821e\\u66f2',\n",
       " u'\\u8282\\u76ee',\n",
       " u'\\u82b1\\u5343\\u9aa8',\n",
       " u'\\u82b1\\u5f00\\u5e74\\u5c11',\n",
       " u'\\u82b1\\u5f00\\u7684\\u65f6\\u5019\\u4f60\\u5c31\\u6765\\u770b\\u6211',\n",
       " u'\\u82b1\\u623f\\u59d1\\u5a18',\n",
       " u'\\u82b1\\u6865\\u6d41\\u6c34',\n",
       " u'\\u82b1\\u95f4\\u63d0\\u58f6\\u65b9\\u5927\\u53a8',\n",
       " u'\\u82f1\\u96c4\\u8054\\u76df',\n",
       " u'\\u8309\\u8389\\u82b1',\n",
       " u'\\u8349\\u539f\\u4e4b\\u591c',\n",
       " u'\\u8377\\u5858\\u6708\\u8272',\n",
       " u'\\u83ab\\u624e\\u7279',\n",
       " u'\\u83ca\\u82b1\\u7206\\u6ee1\\u5c71',\n",
       " u'\\u840d\\u805a',\n",
       " u'\\u8424\\u706b',\n",
       " u'\\u843d\\u82b1',\n",
       " u'\\u8463\\u5c0f\\u59d0',\n",
       " u'\\u846b\\u82a6\\u5a03',\n",
       " u'\\u85d5\\u65ad\\u4e1d\\u8fde',\n",
       " u'\\u85e4\\u8513\\u4e4b\\u95f4',\n",
       " u'\\u866b\\u513f\\u98de',\n",
       " u'\\u8774\\u8776\\u5c11\\u5973',\n",
       " u'\\u88c2\\u5fc3',\n",
       " u'\\u897f\\u6d77\\u60c5\\u6b4c',\n",
       " u'\\u897f\\u6e38\\u8bb0',\n",
       " u'\\u8ba4\\u771f\\u7684\\u96ea',\n",
       " u'\\u8ba9\\u5168\\u4e16\\u754c\\u77e5\\u9053\\u6211\\u7231\\u4f60',\n",
       " u'\\u8ba9\\u6211\\u7559\\u5728\\u4f60\\u8eab\\u8fb9',\n",
       " u'\\u8ba9\\u6cea\\u5316\\u4f5c\\u76f8\\u601d\\u96e8',\n",
       " u'\\u8ba9\\u7231\\u590d\\u70e7',\n",
       " u'\\u8bb2\\u4e0d\\u51fa\\u518d\\u89c1',\n",
       " u'\\u8bb8\\u591a\\u5e74\\u4ee5\\u540e',\n",
       " u'\\u8bc6\\u6c5d\\u4e0d\\u8bc6\\u4e01',\n",
       " u'\\u8be5\\u6b7b\\u7684\\u6e29\\u67d4',\n",
       " u'\\u8bf4\\u597d\\u7684\\u5e78\\u798f\\u5462',\n",
       " u'\\u8bfa\\u8a00',\n",
       " u'\\u8c01\\u7684\\u9752\\u6625\\u4e0d\\u8ff7\\u832b',\n",
       " u'\\u8c22\\u8c22\\u4f60\\u7684\\u7231',\n",
       " u'\\u8c22\\u8c22\\u4f60\\u7684\\u72311999',\n",
       " u'\\u8c22\\u8c22\\u60a8\\u7684\\u7231',\n",
       " u'\\u8d1d\\u52a0\\u5c14\\u6e56\\u7554',\n",
       " u'\\u8d56\\u6c49\\u7684\\u5e78\\u798f\\u6307\\u6570',\n",
       " u'\\u8d70\\u5929\\u6daf',\n",
       " u'\\u8d70\\u7740\\u8d70\\u7740\\u5c31\\u6563\\u4e86',\n",
       " u'\\u8d70\\u8fc7\\u5496\\u5561\\u5c4b',\n",
       " u'\\u8d75\\u96f7',\n",
       " u'\\u8def\\u8fb9\\u91ce\\u9910',\n",
       " u'\\u8eab\\u9a91\\u767d\\u9a6c',\n",
       " u'\\u8f66\\u7ad9',\n",
       " u'\\u8fc7\\u706b',\n",
       " u'\\u8fd8\\u9b42\\u95e8',\n",
       " u'\\u8fd9\\u4e00\\u5757\\u8fd8\\u6709\\u8c01',\n",
       " u'\\u8fea\\u58eb\\u5c3c\\u7535\\u5f71',\n",
       " u'\\u8ffd\\u68a6\\u4eba',\n",
       " u'\\u9006\\u6218',\n",
       " u'\\u9006\\u6d41\\u6210\\u6cb3',\n",
       " u'\\u9047\\u89c1',\n",
       " u'\\u9057\\u61be',\n",
       " u'\\u9065\\u8fdc\\u7684\\u8ddd\\u79bb',\n",
       " u'\\u90a3\\u5e74\\u9752\\u6625\\u6211\\u4eec\\u6b63\\u597d',\n",
       " u'\\u90ce\\u7684\\u8bf1\\u60d1',\n",
       " u'\\u90fd\\u662f\\u5bf9\\u7684',\n",
       " u'\\u9152\\u5e72\\u5018\\u5356\\u65e0',\n",
       " u'\\u9177\\u6211\\u97f3\\u4e50\\u7279\\u522b\\u7248',\n",
       " u'\\u9177\\u6211\\u97f3\\u4e50\\u8c03\\u9891vol',\n",
       " u'\\u9178\\u9178\\u751c\\u751c\\u5c31\\u662f\\u6211',\n",
       " u'\\u9189\\u7ea2\\u989c',\n",
       " u'\\u91ce\\u5b50',\n",
       " u'\\u94a2\\u7434\\u66f2',\n",
       " u'\\u94c1\\u8840\\u4e39\\u5fc3',\n",
       " u'\\u94c3\\u58f0',\n",
       " u'\\u9519\\u8fc7\\u4e86\\u7f18\\u5206\\u9519\\u8fc7\\u4f60',\n",
       " u'\\u9519\\u8fc7\\u7684\\u60c5\\u4eba',\n",
       " u'\\u9526\\u9ca4\\u6284',\n",
       " u'\\u957f\\u76f8\\u5fc6',\n",
       " u'\\u95f9\\u591f\\u4e86\\u6ca1\\u6709',\n",
       " u'\\u95fd\\u5357\\u8bed',\n",
       " u'\\u9634\\u5929',\n",
       " u'\\u9690\\u5f62\\u7684\\u7fc5\\u8180',\n",
       " u'\\u96be\\u5fd8\\u7684\\u4e00\\u5929',\n",
       " u'\\u96e8\\u4e2d\\u98d8\\u8361\\u7684\\u56de\\u5fc6',\n",
       " u'\\u9738\\u738b\\u522b\\u59ec',\n",
       " u'\\u9752\\u4e91\\u5fd7',\n",
       " u'\\u9752\\u6625\\u4fee\\u70bc\\u624b\\u518c',\n",
       " u'\\u9752\\u82b1\\u74f7',\n",
       " u'\\u975e\\u4e3b\\u6d41\\u9ad8\\u6f6e\\u624b\\u673a\\u94c3\\u58f0',\n",
       " u'\\u9762\\u671d\\u5927\\u6d77\\u6625\\u6696\\u82b1\\u5f00',\n",
       " u'\\u9884\\u8c0b',\n",
       " u'\\u98ce\\u4e2d\\u6709\\u6735\\u96e8\\u505a\\u7684\\u4e91',\n",
       " u'\\u98ce\\u5ea6',\n",
       " u'\\u98ce\\u7b5d\\u8bef',\n",
       " u'\\u98ce\\u7ee7\\u7eed\\u5439',\n",
       " u'\\u98d8\\u6d0b\\u8fc7\\u6d77\\u6765\\u770b\\u4f60',\n",
       " u'\\u98de\\u5929',\n",
       " u'\\u9a74\\u5f97\\u6c34',\n",
       " u'\\u9a7c\\u94c3',\n",
       " u'\\u9ad8\\u5b89',\n",
       " u'\\u9ad8\\u5c1a',\n",
       " u'\\u9b42\\u7275\\u68a6\\u7ed5',\n",
       " u'\\u9b54\\u6cd5\\u57ce\\u5821',\n",
       " u'\\u9e2d\\u68a8\\u5927',\n",
       " u'\\u9e3f\\u96c1',\n",
       " u'\\u9ec4\\u660f']"
      ]
     },
     "execution_count": 26,
     "metadata": {},
     "output_type": "execute_result"
    }
   ],
   "source": [
    "words = vectorizer.get_feature_names()\n",
    "words"
   ]
  },
  {
   "cell_type": "code",
   "execution_count": 28,
   "metadata": {
    "collapsed": false
   },
   "outputs": [
    {
     "data": {
      "text/plain": [
       "array([[ 0.,  0.,  0., ...,  0.,  0.,  0.],\n",
       "       [ 0.,  0.,  0., ...,  0.,  0.,  0.],\n",
       "       [ 0.,  0.,  0., ...,  0.,  0.,  0.],\n",
       "       ..., \n",
       "       [ 0.,  0.,  0., ...,  0.,  0.,  0.],\n",
       "       [ 0.,  0.,  0., ...,  0.,  0.,  0.],\n",
       "       [ 0.,  0.,  0., ...,  0.,  0.,  0.]])"
      ]
     },
     "execution_count": 28,
     "metadata": {},
     "output_type": "execute_result"
    }
   ],
   "source": [
    "df_play_train_song_name_sample_v"
   ]
  },
  {
   "cell_type": "code",
   "execution_count": 29,
   "metadata": {
    "collapsed": false
   },
   "outputs": [
    {
     "data": {
      "text/plain": [
       "(10000, 1000)"
      ]
     },
     "execution_count": 29,
     "metadata": {},
     "output_type": "execute_result"
    }
   ],
   "source": [
    "df_play_train_song_name_sample_v.shape"
   ]
  },
  {
   "cell_type": "code",
   "execution_count": 30,
   "metadata": {
    "collapsed": true
   },
   "outputs": [],
   "source": [
    "from sklearn.cluster import KMeans\n",
    "km = KMeans()"
   ]
  },
  {
   "cell_type": "code",
   "execution_count": 32,
   "metadata": {
    "collapsed": false
   },
   "outputs": [
    {
     "data": {
      "text/plain": [
       "KMeans(algorithm='auto', copy_x=True, init='k-means++', max_iter=300,\n",
       "    n_clusters=8, n_init=10, n_jobs=1, precompute_distances='auto',\n",
       "    random_state=None, tol=0.0001, verbose=0)"
      ]
     },
     "execution_count": 32,
     "metadata": {},
     "output_type": "execute_result"
    }
   ],
   "source": [
    "km.fit(df_play_train_song_name_sample_v) # very slow :("
   ]
  },
  {
   "cell_type": "code",
   "execution_count": 34,
   "metadata": {
    "collapsed": false
   },
   "outputs": [],
   "source": [
    "result_cluster = km.predict(df_play_song_name_sample_v)"
   ]
  },
  {
   "cell_type": "code",
   "execution_count": 35,
   "metadata": {
    "collapsed": false
   },
   "outputs": [
    {
     "data": {
      "text/plain": [
       "array([0, 0, 0, ..., 0, 0, 0], dtype=int32)"
      ]
     },
     "execution_count": 35,
     "metadata": {},
     "output_type": "execute_result"
    }
   ],
   "source": [
    "result_cluster"
   ]
  },
  {
   "cell_type": "code",
   "execution_count": null,
   "metadata": {
    "collapsed": true
   },
   "outputs": [],
   "source": []
  }
 ],
 "metadata": {
  "kernelspec": {
   "display_name": "Python 3",
   "language": "python",
   "name": "python3"
  },
  "language_info": {
   "codemirror_mode": {
    "name": "ipython",
    "version": 2
   },
   "file_extension": ".py",
   "mimetype": "text/x-python",
   "name": "python",
   "nbconvert_exporter": "python",
   "pygments_lexer": "ipython2",
   "version": "2.7.15"
  }
 },
 "nbformat": 4,
 "nbformat_minor": 1
}

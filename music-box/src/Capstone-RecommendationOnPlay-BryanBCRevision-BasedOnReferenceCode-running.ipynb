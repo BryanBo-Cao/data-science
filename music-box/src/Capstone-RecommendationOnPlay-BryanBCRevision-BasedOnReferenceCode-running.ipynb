{
 "cells": [
  {
   "cell_type": "markdown",
   "metadata": {},
   "source": [
    "# Objective 2: Recommendation\n",
    "#### Bryan Bo Cao\n",
    "Github: https://github.com/BryanBo-Cao/data-science/tree/master/music-box/src/\n",
    "## Recommendation On Playtime and Playpercent"
   ]
  },
  {
   "cell_type": "code",
   "execution_count": 1,
   "metadata": {
    "collapsed": false
   },
   "outputs": [],
   "source": [
    "import pandas as pd\n",
    "import numpy as np\n",
    "import matplotlib.pyplot as plt\n",
    "% matplotlib inline\n",
    "plt.style.use(\"ggplot\")"
   ]
  },
  {
   "cell_type": "code",
   "execution_count": 2,
   "metadata": {
    "collapsed": false
   },
   "outputs": [
    {
     "name": "stderr",
     "output_type": "stream",
     "text": [
      "/Users/GundamOO/anaconda/envs/gl-env/lib/python2.7/site-packages/IPython/core/interactiveshell.py:2723: DtypeWarning: Columns (2) have mixed types. Specify dtype option on import or set low_memory=False.\n",
      "  interactivity=interactivity, compiler=compiler, result=result)\n"
     ]
    }
   ],
   "source": [
    "schema_play = ['uid','device','song_id','song_type','song_name','singer','play_time','song_length','paid_flag']\n",
    "df_play = pd.read_csv('../data/play/20170331_1_play.log',delimiter='\\t',header=None,index_col=None,names=schema_play)"
   ]
  },
  {
   "cell_type": "code",
   "execution_count": 3,
   "metadata": {
    "collapsed": false
   },
   "outputs": [
    {
     "data": {
      "text/html": [
       "<div>\n",
       "<table border=\"1\" class=\"dataframe\">\n",
       "  <thead>\n",
       "    <tr style=\"text-align: right;\">\n",
       "      <th></th>\n",
       "      <th>uid</th>\n",
       "      <th>device</th>\n",
       "      <th>song_id</th>\n",
       "      <th>song_type</th>\n",
       "      <th>song_name</th>\n",
       "      <th>singer</th>\n",
       "      <th>play_time</th>\n",
       "      <th>song_length</th>\n",
       "      <th>paid_flag</th>\n",
       "    </tr>\n",
       "  </thead>\n",
       "  <tbody>\n",
       "    <tr>\n",
       "      <th>0</th>\n",
       "      <td>167584071.0</td>\n",
       "      <td>ar</td>\n",
       "      <td>4.38999e+06</td>\n",
       "      <td>0.0</td>\n",
       "      <td>魔幻手机</td>\n",
       "      <td>伤感歌曲</td>\n",
       "      <td>0</td>\n",
       "      <td>0.0</td>\n",
       "      <td>0.0</td>\n",
       "    </tr>\n",
       "    <tr>\n",
       "      <th>1</th>\n",
       "      <td>168029752.0</td>\n",
       "      <td>ar</td>\n",
       "      <td>1.02636e+06</td>\n",
       "      <td>0.0</td>\n",
       "      <td>你在天边</td>\n",
       "      <td>容中尔甲</td>\n",
       "      <td>0</td>\n",
       "      <td>277.0</td>\n",
       "      <td>0.0</td>\n",
       "    </tr>\n",
       "    <tr>\n",
       "      <th>2</th>\n",
       "      <td>167584071.0</td>\n",
       "      <td>ar</td>\n",
       "      <td>503175</td>\n",
       "      <td>0.0</td>\n",
       "      <td>奇迹再现(电视剧《迪加奥特曼》主题曲)</td>\n",
       "      <td>毛毛</td>\n",
       "      <td>0</td>\n",
       "      <td>0.0</td>\n",
       "      <td>0.0</td>\n",
       "    </tr>\n",
       "    <tr>\n",
       "      <th>3</th>\n",
       "      <td>168029752.0</td>\n",
       "      <td>ar</td>\n",
       "      <td>234903</td>\n",
       "      <td>0.0</td>\n",
       "      <td>梦中的达娃卓玛</td>\n",
       "      <td>容中尔甲</td>\n",
       "      <td>0</td>\n",
       "      <td>315.0</td>\n",
       "      <td>0.0</td>\n",
       "    </tr>\n",
       "    <tr>\n",
       "      <th>4</th>\n",
       "      <td>167965547.0</td>\n",
       "      <td>ar</td>\n",
       "      <td>6.60614e+06</td>\n",
       "      <td>0.0</td>\n",
       "      <td>心锁</td>\n",
       "      <td>杨小曼&amp;冷漠</td>\n",
       "      <td>256</td>\n",
       "      <td>256.0</td>\n",
       "      <td>0.0</td>\n",
       "    </tr>\n",
       "  </tbody>\n",
       "</table>\n",
       "</div>"
      ],
      "text/plain": [
       "           uid device      song_id  song_type            song_name  singer  \\\n",
       "0  167584071.0     ar  4.38999e+06        0.0                 魔幻手机    伤感歌曲   \n",
       "1  168029752.0     ar  1.02636e+06        0.0                 你在天边    容中尔甲   \n",
       "2  167584071.0     ar       503175        0.0  奇迹再现(电视剧《迪加奥特曼》主题曲)      毛毛   \n",
       "3  168029752.0     ar       234903        0.0              梦中的达娃卓玛    容中尔甲   \n",
       "4  167965547.0     ar  6.60614e+06        0.0                   心锁  杨小曼&冷漠   \n",
       "\n",
       "  play_time  song_length  paid_flag  \n",
       "0         0          0.0        0.0  \n",
       "1         0        277.0        0.0  \n",
       "2         0          0.0        0.0  \n",
       "3         0        315.0        0.0  \n",
       "4       256        256.0        0.0  "
      ]
     },
     "execution_count": 3,
     "metadata": {},
     "output_type": "execute_result"
    }
   ],
   "source": [
    "df_play.head()"
   ]
  },
  {
   "cell_type": "code",
   "execution_count": 4,
   "metadata": {
    "collapsed": false
   },
   "outputs": [
    {
     "data": {
      "text/html": [
       "<div>\n",
       "<table border=\"1\" class=\"dataframe\">\n",
       "  <thead>\n",
       "    <tr style=\"text-align: right;\">\n",
       "      <th></th>\n",
       "      <th>uid</th>\n",
       "      <th>song_type</th>\n",
       "      <th>song_length</th>\n",
       "      <th>paid_flag</th>\n",
       "    </tr>\n",
       "  </thead>\n",
       "  <tbody>\n",
       "    <tr>\n",
       "      <th>count</th>\n",
       "      <td>1.860168e+06</td>\n",
       "      <td>1.858873e+06</td>\n",
       "      <td>1.859603e+06</td>\n",
       "      <td>1.859670e+06</td>\n",
       "    </tr>\n",
       "    <tr>\n",
       "      <th>mean</th>\n",
       "      <td>1.447586e+08</td>\n",
       "      <td>1.422830e-01</td>\n",
       "      <td>3.598380e+02</td>\n",
       "      <td>4.427667e-03</td>\n",
       "    </tr>\n",
       "    <tr>\n",
       "      <th>std</th>\n",
       "      <td>5.519367e+07</td>\n",
       "      <td>7.243009e-01</td>\n",
       "      <td>1.069461e+04</td>\n",
       "      <td>1.333122e+00</td>\n",
       "    </tr>\n",
       "    <tr>\n",
       "      <th>min</th>\n",
       "      <td>0.000000e+00</td>\n",
       "      <td>0.000000e+00</td>\n",
       "      <td>-1.000000e+00</td>\n",
       "      <td>0.000000e+00</td>\n",
       "    </tr>\n",
       "    <tr>\n",
       "      <th>25%</th>\n",
       "      <td>1.676101e+08</td>\n",
       "      <td>0.000000e+00</td>\n",
       "      <td>1.800000e+02</td>\n",
       "      <td>0.000000e+00</td>\n",
       "    </tr>\n",
       "    <tr>\n",
       "      <th>50%</th>\n",
       "      <td>1.677840e+08</td>\n",
       "      <td>0.000000e+00</td>\n",
       "      <td>2.340000e+02</td>\n",
       "      <td>0.000000e+00</td>\n",
       "    </tr>\n",
       "    <tr>\n",
       "      <th>75%</th>\n",
       "      <td>1.679364e+08</td>\n",
       "      <td>0.000000e+00</td>\n",
       "      <td>2.740000e+02</td>\n",
       "      <td>0.000000e+00</td>\n",
       "    </tr>\n",
       "    <tr>\n",
       "      <th>max</th>\n",
       "      <td>1.687785e+08</td>\n",
       "      <td>1.980000e+02</td>\n",
       "      <td>3.103254e+06</td>\n",
       "      <td>4.300000e+02</td>\n",
       "    </tr>\n",
       "  </tbody>\n",
       "</table>\n",
       "</div>"
      ],
      "text/plain": [
       "                uid     song_type   song_length     paid_flag\n",
       "count  1.860168e+06  1.858873e+06  1.859603e+06  1.859670e+06\n",
       "mean   1.447586e+08  1.422830e-01  3.598380e+02  4.427667e-03\n",
       "std    5.519367e+07  7.243009e-01  1.069461e+04  1.333122e+00\n",
       "min    0.000000e+00  0.000000e+00 -1.000000e+00  0.000000e+00\n",
       "25%    1.676101e+08  0.000000e+00  1.800000e+02  0.000000e+00\n",
       "50%    1.677840e+08  0.000000e+00  2.340000e+02  0.000000e+00\n",
       "75%    1.679364e+08  0.000000e+00  2.740000e+02  0.000000e+00\n",
       "max    1.687785e+08  1.980000e+02  3.103254e+06  4.300000e+02"
      ]
     },
     "execution_count": 4,
     "metadata": {},
     "output_type": "execute_result"
    }
   ],
   "source": [
    "df_play.describe()"
   ]
  },
  {
   "cell_type": "code",
   "execution_count": 5,
   "metadata": {
    "collapsed": false
   },
   "outputs": [
    {
     "name": "stdout",
     "output_type": "stream",
     "text": [
      "<class 'pandas.core.frame.DataFrame'>\n",
      "RangeIndex: 1860666 entries, 0 to 1860665\n",
      "Data columns (total 9 columns):\n",
      "uid            float64\n",
      "device         object\n",
      "song_id        object\n",
      "song_type      float64\n",
      "song_name      object\n",
      "singer         object\n",
      "play_time      object\n",
      "song_length    float64\n",
      "paid_flag      float64\n",
      "dtypes: float64(4), object(5)\n",
      "memory usage: 127.8+ MB\n"
     ]
    }
   ],
   "source": [
    "df_play.info()"
   ]
  },
  {
   "cell_type": "code",
   "execution_count": 6,
   "metadata": {
    "collapsed": false
   },
   "outputs": [
    {
     "data": {
      "text/plain": [
       "0.0     1631080\n",
       "1.0      208354\n",
       "2.0       18585\n",
       "3.0         356\n",
       "40.0         51\n",
       "30.0         42\n",
       "34.0         27\n",
       "39.0         26\n",
       "31.0         23\n",
       "33.0         23\n",
       "Name: song_type, dtype: int64"
      ]
     },
     "execution_count": 6,
     "metadata": {},
     "output_type": "execute_result"
    }
   ],
   "source": [
    "song_type_cnts = df_play.song_type.value_counts()\n",
    "song_type_cnts.head(10)"
   ]
  },
  {
   "cell_type": "code",
   "execution_count": null,
   "metadata": {
    "collapsed": true
   },
   "outputs": [],
   "source": []
  },
  {
   "cell_type": "markdown",
   "metadata": {},
   "source": [
    "# Visualize data"
   ]
  },
  {
   "cell_type": "code",
   "execution_count": 7,
   "metadata": {
    "collapsed": true
   },
   "outputs": [],
   "source": [
    "song_type_indexes = song_type_cnts.index.values\n",
    "song_type_indexes = song_type_indexes.tolist()"
   ]
  },
  {
   "cell_type": "code",
   "execution_count": 8,
   "metadata": {
    "collapsed": false
   },
   "outputs": [
    {
     "data": {
      "text/plain": [
       "<matplotlib.axes._subplots.AxesSubplot at 0x120a496d0>"
      ]
     },
     "execution_count": 8,
     "metadata": {},
     "output_type": "execute_result"
    },
    {
     "data": {
      "image/png": "[encoded data removed]",
      "text/plain": [
       "<matplotlib.figure.Figure at 0x120a49fd0>"
      ]
     },
     "metadata": {},
     "output_type": "display_data"
    }
   ],
   "source": [
    "df_play.plot.hist(alpha=0.5)"
   ]
  },
  {
   "cell_type": "code",
   "execution_count": 9,
   "metadata": {
    "collapsed": false
   },
   "outputs": [
    {
     "data": {
      "text/plain": [
       "<matplotlib.axes._subplots.AxesSubplot at 0x11364a650>"
      ]
     },
     "execution_count": 9,
     "metadata": {},
     "output_type": "execute_result"
    },
    {
     "data": {
      "image/png": "[encoded data removed]",
      "text/plain": [
       "<matplotlib.figure.Figure at 0x10449dd10>"
      ]
     },
     "metadata": {},
     "output_type": "display_data"
    }
   ],
   "source": [
    "df_play.song_type.plot.hist(alpha=0.5)"
   ]
  },
  {
   "cell_type": "code",
   "execution_count": 10,
   "metadata": {
    "collapsed": false
   },
   "outputs": [
    {
     "data": {
      "text/plain": [
       "<matplotlib.axes._subplots.AxesSubplot at 0x11e5b9a50>"
      ]
     },
     "execution_count": 10,
     "metadata": {},
     "output_type": "execute_result"
    },
    {
     "data": {
      "image/png": "[encoded data removed]",
      "text/plain": [
       "<matplotlib.figure.Figure at 0x11e528a10>"
      ]
     },
     "metadata": {},
     "output_type": "display_data"
    }
   ],
   "source": [
    "df_play.song_type.value_counts().plot.hist(alpha=0.5)"
   ]
  },
  {
   "cell_type": "markdown",
   "metadata": {},
   "source": [
    "Apply log to df_play.song_type.value_counts()"
   ]
  },
  {
   "cell_type": "code",
   "execution_count": 11,
   "metadata": {
    "collapsed": false
   },
   "outputs": [
    {
     "data": {
      "image/png": "[encoded data removed]",
      "text/plain": [
       "<matplotlib.figure.Figure at 0x1200bb190>"
      ]
     },
     "metadata": {},
     "output_type": "display_data"
    }
   ],
   "source": [
    "df_play.song_type.value_counts().apply(np.log).hist(alpha=0.5)\n",
    "plt.show()"
   ]
  },
  {
   "cell_type": "code",
   "execution_count": 12,
   "metadata": {
    "collapsed": false
   },
   "outputs": [
    {
     "data": {
      "text/plain": [
       "<matplotlib.axes._subplots.AxesSubplot at 0x12007e690>"
      ]
     },
     "execution_count": 12,
     "metadata": {},
     "output_type": "execute_result"
    },
    {
     "data": {
      "image/png": "[encoded data removed]",
      "text/plain": [
       "<matplotlib.figure.Figure at 0x11e528550>"
      ]
     },
     "metadata": {},
     "output_type": "display_data"
    }
   ],
   "source": [
    "df_play.device.value_counts().plot.hist(alpha=0.5)"
   ]
  },
  {
   "cell_type": "markdown",
   "metadata": {},
   "source": [
    "Apply log to df_play.device.value_counts()"
   ]
  },
  {
   "cell_type": "code",
   "execution_count": 13,
   "metadata": {
    "collapsed": false
   },
   "outputs": [
    {
     "data": {
      "image/png": "[encoded data removed]",
      "text/plain": [
       "<matplotlib.figure.Figure at 0x1044cf0d0>"
      ]
     },
     "metadata": {},
     "output_type": "display_data"
    }
   ],
   "source": [
    "df_play.device.value_counts().apply(np.log).hist(alpha=0.5)\n",
    "plt.show()"
   ]
  },
  {
   "cell_type": "markdown",
   "metadata": {},
   "source": [
    " "
   ]
  },
  {
   "cell_type": "code",
   "execution_count": null,
   "metadata": {
    "collapsed": true
   },
   "outputs": [],
   "source": []
  },
  {
   "cell_type": "markdown",
   "metadata": {},
   "source": [
    "## Create training set and test set"
   ]
  },
  {
   "cell_type": "code",
   "execution_count": 14,
   "metadata": {
    "collapsed": false
   },
   "outputs": [
    {
     "name": "stderr",
     "output_type": "stream",
     "text": [
      "/Users/GundamOO/anaconda/envs/gl-env/lib/python2.7/site-packages/sklearn/cross_validation.py:41: DeprecationWarning: This module was deprecated in version 0.18 in favor of the model_selection module into which all the refactored classes and functions are moved. Also note that the interface of the new CV iterators are different from that of this module. This module will be removed in 0.20.\n",
      "  \"This module will be removed in 0.20.\", DeprecationWarning)\n"
     ]
    }
   ],
   "source": [
    "from sklearn.cross_validation import train_test_split\n",
    "df_play_train, df_play_test = train_test_split(\n",
    "                    df_play, test_size = 0.2, random_state = 64)"
   ]
  },
  {
   "cell_type": "code",
   "execution_count": 15,
   "metadata": {
    "collapsed": false
   },
   "outputs": [
    {
     "data": {
      "text/html": [
       "<div>\n",
       "<table border=\"1\" class=\"dataframe\">\n",
       "  <thead>\n",
       "    <tr style=\"text-align: right;\">\n",
       "      <th></th>\n",
       "      <th>uid</th>\n",
       "      <th>device</th>\n",
       "      <th>song_id</th>\n",
       "      <th>song_type</th>\n",
       "      <th>song_name</th>\n",
       "      <th>singer</th>\n",
       "      <th>play_time</th>\n",
       "      <th>song_length</th>\n",
       "      <th>paid_flag</th>\n",
       "    </tr>\n",
       "  </thead>\n",
       "  <tbody>\n",
       "    <tr>\n",
       "      <th>1250689</th>\n",
       "      <td>167583820.0</td>\n",
       "      <td>ar</td>\n",
       "      <td>1169064</td>\n",
       "      <td>0.0</td>\n",
       "      <td>你把爱情给了谁</td>\n",
       "      <td>龙梅子</td>\n",
       "      <td>236</td>\n",
       "      <td>236.0</td>\n",
       "      <td>0.0</td>\n",
       "    </tr>\n",
       "    <tr>\n",
       "      <th>1270101</th>\n",
       "      <td>168031866.0</td>\n",
       "      <td>ip</td>\n",
       "      <td>6414906</td>\n",
       "      <td>0.0</td>\n",
       "      <td>See You Again</td>\n",
       "      <td>Wiz Khalifa&amp;Charlie Puth</td>\n",
       "      <td>229</td>\n",
       "      <td>229.0</td>\n",
       "      <td>0.0</td>\n",
       "    </tr>\n",
       "    <tr>\n",
       "      <th>624718</th>\n",
       "      <td>168008911.0</td>\n",
       "      <td>ip</td>\n",
       "      <td>6.05468e+06</td>\n",
       "      <td>0.0</td>\n",
       "      <td>小跳蛙铃声</td>\n",
       "      <td>网络歌手</td>\n",
       "      <td>33</td>\n",
       "      <td>33.0</td>\n",
       "      <td>0.0</td>\n",
       "    </tr>\n",
       "    <tr>\n",
       "      <th>900605</th>\n",
       "      <td>168009013.0</td>\n",
       "      <td>ip</td>\n",
       "      <td>107471</td>\n",
       "      <td>0.0</td>\n",
       "      <td>天路</td>\n",
       "      <td>韩红</td>\n",
       "      <td>9</td>\n",
       "      <td>262.0</td>\n",
       "      <td>0.0</td>\n",
       "    </tr>\n",
       "    <tr>\n",
       "      <th>12580</th>\n",
       "      <td>167797461.0</td>\n",
       "      <td>ar</td>\n",
       "      <td>6.29429e+06</td>\n",
       "      <td>0.0</td>\n",
       "      <td>可惜没如果</td>\n",
       "      <td>林俊杰</td>\n",
       "      <td>214</td>\n",
       "      <td>215.0</td>\n",
       "      <td>0.0</td>\n",
       "    </tr>\n",
       "    <tr>\n",
       "      <th>971594</th>\n",
       "      <td>167724122.0</td>\n",
       "      <td>ar</td>\n",
       "      <td>170121</td>\n",
       "      <td>0.0</td>\n",
       "      <td>花儿为什么这样红</td>\n",
       "      <td>韦唯</td>\n",
       "      <td>248</td>\n",
       "      <td>249.0</td>\n",
       "      <td>0.0</td>\n",
       "    </tr>\n",
       "    <tr>\n",
       "      <th>1515555</th>\n",
       "      <td>736305.0</td>\n",
       "      <td>ar</td>\n",
       "      <td>6.44431e+06</td>\n",
       "      <td>0.0</td>\n",
       "      <td>佛陀的爱</td>\n",
       "      <td>柯佩磊</td>\n",
       "      <td>203</td>\n",
       "      <td>224.0</td>\n",
       "      <td>0.0</td>\n",
       "    </tr>\n",
       "    <tr>\n",
       "      <th>1380788</th>\n",
       "      <td>1685126.0</td>\n",
       "      <td>ar</td>\n",
       "      <td>3.57778e+06</td>\n",
       "      <td>0.0</td>\n",
       "      <td>小宝贝快快睡</td>\n",
       "      <td>香香</td>\n",
       "      <td>240</td>\n",
       "      <td>241.0</td>\n",
       "      <td>0.0</td>\n",
       "    </tr>\n",
       "    <tr>\n",
       "      <th>1223216</th>\n",
       "      <td>167736304.0</td>\n",
       "      <td>ar</td>\n",
       "      <td>2.83881e+06</td>\n",
       "      <td>0.0</td>\n",
       "      <td>长安长安</td>\n",
       "      <td>梁博</td>\n",
       "      <td>124</td>\n",
       "      <td>124.0</td>\n",
       "      <td>0.0</td>\n",
       "    </tr>\n",
       "    <tr>\n",
       "      <th>168065</th>\n",
       "      <td>167741878.0</td>\n",
       "      <td>ar</td>\n",
       "      <td>226130</td>\n",
       "      <td>0.0</td>\n",
       "      <td>恭喜发财</td>\n",
       "      <td>卓依婷</td>\n",
       "      <td>201</td>\n",
       "      <td>202.0</td>\n",
       "      <td>0.0</td>\n",
       "    </tr>\n",
       "  </tbody>\n",
       "</table>\n",
       "</div>"
      ],
      "text/plain": [
       "                 uid device      song_id  song_type      song_name  \\\n",
       "1250689  167583820.0     ar      1169064        0.0        你把爱情给了谁   \n",
       "1270101  168031866.0     ip      6414906        0.0  See You Again   \n",
       "624718   168008911.0     ip  6.05468e+06        0.0          小跳蛙铃声   \n",
       "900605   168009013.0     ip       107471        0.0             天路   \n",
       "12580    167797461.0     ar  6.29429e+06        0.0          可惜没如果   \n",
       "971594   167724122.0     ar       170121        0.0       花儿为什么这样红   \n",
       "1515555     736305.0     ar  6.44431e+06        0.0           佛陀的爱   \n",
       "1380788    1685126.0     ar  3.57778e+06        0.0         小宝贝快快睡   \n",
       "1223216  167736304.0     ar  2.83881e+06        0.0           长安长安   \n",
       "168065   167741878.0     ar       226130        0.0           恭喜发财   \n",
       "\n",
       "                           singer play_time  song_length  paid_flag  \n",
       "1250689                       龙梅子       236        236.0        0.0  \n",
       "1270101  Wiz Khalifa&Charlie Puth       229        229.0        0.0  \n",
       "624718                       网络歌手        33         33.0        0.0  \n",
       "900605                         韩红         9        262.0        0.0  \n",
       "12580                         林俊杰       214        215.0        0.0  \n",
       "971594                         韦唯       248        249.0        0.0  \n",
       "1515555                       柯佩磊       203        224.0        0.0  \n",
       "1380788                        香香       240        241.0        0.0  \n",
       "1223216                        梁博       124        124.0        0.0  \n",
       "168065                        卓依婷       201        202.0        0.0  "
      ]
     },
     "execution_count": 15,
     "metadata": {},
     "output_type": "execute_result"
    }
   ],
   "source": [
    "df_play_train.head(10)"
   ]
  },
  {
   "cell_type": "code",
   "execution_count": null,
   "metadata": {
    "collapsed": true
   },
   "outputs": [],
   "source": []
  },
  {
   "cell_type": "markdown",
   "metadata": {},
   "source": [
    "# Item-item based recommender"
   ]
  },
  {
   "cell_type": "code",
   "execution_count": 16,
   "metadata": {
    "collapsed": false
   },
   "outputs": [
    {
     "data": {
      "text/html": [
       "<div>\n",
       "<table border=\"1\" class=\"dataframe\">\n",
       "  <thead>\n",
       "    <tr style=\"text-align: right;\">\n",
       "      <th></th>\n",
       "      <th>uid</th>\n",
       "      <th>song_id</th>\n",
       "      <th>song_type</th>\n",
       "    </tr>\n",
       "  </thead>\n",
       "  <tbody>\n",
       "    <tr>\n",
       "      <th>0</th>\n",
       "      <td>167584071.0</td>\n",
       "      <td>4.38999e+06</td>\n",
       "      <td>0.0</td>\n",
       "    </tr>\n",
       "    <tr>\n",
       "      <th>1</th>\n",
       "      <td>168029752.0</td>\n",
       "      <td>1.02636e+06</td>\n",
       "      <td>0.0</td>\n",
       "    </tr>\n",
       "    <tr>\n",
       "      <th>2</th>\n",
       "      <td>167584071.0</td>\n",
       "      <td>503175</td>\n",
       "      <td>0.0</td>\n",
       "    </tr>\n",
       "    <tr>\n",
       "      <th>3</th>\n",
       "      <td>168029752.0</td>\n",
       "      <td>234903</td>\n",
       "      <td>0.0</td>\n",
       "    </tr>\n",
       "    <tr>\n",
       "      <th>4</th>\n",
       "      <td>167965547.0</td>\n",
       "      <td>6.60614e+06</td>\n",
       "      <td>0.0</td>\n",
       "    </tr>\n",
       "    <tr>\n",
       "      <th>5</th>\n",
       "      <td>167584071.0</td>\n",
       "      <td>6.22274e+06</td>\n",
       "      <td>0.0</td>\n",
       "    </tr>\n",
       "    <tr>\n",
       "      <th>6</th>\n",
       "      <td>168029752.0</td>\n",
       "      <td>1.02636e+06</td>\n",
       "      <td>0.0</td>\n",
       "    </tr>\n",
       "    <tr>\n",
       "      <th>7</th>\n",
       "      <td>167584071.0</td>\n",
       "      <td>5.01111e+06</td>\n",
       "      <td>0.0</td>\n",
       "    </tr>\n",
       "    <tr>\n",
       "      <th>8</th>\n",
       "      <td>168029752.0</td>\n",
       "      <td>234901</td>\n",
       "      <td>0.0</td>\n",
       "    </tr>\n",
       "    <tr>\n",
       "      <th>9</th>\n",
       "      <td>167923831.0</td>\n",
       "      <td>1.37506e+07</td>\n",
       "      <td>0.0</td>\n",
       "    </tr>\n",
       "  </tbody>\n",
       "</table>\n",
       "</div>"
      ],
      "text/plain": [
       "           uid      song_id  song_type\n",
       "0  167584071.0  4.38999e+06        0.0\n",
       "1  168029752.0  1.02636e+06        0.0\n",
       "2  167584071.0       503175        0.0\n",
       "3  168029752.0       234903        0.0\n",
       "4  167965547.0  6.60614e+06        0.0\n",
       "5  167584071.0  6.22274e+06        0.0\n",
       "6  168029752.0  1.02636e+06        0.0\n",
       "7  167584071.0  5.01111e+06        0.0\n",
       "8  168029752.0       234901        0.0\n",
       "9  167923831.0  1.37506e+07        0.0"
      ]
     },
     "execution_count": 16,
     "metadata": {},
     "output_type": "execute_result"
    }
   ],
   "source": [
    "# Reference: https://turi.com/products/create/docs/generated/graphlab.recommender.item_similarity_recommender.ItemSimilarityRecommender.html\n",
    "import graphlab\n",
    "# recommend based on song_type\n",
    "df_for_rec_on_song_type = df_play[['uid', 'song_id', 'song_type']]\n",
    "df_for_rec_on_song_type.head(10)"
   ]
  },
  {
   "cell_type": "code",
   "execution_count": 17,
   "metadata": {
    "collapsed": false
   },
   "outputs": [
    {
     "data": {
      "text/plain": [
       "(1860666, 3)"
      ]
     },
     "execution_count": 17,
     "metadata": {},
     "output_type": "execute_result"
    }
   ],
   "source": [
    "df_for_rec_on_song_type.shape"
   ]
  },
  {
   "cell_type": "markdown",
   "metadata": {},
   "source": [
    "### User"
   ]
  },
  {
   "cell_type": "code",
   "execution_count": 18,
   "metadata": {
    "collapsed": false
   },
   "outputs": [
    {
     "data": {
      "text/plain": [
       "1685126.0     64249\n",
       "37025504.0    46406\n",
       "736305.0      43789\n",
       "751824.0      30986\n",
       "1791497.0     26869\n",
       "Name: uid, dtype: int64"
      ]
     },
     "execution_count": 18,
     "metadata": {},
     "output_type": "execute_result"
    }
   ],
   "source": [
    "df_for_rec_on_song_type_user_cnt = df_for_rec_on_song_type['uid'].value_counts()\n",
    "df_for_rec_on_song_type_user_cnt.head()"
   ]
  },
  {
   "cell_type": "code",
   "execution_count": 19,
   "metadata": {
    "collapsed": false
   },
   "outputs": [
    {
     "data": {
      "image/png": "[encoded data removed]",
      "text/plain": [
       "<matplotlib.figure.Figure at 0x115a350d0>"
      ]
     },
     "metadata": {},
     "output_type": "display_data"
    }
   ],
   "source": [
    "df_for_rec_on_song_type_user_cnt.apply(np.log).hist()\n",
    "plt.show()"
   ]
  },
  {
   "cell_type": "markdown",
   "metadata": {},
   "source": [
    "### Song"
   ]
  },
  {
   "cell_type": "code",
   "execution_count": 20,
   "metadata": {
    "collapsed": false
   },
   "outputs": [
    {
     "data": {
      "text/plain": [
       "0.0           134418\n",
       "0              22820\n",
       "9950164.0      12415\n",
       "15249349.0      9393\n",
       "5237384.0       5932\n",
       "Name: song_id, dtype: int64"
      ]
     },
     "execution_count": 20,
     "metadata": {},
     "output_type": "execute_result"
    }
   ],
   "source": [
    "df_for_rec_on_song_type_song_cnt = df_for_rec_on_song_type['song_id'].value_counts()\n",
    "df_for_rec_on_song_type_song_cnt.head()"
   ]
  },
  {
   "cell_type": "code",
   "execution_count": 21,
   "metadata": {
    "collapsed": false
   },
   "outputs": [
    {
     "data": {
      "image/png": "[encoded data removed]",
      "text/plain": [
       "<matplotlib.figure.Figure at 0x11b239e10>"
      ]
     },
     "metadata": {},
     "output_type": "display_data"
    }
   ],
   "source": [
    "df_for_rec_on_song_type_song_cnt.apply(np.log).hist()\n",
    "plt.show()"
   ]
  },
  {
   "cell_type": "code",
   "execution_count": null,
   "metadata": {
    "collapsed": true
   },
   "outputs": [],
   "source": []
  },
  {
   "cell_type": "markdown",
   "metadata": {},
   "source": [
    "### Fill na with 0 "
   ]
  },
  {
   "cell_type": "code",
   "execution_count": 22,
   "metadata": {
    "collapsed": true
   },
   "outputs": [],
   "source": [
    "df_play.fillna(0, inplace=True)"
   ]
  },
  {
   "cell_type": "code",
   "execution_count": 23,
   "metadata": {
    "collapsed": true
   },
   "outputs": [],
   "source": [
    "df_play['play_time'].fillna(0, inplace=True)"
   ]
  },
  {
   "cell_type": "markdown",
   "metadata": {},
   "source": [
    "## Clean column type"
   ]
  },
  {
   "cell_type": "code",
   "execution_count": 24,
   "metadata": {
    "collapsed": false
   },
   "outputs": [],
   "source": [
    "df_play['uid'] = df_play['uid'].astype(str)\n",
    "df_play['device'] = df_play['device'].astype(str)\n",
    "df_play['song_id'] = df_play['song_id'].astype(str)\n",
    "df_play['song_name'] = df_play['song_name'].astype(str)\n",
    "df_play['singer'] = df_play['singer'].astype(str)\n",
    "df_play['play_time'] = pd.to_numeric(df_play['play_time'], errors='coerce')\n",
    "#df_play['play_time'] = df_play['play_time'].astype(int)\n",
    "df_play['song_length'] = df_play['song_length'].astype(float)\n",
    "df_play['paid_flag'] = df_play['paid_flag'].astype(float)"
   ]
  },
  {
   "cell_type": "code",
   "execution_count": null,
   "metadata": {
    "collapsed": true
   },
   "outputs": [],
   "source": []
  },
  {
   "cell_type": "markdown",
   "metadata": {},
   "source": [
    "## Recommend songs based on play_time"
   ]
  },
  {
   "cell_type": "code",
   "execution_count": 25,
   "metadata": {
    "collapsed": false
   },
   "outputs": [
    {
     "data": {
      "text/html": [
       "<div>\n",
       "<table border=\"1\" class=\"dataframe\">\n",
       "  <thead>\n",
       "    <tr style=\"text-align: right;\">\n",
       "      <th></th>\n",
       "      <th>uid</th>\n",
       "      <th>device</th>\n",
       "      <th>song_id</th>\n",
       "      <th>song_type</th>\n",
       "      <th>song_name</th>\n",
       "      <th>singer</th>\n",
       "      <th>play_time</th>\n",
       "      <th>song_length</th>\n",
       "      <th>paid_flag</th>\n",
       "    </tr>\n",
       "  </thead>\n",
       "  <tbody>\n",
       "    <tr>\n",
       "      <th>0</th>\n",
       "      <td>167584071.0</td>\n",
       "      <td>ar</td>\n",
       "      <td>4389991.0</td>\n",
       "      <td>0.0</td>\n",
       "      <td>魔幻手机</td>\n",
       "      <td>伤感歌曲</td>\n",
       "      <td>0.0</td>\n",
       "      <td>0.0</td>\n",
       "      <td>0.0</td>\n",
       "    </tr>\n",
       "    <tr>\n",
       "      <th>1</th>\n",
       "      <td>168029752.0</td>\n",
       "      <td>ar</td>\n",
       "      <td>1026364.0</td>\n",
       "      <td>0.0</td>\n",
       "      <td>你在天边</td>\n",
       "      <td>容中尔甲</td>\n",
       "      <td>0.0</td>\n",
       "      <td>277.0</td>\n",
       "      <td>0.0</td>\n",
       "    </tr>\n",
       "    <tr>\n",
       "      <th>2</th>\n",
       "      <td>167584071.0</td>\n",
       "      <td>ar</td>\n",
       "      <td>503175.0</td>\n",
       "      <td>0.0</td>\n",
       "      <td>奇迹再现(电视剧《迪加奥特曼》主题曲)</td>\n",
       "      <td>毛毛</td>\n",
       "      <td>0.0</td>\n",
       "      <td>0.0</td>\n",
       "      <td>0.0</td>\n",
       "    </tr>\n",
       "    <tr>\n",
       "      <th>3</th>\n",
       "      <td>168029752.0</td>\n",
       "      <td>ar</td>\n",
       "      <td>234903.0</td>\n",
       "      <td>0.0</td>\n",
       "      <td>梦中的达娃卓玛</td>\n",
       "      <td>容中尔甲</td>\n",
       "      <td>0.0</td>\n",
       "      <td>315.0</td>\n",
       "      <td>0.0</td>\n",
       "    </tr>\n",
       "    <tr>\n",
       "      <th>4</th>\n",
       "      <td>167965547.0</td>\n",
       "      <td>ar</td>\n",
       "      <td>6606144.0</td>\n",
       "      <td>0.0</td>\n",
       "      <td>心锁</td>\n",
       "      <td>杨小曼&amp;冷漠</td>\n",
       "      <td>256.0</td>\n",
       "      <td>256.0</td>\n",
       "      <td>0.0</td>\n",
       "    </tr>\n",
       "    <tr>\n",
       "      <th>5</th>\n",
       "      <td>167584071.0</td>\n",
       "      <td>ar</td>\n",
       "      <td>6222735.0</td>\n",
       "      <td>0.0</td>\n",
       "      <td>铠甲勇士刑天主题曲</td>\n",
       "      <td>儿童歌曲</td>\n",
       "      <td>0.0</td>\n",
       "      <td>0.0</td>\n",
       "      <td>0.0</td>\n",
       "    </tr>\n",
       "    <tr>\n",
       "      <th>6</th>\n",
       "      <td>168029752.0</td>\n",
       "      <td>ar</td>\n",
       "      <td>1026363.0</td>\n",
       "      <td>0.0</td>\n",
       "      <td>喜马拉雅恋曲</td>\n",
       "      <td>容中尔甲</td>\n",
       "      <td>0.0</td>\n",
       "      <td>266.0</td>\n",
       "      <td>0.0</td>\n",
       "    </tr>\n",
       "    <tr>\n",
       "      <th>7</th>\n",
       "      <td>167584071.0</td>\n",
       "      <td>ar</td>\n",
       "      <td>5011107.0</td>\n",
       "      <td>0.0</td>\n",
       "      <td>穿越曙光</td>\n",
       "      <td>唐丹</td>\n",
       "      <td>0.0</td>\n",
       "      <td>0.0</td>\n",
       "      <td>0.0</td>\n",
       "    </tr>\n",
       "    <tr>\n",
       "      <th>8</th>\n",
       "      <td>168029752.0</td>\n",
       "      <td>ar</td>\n",
       "      <td>234901.0</td>\n",
       "      <td>0.0</td>\n",
       "      <td>九寨之子</td>\n",
       "      <td>容中尔甲</td>\n",
       "      <td>245.0</td>\n",
       "      <td>245.0</td>\n",
       "      <td>0.0</td>\n",
       "    </tr>\n",
       "    <tr>\n",
       "      <th>9</th>\n",
       "      <td>167923831.0</td>\n",
       "      <td>ip</td>\n",
       "      <td>13750591.0</td>\n",
       "      <td>0.0</td>\n",
       "      <td>悟空 - Live</td>\n",
       "      <td>戴荃</td>\n",
       "      <td>197.0</td>\n",
       "      <td>197.0</td>\n",
       "      <td>0.0</td>\n",
       "    </tr>\n",
       "  </tbody>\n",
       "</table>\n",
       "</div>"
      ],
      "text/plain": [
       "           uid device     song_id  song_type            song_name  singer  \\\n",
       "0  167584071.0     ar   4389991.0        0.0                 魔幻手机    伤感歌曲   \n",
       "1  168029752.0     ar   1026364.0        0.0                 你在天边    容中尔甲   \n",
       "2  167584071.0     ar    503175.0        0.0  奇迹再现(电视剧《迪加奥特曼》主题曲)      毛毛   \n",
       "3  168029752.0     ar    234903.0        0.0              梦中的达娃卓玛    容中尔甲   \n",
       "4  167965547.0     ar   6606144.0        0.0                   心锁  杨小曼&冷漠   \n",
       "5  167584071.0     ar   6222735.0        0.0            铠甲勇士刑天主题曲    儿童歌曲   \n",
       "6  168029752.0     ar   1026363.0        0.0               喜马拉雅恋曲    容中尔甲   \n",
       "7  167584071.0     ar   5011107.0        0.0                 穿越曙光      唐丹   \n",
       "8  168029752.0     ar    234901.0        0.0                 九寨之子    容中尔甲   \n",
       "9  167923831.0     ip  13750591.0        0.0            悟空 - Live      戴荃   \n",
       "\n",
       "   play_time  song_length  paid_flag  \n",
       "0        0.0          0.0        0.0  \n",
       "1        0.0        277.0        0.0  \n",
       "2        0.0          0.0        0.0  \n",
       "3        0.0        315.0        0.0  \n",
       "4      256.0        256.0        0.0  \n",
       "5        0.0          0.0        0.0  \n",
       "6        0.0        266.0        0.0  \n",
       "7        0.0          0.0        0.0  \n",
       "8      245.0        245.0        0.0  \n",
       "9      197.0        197.0        0.0  "
      ]
     },
     "execution_count": 25,
     "metadata": {},
     "output_type": "execute_result"
    }
   ],
   "source": [
    "df_play.head(10)"
   ]
  },
  {
   "cell_type": "code",
   "execution_count": 26,
   "metadata": {
    "collapsed": false
   },
   "outputs": [
    {
     "data": {
      "text/plain": [
       "uid            1860666\n",
       "device         1860666\n",
       "song_id        1860666\n",
       "song_type      1860666\n",
       "song_name      1860666\n",
       "singer         1860666\n",
       "play_time      1849407\n",
       "song_length    1860666\n",
       "paid_flag      1860666\n",
       "dtype: int64"
      ]
     },
     "execution_count": 26,
     "metadata": {},
     "output_type": "execute_result"
    }
   ],
   "source": [
    "df_play_cnt = df_play.count()\n",
    "df_play_cnt"
   ]
  },
  {
   "cell_type": "markdown",
   "metadata": {},
   "source": [
    "Clean data, fiter out records whose song_length is non-positive and play_time is greater than song_length."
   ]
  },
  {
   "cell_type": "code",
   "execution_count": 27,
   "metadata": {
    "collapsed": false
   },
   "outputs": [
    {
     "data": {
      "text/html": [
       "<div>\n",
       "<table border=\"1\" class=\"dataframe\">\n",
       "  <thead>\n",
       "    <tr style=\"text-align: right;\">\n",
       "      <th></th>\n",
       "      <th>uid</th>\n",
       "      <th>device</th>\n",
       "      <th>song_id</th>\n",
       "      <th>song_type</th>\n",
       "      <th>song_name</th>\n",
       "      <th>singer</th>\n",
       "      <th>play_time</th>\n",
       "      <th>song_length</th>\n",
       "      <th>paid_flag</th>\n",
       "    </tr>\n",
       "  </thead>\n",
       "  <tbody>\n",
       "    <tr>\n",
       "      <th>1</th>\n",
       "      <td>168029752.0</td>\n",
       "      <td>ar</td>\n",
       "      <td>1026364.0</td>\n",
       "      <td>0.0</td>\n",
       "      <td>你在天边</td>\n",
       "      <td>容中尔甲</td>\n",
       "      <td>0.0</td>\n",
       "      <td>277.0</td>\n",
       "      <td>0.0</td>\n",
       "    </tr>\n",
       "    <tr>\n",
       "      <th>3</th>\n",
       "      <td>168029752.0</td>\n",
       "      <td>ar</td>\n",
       "      <td>234903.0</td>\n",
       "      <td>0.0</td>\n",
       "      <td>梦中的达娃卓玛</td>\n",
       "      <td>容中尔甲</td>\n",
       "      <td>0.0</td>\n",
       "      <td>315.0</td>\n",
       "      <td>0.0</td>\n",
       "    </tr>\n",
       "    <tr>\n",
       "      <th>4</th>\n",
       "      <td>167965547.0</td>\n",
       "      <td>ar</td>\n",
       "      <td>6606144.0</td>\n",
       "      <td>0.0</td>\n",
       "      <td>心锁</td>\n",
       "      <td>杨小曼&amp;冷漠</td>\n",
       "      <td>256.0</td>\n",
       "      <td>256.0</td>\n",
       "      <td>0.0</td>\n",
       "    </tr>\n",
       "    <tr>\n",
       "      <th>6</th>\n",
       "      <td>168029752.0</td>\n",
       "      <td>ar</td>\n",
       "      <td>1026363.0</td>\n",
       "      <td>0.0</td>\n",
       "      <td>喜马拉雅恋曲</td>\n",
       "      <td>容中尔甲</td>\n",
       "      <td>0.0</td>\n",
       "      <td>266.0</td>\n",
       "      <td>0.0</td>\n",
       "    </tr>\n",
       "    <tr>\n",
       "      <th>8</th>\n",
       "      <td>168029752.0</td>\n",
       "      <td>ar</td>\n",
       "      <td>234901.0</td>\n",
       "      <td>0.0</td>\n",
       "      <td>九寨之子</td>\n",
       "      <td>容中尔甲</td>\n",
       "      <td>245.0</td>\n",
       "      <td>245.0</td>\n",
       "      <td>0.0</td>\n",
       "    </tr>\n",
       "    <tr>\n",
       "      <th>9</th>\n",
       "      <td>167923831.0</td>\n",
       "      <td>ip</td>\n",
       "      <td>13750591.0</td>\n",
       "      <td>0.0</td>\n",
       "      <td>悟空 - Live</td>\n",
       "      <td>戴荃</td>\n",
       "      <td>197.0</td>\n",
       "      <td>197.0</td>\n",
       "      <td>0.0</td>\n",
       "    </tr>\n",
       "    <tr>\n",
       "      <th>12</th>\n",
       "      <td>168029752.0</td>\n",
       "      <td>ar</td>\n",
       "      <td>1026359.0</td>\n",
       "      <td>0.0</td>\n",
       "      <td>珠穆朗玛峰</td>\n",
       "      <td>容中尔甲</td>\n",
       "      <td>0.0</td>\n",
       "      <td>244.0</td>\n",
       "      <td>0.0</td>\n",
       "    </tr>\n",
       "    <tr>\n",
       "      <th>13</th>\n",
       "      <td>167807475.0</td>\n",
       "      <td>ar</td>\n",
       "      <td>348243.0</td>\n",
       "      <td>0.0</td>\n",
       "      <td>Cursed Destiny(C7 Meets Technorocker Radio Mix)</td>\n",
       "      <td>mabra</td>\n",
       "      <td>24.0</td>\n",
       "      <td>190.0</td>\n",
       "      <td>0.0</td>\n",
       "    </tr>\n",
       "    <tr>\n",
       "      <th>14</th>\n",
       "      <td>167900247.0</td>\n",
       "      <td>ar</td>\n",
       "      <td>13667778.0</td>\n",
       "      <td>0.0</td>\n",
       "      <td>Pina Colada Boy</td>\n",
       "      <td>Baby Alice</td>\n",
       "      <td>55.0</td>\n",
       "      <td>184.0</td>\n",
       "      <td>0.0</td>\n",
       "    </tr>\n",
       "    <tr>\n",
       "      <th>15</th>\n",
       "      <td>167958001.0</td>\n",
       "      <td>ar</td>\n",
       "      <td>6266032.0</td>\n",
       "      <td>0.0</td>\n",
       "      <td>赤裸离开</td>\n",
       "      <td>孙露</td>\n",
       "      <td>0.0</td>\n",
       "      <td>242.0</td>\n",
       "      <td>0.0</td>\n",
       "    </tr>\n",
       "    <tr>\n",
       "      <th>16</th>\n",
       "      <td>168029752.0</td>\n",
       "      <td>ar</td>\n",
       "      <td>1026358.0</td>\n",
       "      <td>0.0</td>\n",
       "      <td>雅鲁藏布情歌</td>\n",
       "      <td>容中尔甲</td>\n",
       "      <td>0.0</td>\n",
       "      <td>282.0</td>\n",
       "      <td>0.0</td>\n",
       "    </tr>\n",
       "    <tr>\n",
       "      <th>17</th>\n",
       "      <td>168029752.0</td>\n",
       "      <td>ar</td>\n",
       "      <td>1026368.0</td>\n",
       "      <td>0.0</td>\n",
       "      <td>神奇的九寨</td>\n",
       "      <td>容中尔甲</td>\n",
       "      <td>0.0</td>\n",
       "      <td>259.0</td>\n",
       "      <td>0.0</td>\n",
       "    </tr>\n",
       "    <tr>\n",
       "      <th>18</th>\n",
       "      <td>168047889.0</td>\n",
       "      <td>ip</td>\n",
       "      <td>708741.0</td>\n",
       "      <td>0.0</td>\n",
       "      <td>守候在凌晨两点的伤心酒吧(DJ版)</td>\n",
       "      <td>刀郎</td>\n",
       "      <td>315.0</td>\n",
       "      <td>320.0</td>\n",
       "      <td>0.0</td>\n",
       "    </tr>\n",
       "    <tr>\n",
       "      <th>19</th>\n",
       "      <td>167704566.0</td>\n",
       "      <td>ar</td>\n",
       "      <td>9902748.0</td>\n",
       "      <td>0.0</td>\n",
       "      <td>来不及</td>\n",
       "      <td>小来哥</td>\n",
       "      <td>38.0</td>\n",
       "      <td>187.0</td>\n",
       "      <td>0.0</td>\n",
       "    </tr>\n",
       "    <tr>\n",
       "      <th>20</th>\n",
       "      <td>167630166.0</td>\n",
       "      <td>ar</td>\n",
       "      <td>795430.0</td>\n",
       "      <td>0.0</td>\n",
       "      <td>别再说</td>\n",
       "      <td>小露</td>\n",
       "      <td>179.0</td>\n",
       "      <td>302.0</td>\n",
       "      <td>0.0</td>\n",
       "    </tr>\n",
       "    <tr>\n",
       "      <th>22</th>\n",
       "      <td>167851700.0</td>\n",
       "      <td>ar</td>\n",
       "      <td>6651913.0</td>\n",
       "      <td>0.0</td>\n",
       "      <td>再见只是陌生人</td>\n",
       "      <td>庄心妍</td>\n",
       "      <td>247.0</td>\n",
       "      <td>251.0</td>\n",
       "      <td>0.0</td>\n",
       "    </tr>\n",
       "    <tr>\n",
       "      <th>23</th>\n",
       "      <td>167779635.0</td>\n",
       "      <td>ip</td>\n",
       "      <td>77851.0</td>\n",
       "      <td>0.0</td>\n",
       "      <td>一场游戏一场梦II</td>\n",
       "      <td>王杰</td>\n",
       "      <td>6.0</td>\n",
       "      <td>137.0</td>\n",
       "      <td>0.0</td>\n",
       "    </tr>\n",
       "    <tr>\n",
       "      <th>24</th>\n",
       "      <td>168029752.0</td>\n",
       "      <td>ar</td>\n",
       "      <td>234896.0</td>\n",
       "      <td>0.0</td>\n",
       "      <td>高原红</td>\n",
       "      <td>容中尔甲</td>\n",
       "      <td>0.0</td>\n",
       "      <td>278.0</td>\n",
       "      <td>0.0</td>\n",
       "    </tr>\n",
       "    <tr>\n",
       "      <th>27</th>\n",
       "      <td>167890362.0</td>\n",
       "      <td>ar</td>\n",
       "      <td>6180670.0</td>\n",
       "      <td>0.0</td>\n",
       "      <td>连借口都没有</td>\n",
       "      <td>孙子涵</td>\n",
       "      <td>256.0</td>\n",
       "      <td>258.0</td>\n",
       "      <td>0.0</td>\n",
       "    </tr>\n",
       "    <tr>\n",
       "      <th>28</th>\n",
       "      <td>168029752.0</td>\n",
       "      <td>ar</td>\n",
       "      <td>324334.0</td>\n",
       "      <td>0.0</td>\n",
       "      <td>雄鹰在飞翔</td>\n",
       "      <td>容中尔甲</td>\n",
       "      <td>0.0</td>\n",
       "      <td>325.0</td>\n",
       "      <td>0.0</td>\n",
       "    </tr>\n",
       "    <tr>\n",
       "      <th>29</th>\n",
       "      <td>168029752.0</td>\n",
       "      <td>ar</td>\n",
       "      <td>234906.0</td>\n",
       "      <td>0.0</td>\n",
       "      <td>永远的雪莲花</td>\n",
       "      <td>容中尔甲</td>\n",
       "      <td>0.0</td>\n",
       "      <td>248.0</td>\n",
       "      <td>0.0</td>\n",
       "    </tr>\n",
       "    <tr>\n",
       "      <th>30</th>\n",
       "      <td>168029752.0</td>\n",
       "      <td>ar</td>\n",
       "      <td>21770905.0</td>\n",
       "      <td>0.0</td>\n",
       "      <td>回家的路 (Live)</td>\n",
       "      <td>刘德华</td>\n",
       "      <td>0.0</td>\n",
       "      <td>249.0</td>\n",
       "      <td>0.0</td>\n",
       "    </tr>\n",
       "    <tr>\n",
       "      <th>31</th>\n",
       "      <td>167850949.0</td>\n",
       "      <td>ar</td>\n",
       "      <td>6692062.0</td>\n",
       "      <td>0.0</td>\n",
       "      <td>乱世烽火出英雄</td>\n",
       "      <td>MC王佳</td>\n",
       "      <td>146.0</td>\n",
       "      <td>146.0</td>\n",
       "      <td>0.0</td>\n",
       "    </tr>\n",
       "    <tr>\n",
       "      <th>32</th>\n",
       "      <td>168029752.0</td>\n",
       "      <td>ar</td>\n",
       "      <td>14831130.0</td>\n",
       "      <td>0.0</td>\n",
       "      <td>恭喜发财</td>\n",
       "      <td>刘德华&amp;卓依婷</td>\n",
       "      <td>0.0</td>\n",
       "      <td>290.0</td>\n",
       "      <td>0.0</td>\n",
       "    </tr>\n",
       "    <tr>\n",
       "      <th>33</th>\n",
       "      <td>167947155.0</td>\n",
       "      <td>ar</td>\n",
       "      <td>14708826.0</td>\n",
       "      <td>0.0</td>\n",
       "      <td>如果不是</td>\n",
       "      <td>杨炅翰</td>\n",
       "      <td>176.0</td>\n",
       "      <td>177.0</td>\n",
       "      <td>0.0</td>\n",
       "    </tr>\n",
       "    <tr>\n",
       "      <th>34</th>\n",
       "      <td>168029752.0</td>\n",
       "      <td>ar</td>\n",
       "      <td>437853.0</td>\n",
       "      <td>0.0</td>\n",
       "      <td>练习(国)(Live)</td>\n",
       "      <td>刘德华</td>\n",
       "      <td>0.0</td>\n",
       "      <td>341.0</td>\n",
       "      <td>0.0</td>\n",
       "    </tr>\n",
       "    <tr>\n",
       "      <th>35</th>\n",
       "      <td>168029752.0</td>\n",
       "      <td>ar</td>\n",
       "      <td>215921.0</td>\n",
       "      <td>0.0</td>\n",
       "      <td>醉拳</td>\n",
       "      <td>成龙</td>\n",
       "      <td>0.0</td>\n",
       "      <td>182.0</td>\n",
       "      <td>0.0</td>\n",
       "    </tr>\n",
       "    <tr>\n",
       "      <th>38</th>\n",
       "      <td>168029752.0</td>\n",
       "      <td>ar</td>\n",
       "      <td>1026367.0</td>\n",
       "      <td>0.0</td>\n",
       "      <td>雄鹰在飞翔</td>\n",
       "      <td>容中尔甲</td>\n",
       "      <td>0.0</td>\n",
       "      <td>327.0</td>\n",
       "      <td>0.0</td>\n",
       "    </tr>\n",
       "    <tr>\n",
       "      <th>39</th>\n",
       "      <td>168004558.0</td>\n",
       "      <td>ar</td>\n",
       "      <td>14008117.0</td>\n",
       "      <td>0.0</td>\n",
       "      <td>奥力给(环绕版)</td>\n",
       "      <td>吴司令</td>\n",
       "      <td>13.0</td>\n",
       "      <td>156.0</td>\n",
       "      <td>0.0</td>\n",
       "    </tr>\n",
       "    <tr>\n",
       "      <th>40</th>\n",
       "      <td>167970575.0</td>\n",
       "      <td>ar</td>\n",
       "      <td>854337.0</td>\n",
       "      <td>0.0</td>\n",
       "      <td>网络歌曲铃声精选3(21秒铃声版)</td>\n",
       "      <td>铃声</td>\n",
       "      <td>4.0</td>\n",
       "      <td>19.0</td>\n",
       "      <td>0.0</td>\n",
       "    </tr>\n",
       "    <tr>\n",
       "      <th>...</th>\n",
       "      <td>...</td>\n",
       "      <td>...</td>\n",
       "      <td>...</td>\n",
       "      <td>...</td>\n",
       "      <td>...</td>\n",
       "      <td>...</td>\n",
       "      <td>...</td>\n",
       "      <td>...</td>\n",
       "      <td>...</td>\n",
       "    </tr>\n",
       "    <tr>\n",
       "      <th>1860627</th>\n",
       "      <td>167832224.0</td>\n",
       "      <td>ip</td>\n",
       "      <td>17081441.0</td>\n",
       "      <td>0.0</td>\n",
       "      <td>凉凉</td>\n",
       "      <td>张碧晨&amp;杨宗纬</td>\n",
       "      <td>333.0</td>\n",
       "      <td>334.0</td>\n",
       "      <td>0.0</td>\n",
       "    </tr>\n",
       "    <tr>\n",
       "      <th>1860629</th>\n",
       "      <td>167930051.0</td>\n",
       "      <td>ar</td>\n",
       "      <td>107464.0</td>\n",
       "      <td>0.0</td>\n",
       "      <td>鳄鱼的眼泪</td>\n",
       "      <td>林志炫</td>\n",
       "      <td>72.0</td>\n",
       "      <td>255.0</td>\n",
       "      <td>0.0</td>\n",
       "    </tr>\n",
       "    <tr>\n",
       "      <th>1860631</th>\n",
       "      <td>167999511.0</td>\n",
       "      <td>ip</td>\n",
       "      <td>5272489.0</td>\n",
       "      <td>0.0</td>\n",
       "      <td>Sugar</td>\n",
       "      <td>Maroon 5</td>\n",
       "      <td>1.0</td>\n",
       "      <td>235.0</td>\n",
       "      <td>0.0</td>\n",
       "    </tr>\n",
       "    <tr>\n",
       "      <th>1860632</th>\n",
       "      <td>167931083.0</td>\n",
       "      <td>ar</td>\n",
       "      <td>6201279.0</td>\n",
       "      <td>0.0</td>\n",
       "      <td>匆匆那年(Live)</td>\n",
       "      <td>杨宗纬</td>\n",
       "      <td>8.0</td>\n",
       "      <td>192.0</td>\n",
       "      <td>0.0</td>\n",
       "    </tr>\n",
       "    <tr>\n",
       "      <th>1860633</th>\n",
       "      <td>167886282.0</td>\n",
       "      <td>ip</td>\n",
       "      <td>216945.0</td>\n",
       "      <td>0.0</td>\n",
       "      <td>Careless Whisper</td>\n",
       "      <td>George Michael</td>\n",
       "      <td>45.0</td>\n",
       "      <td>300.0</td>\n",
       "      <td>0.0</td>\n",
       "    </tr>\n",
       "    <tr>\n",
       "      <th>1860634</th>\n",
       "      <td>167856068.0</td>\n",
       "      <td>ar</td>\n",
       "      <td>0.0</td>\n",
       "      <td>1.0</td>\n",
       "      <td>庄心妍 - 放过自己</td>\n",
       "      <td>未知歌手</td>\n",
       "      <td>248.0</td>\n",
       "      <td>249.0</td>\n",
       "      <td>0.0</td>\n",
       "    </tr>\n",
       "    <tr>\n",
       "      <th>1860635</th>\n",
       "      <td>167758498.0</td>\n",
       "      <td>ar</td>\n",
       "      <td>105269.0</td>\n",
       "      <td>0.0</td>\n",
       "      <td>一言难尽</td>\n",
       "      <td>张宇</td>\n",
       "      <td>0.0</td>\n",
       "      <td>251.0</td>\n",
       "      <td>0.0</td>\n",
       "    </tr>\n",
       "    <tr>\n",
       "      <th>1860636</th>\n",
       "      <td>167952415.0</td>\n",
       "      <td>ar</td>\n",
       "      <td>9952802.0</td>\n",
       "      <td>0.0</td>\n",
       "      <td>Apple Tree</td>\n",
       "      <td>儿童歌曲</td>\n",
       "      <td>73.0</td>\n",
       "      <td>73.0</td>\n",
       "      <td>0.0</td>\n",
       "    </tr>\n",
       "    <tr>\n",
       "      <th>1860637</th>\n",
       "      <td>167999850.0</td>\n",
       "      <td>ip</td>\n",
       "      <td>4539774.0</td>\n",
       "      <td>0.0</td>\n",
       "      <td>慢三舞曲 几度夕阳红</td>\n",
       "      <td>网络歌手</td>\n",
       "      <td>306.0</td>\n",
       "      <td>307.0</td>\n",
       "      <td>0.0</td>\n",
       "    </tr>\n",
       "    <tr>\n",
       "      <th>1860638</th>\n",
       "      <td>1685126.0</td>\n",
       "      <td>ar</td>\n",
       "      <td>23485855.0</td>\n",
       "      <td>0.0</td>\n",
       "      <td>生来倔强</td>\n",
       "      <td>南征北战</td>\n",
       "      <td>128.0</td>\n",
       "      <td>219.0</td>\n",
       "      <td>0.0</td>\n",
       "    </tr>\n",
       "    <tr>\n",
       "      <th>1860639</th>\n",
       "      <td>167649809.0</td>\n",
       "      <td>ar</td>\n",
       "      <td>6993092.0</td>\n",
       "      <td>0.0</td>\n",
       "      <td>二十四节气歌</td>\n",
       "      <td>贝瓦儿歌</td>\n",
       "      <td>110.0</td>\n",
       "      <td>125.0</td>\n",
       "      <td>0.0</td>\n",
       "    </tr>\n",
       "    <tr>\n",
       "      <th>1860641</th>\n",
       "      <td>167690656.0</td>\n",
       "      <td>ar</td>\n",
       "      <td>1247574.0</td>\n",
       "      <td>0.0</td>\n",
       "      <td>无语</td>\n",
       "      <td>本兮</td>\n",
       "      <td>0.0</td>\n",
       "      <td>218.0</td>\n",
       "      <td>0.0</td>\n",
       "    </tr>\n",
       "    <tr>\n",
       "      <th>1860643</th>\n",
       "      <td>167797681.0</td>\n",
       "      <td>ip</td>\n",
       "      <td>6351577.0</td>\n",
       "      <td>0.0</td>\n",
       "      <td>爱</td>\n",
       "      <td>A-Lin</td>\n",
       "      <td>2.0</td>\n",
       "      <td>253.0</td>\n",
       "      <td>0.0</td>\n",
       "    </tr>\n",
       "    <tr>\n",
       "      <th>1860644</th>\n",
       "      <td>168046490.0</td>\n",
       "      <td>ar</td>\n",
       "      <td>22806729.0</td>\n",
       "      <td>0.0</td>\n",
       "      <td>你不是我的月亮,我不是你的云</td>\n",
       "      <td>谢军</td>\n",
       "      <td>6.0</td>\n",
       "      <td>283.0</td>\n",
       "      <td>0.0</td>\n",
       "    </tr>\n",
       "    <tr>\n",
       "      <th>1860645</th>\n",
       "      <td>168049959.0</td>\n",
       "      <td>ar</td>\n",
       "      <td>0.0</td>\n",
       "      <td>1.0</td>\n",
       "      <td>逆流成河</td>\n",
       "      <td>金南玲</td>\n",
       "      <td>58.0</td>\n",
       "      <td>125.0</td>\n",
       "      <td>0.0</td>\n",
       "    </tr>\n",
       "    <tr>\n",
       "      <th>1860646</th>\n",
       "      <td>167925975.0</td>\n",
       "      <td>ar</td>\n",
       "      <td>6402552.0</td>\n",
       "      <td>0.0</td>\n",
       "      <td>南无地藏王菩萨(国语版)</td>\n",
       "      <td>佛教音乐</td>\n",
       "      <td>42.0</td>\n",
       "      <td>42.0</td>\n",
       "      <td>0.0</td>\n",
       "    </tr>\n",
       "    <tr>\n",
       "      <th>1860647</th>\n",
       "      <td>168043780.0</td>\n",
       "      <td>ar</td>\n",
       "      <td>3380490.0</td>\n",
       "      <td>0.0</td>\n",
       "      <td>天都黑了</td>\n",
       "      <td>本兮</td>\n",
       "      <td>14.0</td>\n",
       "      <td>227.0</td>\n",
       "      <td>0.0</td>\n",
       "    </tr>\n",
       "    <tr>\n",
       "      <th>1860648</th>\n",
       "      <td>168045235.0</td>\n",
       "      <td>ar</td>\n",
       "      <td>22875944.0</td>\n",
       "      <td>0.0</td>\n",
       "      <td>小永远(完整版) - 周二珂</td>\n",
       "      <td>二珂呀呀呀</td>\n",
       "      <td>217.0</td>\n",
       "      <td>239.0</td>\n",
       "      <td>0.0</td>\n",
       "    </tr>\n",
       "    <tr>\n",
       "      <th>1860649</th>\n",
       "      <td>168040755.0</td>\n",
       "      <td>ar</td>\n",
       "      <td>4616474.0</td>\n",
       "      <td>0.0</td>\n",
       "      <td>特殊短信铃音</td>\n",
       "      <td>手机铃声</td>\n",
       "      <td>2.0</td>\n",
       "      <td>3.0</td>\n",
       "      <td>0.0</td>\n",
       "    </tr>\n",
       "    <tr>\n",
       "      <th>1860650</th>\n",
       "      <td>168052862.0</td>\n",
       "      <td>ar</td>\n",
       "      <td>0.0</td>\n",
       "      <td>1.0</td>\n",
       "      <td>鹿晗、陈嘉桦、大张伟、张丹峰、潘玮柏、刘敏涛 - 重返十七岁</td>\n",
       "      <td>未知歌手</td>\n",
       "      <td>49.0</td>\n",
       "      <td>245.0</td>\n",
       "      <td>0.0</td>\n",
       "    </tr>\n",
       "    <tr>\n",
       "      <th>1860651</th>\n",
       "      <td>167925975.0</td>\n",
       "      <td>ar</td>\n",
       "      <td>6402552.0</td>\n",
       "      <td>0.0</td>\n",
       "      <td>南无地藏王菩萨(国语版)</td>\n",
       "      <td>佛教音乐</td>\n",
       "      <td>42.0</td>\n",
       "      <td>42.0</td>\n",
       "      <td>0.0</td>\n",
       "    </tr>\n",
       "    <tr>\n",
       "      <th>1860652</th>\n",
       "      <td>167690656.0</td>\n",
       "      <td>ar</td>\n",
       "      <td>15193275.0</td>\n",
       "      <td>0.0</td>\n",
       "      <td>我梦见我梦见我</td>\n",
       "      <td>本兮</td>\n",
       "      <td>0.0</td>\n",
       "      <td>279.0</td>\n",
       "      <td>0.0</td>\n",
       "    </tr>\n",
       "    <tr>\n",
       "      <th>1860655</th>\n",
       "      <td>167825961.0</td>\n",
       "      <td>ar</td>\n",
       "      <td>708518.0</td>\n",
       "      <td>0.0</td>\n",
       "      <td>汽车HiFi御用慢摇</td>\n",
       "      <td>DJ舞曲</td>\n",
       "      <td>450.0</td>\n",
       "      <td>450.0</td>\n",
       "      <td>0.0</td>\n",
       "    </tr>\n",
       "    <tr>\n",
       "      <th>1860656</th>\n",
       "      <td>167993044.0</td>\n",
       "      <td>ip</td>\n",
       "      <td>2216463.0</td>\n",
       "      <td>0.0</td>\n",
       "      <td>被伤过的心还可以爱谁</td>\n",
       "      <td>孙露</td>\n",
       "      <td>207.0</td>\n",
       "      <td>300.0</td>\n",
       "      <td>0.0</td>\n",
       "    </tr>\n",
       "    <tr>\n",
       "      <th>1860658</th>\n",
       "      <td>167574086.0</td>\n",
       "      <td>ar</td>\n",
       "      <td>7185650.0</td>\n",
       "      <td>0.0</td>\n",
       "      <td>棉花糖</td>\n",
       "      <td>至上励合</td>\n",
       "      <td>3.0</td>\n",
       "      <td>231.0</td>\n",
       "      <td>0.0</td>\n",
       "    </tr>\n",
       "    <tr>\n",
       "      <th>1860659</th>\n",
       "      <td>1685126.0</td>\n",
       "      <td>ar</td>\n",
       "      <td>16854414.0</td>\n",
       "      <td>0.0</td>\n",
       "      <td>不必在乎我是谁</td>\n",
       "      <td>林忆莲</td>\n",
       "      <td>279.0</td>\n",
       "      <td>302.0</td>\n",
       "      <td>0.0</td>\n",
       "    </tr>\n",
       "    <tr>\n",
       "      <th>1860660</th>\n",
       "      <td>167960151.0</td>\n",
       "      <td>ip</td>\n",
       "      <td>21763806.0</td>\n",
       "      <td>0.0</td>\n",
       "      <td>饿狼传说 (Live)</td>\n",
       "      <td>张靓颖</td>\n",
       "      <td>279.0</td>\n",
       "      <td>279.0</td>\n",
       "      <td>0.0</td>\n",
       "    </tr>\n",
       "    <tr>\n",
       "      <th>1860661</th>\n",
       "      <td>167589862.0</td>\n",
       "      <td>ar</td>\n",
       "      <td>22056051.0</td>\n",
       "      <td>0.0</td>\n",
       "      <td>刚刚好-(网剧《我与你的光年距离》片尾曲)</td>\n",
       "      <td>薛之谦</td>\n",
       "      <td>7.0</td>\n",
       "      <td>250.0</td>\n",
       "      <td>0.0</td>\n",
       "    </tr>\n",
       "    <tr>\n",
       "      <th>1860662</th>\n",
       "      <td>167979086.0</td>\n",
       "      <td>ar</td>\n",
       "      <td>1244660.0</td>\n",
       "      <td>0.0</td>\n",
       "      <td>有点甜-(电视剧《借用一下你的爱》插曲)</td>\n",
       "      <td>汪苏泷&amp;By2</td>\n",
       "      <td>21.0</td>\n",
       "      <td>235.0</td>\n",
       "      <td>0.0</td>\n",
       "    </tr>\n",
       "    <tr>\n",
       "      <th>1860663</th>\n",
       "      <td>167969089.0</td>\n",
       "      <td>ar</td>\n",
       "      <td>727161.0</td>\n",
       "      <td>0.0</td>\n",
       "      <td>A.I.N.Y. (爱你)</td>\n",
       "      <td>G.E.M.邓紫棋</td>\n",
       "      <td>0.0</td>\n",
       "      <td>224.0</td>\n",
       "      <td>0.0</td>\n",
       "    </tr>\n",
       "  </tbody>\n",
       "</table>\n",
       "<p>1557499 rows × 9 columns</p>\n",
       "</div>"
      ],
      "text/plain": [
       "                 uid device     song_id  song_type  \\\n",
       "1        168029752.0     ar   1026364.0        0.0   \n",
       "3        168029752.0     ar    234903.0        0.0   \n",
       "4        167965547.0     ar   6606144.0        0.0   \n",
       "6        168029752.0     ar   1026363.0        0.0   \n",
       "8        168029752.0     ar    234901.0        0.0   \n",
       "9        167923831.0     ip  13750591.0        0.0   \n",
       "12       168029752.0     ar   1026359.0        0.0   \n",
       "13       167807475.0     ar    348243.0        0.0   \n",
       "14       167900247.0     ar  13667778.0        0.0   \n",
       "15       167958001.0     ar   6266032.0        0.0   \n",
       "16       168029752.0     ar   1026358.0        0.0   \n",
       "17       168029752.0     ar   1026368.0        0.0   \n",
       "18       168047889.0     ip    708741.0        0.0   \n",
       "19       167704566.0     ar   9902748.0        0.0   \n",
       "20       167630166.0     ar    795430.0        0.0   \n",
       "22       167851700.0     ar   6651913.0        0.0   \n",
       "23       167779635.0     ip     77851.0        0.0   \n",
       "24       168029752.0     ar    234896.0        0.0   \n",
       "27       167890362.0     ar   6180670.0        0.0   \n",
       "28       168029752.0     ar    324334.0        0.0   \n",
       "29       168029752.0     ar    234906.0        0.0   \n",
       "30       168029752.0     ar  21770905.0        0.0   \n",
       "31       167850949.0     ar   6692062.0        0.0   \n",
       "32       168029752.0     ar  14831130.0        0.0   \n",
       "33       167947155.0     ar  14708826.0        0.0   \n",
       "34       168029752.0     ar    437853.0        0.0   \n",
       "35       168029752.0     ar    215921.0        0.0   \n",
       "38       168029752.0     ar   1026367.0        0.0   \n",
       "39       168004558.0     ar  14008117.0        0.0   \n",
       "40       167970575.0     ar    854337.0        0.0   \n",
       "...              ...    ...         ...        ...   \n",
       "1860627  167832224.0     ip  17081441.0        0.0   \n",
       "1860629  167930051.0     ar    107464.0        0.0   \n",
       "1860631  167999511.0     ip   5272489.0        0.0   \n",
       "1860632  167931083.0     ar   6201279.0        0.0   \n",
       "1860633  167886282.0     ip    216945.0        0.0   \n",
       "1860634  167856068.0     ar         0.0        1.0   \n",
       "1860635  167758498.0     ar    105269.0        0.0   \n",
       "1860636  167952415.0     ar   9952802.0        0.0   \n",
       "1860637  167999850.0     ip   4539774.0        0.0   \n",
       "1860638    1685126.0     ar  23485855.0        0.0   \n",
       "1860639  167649809.0     ar   6993092.0        0.0   \n",
       "1860641  167690656.0     ar   1247574.0        0.0   \n",
       "1860643  167797681.0     ip   6351577.0        0.0   \n",
       "1860644  168046490.0     ar  22806729.0        0.0   \n",
       "1860645  168049959.0     ar         0.0        1.0   \n",
       "1860646  167925975.0     ar   6402552.0        0.0   \n",
       "1860647  168043780.0     ar   3380490.0        0.0   \n",
       "1860648  168045235.0     ar  22875944.0        0.0   \n",
       "1860649  168040755.0     ar   4616474.0        0.0   \n",
       "1860650  168052862.0     ar         0.0        1.0   \n",
       "1860651  167925975.0     ar   6402552.0        0.0   \n",
       "1860652  167690656.0     ar  15193275.0        0.0   \n",
       "1860655  167825961.0     ar    708518.0        0.0   \n",
       "1860656  167993044.0     ip   2216463.0        0.0   \n",
       "1860658  167574086.0     ar   7185650.0        0.0   \n",
       "1860659    1685126.0     ar  16854414.0        0.0   \n",
       "1860660  167960151.0     ip  21763806.0        0.0   \n",
       "1860661  167589862.0     ar  22056051.0        0.0   \n",
       "1860662  167979086.0     ar   1244660.0        0.0   \n",
       "1860663  167969089.0     ar    727161.0        0.0   \n",
       "\n",
       "                                               song_name          singer  \\\n",
       "1                                                   你在天边            容中尔甲   \n",
       "3                                                梦中的达娃卓玛            容中尔甲   \n",
       "4                                                     心锁          杨小曼&冷漠   \n",
       "6                                                 喜马拉雅恋曲            容中尔甲   \n",
       "8                                                   九寨之子            容中尔甲   \n",
       "9                                              悟空 - Live              戴荃   \n",
       "12                                                 珠穆朗玛峰            容中尔甲   \n",
       "13       Cursed Destiny(C7 Meets Technorocker Radio Mix)           mabra   \n",
       "14                                       Pina Colada Boy      Baby Alice   \n",
       "15                                                  赤裸离开              孙露   \n",
       "16                                                雅鲁藏布情歌            容中尔甲   \n",
       "17                                                 神奇的九寨            容中尔甲   \n",
       "18                                     守候在凌晨两点的伤心酒吧(DJ版)              刀郎   \n",
       "19                                                   来不及             小来哥   \n",
       "20                                                   别再说              小露   \n",
       "22                                               再见只是陌生人             庄心妍   \n",
       "23                                             一场游戏一场梦II              王杰   \n",
       "24                                                   高原红            容中尔甲   \n",
       "27                                                连借口都没有             孙子涵   \n",
       "28                                                 雄鹰在飞翔            容中尔甲   \n",
       "29                                                永远的雪莲花            容中尔甲   \n",
       "30                                           回家的路 (Live)             刘德华   \n",
       "31                                               乱世烽火出英雄            MC王佳   \n",
       "32                                                  恭喜发财         刘德华&卓依婷   \n",
       "33                                                  如果不是             杨炅翰   \n",
       "34                                           练习(国)(Live)             刘德华   \n",
       "35                                                    醉拳              成龙   \n",
       "38                                                 雄鹰在飞翔            容中尔甲   \n",
       "39                                              奥力给(环绕版)             吴司令   \n",
       "40                                     网络歌曲铃声精选3(21秒铃声版)              铃声   \n",
       "...                                                  ...             ...   \n",
       "1860627                                               凉凉         张碧晨&杨宗纬   \n",
       "1860629                                            鳄鱼的眼泪             林志炫   \n",
       "1860631                                            Sugar        Maroon 5   \n",
       "1860632                                       匆匆那年(Live)             杨宗纬   \n",
       "1860633                                 Careless Whisper  George Michael   \n",
       "1860634                                       庄心妍 - 放过自己            未知歌手   \n",
       "1860635                                             一言难尽              张宇   \n",
       "1860636                                       Apple Tree            儿童歌曲   \n",
       "1860637                                       慢三舞曲 几度夕阳红            网络歌手   \n",
       "1860638                                             生来倔强            南征北战   \n",
       "1860639                                           二十四节气歌            贝瓦儿歌   \n",
       "1860641                                               无语              本兮   \n",
       "1860643                                                爱           A-Lin   \n",
       "1860644                                   你不是我的月亮,我不是你的云              谢军   \n",
       "1860645                                             逆流成河             金南玲   \n",
       "1860646                                     南无地藏王菩萨(国语版)            佛教音乐   \n",
       "1860647                                             天都黑了              本兮   \n",
       "1860648                                   小永远(完整版) - 周二珂           二珂呀呀呀   \n",
       "1860649                                           特殊短信铃音            手机铃声   \n",
       "1860650                   鹿晗、陈嘉桦、大张伟、张丹峰、潘玮柏、刘敏涛 - 重返十七岁            未知歌手   \n",
       "1860651                                     南无地藏王菩萨(国语版)            佛教音乐   \n",
       "1860652                                          我梦见我梦见我              本兮   \n",
       "1860655                                       汽车HiFi御用慢摇            DJ舞曲   \n",
       "1860656                                       被伤过的心还可以爱谁              孙露   \n",
       "1860658                                              棉花糖            至上励合   \n",
       "1860659                                          不必在乎我是谁             林忆莲   \n",
       "1860660                                      饿狼传说 (Live)             张靓颖   \n",
       "1860661                            刚刚好-(网剧《我与你的光年距离》片尾曲)             薛之谦   \n",
       "1860662                             有点甜-(电视剧《借用一下你的爱》插曲)         汪苏泷&By2   \n",
       "1860663                                    A.I.N.Y. (爱你)       G.E.M.邓紫棋   \n",
       "\n",
       "         play_time  song_length  paid_flag  \n",
       "1              0.0        277.0        0.0  \n",
       "3              0.0        315.0        0.0  \n",
       "4            256.0        256.0        0.0  \n",
       "6              0.0        266.0        0.0  \n",
       "8            245.0        245.0        0.0  \n",
       "9            197.0        197.0        0.0  \n",
       "12             0.0        244.0        0.0  \n",
       "13            24.0        190.0        0.0  \n",
       "14            55.0        184.0        0.0  \n",
       "15             0.0        242.0        0.0  \n",
       "16             0.0        282.0        0.0  \n",
       "17             0.0        259.0        0.0  \n",
       "18           315.0        320.0        0.0  \n",
       "19            38.0        187.0        0.0  \n",
       "20           179.0        302.0        0.0  \n",
       "22           247.0        251.0        0.0  \n",
       "23             6.0        137.0        0.0  \n",
       "24             0.0        278.0        0.0  \n",
       "27           256.0        258.0        0.0  \n",
       "28             0.0        325.0        0.0  \n",
       "29             0.0        248.0        0.0  \n",
       "30             0.0        249.0        0.0  \n",
       "31           146.0        146.0        0.0  \n",
       "32             0.0        290.0        0.0  \n",
       "33           176.0        177.0        0.0  \n",
       "34             0.0        341.0        0.0  \n",
       "35             0.0        182.0        0.0  \n",
       "38             0.0        327.0        0.0  \n",
       "39            13.0        156.0        0.0  \n",
       "40             4.0         19.0        0.0  \n",
       "...            ...          ...        ...  \n",
       "1860627      333.0        334.0        0.0  \n",
       "1860629       72.0        255.0        0.0  \n",
       "1860631        1.0        235.0        0.0  \n",
       "1860632        8.0        192.0        0.0  \n",
       "1860633       45.0        300.0        0.0  \n",
       "1860634      248.0        249.0        0.0  \n",
       "1860635        0.0        251.0        0.0  \n",
       "1860636       73.0         73.0        0.0  \n",
       "1860637      306.0        307.0        0.0  \n",
       "1860638      128.0        219.0        0.0  \n",
       "1860639      110.0        125.0        0.0  \n",
       "1860641        0.0        218.0        0.0  \n",
       "1860643        2.0        253.0        0.0  \n",
       "1860644        6.0        283.0        0.0  \n",
       "1860645       58.0        125.0        0.0  \n",
       "1860646       42.0         42.0        0.0  \n",
       "1860647       14.0        227.0        0.0  \n",
       "1860648      217.0        239.0        0.0  \n",
       "1860649        2.0          3.0        0.0  \n",
       "1860650       49.0        245.0        0.0  \n",
       "1860651       42.0         42.0        0.0  \n",
       "1860652        0.0        279.0        0.0  \n",
       "1860655      450.0        450.0        0.0  \n",
       "1860656      207.0        300.0        0.0  \n",
       "1860658        3.0        231.0        0.0  \n",
       "1860659      279.0        302.0        0.0  \n",
       "1860660      279.0        279.0        0.0  \n",
       "1860661        7.0        250.0        0.0  \n",
       "1860662       21.0        235.0        0.0  \n",
       "1860663        0.0        224.0        0.0  \n",
       "\n",
       "[1557499 rows x 9 columns]"
      ]
     },
     "execution_count": 27,
     "metadata": {},
     "output_type": "execute_result"
    }
   ],
   "source": [
    "df_play_clean = df_play[df_play['song_length'] > 0]\n",
    "df_play_clean = df_play_clean[df_play_clean['play_time'] <= df_play_clean['song_length']]\n",
    "df_play_clean"
   ]
  },
  {
   "cell_type": "code",
   "execution_count": 28,
   "metadata": {
    "collapsed": false
   },
   "outputs": [
    {
     "data": {
      "text/plain": [
       "uid            1557499\n",
       "device         1557499\n",
       "song_id        1557499\n",
       "song_type      1557499\n",
       "song_name      1557499\n",
       "singer         1557499\n",
       "play_time      1557499\n",
       "song_length    1557499\n",
       "paid_flag      1557499\n",
       "dtype: int64"
      ]
     },
     "execution_count": 28,
     "metadata": {},
     "output_type": "execute_result"
    }
   ],
   "source": [
    "df_play_clean_cnt = df_play_clean.count()\n",
    "df_play_clean_cnt"
   ]
  },
  {
   "cell_type": "code",
   "execution_count": 29,
   "metadata": {
    "collapsed": false
   },
   "outputs": [
    {
     "data": {
      "text/plain": [
       "uid            303167\n",
       "device         303167\n",
       "song_id        303167\n",
       "song_type      303167\n",
       "song_name      303167\n",
       "singer         303167\n",
       "play_time      291908\n",
       "song_length    303167\n",
       "paid_flag      303167\n",
       "dtype: int64"
      ]
     },
     "execution_count": 29,
     "metadata": {},
     "output_type": "execute_result"
    }
   ],
   "source": [
    "df_play_cnt - df_play_clean_cnt"
   ]
  },
  {
   "cell_type": "code",
   "execution_count": 30,
   "metadata": {
    "collapsed": false
   },
   "outputs": [
    {
     "name": "stdout",
     "output_type": "stream",
     "text": [
      "This non-commercial license of GraphLab Create for academic use is assigned to bo.cao-1@colorado.edu and will expire on May 24, 2019.\n"
     ]
    },
    {
     "name": "stderr",
     "output_type": "stream",
     "text": [
      "[INFO] graphlab.cython.cy_server: GraphLab Create v2.1 started. Logging: /tmp/graphlab_server_1531083262.log\n"
     ]
    },
    {
     "data": {
      "text/html": [
       "<div style=\"max-height:1000px;max-width:1500px;overflow:auto;\"><table frame=\"box\" rules=\"cols\">\n",
       "    <tr>\n",
       "        <th style=\"padding-left: 1em; padding-right: 1em; text-align: center\">uid</th>\n",
       "        <th style=\"padding-left: 1em; padding-right: 1em; text-align: center\">device</th>\n",
       "        <th style=\"padding-left: 1em; padding-right: 1em; text-align: center\">song_id</th>\n",
       "        <th style=\"padding-left: 1em; padding-right: 1em; text-align: center\">song_type</th>\n",
       "        <th style=\"padding-left: 1em; padding-right: 1em; text-align: center\">song_name</th>\n",
       "        <th style=\"padding-left: 1em; padding-right: 1em; text-align: center\">singer</th>\n",
       "        <th style=\"padding-left: 1em; padding-right: 1em; text-align: center\">play_time</th>\n",
       "        <th style=\"padding-left: 1em; padding-right: 1em; text-align: center\">song_length</th>\n",
       "    </tr>\n",
       "    <tr>\n",
       "        <td style=\"padding-left: 1em; padding-right: 1em; text-align: center; vertical-align: top\">168029752.0</td>\n",
       "        <td style=\"padding-left: 1em; padding-right: 1em; text-align: center; vertical-align: top\">ar</td>\n",
       "        <td style=\"padding-left: 1em; padding-right: 1em; text-align: center; vertical-align: top\">1026364.0</td>\n",
       "        <td style=\"padding-left: 1em; padding-right: 1em; text-align: center; vertical-align: top\">0.0</td>\n",
       "        <td style=\"padding-left: 1em; padding-right: 1em; text-align: center; vertical-align: top\">你在天边</td>\n",
       "        <td style=\"padding-left: 1em; padding-right: 1em; text-align: center; vertical-align: top\">容中尔甲</td>\n",
       "        <td style=\"padding-left: 1em; padding-right: 1em; text-align: center; vertical-align: top\">0.0</td>\n",
       "        <td style=\"padding-left: 1em; padding-right: 1em; text-align: center; vertical-align: top\">277.0</td>\n",
       "    </tr>\n",
       "    <tr>\n",
       "        <td style=\"padding-left: 1em; padding-right: 1em; text-align: center; vertical-align: top\">168029752.0</td>\n",
       "        <td style=\"padding-left: 1em; padding-right: 1em; text-align: center; vertical-align: top\">ar</td>\n",
       "        <td style=\"padding-left: 1em; padding-right: 1em; text-align: center; vertical-align: top\">234903.0</td>\n",
       "        <td style=\"padding-left: 1em; padding-right: 1em; text-align: center; vertical-align: top\">0.0</td>\n",
       "        <td style=\"padding-left: 1em; padding-right: 1em; text-align: center; vertical-align: top\">梦中的达娃卓玛</td>\n",
       "        <td style=\"padding-left: 1em; padding-right: 1em; text-align: center; vertical-align: top\">容中尔甲</td>\n",
       "        <td style=\"padding-left: 1em; padding-right: 1em; text-align: center; vertical-align: top\">0.0</td>\n",
       "        <td style=\"padding-left: 1em; padding-right: 1em; text-align: center; vertical-align: top\">315.0</td>\n",
       "    </tr>\n",
       "    <tr>\n",
       "        <td style=\"padding-left: 1em; padding-right: 1em; text-align: center; vertical-align: top\">167965547.0</td>\n",
       "        <td style=\"padding-left: 1em; padding-right: 1em; text-align: center; vertical-align: top\">ar</td>\n",
       "        <td style=\"padding-left: 1em; padding-right: 1em; text-align: center; vertical-align: top\">6606144.0</td>\n",
       "        <td style=\"padding-left: 1em; padding-right: 1em; text-align: center; vertical-align: top\">0.0</td>\n",
       "        <td style=\"padding-left: 1em; padding-right: 1em; text-align: center; vertical-align: top\">心锁</td>\n",
       "        <td style=\"padding-left: 1em; padding-right: 1em; text-align: center; vertical-align: top\">杨小曼&amp;冷漠</td>\n",
       "        <td style=\"padding-left: 1em; padding-right: 1em; text-align: center; vertical-align: top\">256.0</td>\n",
       "        <td style=\"padding-left: 1em; padding-right: 1em; text-align: center; vertical-align: top\">256.0</td>\n",
       "    </tr>\n",
       "    <tr>\n",
       "        <td style=\"padding-left: 1em; padding-right: 1em; text-align: center; vertical-align: top\">168029752.0</td>\n",
       "        <td style=\"padding-left: 1em; padding-right: 1em; text-align: center; vertical-align: top\">ar</td>\n",
       "        <td style=\"padding-left: 1em; padding-right: 1em; text-align: center; vertical-align: top\">1026363.0</td>\n",
       "        <td style=\"padding-left: 1em; padding-right: 1em; text-align: center; vertical-align: top\">0.0</td>\n",
       "        <td style=\"padding-left: 1em; padding-right: 1em; text-align: center; vertical-align: top\">喜马拉雅恋曲</td>\n",
       "        <td style=\"padding-left: 1em; padding-right: 1em; text-align: center; vertical-align: top\">容中尔甲</td>\n",
       "        <td style=\"padding-left: 1em; padding-right: 1em; text-align: center; vertical-align: top\">0.0</td>\n",
       "        <td style=\"padding-left: 1em; padding-right: 1em; text-align: center; vertical-align: top\">266.0</td>\n",
       "    </tr>\n",
       "    <tr>\n",
       "        <td style=\"padding-left: 1em; padding-right: 1em; text-align: center; vertical-align: top\">168029752.0</td>\n",
       "        <td style=\"padding-left: 1em; padding-right: 1em; text-align: center; vertical-align: top\">ar</td>\n",
       "        <td style=\"padding-left: 1em; padding-right: 1em; text-align: center; vertical-align: top\">234901.0</td>\n",
       "        <td style=\"padding-left: 1em; padding-right: 1em; text-align: center; vertical-align: top\">0.0</td>\n",
       "        <td style=\"padding-left: 1em; padding-right: 1em; text-align: center; vertical-align: top\">九寨之子</td>\n",
       "        <td style=\"padding-left: 1em; padding-right: 1em; text-align: center; vertical-align: top\">容中尔甲</td>\n",
       "        <td style=\"padding-left: 1em; padding-right: 1em; text-align: center; vertical-align: top\">245.0</td>\n",
       "        <td style=\"padding-left: 1em; padding-right: 1em; text-align: center; vertical-align: top\">245.0</td>\n",
       "    </tr>\n",
       "    <tr>\n",
       "        <td style=\"padding-left: 1em; padding-right: 1em; text-align: center; vertical-align: top\">167923831.0</td>\n",
       "        <td style=\"padding-left: 1em; padding-right: 1em; text-align: center; vertical-align: top\">ip</td>\n",
       "        <td style=\"padding-left: 1em; padding-right: 1em; text-align: center; vertical-align: top\">13750591.0</td>\n",
       "        <td style=\"padding-left: 1em; padding-right: 1em; text-align: center; vertical-align: top\">0.0</td>\n",
       "        <td style=\"padding-left: 1em; padding-right: 1em; text-align: center; vertical-align: top\">悟空 - Live</td>\n",
       "        <td style=\"padding-left: 1em; padding-right: 1em; text-align: center; vertical-align: top\">戴荃</td>\n",
       "        <td style=\"padding-left: 1em; padding-right: 1em; text-align: center; vertical-align: top\">197.0</td>\n",
       "        <td style=\"padding-left: 1em; padding-right: 1em; text-align: center; vertical-align: top\">197.0</td>\n",
       "    </tr>\n",
       "    <tr>\n",
       "        <td style=\"padding-left: 1em; padding-right: 1em; text-align: center; vertical-align: top\">168029752.0</td>\n",
       "        <td style=\"padding-left: 1em; padding-right: 1em; text-align: center; vertical-align: top\">ar</td>\n",
       "        <td style=\"padding-left: 1em; padding-right: 1em; text-align: center; vertical-align: top\">1026359.0</td>\n",
       "        <td style=\"padding-left: 1em; padding-right: 1em; text-align: center; vertical-align: top\">0.0</td>\n",
       "        <td style=\"padding-left: 1em; padding-right: 1em; text-align: center; vertical-align: top\">珠穆朗玛峰</td>\n",
       "        <td style=\"padding-left: 1em; padding-right: 1em; text-align: center; vertical-align: top\">容中尔甲</td>\n",
       "        <td style=\"padding-left: 1em; padding-right: 1em; text-align: center; vertical-align: top\">0.0</td>\n",
       "        <td style=\"padding-left: 1em; padding-right: 1em; text-align: center; vertical-align: top\">244.0</td>\n",
       "    </tr>\n",
       "    <tr>\n",
       "        <td style=\"padding-left: 1em; padding-right: 1em; text-align: center; vertical-align: top\">167807475.0</td>\n",
       "        <td style=\"padding-left: 1em; padding-right: 1em; text-align: center; vertical-align: top\">ar</td>\n",
       "        <td style=\"padding-left: 1em; padding-right: 1em; text-align: center; vertical-align: top\">348243.0</td>\n",
       "        <td style=\"padding-left: 1em; padding-right: 1em; text-align: center; vertical-align: top\">0.0</td>\n",
       "        <td style=\"padding-left: 1em; padding-right: 1em; text-align: center; vertical-align: top\">Cursed Destiny(C7 Meets<br>Technorocker Radio Mix) ...</td>\n",
       "        <td style=\"padding-left: 1em; padding-right: 1em; text-align: center; vertical-align: top\">mabra</td>\n",
       "        <td style=\"padding-left: 1em; padding-right: 1em; text-align: center; vertical-align: top\">24.0</td>\n",
       "        <td style=\"padding-left: 1em; padding-right: 1em; text-align: center; vertical-align: top\">190.0</td>\n",
       "    </tr>\n",
       "    <tr>\n",
       "        <td style=\"padding-left: 1em; padding-right: 1em; text-align: center; vertical-align: top\">167900247.0</td>\n",
       "        <td style=\"padding-left: 1em; padding-right: 1em; text-align: center; vertical-align: top\">ar</td>\n",
       "        <td style=\"padding-left: 1em; padding-right: 1em; text-align: center; vertical-align: top\">13667778.0</td>\n",
       "        <td style=\"padding-left: 1em; padding-right: 1em; text-align: center; vertical-align: top\">0.0</td>\n",
       "        <td style=\"padding-left: 1em; padding-right: 1em; text-align: center; vertical-align: top\">Pina Colada Boy</td>\n",
       "        <td style=\"padding-left: 1em; padding-right: 1em; text-align: center; vertical-align: top\">Baby Alice</td>\n",
       "        <td style=\"padding-left: 1em; padding-right: 1em; text-align: center; vertical-align: top\">55.0</td>\n",
       "        <td style=\"padding-left: 1em; padding-right: 1em; text-align: center; vertical-align: top\">184.0</td>\n",
       "    </tr>\n",
       "    <tr>\n",
       "        <td style=\"padding-left: 1em; padding-right: 1em; text-align: center; vertical-align: top\">167958001.0</td>\n",
       "        <td style=\"padding-left: 1em; padding-right: 1em; text-align: center; vertical-align: top\">ar</td>\n",
       "        <td style=\"padding-left: 1em; padding-right: 1em; text-align: center; vertical-align: top\">6266032.0</td>\n",
       "        <td style=\"padding-left: 1em; padding-right: 1em; text-align: center; vertical-align: top\">0.0</td>\n",
       "        <td style=\"padding-left: 1em; padding-right: 1em; text-align: center; vertical-align: top\">赤裸离开</td>\n",
       "        <td style=\"padding-left: 1em; padding-right: 1em; text-align: center; vertical-align: top\">孙露</td>\n",
       "        <td style=\"padding-left: 1em; padding-right: 1em; text-align: center; vertical-align: top\">0.0</td>\n",
       "        <td style=\"padding-left: 1em; padding-right: 1em; text-align: center; vertical-align: top\">242.0</td>\n",
       "    </tr>\n",
       "</table>\n",
       "<table frame=\"box\" rules=\"cols\">\n",
       "    <tr>\n",
       "        <th style=\"padding-left: 1em; padding-right: 1em; text-align: center\">paid_flag</th>\n",
       "    </tr>\n",
       "    <tr>\n",
       "        <td style=\"padding-left: 1em; padding-right: 1em; text-align: center; vertical-align: top\">0.0</td>\n",
       "    </tr>\n",
       "    <tr>\n",
       "        <td style=\"padding-left: 1em; padding-right: 1em; text-align: center; vertical-align: top\">0.0</td>\n",
       "    </tr>\n",
       "    <tr>\n",
       "        <td style=\"padding-left: 1em; padding-right: 1em; text-align: center; vertical-align: top\">0.0</td>\n",
       "    </tr>\n",
       "    <tr>\n",
       "        <td style=\"padding-left: 1em; padding-right: 1em; text-align: center; vertical-align: top\">0.0</td>\n",
       "    </tr>\n",
       "    <tr>\n",
       "        <td style=\"padding-left: 1em; padding-right: 1em; text-align: center; vertical-align: top\">0.0</td>\n",
       "    </tr>\n",
       "    <tr>\n",
       "        <td style=\"padding-left: 1em; padding-right: 1em; text-align: center; vertical-align: top\">0.0</td>\n",
       "    </tr>\n",
       "    <tr>\n",
       "        <td style=\"padding-left: 1em; padding-right: 1em; text-align: center; vertical-align: top\">0.0</td>\n",
       "    </tr>\n",
       "    <tr>\n",
       "        <td style=\"padding-left: 1em; padding-right: 1em; text-align: center; vertical-align: top\">0.0</td>\n",
       "    </tr>\n",
       "    <tr>\n",
       "        <td style=\"padding-left: 1em; padding-right: 1em; text-align: center; vertical-align: top\">0.0</td>\n",
       "    </tr>\n",
       "    <tr>\n",
       "        <td style=\"padding-left: 1em; padding-right: 1em; text-align: center; vertical-align: top\">0.0</td>\n",
       "    </tr>\n",
       "</table>\n",
       "[10 rows x 9 columns]<br/>\n",
       "</div>"
      ],
      "text/plain": [
       "Columns:\n",
       "\tuid\tstr\n",
       "\tdevice\tstr\n",
       "\tsong_id\tstr\n",
       "\tsong_type\tfloat\n",
       "\tsong_name\tstr\n",
       "\tsinger\tstr\n",
       "\tplay_time\tfloat\n",
       "\tsong_length\tfloat\n",
       "\tpaid_flag\tfloat\n",
       "\n",
       "Rows: 10\n",
       "\n",
       "Data:\n",
       "+-------------+--------+------------+-----------+-------------------------------+\n",
       "|     uid     | device |  song_id   | song_type |           song_name           |\n",
       "+-------------+--------+------------+-----------+-------------------------------+\n",
       "| 168029752.0 |   ar   | 1026364.0  |    0.0    |            你在天边           |\n",
       "| 168029752.0 |   ar   |  234903.0  |    0.0    |         梦中的达娃卓玛        |\n",
       "| 167965547.0 |   ar   | 6606144.0  |    0.0    |              心锁             |\n",
       "| 168029752.0 |   ar   | 1026363.0  |    0.0    |          喜马拉雅恋曲         |\n",
       "| 168029752.0 |   ar   |  234901.0  |    0.0    |            九寨之子           |\n",
       "| 167923831.0 |   ip   | 13750591.0 |    0.0    |          悟空 - Live          |\n",
       "| 168029752.0 |   ar   | 1026359.0  |    0.0    |           珠穆朗玛峰          |\n",
       "| 167807475.0 |   ar   |  348243.0  |    0.0    | Cursed Destiny(C7 Meets Te... |\n",
       "| 167900247.0 |   ar   | 13667778.0 |    0.0    |        Pina Colada Boy        |\n",
       "| 167958001.0 |   ar   | 6266032.0  |    0.0    |            赤裸离开           |\n",
       "+-------------+--------+------------+-----------+-------------------------------+\n",
       "+-------------+-----------+-------------+-----------+\n",
       "|    singer   | play_time | song_length | paid_flag |\n",
       "+-------------+-----------+-------------+-----------+\n",
       "|   容中尔甲  |    0.0    |    277.0    |    0.0    |\n",
       "|   容中尔甲  |    0.0    |    315.0    |    0.0    |\n",
       "| 杨小曼&冷漠 |   256.0   |    256.0    |    0.0    |\n",
       "|   容中尔甲  |    0.0    |    266.0    |    0.0    |\n",
       "|   容中尔甲  |   245.0   |    245.0    |    0.0    |\n",
       "|     戴荃    |   197.0   |    197.0    |    0.0    |\n",
       "|   容中尔甲  |    0.0    |    244.0    |    0.0    |\n",
       "|    mabra    |    24.0   |    190.0    |    0.0    |\n",
       "|  Baby Alice |    55.0   |    184.0    |    0.0    |\n",
       "|     孙露    |    0.0    |    242.0    |    0.0    |\n",
       "+-------------+-----------+-------------+-----------+\n",
       "[10 rows x 9 columns]"
      ]
     },
     "execution_count": 30,
     "metadata": {},
     "output_type": "execute_result"
    }
   ],
   "source": [
    "sf_play_for_rec_on_play_time = graphlab.SFrame(df_play_clean)\n",
    "sf_play_for_rec_on_play_time.head()"
   ]
  },
  {
   "cell_type": "code",
   "execution_count": 31,
   "metadata": {
    "collapsed": false
   },
   "outputs": [
    {
     "data": {
      "text/html": [
       "<pre>Recsys training: model = item_similarity</pre>"
      ],
      "text/plain": [
       "Recsys training: model = item_similarity"
      ]
     },
     "metadata": {},
     "output_type": "display_data"
    },
    {
     "data": {
      "text/html": [
       "<pre>Warning: Ignoring columns device, song_type, song_name, singer, song_length, paid_flag;</pre>"
      ],
      "text/plain": [
       "Warning: Ignoring columns device, song_type, song_name, singer, song_length, paid_flag;"
      ]
     },
     "metadata": {},
     "output_type": "display_data"
    },
    {
     "data": {
      "text/html": [
       "<pre>    To use these columns in scoring predictions, use a model that allows the use of additional features.</pre>"
      ],
      "text/plain": [
       "    To use these columns in scoring predictions, use a model that allows the use of additional features."
      ]
     },
     "metadata": {},
     "output_type": "display_data"
    },
    {
     "data": {
      "text/html": [
       "<pre>Preparing data set.</pre>"
      ],
      "text/plain": [
       "Preparing data set."
      ]
     },
     "metadata": {},
     "output_type": "display_data"
    },
    {
     "data": {
      "text/html": [
       "<pre>    Data has 1557499 observations with 60830 users and 205798 items.</pre>"
      ],
      "text/plain": [
       "    Data has 1557499 observations with 60830 users and 205798 items."
      ]
     },
     "metadata": {},
     "output_type": "display_data"
    },
    {
     "data": {
      "text/html": [
       "<pre>    Data prepared in: 1.43827s</pre>"
      ],
      "text/plain": [
       "    Data prepared in: 1.43827s"
      ]
     },
     "metadata": {},
     "output_type": "display_data"
    },
    {
     "data": {
      "text/html": [
       "<pre>Training model from provided data.</pre>"
      ],
      "text/plain": [
       "Training model from provided data."
      ]
     },
     "metadata": {},
     "output_type": "display_data"
    },
    {
     "data": {
      "text/html": [
       "<pre>Gathering per-item and per-user statistics.</pre>"
      ],
      "text/plain": [
       "Gathering per-item and per-user statistics."
      ]
     },
     "metadata": {},
     "output_type": "display_data"
    },
    {
     "data": {
      "text/html": [
       "<pre>+--------------------------------+------------+</pre>"
      ],
      "text/plain": [
       "+--------------------------------+------------+"
      ]
     },
     "metadata": {},
     "output_type": "display_data"
    },
    {
     "data": {
      "text/html": [
       "<pre>| Elapsed Time (Item Statistics) | % Complete |</pre>"
      ],
      "text/plain": [
       "| Elapsed Time (Item Statistics) | % Complete |"
      ]
     },
     "metadata": {},
     "output_type": "display_data"
    },
    {
     "data": {
      "text/html": [
       "<pre>+--------------------------------+------------+</pre>"
      ],
      "text/plain": [
       "+--------------------------------+------------+"
      ]
     },
     "metadata": {},
     "output_type": "display_data"
    },
    {
     "data": {
      "text/html": [
       "<pre>| 4.004ms                        | 3.25       |</pre>"
      ],
      "text/plain": [
       "| 4.004ms                        | 3.25       |"
      ]
     },
     "metadata": {},
     "output_type": "display_data"
    },
    {
     "data": {
      "text/html": [
       "<pre>| 32.324ms                       | 100        |</pre>"
      ],
      "text/plain": [
       "| 32.324ms                       | 100        |"
      ]
     },
     "metadata": {},
     "output_type": "display_data"
    },
    {
     "data": {
      "text/html": [
       "<pre>+--------------------------------+------------+</pre>"
      ],
      "text/plain": [
       "+--------------------------------+------------+"
      ]
     },
     "metadata": {},
     "output_type": "display_data"
    },
    {
     "data": {
      "text/html": [
       "<pre>Setting up lookup tables.</pre>"
      ],
      "text/plain": [
       "Setting up lookup tables."
      ]
     },
     "metadata": {},
     "output_type": "display_data"
    },
    {
     "data": {
      "text/html": [
       "<pre>Processing the 32 most common items by brute force search.</pre>"
      ],
      "text/plain": [
       "Processing the 32 most common items by brute force search."
      ]
     },
     "metadata": {},
     "output_type": "display_data"
    },
    {
     "data": {
      "text/html": [
       "<pre>Transposing user-item lists for use in nearest neighbor search.</pre>"
      ],
      "text/plain": [
       "Transposing user-item lists for use in nearest neighbor search."
      ]
     },
     "metadata": {},
     "output_type": "display_data"
    },
    {
     "data": {
      "text/html": [
       "<pre>+------------------------------------+------------+</pre>"
      ],
      "text/plain": [
       "+------------------------------------+------------+"
      ]
     },
     "metadata": {},
     "output_type": "display_data"
    },
    {
     "data": {
      "text/html": [
       "<pre>| Elapsed Time (Data Transposition)) | % Complete |</pre>"
      ],
      "text/plain": [
       "| Elapsed Time (Data Transposition)) | % Complete |"
      ]
     },
     "metadata": {},
     "output_type": "display_data"
    },
    {
     "data": {
      "text/html": [
       "<pre>+------------------------------------+------------+</pre>"
      ],
      "text/plain": [
       "+------------------------------------+------------+"
      ]
     },
     "metadata": {},
     "output_type": "display_data"
    },
    {
     "data": {
      "text/html": [
       "<pre>| 12.783ms                           | 0          |</pre>"
      ],
      "text/plain": [
       "| 12.783ms                           | 0          |"
      ]
     },
     "metadata": {},
     "output_type": "display_data"
    },
    {
     "data": {
      "text/html": [
       "<pre>| 227.551ms                          | 100        |</pre>"
      ],
      "text/plain": [
       "| 227.551ms                          | 100        |"
      ]
     },
     "metadata": {},
     "output_type": "display_data"
    },
    {
     "data": {
      "text/html": [
       "<pre>+------------------------------------+------------+</pre>"
      ],
      "text/plain": [
       "+------------------------------------+------------+"
      ]
     },
     "metadata": {},
     "output_type": "display_data"
    },
    {
     "data": {
      "text/html": [
       "<pre>+-------------------------------------+------------------+-----------------+</pre>"
      ],
      "text/plain": [
       "+-------------------------------------+------------------+-----------------+"
      ]
     },
     "metadata": {},
     "output_type": "display_data"
    },
    {
     "data": {
      "text/html": [
       "<pre>| Elapsed Time (Constructing Lookups) | Total % Complete | Items Processed |</pre>"
      ],
      "text/plain": [
       "| Elapsed Time (Constructing Lookups) | Total % Complete | Items Processed |"
      ]
     },
     "metadata": {},
     "output_type": "display_data"
    },
    {
     "data": {
      "text/html": [
       "<pre>+-------------------------------------+------------------+-----------------+</pre>"
      ],
      "text/plain": [
       "+-------------------------------------+------------------+-----------------+"
      ]
     },
     "metadata": {},
     "output_type": "display_data"
    },
    {
     "data": {
      "text/html": [
       "<pre>| 462.666ms                           | 0                | 0               |</pre>"
      ],
      "text/plain": [
       "| 462.666ms                           | 0                | 0               |"
      ]
     },
     "metadata": {},
     "output_type": "display_data"
    },
    {
     "data": {
      "text/html": [
       "<pre>+-------------------------------------+------------------+-----------------+</pre>"
      ],
      "text/plain": [
       "+-------------------------------------+------------------+-----------------+"
      ]
     },
     "metadata": {},
     "output_type": "display_data"
    },
    {
     "data": {
      "text/html": [
       "<pre>Processing data in one pass using sparse lookup tables.</pre>"
      ],
      "text/plain": [
       "Processing data in one pass using sparse lookup tables."
      ]
     },
     "metadata": {},
     "output_type": "display_data"
    },
    {
     "data": {
      "text/html": [
       "<pre>+-------------------------------------+------------------+-----------------+</pre>"
      ],
      "text/plain": [
       "+-------------------------------------+------------------+-----------------+"
      ]
     },
     "metadata": {},
     "output_type": "display_data"
    },
    {
     "data": {
      "text/html": [
       "<pre>| Elapsed Time (Constructing Lookups) | Total % Complete | Items Processed |</pre>"
      ],
      "text/plain": [
       "| Elapsed Time (Constructing Lookups) | Total % Complete | Items Processed |"
      ]
     },
     "metadata": {},
     "output_type": "display_data"
    },
    {
     "data": {
      "text/html": [
       "<pre>+-------------------------------------+------------------+-----------------+</pre>"
      ],
      "text/plain": [
       "+-------------------------------------+------------------+-----------------+"
      ]
     },
     "metadata": {},
     "output_type": "display_data"
    },
    {
     "data": {
      "text/html": [
       "<pre>| 1.46s                               | 24.75            | 51127           |</pre>"
      ],
      "text/plain": [
       "| 1.46s                               | 24.75            | 51127           |"
      ]
     },
     "metadata": {},
     "output_type": "display_data"
    },
    {
     "data": {
      "text/html": [
       "<pre>| 2.46s                               | 39.5             | 81665           |</pre>"
      ],
      "text/plain": [
       "| 2.46s                               | 39.5             | 81665           |"
      ]
     },
     "metadata": {},
     "output_type": "display_data"
    },
    {
     "data": {
      "text/html": [
       "<pre>| 3.46s                               | 41.5             | 85849           |</pre>"
      ],
      "text/plain": [
       "| 3.46s                               | 41.5             | 85849           |"
      ]
     },
     "metadata": {},
     "output_type": "display_data"
    },
    {
     "data": {
      "text/html": [
       "<pre>| 4.46s                               | 42.5             | 87464           |</pre>"
      ],
      "text/plain": [
       "| 4.46s                               | 42.5             | 87464           |"
      ]
     },
     "metadata": {},
     "output_type": "display_data"
    },
    {
     "data": {
      "text/html": [
       "<pre>| 5.46s                               | 47               | 97173           |</pre>"
      ],
      "text/plain": [
       "| 5.46s                               | 47               | 97173           |"
      ]
     },
     "metadata": {},
     "output_type": "display_data"
    },
    {
     "data": {
      "text/html": [
       "<pre>| 6.47s                               | 49.25            | 101464          |</pre>"
      ],
      "text/plain": [
       "| 6.47s                               | 49.25            | 101464          |"
      ]
     },
     "metadata": {},
     "output_type": "display_data"
    },
    {
     "data": {
      "text/html": [
       "<pre>| 7.47s                               | 51               | 105178          |</pre>"
      ],
      "text/plain": [
       "| 7.47s                               | 51               | 105178          |"
      ]
     },
     "metadata": {},
     "output_type": "display_data"
    },
    {
     "data": {
      "text/html": [
       "<pre>| 8.47s                               | 51.25            | 105650          |</pre>"
      ],
      "text/plain": [
       "| 8.47s                               | 51.25            | 105650          |"
      ]
     },
     "metadata": {},
     "output_type": "display_data"
    },
    {
     "data": {
      "text/html": [
       "<pre>| 9.46s                               | 68.25            | 140886          |</pre>"
      ],
      "text/plain": [
       "| 9.46s                               | 68.25            | 140886          |"
      ]
     },
     "metadata": {},
     "output_type": "display_data"
    },
    {
     "data": {
      "text/html": [
       "<pre>| 10.46s                              | 69               | 142054          |</pre>"
      ],
      "text/plain": [
       "| 10.46s                              | 69               | 142054          |"
      ]
     },
     "metadata": {},
     "output_type": "display_data"
    },
    {
     "data": {
      "text/html": [
       "<pre>| 11.48s                              | 69.75            | 144008          |</pre>"
      ],
      "text/plain": [
       "| 11.48s                              | 69.75            | 144008          |"
      ]
     },
     "metadata": {},
     "output_type": "display_data"
    },
    {
     "data": {
      "text/html": [
       "<pre>| 13.55s                              | 71.75            | 147862          |</pre>"
      ],
      "text/plain": [
       "| 13.55s                              | 71.75            | 147862          |"
      ]
     },
     "metadata": {},
     "output_type": "display_data"
    },
    {
     "data": {
      "text/html": [
       "<pre>| 15.13s                              | 97               | 199662          |</pre>"
      ],
      "text/plain": [
       "| 15.13s                              | 97               | 199662          |"
      ]
     },
     "metadata": {},
     "output_type": "display_data"
    },
    {
     "data": {
      "text/html": [
       "<pre>| 16.13s                              | 99.75            | 205765          |</pre>"
      ],
      "text/plain": [
       "| 16.13s                              | 99.75            | 205765          |"
      ]
     },
     "metadata": {},
     "output_type": "display_data"
    },
    {
     "data": {
      "text/html": [
       "<pre>| 18.69s                              | 100              | 205798          |</pre>"
      ],
      "text/plain": [
       "| 18.69s                              | 100              | 205798          |"
      ]
     },
     "metadata": {},
     "output_type": "display_data"
    },
    {
     "data": {
      "text/html": [
       "<pre>+-------------------------------------+------------------+-----------------+</pre>"
      ],
      "text/plain": [
       "+-------------------------------------+------------------+-----------------+"
      ]
     },
     "metadata": {},
     "output_type": "display_data"
    },
    {
     "data": {
      "text/html": [
       "<pre>Finalizing lookup tables.</pre>"
      ],
      "text/plain": [
       "Finalizing lookup tables."
      ]
     },
     "metadata": {},
     "output_type": "display_data"
    },
    {
     "data": {
      "text/html": [
       "<pre>Generating candidate set for working with new users.</pre>"
      ],
      "text/plain": [
       "Generating candidate set for working with new users."
      ]
     },
     "metadata": {},
     "output_type": "display_data"
    },
    {
     "data": {
      "text/html": [
       "<pre>Finished training in 19.9048s</pre>"
      ],
      "text/plain": [
       "Finished training in 19.9048s"
      ]
     },
     "metadata": {},
     "output_type": "display_data"
    }
   ],
   "source": [
    "item_item_rec_on_play_time = graphlab.recommender.item_similarity_recommender.create(\n",
    "    sf_play_for_rec_on_play_time,\n",
    "    user_id = 'uid',\n",
    "    item_id = 'song_id',\n",
    "    target = 'play_time'\n",
    ")"
   ]
  },
  {
   "cell_type": "code",
   "execution_count": 32,
   "metadata": {
    "collapsed": false,
    "scrolled": true
   },
   "outputs": [
    {
     "name": "stdout",
     "output_type": "stream",
     "text": [
      "Class                            : ItemSimilarityRecommender\n",
      "\n",
      "Schema\n",
      "------\n",
      "User ID                          : uid\n",
      "Item ID                          : song_id\n",
      "Target                           : play_time\n",
      "Additional observation features  : 0\n",
      "User side features               : []\n",
      "Item side features               : []\n",
      "\n",
      "Statistics\n",
      "----------\n",
      "Number of observations           : 1557499\n",
      "Number of users                  : 60830\n",
      "Number of items                  : 205798\n",
      "\n",
      "Training summary\n",
      "----------------\n",
      "Training time                    : 19.9049\n",
      "\n",
      "Model Parameters\n",
      "----------------\n",
      "Model class                      : ItemSimilarityRecommender\n",
      "threshold                        : 0.001\n",
      "similarity_type                  : jaccard\n",
      "training_method                  : auto\n",
      "\n",
      "Other Settings\n",
      "--------------\n",
      "degree_approximation_threshold   : 4096\n",
      "sparse_density_estimation_sample_size : 4096\n",
      "max_data_passes                  : 4096\n",
      "target_memory_usage              : 8589934592\n",
      "seed_item_set_size               : 50\n",
      "nearest_neighbors_interaction_proportion_threshold : 0.05\n",
      "max_item_neighborhood_size       : 64\n",
      "\n"
     ]
    }
   ],
   "source": [
    "item_item_rec_on_play_time.summary()"
   ]
  },
  {
   "cell_type": "code",
   "execution_count": 33,
   "metadata": {
    "collapsed": false
   },
   "outputs": [
    {
     "data": {
      "text/html": [
       "<div style=\"max-height:1000px;max-width:1500px;overflow:auto;\"><table frame=\"box\" rules=\"cols\">\n",
       "    <tr>\n",
       "        <th style=\"padding-left: 1em; padding-right: 1em; text-align: center\">song_id</th>\n",
       "        <th style=\"padding-left: 1em; padding-right: 1em; text-align: center\">similar</th>\n",
       "        <th style=\"padding-left: 1em; padding-right: 1em; text-align: center\">score</th>\n",
       "        <th style=\"padding-left: 1em; padding-right: 1em; text-align: center\">rank</th>\n",
       "    </tr>\n",
       "    <tr>\n",
       "        <td style=\"padding-left: 1em; padding-right: 1em; text-align: center; vertical-align: top\">1026364.0</td>\n",
       "        <td style=\"padding-left: 1em; padding-right: 1em; text-align: center; vertical-align: top\">234903.0</td>\n",
       "        <td style=\"padding-left: 1em; padding-right: 1em; text-align: center; vertical-align: top\">1.0</td>\n",
       "        <td style=\"padding-left: 1em; padding-right: 1em; text-align: center; vertical-align: top\">1</td>\n",
       "    </tr>\n",
       "    <tr>\n",
       "        <td style=\"padding-left: 1em; padding-right: 1em; text-align: center; vertical-align: top\">1026364.0</td>\n",
       "        <td style=\"padding-left: 1em; padding-right: 1em; text-align: center; vertical-align: top\">1026363.0</td>\n",
       "        <td style=\"padding-left: 1em; padding-right: 1em; text-align: center; vertical-align: top\">1.0</td>\n",
       "        <td style=\"padding-left: 1em; padding-right: 1em; text-align: center; vertical-align: top\">2</td>\n",
       "    </tr>\n",
       "    <tr>\n",
       "        <td style=\"padding-left: 1em; padding-right: 1em; text-align: center; vertical-align: top\">1026364.0</td>\n",
       "        <td style=\"padding-left: 1em; padding-right: 1em; text-align: center; vertical-align: top\">1026363</td>\n",
       "        <td style=\"padding-left: 1em; padding-right: 1em; text-align: center; vertical-align: top\">1.0</td>\n",
       "        <td style=\"padding-left: 1em; padding-right: 1em; text-align: center; vertical-align: top\">3</td>\n",
       "    </tr>\n",
       "    <tr>\n",
       "        <td style=\"padding-left: 1em; padding-right: 1em; text-align: center; vertical-align: top\">1026364.0</td>\n",
       "        <td style=\"padding-left: 1em; padding-right: 1em; text-align: center; vertical-align: top\">1026359.0</td>\n",
       "        <td style=\"padding-left: 1em; padding-right: 1em; text-align: center; vertical-align: top\">1.0</td>\n",
       "        <td style=\"padding-left: 1em; padding-right: 1em; text-align: center; vertical-align: top\">4</td>\n",
       "    </tr>\n",
       "    <tr>\n",
       "        <td style=\"padding-left: 1em; padding-right: 1em; text-align: center; vertical-align: top\">1026364.0</td>\n",
       "        <td style=\"padding-left: 1em; padding-right: 1em; text-align: center; vertical-align: top\">234903</td>\n",
       "        <td style=\"padding-left: 1em; padding-right: 1em; text-align: center; vertical-align: top\">1.0</td>\n",
       "        <td style=\"padding-left: 1em; padding-right: 1em; text-align: center; vertical-align: top\">5</td>\n",
       "    </tr>\n",
       "    <tr>\n",
       "        <td style=\"padding-left: 1em; padding-right: 1em; text-align: center; vertical-align: top\">1026364.0</td>\n",
       "        <td style=\"padding-left: 1em; padding-right: 1em; text-align: center; vertical-align: top\">1026369.0</td>\n",
       "        <td style=\"padding-left: 1em; padding-right: 1em; text-align: center; vertical-align: top\">1.0</td>\n",
       "        <td style=\"padding-left: 1em; padding-right: 1em; text-align: center; vertical-align: top\">6</td>\n",
       "    </tr>\n",
       "    <tr>\n",
       "        <td style=\"padding-left: 1em; padding-right: 1em; text-align: center; vertical-align: top\">1026364.0</td>\n",
       "        <td style=\"padding-left: 1em; padding-right: 1em; text-align: center; vertical-align: top\">1026365.0</td>\n",
       "        <td style=\"padding-left: 1em; padding-right: 1em; text-align: center; vertical-align: top\">1.0</td>\n",
       "        <td style=\"padding-left: 1em; padding-right: 1em; text-align: center; vertical-align: top\">7</td>\n",
       "    </tr>\n",
       "    <tr>\n",
       "        <td style=\"padding-left: 1em; padding-right: 1em; text-align: center; vertical-align: top\">1026364.0</td>\n",
       "        <td style=\"padding-left: 1em; padding-right: 1em; text-align: center; vertical-align: top\">4582304.0</td>\n",
       "        <td style=\"padding-left: 1em; padding-right: 1em; text-align: center; vertical-align: top\">1.0</td>\n",
       "        <td style=\"padding-left: 1em; padding-right: 1em; text-align: center; vertical-align: top\">8</td>\n",
       "    </tr>\n",
       "    <tr>\n",
       "        <td style=\"padding-left: 1em; padding-right: 1em; text-align: center; vertical-align: top\">1026364.0</td>\n",
       "        <td style=\"padding-left: 1em; padding-right: 1em; text-align: center; vertical-align: top\">215921.0</td>\n",
       "        <td style=\"padding-left: 1em; padding-right: 1em; text-align: center; vertical-align: top\">1.0</td>\n",
       "        <td style=\"padding-left: 1em; padding-right: 1em; text-align: center; vertical-align: top\">9</td>\n",
       "    </tr>\n",
       "    <tr>\n",
       "        <td style=\"padding-left: 1em; padding-right: 1em; text-align: center; vertical-align: top\">1026364.0</td>\n",
       "        <td style=\"padding-left: 1em; padding-right: 1em; text-align: center; vertical-align: top\">234901</td>\n",
       "        <td style=\"padding-left: 1em; padding-right: 1em; text-align: center; vertical-align: top\">0.5</td>\n",
       "        <td style=\"padding-left: 1em; padding-right: 1em; text-align: center; vertical-align: top\">10</td>\n",
       "    </tr>\n",
       "</table>\n",
       "[1800370 rows x 4 columns]<br/>Note: Only the head of the SFrame is printed.<br/>You can use print_rows(num_rows=m, num_columns=n) to print more rows and columns.\n",
       "</div>"
      ],
      "text/plain": [
       "Columns:\n",
       "\tsong_id\tstr\n",
       "\tsimilar\tstr\n",
       "\tscore\tfloat\n",
       "\trank\tint\n",
       "\n",
       "Rows: 1800370\n",
       "\n",
       "Data:\n",
       "+-----------+-----------+-------+------+\n",
       "|  song_id  |  similar  | score | rank |\n",
       "+-----------+-----------+-------+------+\n",
       "| 1026364.0 |  234903.0 |  1.0  |  1   |\n",
       "| 1026364.0 | 1026363.0 |  1.0  |  2   |\n",
       "| 1026364.0 |  1026363  |  1.0  |  3   |\n",
       "| 1026364.0 | 1026359.0 |  1.0  |  4   |\n",
       "| 1026364.0 |   234903  |  1.0  |  5   |\n",
       "| 1026364.0 | 1026369.0 |  1.0  |  6   |\n",
       "| 1026364.0 | 1026365.0 |  1.0  |  7   |\n",
       "| 1026364.0 | 4582304.0 |  1.0  |  8   |\n",
       "| 1026364.0 |  215921.0 |  1.0  |  9   |\n",
       "| 1026364.0 |   234901  |  0.5  |  10  |\n",
       "+-----------+-----------+-------+------+\n",
       "[1800370 rows x 4 columns]\n",
       "Note: Only the head of the SFrame is printed.\n",
       "You can use print_rows(num_rows=m, num_columns=n) to print more rows and columns."
      ]
     },
     "execution_count": 33,
     "metadata": {},
     "output_type": "execute_result"
    }
   ],
   "source": [
    "item_item_rec_on_play_time.get_similar_items()"
   ]
  },
  {
   "cell_type": "code",
   "execution_count": 34,
   "metadata": {
    "collapsed": false
   },
   "outputs": [
    {
     "data": {
      "text/html": [
       "<pre>recommendations finished on 1000/60830 queries. users per second: 666.175</pre>"
      ],
      "text/plain": [
       "recommendations finished on 1000/60830 queries. users per second: 666.175"
      ]
     },
     "metadata": {},
     "output_type": "display_data"
    },
    {
     "data": {
      "text/html": [
       "<pre>recommendations finished on 2000/60830 queries. users per second: 694.383</pre>"
      ],
      "text/plain": [
       "recommendations finished on 2000/60830 queries. users per second: 694.383"
      ]
     },
     "metadata": {},
     "output_type": "display_data"
    },
    {
     "data": {
      "text/html": [
       "<pre>recommendations finished on 3000/60830 queries. users per second: 664.119</pre>"
      ],
      "text/plain": [
       "recommendations finished on 3000/60830 queries. users per second: 664.119"
      ]
     },
     "metadata": {},
     "output_type": "display_data"
    },
    {
     "data": {
      "text/html": [
       "<pre>recommendations finished on 4000/60830 queries. users per second: 599.855</pre>"
      ],
      "text/plain": [
       "recommendations finished on 4000/60830 queries. users per second: 599.855"
      ]
     },
     "metadata": {},
     "output_type": "display_data"
    },
    {
     "data": {
      "text/html": [
       "<pre>recommendations finished on 5000/60830 queries. users per second: 568</pre>"
      ],
      "text/plain": [
       "recommendations finished on 5000/60830 queries. users per second: 568"
      ]
     },
     "metadata": {},
     "output_type": "display_data"
    },
    {
     "data": {
      "text/html": [
       "<pre>recommendations finished on 6000/60830 queries. users per second: 501.461</pre>"
      ],
      "text/plain": [
       "recommendations finished on 6000/60830 queries. users per second: 501.461"
      ]
     },
     "metadata": {},
     "output_type": "display_data"
    },
    {
     "data": {
      "text/html": [
       "<pre>recommendations finished on 7000/60830 queries. users per second: 450.228</pre>"
      ],
      "text/plain": [
       "recommendations finished on 7000/60830 queries. users per second: 450.228"
      ]
     },
     "metadata": {},
     "output_type": "display_data"
    },
    {
     "data": {
      "text/html": [
       "<pre>recommendations finished on 8000/60830 queries. users per second: 437.118</pre>"
      ],
      "text/plain": [
       "recommendations finished on 8000/60830 queries. users per second: 437.118"
      ]
     },
     "metadata": {},
     "output_type": "display_data"
    },
    {
     "data": {
      "text/html": [
       "<pre>recommendations finished on 9000/60830 queries. users per second: 436.753</pre>"
      ],
      "text/plain": [
       "recommendations finished on 9000/60830 queries. users per second: 436.753"
      ]
     },
     "metadata": {},
     "output_type": "display_data"
    },
    {
     "data": {
      "text/html": [
       "<pre>recommendations finished on 10000/60830 queries. users per second: 434.941</pre>"
      ],
      "text/plain": [
       "recommendations finished on 10000/60830 queries. users per second: 434.941"
      ]
     },
     "metadata": {},
     "output_type": "display_data"
    },
    {
     "data": {
      "text/html": [
       "<pre>recommendations finished on 11000/60830 queries. users per second: 433.727</pre>"
      ],
      "text/plain": [
       "recommendations finished on 11000/60830 queries. users per second: 433.727"
      ]
     },
     "metadata": {},
     "output_type": "display_data"
    },
    {
     "data": {
      "text/html": [
       "<pre>recommendations finished on 12000/60830 queries. users per second: 438.407</pre>"
      ],
      "text/plain": [
       "recommendations finished on 12000/60830 queries. users per second: 438.407"
      ]
     },
     "metadata": {},
     "output_type": "display_data"
    },
    {
     "data": {
      "text/html": [
       "<pre>recommendations finished on 13000/60830 queries. users per second: 442.259</pre>"
      ],
      "text/plain": [
       "recommendations finished on 13000/60830 queries. users per second: 442.259"
      ]
     },
     "metadata": {},
     "output_type": "display_data"
    },
    {
     "data": {
      "text/html": [
       "<pre>recommendations finished on 14000/60830 queries. users per second: 445.815</pre>"
      ],
      "text/plain": [
       "recommendations finished on 14000/60830 queries. users per second: 445.815"
      ]
     },
     "metadata": {},
     "output_type": "display_data"
    },
    {
     "data": {
      "text/html": [
       "<pre>recommendations finished on 15000/60830 queries. users per second: 446.936</pre>"
      ],
      "text/plain": [
       "recommendations finished on 15000/60830 queries. users per second: 446.936"
      ]
     },
     "metadata": {},
     "output_type": "display_data"
    },
    {
     "data": {
      "text/html": [
       "<pre>recommendations finished on 16000/60830 queries. users per second: 445.833</pre>"
      ],
      "text/plain": [
       "recommendations finished on 16000/60830 queries. users per second: 445.833"
      ]
     },
     "metadata": {},
     "output_type": "display_data"
    },
    {
     "data": {
      "text/html": [
       "<pre>recommendations finished on 17000/60830 queries. users per second: 444.722</pre>"
      ],
      "text/plain": [
       "recommendations finished on 17000/60830 queries. users per second: 444.722"
      ]
     },
     "metadata": {},
     "output_type": "display_data"
    },
    {
     "data": {
      "text/html": [
       "<pre>recommendations finished on 18000/60830 queries. users per second: 445.778</pre>"
      ],
      "text/plain": [
       "recommendations finished on 18000/60830 queries. users per second: 445.778"
      ]
     },
     "metadata": {},
     "output_type": "display_data"
    },
    {
     "data": {
      "text/html": [
       "<pre>recommendations finished on 19000/60830 queries. users per second: 448.59</pre>"
      ],
      "text/plain": [
       "recommendations finished on 19000/60830 queries. users per second: 448.59"
      ]
     },
     "metadata": {},
     "output_type": "display_data"
    },
    {
     "data": {
      "text/html": [
       "<pre>recommendations finished on 20000/60830 queries. users per second: 448.514</pre>"
      ],
      "text/plain": [
       "recommendations finished on 20000/60830 queries. users per second: 448.514"
      ]
     },
     "metadata": {},
     "output_type": "display_data"
    },
    {
     "data": {
      "text/html": [
       "<pre>recommendations finished on 21000/60830 queries. users per second: 454.021</pre>"
      ],
      "text/plain": [
       "recommendations finished on 21000/60830 queries. users per second: 454.021"
      ]
     },
     "metadata": {},
     "output_type": "display_data"
    },
    {
     "data": {
      "text/html": [
       "<pre>recommendations finished on 22000/60830 queries. users per second: 458.192</pre>"
      ],
      "text/plain": [
       "recommendations finished on 22000/60830 queries. users per second: 458.192"
      ]
     },
     "metadata": {},
     "output_type": "display_data"
    },
    {
     "data": {
      "text/html": [
       "<pre>recommendations finished on 23000/60830 queries. users per second: 460.111</pre>"
      ],
      "text/plain": [
       "recommendations finished on 23000/60830 queries. users per second: 460.111"
      ]
     },
     "metadata": {},
     "output_type": "display_data"
    },
    {
     "data": {
      "text/html": [
       "<pre>recommendations finished on 24000/60830 queries. users per second: 457.155</pre>"
      ],
      "text/plain": [
       "recommendations finished on 24000/60830 queries. users per second: 457.155"
      ]
     },
     "metadata": {},
     "output_type": "display_data"
    },
    {
     "data": {
      "text/html": [
       "<pre>recommendations finished on 25000/60830 queries. users per second: 456.677</pre>"
      ],
      "text/plain": [
       "recommendations finished on 25000/60830 queries. users per second: 456.677"
      ]
     },
     "metadata": {},
     "output_type": "display_data"
    },
    {
     "data": {
      "text/html": [
       "<pre>recommendations finished on 26000/60830 queries. users per second: 457.101</pre>"
      ],
      "text/plain": [
       "recommendations finished on 26000/60830 queries. users per second: 457.101"
      ]
     },
     "metadata": {},
     "output_type": "display_data"
    },
    {
     "data": {
      "text/html": [
       "<pre>recommendations finished on 27000/60830 queries. users per second: 456.882</pre>"
      ],
      "text/plain": [
       "recommendations finished on 27000/60830 queries. users per second: 456.882"
      ]
     },
     "metadata": {},
     "output_type": "display_data"
    },
    {
     "data": {
      "text/html": [
       "<pre>recommendations finished on 28000/60830 queries. users per second: 455.789</pre>"
      ],
      "text/plain": [
       "recommendations finished on 28000/60830 queries. users per second: 455.789"
      ]
     },
     "metadata": {},
     "output_type": "display_data"
    },
    {
     "data": {
      "text/html": [
       "<pre>recommendations finished on 29000/60830 queries. users per second: 455.011</pre>"
      ],
      "text/plain": [
       "recommendations finished on 29000/60830 queries. users per second: 455.011"
      ]
     },
     "metadata": {},
     "output_type": "display_data"
    },
    {
     "data": {
      "text/html": [
       "<pre>recommendations finished on 30000/60830 queries. users per second: 454.053</pre>"
      ],
      "text/plain": [
       "recommendations finished on 30000/60830 queries. users per second: 454.053"
      ]
     },
     "metadata": {},
     "output_type": "display_data"
    },
    {
     "data": {
      "text/html": [
       "<pre>recommendations finished on 31000/60830 queries. users per second: 453.967</pre>"
      ],
      "text/plain": [
       "recommendations finished on 31000/60830 queries. users per second: 453.967"
      ]
     },
     "metadata": {},
     "output_type": "display_data"
    },
    {
     "data": {
      "text/html": [
       "<pre>recommendations finished on 32000/60830 queries. users per second: 453.976</pre>"
      ],
      "text/plain": [
       "recommendations finished on 32000/60830 queries. users per second: 453.976"
      ]
     },
     "metadata": {},
     "output_type": "display_data"
    },
    {
     "data": {
      "text/html": [
       "<pre>recommendations finished on 33000/60830 queries. users per second: 453.999</pre>"
      ],
      "text/plain": [
       "recommendations finished on 33000/60830 queries. users per second: 453.999"
      ]
     },
     "metadata": {},
     "output_type": "display_data"
    },
    {
     "data": {
      "text/html": [
       "<pre>recommendations finished on 34000/60830 queries. users per second: 453.379</pre>"
      ],
      "text/plain": [
       "recommendations finished on 34000/60830 queries. users per second: 453.379"
      ]
     },
     "metadata": {},
     "output_type": "display_data"
    },
    {
     "data": {
      "text/html": [
       "<pre>recommendations finished on 35000/60830 queries. users per second: 448.478</pre>"
      ],
      "text/plain": [
       "recommendations finished on 35000/60830 queries. users per second: 448.478"
      ]
     },
     "metadata": {},
     "output_type": "display_data"
    },
    {
     "data": {
      "text/html": [
       "<pre>recommendations finished on 36000/60830 queries. users per second: 441.585</pre>"
      ],
      "text/plain": [
       "recommendations finished on 36000/60830 queries. users per second: 441.585"
      ]
     },
     "metadata": {},
     "output_type": "display_data"
    },
    {
     "data": {
      "text/html": [
       "<pre>recommendations finished on 37000/60830 queries. users per second: 435.042</pre>"
      ],
      "text/plain": [
       "recommendations finished on 37000/60830 queries. users per second: 435.042"
      ]
     },
     "metadata": {},
     "output_type": "display_data"
    },
    {
     "data": {
      "text/html": [
       "<pre>recommendations finished on 38000/60830 queries. users per second: 432.434</pre>"
      ],
      "text/plain": [
       "recommendations finished on 38000/60830 queries. users per second: 432.434"
      ]
     },
     "metadata": {},
     "output_type": "display_data"
    },
    {
     "data": {
      "text/html": [
       "<pre>recommendations finished on 39000/60830 queries. users per second: 429.982</pre>"
      ],
      "text/plain": [
       "recommendations finished on 39000/60830 queries. users per second: 429.982"
      ]
     },
     "metadata": {},
     "output_type": "display_data"
    },
    {
     "data": {
      "text/html": [
       "<pre>recommendations finished on 40000/60830 queries. users per second: 430.568</pre>"
      ],
      "text/plain": [
       "recommendations finished on 40000/60830 queries. users per second: 430.568"
      ]
     },
     "metadata": {},
     "output_type": "display_data"
    },
    {
     "data": {
      "text/html": [
       "<pre>recommendations finished on 41000/60830 queries. users per second: 429.925</pre>"
      ],
      "text/plain": [
       "recommendations finished on 41000/60830 queries. users per second: 429.925"
      ]
     },
     "metadata": {},
     "output_type": "display_data"
    },
    {
     "data": {
      "text/html": [
       "<pre>recommendations finished on 42000/60830 queries. users per second: 428.418</pre>"
      ],
      "text/plain": [
       "recommendations finished on 42000/60830 queries. users per second: 428.418"
      ]
     },
     "metadata": {},
     "output_type": "display_data"
    },
    {
     "data": {
      "text/html": [
       "<pre>recommendations finished on 43000/60830 queries. users per second: 426.717</pre>"
      ],
      "text/plain": [
       "recommendations finished on 43000/60830 queries. users per second: 426.717"
      ]
     },
     "metadata": {},
     "output_type": "display_data"
    },
    {
     "data": {
      "text/html": [
       "<pre>recommendations finished on 44000/60830 queries. users per second: 424.983</pre>"
      ],
      "text/plain": [
       "recommendations finished on 44000/60830 queries. users per second: 424.983"
      ]
     },
     "metadata": {},
     "output_type": "display_data"
    },
    {
     "data": {
      "text/html": [
       "<pre>recommendations finished on 45000/60830 queries. users per second: 424.456</pre>"
      ],
      "text/plain": [
       "recommendations finished on 45000/60830 queries. users per second: 424.456"
      ]
     },
     "metadata": {},
     "output_type": "display_data"
    },
    {
     "data": {
      "text/html": [
       "<pre>recommendations finished on 46000/60830 queries. users per second: 424.6</pre>"
      ],
      "text/plain": [
       "recommendations finished on 46000/60830 queries. users per second: 424.6"
      ]
     },
     "metadata": {},
     "output_type": "display_data"
    },
    {
     "data": {
      "text/html": [
       "<pre>recommendations finished on 47000/60830 queries. users per second: 424.95</pre>"
      ],
      "text/plain": [
       "recommendations finished on 47000/60830 queries. users per second: 424.95"
      ]
     },
     "metadata": {},
     "output_type": "display_data"
    },
    {
     "data": {
      "text/html": [
       "<pre>recommendations finished on 48000/60830 queries. users per second: 422.523</pre>"
      ],
      "text/plain": [
       "recommendations finished on 48000/60830 queries. users per second: 422.523"
      ]
     },
     "metadata": {},
     "output_type": "display_data"
    },
    {
     "data": {
      "text/html": [
       "<pre>recommendations finished on 49000/60830 queries. users per second: 421.707</pre>"
      ],
      "text/plain": [
       "recommendations finished on 49000/60830 queries. users per second: 421.707"
      ]
     },
     "metadata": {},
     "output_type": "display_data"
    },
    {
     "data": {
      "text/html": [
       "<pre>recommendations finished on 50000/60830 queries. users per second: 418.777</pre>"
      ],
      "text/plain": [
       "recommendations finished on 50000/60830 queries. users per second: 418.777"
      ]
     },
     "metadata": {},
     "output_type": "display_data"
    },
    {
     "data": {
      "text/html": [
       "<pre>recommendations finished on 51000/60830 queries. users per second: 416.838</pre>"
      ],
      "text/plain": [
       "recommendations finished on 51000/60830 queries. users per second: 416.838"
      ]
     },
     "metadata": {},
     "output_type": "display_data"
    },
    {
     "data": {
      "text/html": [
       "<pre>recommendations finished on 52000/60830 queries. users per second: 416.503</pre>"
      ],
      "text/plain": [
       "recommendations finished on 52000/60830 queries. users per second: 416.503"
      ]
     },
     "metadata": {},
     "output_type": "display_data"
    },
    {
     "data": {
      "text/html": [
       "<pre>recommendations finished on 53000/60830 queries. users per second: 414.287</pre>"
      ],
      "text/plain": [
       "recommendations finished on 53000/60830 queries. users per second: 414.287"
      ]
     },
     "metadata": {},
     "output_type": "display_data"
    },
    {
     "data": {
      "text/html": [
       "<pre>recommendations finished on 54000/60830 queries. users per second: 412.741</pre>"
      ],
      "text/plain": [
       "recommendations finished on 54000/60830 queries. users per second: 412.741"
      ]
     },
     "metadata": {},
     "output_type": "display_data"
    },
    {
     "data": {
      "text/html": [
       "<pre>recommendations finished on 55000/60830 queries. users per second: 411.691</pre>"
      ],
      "text/plain": [
       "recommendations finished on 55000/60830 queries. users per second: 411.691"
      ]
     },
     "metadata": {},
     "output_type": "display_data"
    },
    {
     "data": {
      "text/html": [
       "<pre>recommendations finished on 56000/60830 queries. users per second: 410.32</pre>"
      ],
      "text/plain": [
       "recommendations finished on 56000/60830 queries. users per second: 410.32"
      ]
     },
     "metadata": {},
     "output_type": "display_data"
    },
    {
     "data": {
      "text/html": [
       "<pre>recommendations finished on 57000/60830 queries. users per second: 408.432</pre>"
      ],
      "text/plain": [
       "recommendations finished on 57000/60830 queries. users per second: 408.432"
      ]
     },
     "metadata": {},
     "output_type": "display_data"
    },
    {
     "data": {
      "text/html": [
       "<pre>recommendations finished on 58000/60830 queries. users per second: 406.01</pre>"
      ],
      "text/plain": [
       "recommendations finished on 58000/60830 queries. users per second: 406.01"
      ]
     },
     "metadata": {},
     "output_type": "display_data"
    },
    {
     "data": {
      "text/html": [
       "<pre>recommendations finished on 59000/60830 queries. users per second: 403.788</pre>"
      ],
      "text/plain": [
       "recommendations finished on 59000/60830 queries. users per second: 403.788"
      ]
     },
     "metadata": {},
     "output_type": "display_data"
    },
    {
     "data": {
      "text/html": [
       "<pre>recommendations finished on 60000/60830 queries. users per second: 399.683</pre>"
      ],
      "text/plain": [
       "recommendations finished on 60000/60830 queries. users per second: 399.683"
      ]
     },
     "metadata": {},
     "output_type": "display_data"
    },
    {
     "data": {
      "text/html": [
       "<div style=\"max-height:1000px;max-width:1500px;overflow:auto;\"><table frame=\"box\" rules=\"cols\">\n",
       "    <tr>\n",
       "        <th style=\"padding-left: 1em; padding-right: 1em; text-align: center\">uid</th>\n",
       "        <th style=\"padding-left: 1em; padding-right: 1em; text-align: center\">song_id</th>\n",
       "        <th style=\"padding-left: 1em; padding-right: 1em; text-align: center\">score</th>\n",
       "        <th style=\"padding-left: 1em; padding-right: 1em; text-align: center\">rank</th>\n",
       "    </tr>\n",
       "    <tr>\n",
       "        <td style=\"padding-left: 1em; padding-right: 1em; text-align: center; vertical-align: top\">168029752.0</td>\n",
       "        <td style=\"padding-left: 1em; padding-right: 1em; text-align: center; vertical-align: top\">509369.0</td>\n",
       "        <td style=\"padding-left: 1em; padding-right: 1em; text-align: center; vertical-align: top\">0.0692783303039</td>\n",
       "        <td style=\"padding-left: 1em; padding-right: 1em; text-align: center; vertical-align: top\">1</td>\n",
       "    </tr>\n",
       "    <tr>\n",
       "        <td style=\"padding-left: 1em; padding-right: 1em; text-align: center; vertical-align: top\">168029752.0</td>\n",
       "        <td style=\"padding-left: 1em; padding-right: 1em; text-align: center; vertical-align: top\">507512.0</td>\n",
       "        <td style=\"padding-left: 1em; padding-right: 1em; text-align: center; vertical-align: top\">0.0549969589987</td>\n",
       "        <td style=\"padding-left: 1em; padding-right: 1em; text-align: center; vertical-align: top\">2</td>\n",
       "    </tr>\n",
       "    <tr>\n",
       "        <td style=\"padding-left: 1em; padding-right: 1em; text-align: center; vertical-align: top\">168029752.0</td>\n",
       "        <td style=\"padding-left: 1em; padding-right: 1em; text-align: center; vertical-align: top\">4398523.0</td>\n",
       "        <td style=\"padding-left: 1em; padding-right: 1em; text-align: center; vertical-align: top\">0.0549969589987</td>\n",
       "        <td style=\"padding-left: 1em; padding-right: 1em; text-align: center; vertical-align: top\">3</td>\n",
       "    </tr>\n",
       "    <tr>\n",
       "        <td style=\"padding-left: 1em; padding-right: 1em; text-align: center; vertical-align: top\">168029752.0</td>\n",
       "        <td style=\"padding-left: 1em; padding-right: 1em; text-align: center; vertical-align: top\">1080078.0</td>\n",
       "        <td style=\"padding-left: 1em; padding-right: 1em; text-align: center; vertical-align: top\">0.0503708151884</td>\n",
       "        <td style=\"padding-left: 1em; padding-right: 1em; text-align: center; vertical-align: top\">4</td>\n",
       "    </tr>\n",
       "    <tr>\n",
       "        <td style=\"padding-left: 1em; padding-right: 1em; text-align: center; vertical-align: top\">168029752.0</td>\n",
       "        <td style=\"padding-left: 1em; padding-right: 1em; text-align: center; vertical-align: top\">4842459.0</td>\n",
       "        <td style=\"padding-left: 1em; padding-right: 1em; text-align: center; vertical-align: top\">0.0447043859681</td>\n",
       "        <td style=\"padding-left: 1em; padding-right: 1em; text-align: center; vertical-align: top\">5</td>\n",
       "    </tr>\n",
       "    <tr>\n",
       "        <td style=\"padding-left: 1em; padding-right: 1em; text-align: center; vertical-align: top\">168029752.0</td>\n",
       "        <td style=\"padding-left: 1em; padding-right: 1em; text-align: center; vertical-align: top\">22857490.0</td>\n",
       "        <td style=\"padding-left: 1em; padding-right: 1em; text-align: center; vertical-align: top\">0.0378795806752</td>\n",
       "        <td style=\"padding-left: 1em; padding-right: 1em; text-align: center; vertical-align: top\">6</td>\n",
       "    </tr>\n",
       "    <tr>\n",
       "        <td style=\"padding-left: 1em; padding-right: 1em; text-align: center; vertical-align: top\">168029752.0</td>\n",
       "        <td style=\"padding-left: 1em; padding-right: 1em; text-align: center; vertical-align: top\">5057301.0</td>\n",
       "        <td style=\"padding-left: 1em; padding-right: 1em; text-align: center; vertical-align: top\">0.0366555909778</td>\n",
       "        <td style=\"padding-left: 1em; padding-right: 1em; text-align: center; vertical-align: top\">7</td>\n",
       "    </tr>\n",
       "    <tr>\n",
       "        <td style=\"padding-left: 1em; padding-right: 1em; text-align: center; vertical-align: top\">168029752.0</td>\n",
       "        <td style=\"padding-left: 1em; padding-right: 1em; text-align: center; vertical-align: top\">12567883.0</td>\n",
       "        <td style=\"padding-left: 1em; padding-right: 1em; text-align: center; vertical-align: top\">0.0366555909778</td>\n",
       "        <td style=\"padding-left: 1em; padding-right: 1em; text-align: center; vertical-align: top\">8</td>\n",
       "    </tr>\n",
       "    <tr>\n",
       "        <td style=\"padding-left: 1em; padding-right: 1em; text-align: center; vertical-align: top\">168029752.0</td>\n",
       "        <td style=\"padding-left: 1em; padding-right: 1em; text-align: center; vertical-align: top\">5023221.0</td>\n",
       "        <td style=\"padding-left: 1em; padding-right: 1em; text-align: center; vertical-align: top\">0.0366555909778</td>\n",
       "        <td style=\"padding-left: 1em; padding-right: 1em; text-align: center; vertical-align: top\">9</td>\n",
       "    </tr>\n",
       "    <tr>\n",
       "        <td style=\"padding-left: 1em; padding-right: 1em; text-align: center; vertical-align: top\">168029752.0</td>\n",
       "        <td style=\"padding-left: 1em; padding-right: 1em; text-align: center; vertical-align: top\">558684.0</td>\n",
       "        <td style=\"padding-left: 1em; padding-right: 1em; text-align: center; vertical-align: top\">0.0364341070486</td>\n",
       "        <td style=\"padding-left: 1em; padding-right: 1em; text-align: center; vertical-align: top\">10</td>\n",
       "    </tr>\n",
       "</table>\n",
       "[608300 rows x 4 columns]<br/>Note: Only the head of the SFrame is printed.<br/>You can use print_rows(num_rows=m, num_columns=n) to print more rows and columns.\n",
       "</div>"
      ],
      "text/plain": [
       "Columns:\n",
       "\tuid\tstr\n",
       "\tsong_id\tstr\n",
       "\tscore\tfloat\n",
       "\trank\tint\n",
       "\n",
       "Rows: 608300\n",
       "\n",
       "Data:\n",
       "+-------------+------------+-----------------+------+\n",
       "|     uid     |  song_id   |      score      | rank |\n",
       "+-------------+------------+-----------------+------+\n",
       "| 168029752.0 |  509369.0  | 0.0692783303039 |  1   |\n",
       "| 168029752.0 |  507512.0  | 0.0549969589987 |  2   |\n",
       "| 168029752.0 | 4398523.0  | 0.0549969589987 |  3   |\n",
       "| 168029752.0 | 1080078.0  | 0.0503708151884 |  4   |\n",
       "| 168029752.0 | 4842459.0  | 0.0447043859681 |  5   |\n",
       "| 168029752.0 | 22857490.0 | 0.0378795806752 |  6   |\n",
       "| 168029752.0 | 5057301.0  | 0.0366555909778 |  7   |\n",
       "| 168029752.0 | 12567883.0 | 0.0366555909778 |  8   |\n",
       "| 168029752.0 | 5023221.0  | 0.0366555909778 |  9   |\n",
       "| 168029752.0 |  558684.0  | 0.0364341070486 |  10  |\n",
       "+-------------+------------+-----------------+------+\n",
       "[608300 rows x 4 columns]\n",
       "Note: Only the head of the SFrame is printed.\n",
       "You can use print_rows(num_rows=m, num_columns=n) to print more rows and columns."
      ]
     },
     "execution_count": 34,
     "metadata": {},
     "output_type": "execute_result"
    }
   ],
   "source": [
    "item_item_rec_on_play_time.recommend()"
   ]
  },
  {
   "cell_type": "code",
   "execution_count": null,
   "metadata": {
    "collapsed": true
   },
   "outputs": [],
   "source": []
  },
  {
   "cell_type": "markdown",
   "metadata": {},
   "source": [
    "## Define new rating -- play_percent\n",
    "Playpercent = play_time / song_length\n",
    "Clean data, fiter out records whose song_length is non-positive and play_time is greater than song_length.time / song_length"
   ]
  },
  {
   "cell_type": "code",
   "execution_count": 35,
   "metadata": {
    "collapsed": false
   },
   "outputs": [
    {
     "data": {
      "text/html": [
       "<div>\n",
       "<table border=\"1\" class=\"dataframe\">\n",
       "  <thead>\n",
       "    <tr style=\"text-align: right;\">\n",
       "      <th></th>\n",
       "      <th>uid</th>\n",
       "      <th>device</th>\n",
       "      <th>song_id</th>\n",
       "      <th>song_type</th>\n",
       "      <th>song_name</th>\n",
       "      <th>singer</th>\n",
       "      <th>play_time</th>\n",
       "      <th>song_length</th>\n",
       "      <th>paid_flag</th>\n",
       "    </tr>\n",
       "  </thead>\n",
       "  <tbody>\n",
       "    <tr>\n",
       "      <th>1</th>\n",
       "      <td>168029752.0</td>\n",
       "      <td>ar</td>\n",
       "      <td>1026364.0</td>\n",
       "      <td>0.0</td>\n",
       "      <td>你在天边</td>\n",
       "      <td>容中尔甲</td>\n",
       "      <td>0.0</td>\n",
       "      <td>277.0</td>\n",
       "      <td>0.0</td>\n",
       "    </tr>\n",
       "    <tr>\n",
       "      <th>3</th>\n",
       "      <td>168029752.0</td>\n",
       "      <td>ar</td>\n",
       "      <td>234903.0</td>\n",
       "      <td>0.0</td>\n",
       "      <td>梦中的达娃卓玛</td>\n",
       "      <td>容中尔甲</td>\n",
       "      <td>0.0</td>\n",
       "      <td>315.0</td>\n",
       "      <td>0.0</td>\n",
       "    </tr>\n",
       "    <tr>\n",
       "      <th>4</th>\n",
       "      <td>167965547.0</td>\n",
       "      <td>ar</td>\n",
       "      <td>6606144.0</td>\n",
       "      <td>0.0</td>\n",
       "      <td>心锁</td>\n",
       "      <td>杨小曼&amp;冷漠</td>\n",
       "      <td>256.0</td>\n",
       "      <td>256.0</td>\n",
       "      <td>0.0</td>\n",
       "    </tr>\n",
       "    <tr>\n",
       "      <th>6</th>\n",
       "      <td>168029752.0</td>\n",
       "      <td>ar</td>\n",
       "      <td>1026363.0</td>\n",
       "      <td>0.0</td>\n",
       "      <td>喜马拉雅恋曲</td>\n",
       "      <td>容中尔甲</td>\n",
       "      <td>0.0</td>\n",
       "      <td>266.0</td>\n",
       "      <td>0.0</td>\n",
       "    </tr>\n",
       "    <tr>\n",
       "      <th>8</th>\n",
       "      <td>168029752.0</td>\n",
       "      <td>ar</td>\n",
       "      <td>234901.0</td>\n",
       "      <td>0.0</td>\n",
       "      <td>九寨之子</td>\n",
       "      <td>容中尔甲</td>\n",
       "      <td>245.0</td>\n",
       "      <td>245.0</td>\n",
       "      <td>0.0</td>\n",
       "    </tr>\n",
       "    <tr>\n",
       "      <th>9</th>\n",
       "      <td>167923831.0</td>\n",
       "      <td>ip</td>\n",
       "      <td>13750591.0</td>\n",
       "      <td>0.0</td>\n",
       "      <td>悟空 - Live</td>\n",
       "      <td>戴荃</td>\n",
       "      <td>197.0</td>\n",
       "      <td>197.0</td>\n",
       "      <td>0.0</td>\n",
       "    </tr>\n",
       "    <tr>\n",
       "      <th>12</th>\n",
       "      <td>168029752.0</td>\n",
       "      <td>ar</td>\n",
       "      <td>1026359.0</td>\n",
       "      <td>0.0</td>\n",
       "      <td>珠穆朗玛峰</td>\n",
       "      <td>容中尔甲</td>\n",
       "      <td>0.0</td>\n",
       "      <td>244.0</td>\n",
       "      <td>0.0</td>\n",
       "    </tr>\n",
       "    <tr>\n",
       "      <th>13</th>\n",
       "      <td>167807475.0</td>\n",
       "      <td>ar</td>\n",
       "      <td>348243.0</td>\n",
       "      <td>0.0</td>\n",
       "      <td>Cursed Destiny(C7 Meets Technorocker Radio Mix)</td>\n",
       "      <td>mabra</td>\n",
       "      <td>24.0</td>\n",
       "      <td>190.0</td>\n",
       "      <td>0.0</td>\n",
       "    </tr>\n",
       "    <tr>\n",
       "      <th>14</th>\n",
       "      <td>167900247.0</td>\n",
       "      <td>ar</td>\n",
       "      <td>13667778.0</td>\n",
       "      <td>0.0</td>\n",
       "      <td>Pina Colada Boy</td>\n",
       "      <td>Baby Alice</td>\n",
       "      <td>55.0</td>\n",
       "      <td>184.0</td>\n",
       "      <td>0.0</td>\n",
       "    </tr>\n",
       "    <tr>\n",
       "      <th>15</th>\n",
       "      <td>167958001.0</td>\n",
       "      <td>ar</td>\n",
       "      <td>6266032.0</td>\n",
       "      <td>0.0</td>\n",
       "      <td>赤裸离开</td>\n",
       "      <td>孙露</td>\n",
       "      <td>0.0</td>\n",
       "      <td>242.0</td>\n",
       "      <td>0.0</td>\n",
       "    </tr>\n",
       "    <tr>\n",
       "      <th>16</th>\n",
       "      <td>168029752.0</td>\n",
       "      <td>ar</td>\n",
       "      <td>1026358.0</td>\n",
       "      <td>0.0</td>\n",
       "      <td>雅鲁藏布情歌</td>\n",
       "      <td>容中尔甲</td>\n",
       "      <td>0.0</td>\n",
       "      <td>282.0</td>\n",
       "      <td>0.0</td>\n",
       "    </tr>\n",
       "    <tr>\n",
       "      <th>17</th>\n",
       "      <td>168029752.0</td>\n",
       "      <td>ar</td>\n",
       "      <td>1026368.0</td>\n",
       "      <td>0.0</td>\n",
       "      <td>神奇的九寨</td>\n",
       "      <td>容中尔甲</td>\n",
       "      <td>0.0</td>\n",
       "      <td>259.0</td>\n",
       "      <td>0.0</td>\n",
       "    </tr>\n",
       "    <tr>\n",
       "      <th>18</th>\n",
       "      <td>168047889.0</td>\n",
       "      <td>ip</td>\n",
       "      <td>708741.0</td>\n",
       "      <td>0.0</td>\n",
       "      <td>守候在凌晨两点的伤心酒吧(DJ版)</td>\n",
       "      <td>刀郎</td>\n",
       "      <td>315.0</td>\n",
       "      <td>320.0</td>\n",
       "      <td>0.0</td>\n",
       "    </tr>\n",
       "    <tr>\n",
       "      <th>19</th>\n",
       "      <td>167704566.0</td>\n",
       "      <td>ar</td>\n",
       "      <td>9902748.0</td>\n",
       "      <td>0.0</td>\n",
       "      <td>来不及</td>\n",
       "      <td>小来哥</td>\n",
       "      <td>38.0</td>\n",
       "      <td>187.0</td>\n",
       "      <td>0.0</td>\n",
       "    </tr>\n",
       "    <tr>\n",
       "      <th>20</th>\n",
       "      <td>167630166.0</td>\n",
       "      <td>ar</td>\n",
       "      <td>795430.0</td>\n",
       "      <td>0.0</td>\n",
       "      <td>别再说</td>\n",
       "      <td>小露</td>\n",
       "      <td>179.0</td>\n",
       "      <td>302.0</td>\n",
       "      <td>0.0</td>\n",
       "    </tr>\n",
       "    <tr>\n",
       "      <th>22</th>\n",
       "      <td>167851700.0</td>\n",
       "      <td>ar</td>\n",
       "      <td>6651913.0</td>\n",
       "      <td>0.0</td>\n",
       "      <td>再见只是陌生人</td>\n",
       "      <td>庄心妍</td>\n",
       "      <td>247.0</td>\n",
       "      <td>251.0</td>\n",
       "      <td>0.0</td>\n",
       "    </tr>\n",
       "    <tr>\n",
       "      <th>23</th>\n",
       "      <td>167779635.0</td>\n",
       "      <td>ip</td>\n",
       "      <td>77851.0</td>\n",
       "      <td>0.0</td>\n",
       "      <td>一场游戏一场梦II</td>\n",
       "      <td>王杰</td>\n",
       "      <td>6.0</td>\n",
       "      <td>137.0</td>\n",
       "      <td>0.0</td>\n",
       "    </tr>\n",
       "    <tr>\n",
       "      <th>24</th>\n",
       "      <td>168029752.0</td>\n",
       "      <td>ar</td>\n",
       "      <td>234896.0</td>\n",
       "      <td>0.0</td>\n",
       "      <td>高原红</td>\n",
       "      <td>容中尔甲</td>\n",
       "      <td>0.0</td>\n",
       "      <td>278.0</td>\n",
       "      <td>0.0</td>\n",
       "    </tr>\n",
       "    <tr>\n",
       "      <th>27</th>\n",
       "      <td>167890362.0</td>\n",
       "      <td>ar</td>\n",
       "      <td>6180670.0</td>\n",
       "      <td>0.0</td>\n",
       "      <td>连借口都没有</td>\n",
       "      <td>孙子涵</td>\n",
       "      <td>256.0</td>\n",
       "      <td>258.0</td>\n",
       "      <td>0.0</td>\n",
       "    </tr>\n",
       "    <tr>\n",
       "      <th>28</th>\n",
       "      <td>168029752.0</td>\n",
       "      <td>ar</td>\n",
       "      <td>324334.0</td>\n",
       "      <td>0.0</td>\n",
       "      <td>雄鹰在飞翔</td>\n",
       "      <td>容中尔甲</td>\n",
       "      <td>0.0</td>\n",
       "      <td>325.0</td>\n",
       "      <td>0.0</td>\n",
       "    </tr>\n",
       "    <tr>\n",
       "      <th>29</th>\n",
       "      <td>168029752.0</td>\n",
       "      <td>ar</td>\n",
       "      <td>234906.0</td>\n",
       "      <td>0.0</td>\n",
       "      <td>永远的雪莲花</td>\n",
       "      <td>容中尔甲</td>\n",
       "      <td>0.0</td>\n",
       "      <td>248.0</td>\n",
       "      <td>0.0</td>\n",
       "    </tr>\n",
       "    <tr>\n",
       "      <th>30</th>\n",
       "      <td>168029752.0</td>\n",
       "      <td>ar</td>\n",
       "      <td>21770905.0</td>\n",
       "      <td>0.0</td>\n",
       "      <td>回家的路 (Live)</td>\n",
       "      <td>刘德华</td>\n",
       "      <td>0.0</td>\n",
       "      <td>249.0</td>\n",
       "      <td>0.0</td>\n",
       "    </tr>\n",
       "    <tr>\n",
       "      <th>31</th>\n",
       "      <td>167850949.0</td>\n",
       "      <td>ar</td>\n",
       "      <td>6692062.0</td>\n",
       "      <td>0.0</td>\n",
       "      <td>乱世烽火出英雄</td>\n",
       "      <td>MC王佳</td>\n",
       "      <td>146.0</td>\n",
       "      <td>146.0</td>\n",
       "      <td>0.0</td>\n",
       "    </tr>\n",
       "    <tr>\n",
       "      <th>32</th>\n",
       "      <td>168029752.0</td>\n",
       "      <td>ar</td>\n",
       "      <td>14831130.0</td>\n",
       "      <td>0.0</td>\n",
       "      <td>恭喜发财</td>\n",
       "      <td>刘德华&amp;卓依婷</td>\n",
       "      <td>0.0</td>\n",
       "      <td>290.0</td>\n",
       "      <td>0.0</td>\n",
       "    </tr>\n",
       "    <tr>\n",
       "      <th>33</th>\n",
       "      <td>167947155.0</td>\n",
       "      <td>ar</td>\n",
       "      <td>14708826.0</td>\n",
       "      <td>0.0</td>\n",
       "      <td>如果不是</td>\n",
       "      <td>杨炅翰</td>\n",
       "      <td>176.0</td>\n",
       "      <td>177.0</td>\n",
       "      <td>0.0</td>\n",
       "    </tr>\n",
       "    <tr>\n",
       "      <th>34</th>\n",
       "      <td>168029752.0</td>\n",
       "      <td>ar</td>\n",
       "      <td>437853.0</td>\n",
       "      <td>0.0</td>\n",
       "      <td>练习(国)(Live)</td>\n",
       "      <td>刘德华</td>\n",
       "      <td>0.0</td>\n",
       "      <td>341.0</td>\n",
       "      <td>0.0</td>\n",
       "    </tr>\n",
       "    <tr>\n",
       "      <th>35</th>\n",
       "      <td>168029752.0</td>\n",
       "      <td>ar</td>\n",
       "      <td>215921.0</td>\n",
       "      <td>0.0</td>\n",
       "      <td>醉拳</td>\n",
       "      <td>成龙</td>\n",
       "      <td>0.0</td>\n",
       "      <td>182.0</td>\n",
       "      <td>0.0</td>\n",
       "    </tr>\n",
       "    <tr>\n",
       "      <th>38</th>\n",
       "      <td>168029752.0</td>\n",
       "      <td>ar</td>\n",
       "      <td>1026367.0</td>\n",
       "      <td>0.0</td>\n",
       "      <td>雄鹰在飞翔</td>\n",
       "      <td>容中尔甲</td>\n",
       "      <td>0.0</td>\n",
       "      <td>327.0</td>\n",
       "      <td>0.0</td>\n",
       "    </tr>\n",
       "    <tr>\n",
       "      <th>39</th>\n",
       "      <td>168004558.0</td>\n",
       "      <td>ar</td>\n",
       "      <td>14008117.0</td>\n",
       "      <td>0.0</td>\n",
       "      <td>奥力给(环绕版)</td>\n",
       "      <td>吴司令</td>\n",
       "      <td>13.0</td>\n",
       "      <td>156.0</td>\n",
       "      <td>0.0</td>\n",
       "    </tr>\n",
       "    <tr>\n",
       "      <th>40</th>\n",
       "      <td>167970575.0</td>\n",
       "      <td>ar</td>\n",
       "      <td>854337.0</td>\n",
       "      <td>0.0</td>\n",
       "      <td>网络歌曲铃声精选3(21秒铃声版)</td>\n",
       "      <td>铃声</td>\n",
       "      <td>4.0</td>\n",
       "      <td>19.0</td>\n",
       "      <td>0.0</td>\n",
       "    </tr>\n",
       "    <tr>\n",
       "      <th>...</th>\n",
       "      <td>...</td>\n",
       "      <td>...</td>\n",
       "      <td>...</td>\n",
       "      <td>...</td>\n",
       "      <td>...</td>\n",
       "      <td>...</td>\n",
       "      <td>...</td>\n",
       "      <td>...</td>\n",
       "      <td>...</td>\n",
       "    </tr>\n",
       "    <tr>\n",
       "      <th>1860627</th>\n",
       "      <td>167832224.0</td>\n",
       "      <td>ip</td>\n",
       "      <td>17081441.0</td>\n",
       "      <td>0.0</td>\n",
       "      <td>凉凉</td>\n",
       "      <td>张碧晨&amp;杨宗纬</td>\n",
       "      <td>333.0</td>\n",
       "      <td>334.0</td>\n",
       "      <td>0.0</td>\n",
       "    </tr>\n",
       "    <tr>\n",
       "      <th>1860629</th>\n",
       "      <td>167930051.0</td>\n",
       "      <td>ar</td>\n",
       "      <td>107464.0</td>\n",
       "      <td>0.0</td>\n",
       "      <td>鳄鱼的眼泪</td>\n",
       "      <td>林志炫</td>\n",
       "      <td>72.0</td>\n",
       "      <td>255.0</td>\n",
       "      <td>0.0</td>\n",
       "    </tr>\n",
       "    <tr>\n",
       "      <th>1860631</th>\n",
       "      <td>167999511.0</td>\n",
       "      <td>ip</td>\n",
       "      <td>5272489.0</td>\n",
       "      <td>0.0</td>\n",
       "      <td>Sugar</td>\n",
       "      <td>Maroon 5</td>\n",
       "      <td>1.0</td>\n",
       "      <td>235.0</td>\n",
       "      <td>0.0</td>\n",
       "    </tr>\n",
       "    <tr>\n",
       "      <th>1860632</th>\n",
       "      <td>167931083.0</td>\n",
       "      <td>ar</td>\n",
       "      <td>6201279.0</td>\n",
       "      <td>0.0</td>\n",
       "      <td>匆匆那年(Live)</td>\n",
       "      <td>杨宗纬</td>\n",
       "      <td>8.0</td>\n",
       "      <td>192.0</td>\n",
       "      <td>0.0</td>\n",
       "    </tr>\n",
       "    <tr>\n",
       "      <th>1860633</th>\n",
       "      <td>167886282.0</td>\n",
       "      <td>ip</td>\n",
       "      <td>216945.0</td>\n",
       "      <td>0.0</td>\n",
       "      <td>Careless Whisper</td>\n",
       "      <td>George Michael</td>\n",
       "      <td>45.0</td>\n",
       "      <td>300.0</td>\n",
       "      <td>0.0</td>\n",
       "    </tr>\n",
       "    <tr>\n",
       "      <th>1860634</th>\n",
       "      <td>167856068.0</td>\n",
       "      <td>ar</td>\n",
       "      <td>0.0</td>\n",
       "      <td>1.0</td>\n",
       "      <td>庄心妍 - 放过自己</td>\n",
       "      <td>未知歌手</td>\n",
       "      <td>248.0</td>\n",
       "      <td>249.0</td>\n",
       "      <td>0.0</td>\n",
       "    </tr>\n",
       "    <tr>\n",
       "      <th>1860635</th>\n",
       "      <td>167758498.0</td>\n",
       "      <td>ar</td>\n",
       "      <td>105269.0</td>\n",
       "      <td>0.0</td>\n",
       "      <td>一言难尽</td>\n",
       "      <td>张宇</td>\n",
       "      <td>0.0</td>\n",
       "      <td>251.0</td>\n",
       "      <td>0.0</td>\n",
       "    </tr>\n",
       "    <tr>\n",
       "      <th>1860636</th>\n",
       "      <td>167952415.0</td>\n",
       "      <td>ar</td>\n",
       "      <td>9952802.0</td>\n",
       "      <td>0.0</td>\n",
       "      <td>Apple Tree</td>\n",
       "      <td>儿童歌曲</td>\n",
       "      <td>73.0</td>\n",
       "      <td>73.0</td>\n",
       "      <td>0.0</td>\n",
       "    </tr>\n",
       "    <tr>\n",
       "      <th>1860637</th>\n",
       "      <td>167999850.0</td>\n",
       "      <td>ip</td>\n",
       "      <td>4539774.0</td>\n",
       "      <td>0.0</td>\n",
       "      <td>慢三舞曲 几度夕阳红</td>\n",
       "      <td>网络歌手</td>\n",
       "      <td>306.0</td>\n",
       "      <td>307.0</td>\n",
       "      <td>0.0</td>\n",
       "    </tr>\n",
       "    <tr>\n",
       "      <th>1860638</th>\n",
       "      <td>1685126.0</td>\n",
       "      <td>ar</td>\n",
       "      <td>23485855.0</td>\n",
       "      <td>0.0</td>\n",
       "      <td>生来倔强</td>\n",
       "      <td>南征北战</td>\n",
       "      <td>128.0</td>\n",
       "      <td>219.0</td>\n",
       "      <td>0.0</td>\n",
       "    </tr>\n",
       "    <tr>\n",
       "      <th>1860639</th>\n",
       "      <td>167649809.0</td>\n",
       "      <td>ar</td>\n",
       "      <td>6993092.0</td>\n",
       "      <td>0.0</td>\n",
       "      <td>二十四节气歌</td>\n",
       "      <td>贝瓦儿歌</td>\n",
       "      <td>110.0</td>\n",
       "      <td>125.0</td>\n",
       "      <td>0.0</td>\n",
       "    </tr>\n",
       "    <tr>\n",
       "      <th>1860641</th>\n",
       "      <td>167690656.0</td>\n",
       "      <td>ar</td>\n",
       "      <td>1247574.0</td>\n",
       "      <td>0.0</td>\n",
       "      <td>无语</td>\n",
       "      <td>本兮</td>\n",
       "      <td>0.0</td>\n",
       "      <td>218.0</td>\n",
       "      <td>0.0</td>\n",
       "    </tr>\n",
       "    <tr>\n",
       "      <th>1860643</th>\n",
       "      <td>167797681.0</td>\n",
       "      <td>ip</td>\n",
       "      <td>6351577.0</td>\n",
       "      <td>0.0</td>\n",
       "      <td>爱</td>\n",
       "      <td>A-Lin</td>\n",
       "      <td>2.0</td>\n",
       "      <td>253.0</td>\n",
       "      <td>0.0</td>\n",
       "    </tr>\n",
       "    <tr>\n",
       "      <th>1860644</th>\n",
       "      <td>168046490.0</td>\n",
       "      <td>ar</td>\n",
       "      <td>22806729.0</td>\n",
       "      <td>0.0</td>\n",
       "      <td>你不是我的月亮,我不是你的云</td>\n",
       "      <td>谢军</td>\n",
       "      <td>6.0</td>\n",
       "      <td>283.0</td>\n",
       "      <td>0.0</td>\n",
       "    </tr>\n",
       "    <tr>\n",
       "      <th>1860645</th>\n",
       "      <td>168049959.0</td>\n",
       "      <td>ar</td>\n",
       "      <td>0.0</td>\n",
       "      <td>1.0</td>\n",
       "      <td>逆流成河</td>\n",
       "      <td>金南玲</td>\n",
       "      <td>58.0</td>\n",
       "      <td>125.0</td>\n",
       "      <td>0.0</td>\n",
       "    </tr>\n",
       "    <tr>\n",
       "      <th>1860646</th>\n",
       "      <td>167925975.0</td>\n",
       "      <td>ar</td>\n",
       "      <td>6402552.0</td>\n",
       "      <td>0.0</td>\n",
       "      <td>南无地藏王菩萨(国语版)</td>\n",
       "      <td>佛教音乐</td>\n",
       "      <td>42.0</td>\n",
       "      <td>42.0</td>\n",
       "      <td>0.0</td>\n",
       "    </tr>\n",
       "    <tr>\n",
       "      <th>1860647</th>\n",
       "      <td>168043780.0</td>\n",
       "      <td>ar</td>\n",
       "      <td>3380490.0</td>\n",
       "      <td>0.0</td>\n",
       "      <td>天都黑了</td>\n",
       "      <td>本兮</td>\n",
       "      <td>14.0</td>\n",
       "      <td>227.0</td>\n",
       "      <td>0.0</td>\n",
       "    </tr>\n",
       "    <tr>\n",
       "      <th>1860648</th>\n",
       "      <td>168045235.0</td>\n",
       "      <td>ar</td>\n",
       "      <td>22875944.0</td>\n",
       "      <td>0.0</td>\n",
       "      <td>小永远(完整版) - 周二珂</td>\n",
       "      <td>二珂呀呀呀</td>\n",
       "      <td>217.0</td>\n",
       "      <td>239.0</td>\n",
       "      <td>0.0</td>\n",
       "    </tr>\n",
       "    <tr>\n",
       "      <th>1860649</th>\n",
       "      <td>168040755.0</td>\n",
       "      <td>ar</td>\n",
       "      <td>4616474.0</td>\n",
       "      <td>0.0</td>\n",
       "      <td>特殊短信铃音</td>\n",
       "      <td>手机铃声</td>\n",
       "      <td>2.0</td>\n",
       "      <td>3.0</td>\n",
       "      <td>0.0</td>\n",
       "    </tr>\n",
       "    <tr>\n",
       "      <th>1860650</th>\n",
       "      <td>168052862.0</td>\n",
       "      <td>ar</td>\n",
       "      <td>0.0</td>\n",
       "      <td>1.0</td>\n",
       "      <td>鹿晗、陈嘉桦、大张伟、张丹峰、潘玮柏、刘敏涛 - 重返十七岁</td>\n",
       "      <td>未知歌手</td>\n",
       "      <td>49.0</td>\n",
       "      <td>245.0</td>\n",
       "      <td>0.0</td>\n",
       "    </tr>\n",
       "    <tr>\n",
       "      <th>1860651</th>\n",
       "      <td>167925975.0</td>\n",
       "      <td>ar</td>\n",
       "      <td>6402552.0</td>\n",
       "      <td>0.0</td>\n",
       "      <td>南无地藏王菩萨(国语版)</td>\n",
       "      <td>佛教音乐</td>\n",
       "      <td>42.0</td>\n",
       "      <td>42.0</td>\n",
       "      <td>0.0</td>\n",
       "    </tr>\n",
       "    <tr>\n",
       "      <th>1860652</th>\n",
       "      <td>167690656.0</td>\n",
       "      <td>ar</td>\n",
       "      <td>15193275.0</td>\n",
       "      <td>0.0</td>\n",
       "      <td>我梦见我梦见我</td>\n",
       "      <td>本兮</td>\n",
       "      <td>0.0</td>\n",
       "      <td>279.0</td>\n",
       "      <td>0.0</td>\n",
       "    </tr>\n",
       "    <tr>\n",
       "      <th>1860655</th>\n",
       "      <td>167825961.0</td>\n",
       "      <td>ar</td>\n",
       "      <td>708518.0</td>\n",
       "      <td>0.0</td>\n",
       "      <td>汽车HiFi御用慢摇</td>\n",
       "      <td>DJ舞曲</td>\n",
       "      <td>450.0</td>\n",
       "      <td>450.0</td>\n",
       "      <td>0.0</td>\n",
       "    </tr>\n",
       "    <tr>\n",
       "      <th>1860656</th>\n",
       "      <td>167993044.0</td>\n",
       "      <td>ip</td>\n",
       "      <td>2216463.0</td>\n",
       "      <td>0.0</td>\n",
       "      <td>被伤过的心还可以爱谁</td>\n",
       "      <td>孙露</td>\n",
       "      <td>207.0</td>\n",
       "      <td>300.0</td>\n",
       "      <td>0.0</td>\n",
       "    </tr>\n",
       "    <tr>\n",
       "      <th>1860658</th>\n",
       "      <td>167574086.0</td>\n",
       "      <td>ar</td>\n",
       "      <td>7185650.0</td>\n",
       "      <td>0.0</td>\n",
       "      <td>棉花糖</td>\n",
       "      <td>至上励合</td>\n",
       "      <td>3.0</td>\n",
       "      <td>231.0</td>\n",
       "      <td>0.0</td>\n",
       "    </tr>\n",
       "    <tr>\n",
       "      <th>1860659</th>\n",
       "      <td>1685126.0</td>\n",
       "      <td>ar</td>\n",
       "      <td>16854414.0</td>\n",
       "      <td>0.0</td>\n",
       "      <td>不必在乎我是谁</td>\n",
       "      <td>林忆莲</td>\n",
       "      <td>279.0</td>\n",
       "      <td>302.0</td>\n",
       "      <td>0.0</td>\n",
       "    </tr>\n",
       "    <tr>\n",
       "      <th>1860660</th>\n",
       "      <td>167960151.0</td>\n",
       "      <td>ip</td>\n",
       "      <td>21763806.0</td>\n",
       "      <td>0.0</td>\n",
       "      <td>饿狼传说 (Live)</td>\n",
       "      <td>张靓颖</td>\n",
       "      <td>279.0</td>\n",
       "      <td>279.0</td>\n",
       "      <td>0.0</td>\n",
       "    </tr>\n",
       "    <tr>\n",
       "      <th>1860661</th>\n",
       "      <td>167589862.0</td>\n",
       "      <td>ar</td>\n",
       "      <td>22056051.0</td>\n",
       "      <td>0.0</td>\n",
       "      <td>刚刚好-(网剧《我与你的光年距离》片尾曲)</td>\n",
       "      <td>薛之谦</td>\n",
       "      <td>7.0</td>\n",
       "      <td>250.0</td>\n",
       "      <td>0.0</td>\n",
       "    </tr>\n",
       "    <tr>\n",
       "      <th>1860662</th>\n",
       "      <td>167979086.0</td>\n",
       "      <td>ar</td>\n",
       "      <td>1244660.0</td>\n",
       "      <td>0.0</td>\n",
       "      <td>有点甜-(电视剧《借用一下你的爱》插曲)</td>\n",
       "      <td>汪苏泷&amp;By2</td>\n",
       "      <td>21.0</td>\n",
       "      <td>235.0</td>\n",
       "      <td>0.0</td>\n",
       "    </tr>\n",
       "    <tr>\n",
       "      <th>1860663</th>\n",
       "      <td>167969089.0</td>\n",
       "      <td>ar</td>\n",
       "      <td>727161.0</td>\n",
       "      <td>0.0</td>\n",
       "      <td>A.I.N.Y. (爱你)</td>\n",
       "      <td>G.E.M.邓紫棋</td>\n",
       "      <td>0.0</td>\n",
       "      <td>224.0</td>\n",
       "      <td>0.0</td>\n",
       "    </tr>\n",
       "  </tbody>\n",
       "</table>\n",
       "<p>1557499 rows × 9 columns</p>\n",
       "</div>"
      ],
      "text/plain": [
       "                 uid device     song_id  song_type  \\\n",
       "1        168029752.0     ar   1026364.0        0.0   \n",
       "3        168029752.0     ar    234903.0        0.0   \n",
       "4        167965547.0     ar   6606144.0        0.0   \n",
       "6        168029752.0     ar   1026363.0        0.0   \n",
       "8        168029752.0     ar    234901.0        0.0   \n",
       "9        167923831.0     ip  13750591.0        0.0   \n",
       "12       168029752.0     ar   1026359.0        0.0   \n",
       "13       167807475.0     ar    348243.0        0.0   \n",
       "14       167900247.0     ar  13667778.0        0.0   \n",
       "15       167958001.0     ar   6266032.0        0.0   \n",
       "16       168029752.0     ar   1026358.0        0.0   \n",
       "17       168029752.0     ar   1026368.0        0.0   \n",
       "18       168047889.0     ip    708741.0        0.0   \n",
       "19       167704566.0     ar   9902748.0        0.0   \n",
       "20       167630166.0     ar    795430.0        0.0   \n",
       "22       167851700.0     ar   6651913.0        0.0   \n",
       "23       167779635.0     ip     77851.0        0.0   \n",
       "24       168029752.0     ar    234896.0        0.0   \n",
       "27       167890362.0     ar   6180670.0        0.0   \n",
       "28       168029752.0     ar    324334.0        0.0   \n",
       "29       168029752.0     ar    234906.0        0.0   \n",
       "30       168029752.0     ar  21770905.0        0.0   \n",
       "31       167850949.0     ar   6692062.0        0.0   \n",
       "32       168029752.0     ar  14831130.0        0.0   \n",
       "33       167947155.0     ar  14708826.0        0.0   \n",
       "34       168029752.0     ar    437853.0        0.0   \n",
       "35       168029752.0     ar    215921.0        0.0   \n",
       "38       168029752.0     ar   1026367.0        0.0   \n",
       "39       168004558.0     ar  14008117.0        0.0   \n",
       "40       167970575.0     ar    854337.0        0.0   \n",
       "...              ...    ...         ...        ...   \n",
       "1860627  167832224.0     ip  17081441.0        0.0   \n",
       "1860629  167930051.0     ar    107464.0        0.0   \n",
       "1860631  167999511.0     ip   5272489.0        0.0   \n",
       "1860632  167931083.0     ar   6201279.0        0.0   \n",
       "1860633  167886282.0     ip    216945.0        0.0   \n",
       "1860634  167856068.0     ar         0.0        1.0   \n",
       "1860635  167758498.0     ar    105269.0        0.0   \n",
       "1860636  167952415.0     ar   9952802.0        0.0   \n",
       "1860637  167999850.0     ip   4539774.0        0.0   \n",
       "1860638    1685126.0     ar  23485855.0        0.0   \n",
       "1860639  167649809.0     ar   6993092.0        0.0   \n",
       "1860641  167690656.0     ar   1247574.0        0.0   \n",
       "1860643  167797681.0     ip   6351577.0        0.0   \n",
       "1860644  168046490.0     ar  22806729.0        0.0   \n",
       "1860645  168049959.0     ar         0.0        1.0   \n",
       "1860646  167925975.0     ar   6402552.0        0.0   \n",
       "1860647  168043780.0     ar   3380490.0        0.0   \n",
       "1860648  168045235.0     ar  22875944.0        0.0   \n",
       "1860649  168040755.0     ar   4616474.0        0.0   \n",
       "1860650  168052862.0     ar         0.0        1.0   \n",
       "1860651  167925975.0     ar   6402552.0        0.0   \n",
       "1860652  167690656.0     ar  15193275.0        0.0   \n",
       "1860655  167825961.0     ar    708518.0        0.0   \n",
       "1860656  167993044.0     ip   2216463.0        0.0   \n",
       "1860658  167574086.0     ar   7185650.0        0.0   \n",
       "1860659    1685126.0     ar  16854414.0        0.0   \n",
       "1860660  167960151.0     ip  21763806.0        0.0   \n",
       "1860661  167589862.0     ar  22056051.0        0.0   \n",
       "1860662  167979086.0     ar   1244660.0        0.0   \n",
       "1860663  167969089.0     ar    727161.0        0.0   \n",
       "\n",
       "                                               song_name          singer  \\\n",
       "1                                                   你在天边            容中尔甲   \n",
       "3                                                梦中的达娃卓玛            容中尔甲   \n",
       "4                                                     心锁          杨小曼&冷漠   \n",
       "6                                                 喜马拉雅恋曲            容中尔甲   \n",
       "8                                                   九寨之子            容中尔甲   \n",
       "9                                              悟空 - Live              戴荃   \n",
       "12                                                 珠穆朗玛峰            容中尔甲   \n",
       "13       Cursed Destiny(C7 Meets Technorocker Radio Mix)           mabra   \n",
       "14                                       Pina Colada Boy      Baby Alice   \n",
       "15                                                  赤裸离开              孙露   \n",
       "16                                                雅鲁藏布情歌            容中尔甲   \n",
       "17                                                 神奇的九寨            容中尔甲   \n",
       "18                                     守候在凌晨两点的伤心酒吧(DJ版)              刀郎   \n",
       "19                                                   来不及             小来哥   \n",
       "20                                                   别再说              小露   \n",
       "22                                               再见只是陌生人             庄心妍   \n",
       "23                                             一场游戏一场梦II              王杰   \n",
       "24                                                   高原红            容中尔甲   \n",
       "27                                                连借口都没有             孙子涵   \n",
       "28                                                 雄鹰在飞翔            容中尔甲   \n",
       "29                                                永远的雪莲花            容中尔甲   \n",
       "30                                           回家的路 (Live)             刘德华   \n",
       "31                                               乱世烽火出英雄            MC王佳   \n",
       "32                                                  恭喜发财         刘德华&卓依婷   \n",
       "33                                                  如果不是             杨炅翰   \n",
       "34                                           练习(国)(Live)             刘德华   \n",
       "35                                                    醉拳              成龙   \n",
       "38                                                 雄鹰在飞翔            容中尔甲   \n",
       "39                                              奥力给(环绕版)             吴司令   \n",
       "40                                     网络歌曲铃声精选3(21秒铃声版)              铃声   \n",
       "...                                                  ...             ...   \n",
       "1860627                                               凉凉         张碧晨&杨宗纬   \n",
       "1860629                                            鳄鱼的眼泪             林志炫   \n",
       "1860631                                            Sugar        Maroon 5   \n",
       "1860632                                       匆匆那年(Live)             杨宗纬   \n",
       "1860633                                 Careless Whisper  George Michael   \n",
       "1860634                                       庄心妍 - 放过自己            未知歌手   \n",
       "1860635                                             一言难尽              张宇   \n",
       "1860636                                       Apple Tree            儿童歌曲   \n",
       "1860637                                       慢三舞曲 几度夕阳红            网络歌手   \n",
       "1860638                                             生来倔强            南征北战   \n",
       "1860639                                           二十四节气歌            贝瓦儿歌   \n",
       "1860641                                               无语              本兮   \n",
       "1860643                                                爱           A-Lin   \n",
       "1860644                                   你不是我的月亮,我不是你的云              谢军   \n",
       "1860645                                             逆流成河             金南玲   \n",
       "1860646                                     南无地藏王菩萨(国语版)            佛教音乐   \n",
       "1860647                                             天都黑了              本兮   \n",
       "1860648                                   小永远(完整版) - 周二珂           二珂呀呀呀   \n",
       "1860649                                           特殊短信铃音            手机铃声   \n",
       "1860650                   鹿晗、陈嘉桦、大张伟、张丹峰、潘玮柏、刘敏涛 - 重返十七岁            未知歌手   \n",
       "1860651                                     南无地藏王菩萨(国语版)            佛教音乐   \n",
       "1860652                                          我梦见我梦见我              本兮   \n",
       "1860655                                       汽车HiFi御用慢摇            DJ舞曲   \n",
       "1860656                                       被伤过的心还可以爱谁              孙露   \n",
       "1860658                                              棉花糖            至上励合   \n",
       "1860659                                          不必在乎我是谁             林忆莲   \n",
       "1860660                                      饿狼传说 (Live)             张靓颖   \n",
       "1860661                            刚刚好-(网剧《我与你的光年距离》片尾曲)             薛之谦   \n",
       "1860662                             有点甜-(电视剧《借用一下你的爱》插曲)         汪苏泷&By2   \n",
       "1860663                                    A.I.N.Y. (爱你)       G.E.M.邓紫棋   \n",
       "\n",
       "         play_time  song_length  paid_flag  \n",
       "1              0.0        277.0        0.0  \n",
       "3              0.0        315.0        0.0  \n",
       "4            256.0        256.0        0.0  \n",
       "6              0.0        266.0        0.0  \n",
       "8            245.0        245.0        0.0  \n",
       "9            197.0        197.0        0.0  \n",
       "12             0.0        244.0        0.0  \n",
       "13            24.0        190.0        0.0  \n",
       "14            55.0        184.0        0.0  \n",
       "15             0.0        242.0        0.0  \n",
       "16             0.0        282.0        0.0  \n",
       "17             0.0        259.0        0.0  \n",
       "18           315.0        320.0        0.0  \n",
       "19            38.0        187.0        0.0  \n",
       "20           179.0        302.0        0.0  \n",
       "22           247.0        251.0        0.0  \n",
       "23             6.0        137.0        0.0  \n",
       "24             0.0        278.0        0.0  \n",
       "27           256.0        258.0        0.0  \n",
       "28             0.0        325.0        0.0  \n",
       "29             0.0        248.0        0.0  \n",
       "30             0.0        249.0        0.0  \n",
       "31           146.0        146.0        0.0  \n",
       "32             0.0        290.0        0.0  \n",
       "33           176.0        177.0        0.0  \n",
       "34             0.0        341.0        0.0  \n",
       "35             0.0        182.0        0.0  \n",
       "38             0.0        327.0        0.0  \n",
       "39            13.0        156.0        0.0  \n",
       "40             4.0         19.0        0.0  \n",
       "...            ...          ...        ...  \n",
       "1860627      333.0        334.0        0.0  \n",
       "1860629       72.0        255.0        0.0  \n",
       "1860631        1.0        235.0        0.0  \n",
       "1860632        8.0        192.0        0.0  \n",
       "1860633       45.0        300.0        0.0  \n",
       "1860634      248.0        249.0        0.0  \n",
       "1860635        0.0        251.0        0.0  \n",
       "1860636       73.0         73.0        0.0  \n",
       "1860637      306.0        307.0        0.0  \n",
       "1860638      128.0        219.0        0.0  \n",
       "1860639      110.0        125.0        0.0  \n",
       "1860641        0.0        218.0        0.0  \n",
       "1860643        2.0        253.0        0.0  \n",
       "1860644        6.0        283.0        0.0  \n",
       "1860645       58.0        125.0        0.0  \n",
       "1860646       42.0         42.0        0.0  \n",
       "1860647       14.0        227.0        0.0  \n",
       "1860648      217.0        239.0        0.0  \n",
       "1860649        2.0          3.0        0.0  \n",
       "1860650       49.0        245.0        0.0  \n",
       "1860651       42.0         42.0        0.0  \n",
       "1860652        0.0        279.0        0.0  \n",
       "1860655      450.0        450.0        0.0  \n",
       "1860656      207.0        300.0        0.0  \n",
       "1860658        3.0        231.0        0.0  \n",
       "1860659      279.0        302.0        0.0  \n",
       "1860660      279.0        279.0        0.0  \n",
       "1860661        7.0        250.0        0.0  \n",
       "1860662       21.0        235.0        0.0  \n",
       "1860663        0.0        224.0        0.0  \n",
       "\n",
       "[1557499 rows x 9 columns]"
      ]
     },
     "execution_count": 35,
     "metadata": {},
     "output_type": "execute_result"
    }
   ],
   "source": [
    "df_play_clean = df_play[df_play['song_length'] > 0]\n",
    "df_play_clean = df_play_clean[df_play_clean['play_time'] <= df_play_clean['song_length']]\n",
    "df_play_clean"
   ]
  },
  {
   "cell_type": "code",
   "execution_count": 36,
   "metadata": {
    "collapsed": false
   },
   "outputs": [
    {
     "data": {
      "text/plain": [
       "uid            1557499\n",
       "device         1557499\n",
       "song_id        1557499\n",
       "song_type      1557499\n",
       "song_name      1557499\n",
       "singer         1557499\n",
       "play_time      1557499\n",
       "song_length    1557499\n",
       "paid_flag      1557499\n",
       "dtype: int64"
      ]
     },
     "execution_count": 36,
     "metadata": {},
     "output_type": "execute_result"
    }
   ],
   "source": [
    "df_play_clean_cnt = df_play_clean.count()\n",
    "df_play_clean_cnt"
   ]
  },
  {
   "cell_type": "code",
   "execution_count": 37,
   "metadata": {
    "collapsed": false
   },
   "outputs": [
    {
     "data": {
      "text/plain": [
       "uid            303167\n",
       "device         303167\n",
       "song_id        303167\n",
       "song_type      303167\n",
       "song_name      303167\n",
       "singer         303167\n",
       "play_time      291908\n",
       "song_length    303167\n",
       "paid_flag      303167\n",
       "dtype: int64"
      ]
     },
     "execution_count": 37,
     "metadata": {},
     "output_type": "execute_result"
    }
   ],
   "source": [
    "df_play_cnt - df_play_clean_cnt"
   ]
  },
  {
   "cell_type": "markdown",
   "metadata": {},
   "source": [
    "Playpercent = play_time / song_length"
   ]
  },
  {
   "cell_type": "code",
   "execution_count": 38,
   "metadata": {
    "collapsed": false
   },
   "outputs": [
    {
     "data": {
      "text/plain": [
       "1          0.000000\n",
       "3          0.000000\n",
       "4          1.000000\n",
       "6          0.000000\n",
       "8          1.000000\n",
       "9          1.000000\n",
       "12         0.000000\n",
       "13         0.126316\n",
       "14         0.298913\n",
       "15         0.000000\n",
       "16         0.000000\n",
       "17         0.000000\n",
       "18         0.984375\n",
       "19         0.203209\n",
       "20         0.592715\n",
       "22         0.984064\n",
       "23         0.043796\n",
       "24         0.000000\n",
       "27         0.992248\n",
       "28         0.000000\n",
       "29         0.000000\n",
       "30         0.000000\n",
       "31         1.000000\n",
       "32         0.000000\n",
       "33         0.994350\n",
       "34         0.000000\n",
       "35         0.000000\n",
       "38         0.000000\n",
       "39         0.083333\n",
       "40         0.210526\n",
       "             ...   \n",
       "1860627    0.997006\n",
       "1860629    0.282353\n",
       "1860631    0.004255\n",
       "1860632    0.041667\n",
       "1860633    0.150000\n",
       "1860634    0.995984\n",
       "1860635    0.000000\n",
       "1860636    1.000000\n",
       "1860637    0.996743\n",
       "1860638    0.584475\n",
       "1860639    0.880000\n",
       "1860641    0.000000\n",
       "1860643    0.007905\n",
       "1860644    0.021201\n",
       "1860645    0.464000\n",
       "1860646    1.000000\n",
       "1860647    0.061674\n",
       "1860648    0.907950\n",
       "1860649    0.666667\n",
       "1860650    0.200000\n",
       "1860651    1.000000\n",
       "1860652    0.000000\n",
       "1860655    1.000000\n",
       "1860656    0.690000\n",
       "1860658    0.012987\n",
       "1860659    0.923841\n",
       "1860660    1.000000\n",
       "1860661    0.028000\n",
       "1860662    0.089362\n",
       "1860663    0.000000\n",
       "Name: play_percent, dtype: float64"
      ]
     },
     "execution_count": 38,
     "metadata": {},
     "output_type": "execute_result"
    }
   ],
   "source": [
    "df_play_clean['play_percent'] = df_play_clean['play_time'] / df_play_clean['song_length']\n",
    "df_play_clean['play_percent']"
   ]
  },
  {
   "cell_type": "code",
   "execution_count": 39,
   "metadata": {
    "collapsed": false
   },
   "outputs": [
    {
     "data": {
      "text/html": [
       "<div>\n",
       "<table border=\"1\" class=\"dataframe\">\n",
       "  <thead>\n",
       "    <tr style=\"text-align: right;\">\n",
       "      <th></th>\n",
       "      <th>uid</th>\n",
       "      <th>device</th>\n",
       "      <th>song_id</th>\n",
       "      <th>song_type</th>\n",
       "      <th>song_name</th>\n",
       "      <th>singer</th>\n",
       "      <th>play_time</th>\n",
       "      <th>song_length</th>\n",
       "      <th>paid_flag</th>\n",
       "      <th>play_percent</th>\n",
       "    </tr>\n",
       "  </thead>\n",
       "  <tbody>\n",
       "    <tr>\n",
       "      <th>1</th>\n",
       "      <td>168029752.0</td>\n",
       "      <td>ar</td>\n",
       "      <td>1026364.0</td>\n",
       "      <td>0.0</td>\n",
       "      <td>你在天边</td>\n",
       "      <td>容中尔甲</td>\n",
       "      <td>0.0</td>\n",
       "      <td>277.0</td>\n",
       "      <td>0.0</td>\n",
       "      <td>0.000000</td>\n",
       "    </tr>\n",
       "    <tr>\n",
       "      <th>3</th>\n",
       "      <td>168029752.0</td>\n",
       "      <td>ar</td>\n",
       "      <td>234903.0</td>\n",
       "      <td>0.0</td>\n",
       "      <td>梦中的达娃卓玛</td>\n",
       "      <td>容中尔甲</td>\n",
       "      <td>0.0</td>\n",
       "      <td>315.0</td>\n",
       "      <td>0.0</td>\n",
       "      <td>0.000000</td>\n",
       "    </tr>\n",
       "    <tr>\n",
       "      <th>4</th>\n",
       "      <td>167965547.0</td>\n",
       "      <td>ar</td>\n",
       "      <td>6606144.0</td>\n",
       "      <td>0.0</td>\n",
       "      <td>心锁</td>\n",
       "      <td>杨小曼&amp;冷漠</td>\n",
       "      <td>256.0</td>\n",
       "      <td>256.0</td>\n",
       "      <td>0.0</td>\n",
       "      <td>1.000000</td>\n",
       "    </tr>\n",
       "    <tr>\n",
       "      <th>6</th>\n",
       "      <td>168029752.0</td>\n",
       "      <td>ar</td>\n",
       "      <td>1026363.0</td>\n",
       "      <td>0.0</td>\n",
       "      <td>喜马拉雅恋曲</td>\n",
       "      <td>容中尔甲</td>\n",
       "      <td>0.0</td>\n",
       "      <td>266.0</td>\n",
       "      <td>0.0</td>\n",
       "      <td>0.000000</td>\n",
       "    </tr>\n",
       "    <tr>\n",
       "      <th>8</th>\n",
       "      <td>168029752.0</td>\n",
       "      <td>ar</td>\n",
       "      <td>234901.0</td>\n",
       "      <td>0.0</td>\n",
       "      <td>九寨之子</td>\n",
       "      <td>容中尔甲</td>\n",
       "      <td>245.0</td>\n",
       "      <td>245.0</td>\n",
       "      <td>0.0</td>\n",
       "      <td>1.000000</td>\n",
       "    </tr>\n",
       "    <tr>\n",
       "      <th>9</th>\n",
       "      <td>167923831.0</td>\n",
       "      <td>ip</td>\n",
       "      <td>13750591.0</td>\n",
       "      <td>0.0</td>\n",
       "      <td>悟空 - Live</td>\n",
       "      <td>戴荃</td>\n",
       "      <td>197.0</td>\n",
       "      <td>197.0</td>\n",
       "      <td>0.0</td>\n",
       "      <td>1.000000</td>\n",
       "    </tr>\n",
       "    <tr>\n",
       "      <th>12</th>\n",
       "      <td>168029752.0</td>\n",
       "      <td>ar</td>\n",
       "      <td>1026359.0</td>\n",
       "      <td>0.0</td>\n",
       "      <td>珠穆朗玛峰</td>\n",
       "      <td>容中尔甲</td>\n",
       "      <td>0.0</td>\n",
       "      <td>244.0</td>\n",
       "      <td>0.0</td>\n",
       "      <td>0.000000</td>\n",
       "    </tr>\n",
       "    <tr>\n",
       "      <th>13</th>\n",
       "      <td>167807475.0</td>\n",
       "      <td>ar</td>\n",
       "      <td>348243.0</td>\n",
       "      <td>0.0</td>\n",
       "      <td>Cursed Destiny(C7 Meets Technorocker Radio Mix)</td>\n",
       "      <td>mabra</td>\n",
       "      <td>24.0</td>\n",
       "      <td>190.0</td>\n",
       "      <td>0.0</td>\n",
       "      <td>0.126316</td>\n",
       "    </tr>\n",
       "    <tr>\n",
       "      <th>14</th>\n",
       "      <td>167900247.0</td>\n",
       "      <td>ar</td>\n",
       "      <td>13667778.0</td>\n",
       "      <td>0.0</td>\n",
       "      <td>Pina Colada Boy</td>\n",
       "      <td>Baby Alice</td>\n",
       "      <td>55.0</td>\n",
       "      <td>184.0</td>\n",
       "      <td>0.0</td>\n",
       "      <td>0.298913</td>\n",
       "    </tr>\n",
       "    <tr>\n",
       "      <th>15</th>\n",
       "      <td>167958001.0</td>\n",
       "      <td>ar</td>\n",
       "      <td>6266032.0</td>\n",
       "      <td>0.0</td>\n",
       "      <td>赤裸离开</td>\n",
       "      <td>孙露</td>\n",
       "      <td>0.0</td>\n",
       "      <td>242.0</td>\n",
       "      <td>0.0</td>\n",
       "      <td>0.000000</td>\n",
       "    </tr>\n",
       "    <tr>\n",
       "      <th>16</th>\n",
       "      <td>168029752.0</td>\n",
       "      <td>ar</td>\n",
       "      <td>1026358.0</td>\n",
       "      <td>0.0</td>\n",
       "      <td>雅鲁藏布情歌</td>\n",
       "      <td>容中尔甲</td>\n",
       "      <td>0.0</td>\n",
       "      <td>282.0</td>\n",
       "      <td>0.0</td>\n",
       "      <td>0.000000</td>\n",
       "    </tr>\n",
       "    <tr>\n",
       "      <th>17</th>\n",
       "      <td>168029752.0</td>\n",
       "      <td>ar</td>\n",
       "      <td>1026368.0</td>\n",
       "      <td>0.0</td>\n",
       "      <td>神奇的九寨</td>\n",
       "      <td>容中尔甲</td>\n",
       "      <td>0.0</td>\n",
       "      <td>259.0</td>\n",
       "      <td>0.0</td>\n",
       "      <td>0.000000</td>\n",
       "    </tr>\n",
       "    <tr>\n",
       "      <th>18</th>\n",
       "      <td>168047889.0</td>\n",
       "      <td>ip</td>\n",
       "      <td>708741.0</td>\n",
       "      <td>0.0</td>\n",
       "      <td>守候在凌晨两点的伤心酒吧(DJ版)</td>\n",
       "      <td>刀郎</td>\n",
       "      <td>315.0</td>\n",
       "      <td>320.0</td>\n",
       "      <td>0.0</td>\n",
       "      <td>0.984375</td>\n",
       "    </tr>\n",
       "    <tr>\n",
       "      <th>19</th>\n",
       "      <td>167704566.0</td>\n",
       "      <td>ar</td>\n",
       "      <td>9902748.0</td>\n",
       "      <td>0.0</td>\n",
       "      <td>来不及</td>\n",
       "      <td>小来哥</td>\n",
       "      <td>38.0</td>\n",
       "      <td>187.0</td>\n",
       "      <td>0.0</td>\n",
       "      <td>0.203209</td>\n",
       "    </tr>\n",
       "    <tr>\n",
       "      <th>20</th>\n",
       "      <td>167630166.0</td>\n",
       "      <td>ar</td>\n",
       "      <td>795430.0</td>\n",
       "      <td>0.0</td>\n",
       "      <td>别再说</td>\n",
       "      <td>小露</td>\n",
       "      <td>179.0</td>\n",
       "      <td>302.0</td>\n",
       "      <td>0.0</td>\n",
       "      <td>0.592715</td>\n",
       "    </tr>\n",
       "    <tr>\n",
       "      <th>22</th>\n",
       "      <td>167851700.0</td>\n",
       "      <td>ar</td>\n",
       "      <td>6651913.0</td>\n",
       "      <td>0.0</td>\n",
       "      <td>再见只是陌生人</td>\n",
       "      <td>庄心妍</td>\n",
       "      <td>247.0</td>\n",
       "      <td>251.0</td>\n",
       "      <td>0.0</td>\n",
       "      <td>0.984064</td>\n",
       "    </tr>\n",
       "    <tr>\n",
       "      <th>23</th>\n",
       "      <td>167779635.0</td>\n",
       "      <td>ip</td>\n",
       "      <td>77851.0</td>\n",
       "      <td>0.0</td>\n",
       "      <td>一场游戏一场梦II</td>\n",
       "      <td>王杰</td>\n",
       "      <td>6.0</td>\n",
       "      <td>137.0</td>\n",
       "      <td>0.0</td>\n",
       "      <td>0.043796</td>\n",
       "    </tr>\n",
       "    <tr>\n",
       "      <th>24</th>\n",
       "      <td>168029752.0</td>\n",
       "      <td>ar</td>\n",
       "      <td>234896.0</td>\n",
       "      <td>0.0</td>\n",
       "      <td>高原红</td>\n",
       "      <td>容中尔甲</td>\n",
       "      <td>0.0</td>\n",
       "      <td>278.0</td>\n",
       "      <td>0.0</td>\n",
       "      <td>0.000000</td>\n",
       "    </tr>\n",
       "    <tr>\n",
       "      <th>27</th>\n",
       "      <td>167890362.0</td>\n",
       "      <td>ar</td>\n",
       "      <td>6180670.0</td>\n",
       "      <td>0.0</td>\n",
       "      <td>连借口都没有</td>\n",
       "      <td>孙子涵</td>\n",
       "      <td>256.0</td>\n",
       "      <td>258.0</td>\n",
       "      <td>0.0</td>\n",
       "      <td>0.992248</td>\n",
       "    </tr>\n",
       "    <tr>\n",
       "      <th>28</th>\n",
       "      <td>168029752.0</td>\n",
       "      <td>ar</td>\n",
       "      <td>324334.0</td>\n",
       "      <td>0.0</td>\n",
       "      <td>雄鹰在飞翔</td>\n",
       "      <td>容中尔甲</td>\n",
       "      <td>0.0</td>\n",
       "      <td>325.0</td>\n",
       "      <td>0.0</td>\n",
       "      <td>0.000000</td>\n",
       "    </tr>\n",
       "    <tr>\n",
       "      <th>29</th>\n",
       "      <td>168029752.0</td>\n",
       "      <td>ar</td>\n",
       "      <td>234906.0</td>\n",
       "      <td>0.0</td>\n",
       "      <td>永远的雪莲花</td>\n",
       "      <td>容中尔甲</td>\n",
       "      <td>0.0</td>\n",
       "      <td>248.0</td>\n",
       "      <td>0.0</td>\n",
       "      <td>0.000000</td>\n",
       "    </tr>\n",
       "    <tr>\n",
       "      <th>30</th>\n",
       "      <td>168029752.0</td>\n",
       "      <td>ar</td>\n",
       "      <td>21770905.0</td>\n",
       "      <td>0.0</td>\n",
       "      <td>回家的路 (Live)</td>\n",
       "      <td>刘德华</td>\n",
       "      <td>0.0</td>\n",
       "      <td>249.0</td>\n",
       "      <td>0.0</td>\n",
       "      <td>0.000000</td>\n",
       "    </tr>\n",
       "    <tr>\n",
       "      <th>31</th>\n",
       "      <td>167850949.0</td>\n",
       "      <td>ar</td>\n",
       "      <td>6692062.0</td>\n",
       "      <td>0.0</td>\n",
       "      <td>乱世烽火出英雄</td>\n",
       "      <td>MC王佳</td>\n",
       "      <td>146.0</td>\n",
       "      <td>146.0</td>\n",
       "      <td>0.0</td>\n",
       "      <td>1.000000</td>\n",
       "    </tr>\n",
       "    <tr>\n",
       "      <th>32</th>\n",
       "      <td>168029752.0</td>\n",
       "      <td>ar</td>\n",
       "      <td>14831130.0</td>\n",
       "      <td>0.0</td>\n",
       "      <td>恭喜发财</td>\n",
       "      <td>刘德华&amp;卓依婷</td>\n",
       "      <td>0.0</td>\n",
       "      <td>290.0</td>\n",
       "      <td>0.0</td>\n",
       "      <td>0.000000</td>\n",
       "    </tr>\n",
       "    <tr>\n",
       "      <th>33</th>\n",
       "      <td>167947155.0</td>\n",
       "      <td>ar</td>\n",
       "      <td>14708826.0</td>\n",
       "      <td>0.0</td>\n",
       "      <td>如果不是</td>\n",
       "      <td>杨炅翰</td>\n",
       "      <td>176.0</td>\n",
       "      <td>177.0</td>\n",
       "      <td>0.0</td>\n",
       "      <td>0.994350</td>\n",
       "    </tr>\n",
       "    <tr>\n",
       "      <th>34</th>\n",
       "      <td>168029752.0</td>\n",
       "      <td>ar</td>\n",
       "      <td>437853.0</td>\n",
       "      <td>0.0</td>\n",
       "      <td>练习(国)(Live)</td>\n",
       "      <td>刘德华</td>\n",
       "      <td>0.0</td>\n",
       "      <td>341.0</td>\n",
       "      <td>0.0</td>\n",
       "      <td>0.000000</td>\n",
       "    </tr>\n",
       "    <tr>\n",
       "      <th>35</th>\n",
       "      <td>168029752.0</td>\n",
       "      <td>ar</td>\n",
       "      <td>215921.0</td>\n",
       "      <td>0.0</td>\n",
       "      <td>醉拳</td>\n",
       "      <td>成龙</td>\n",
       "      <td>0.0</td>\n",
       "      <td>182.0</td>\n",
       "      <td>0.0</td>\n",
       "      <td>0.000000</td>\n",
       "    </tr>\n",
       "    <tr>\n",
       "      <th>38</th>\n",
       "      <td>168029752.0</td>\n",
       "      <td>ar</td>\n",
       "      <td>1026367.0</td>\n",
       "      <td>0.0</td>\n",
       "      <td>雄鹰在飞翔</td>\n",
       "      <td>容中尔甲</td>\n",
       "      <td>0.0</td>\n",
       "      <td>327.0</td>\n",
       "      <td>0.0</td>\n",
       "      <td>0.000000</td>\n",
       "    </tr>\n",
       "    <tr>\n",
       "      <th>39</th>\n",
       "      <td>168004558.0</td>\n",
       "      <td>ar</td>\n",
       "      <td>14008117.0</td>\n",
       "      <td>0.0</td>\n",
       "      <td>奥力给(环绕版)</td>\n",
       "      <td>吴司令</td>\n",
       "      <td>13.0</td>\n",
       "      <td>156.0</td>\n",
       "      <td>0.0</td>\n",
       "      <td>0.083333</td>\n",
       "    </tr>\n",
       "    <tr>\n",
       "      <th>40</th>\n",
       "      <td>167970575.0</td>\n",
       "      <td>ar</td>\n",
       "      <td>854337.0</td>\n",
       "      <td>0.0</td>\n",
       "      <td>网络歌曲铃声精选3(21秒铃声版)</td>\n",
       "      <td>铃声</td>\n",
       "      <td>4.0</td>\n",
       "      <td>19.0</td>\n",
       "      <td>0.0</td>\n",
       "      <td>0.210526</td>\n",
       "    </tr>\n",
       "    <tr>\n",
       "      <th>...</th>\n",
       "      <td>...</td>\n",
       "      <td>...</td>\n",
       "      <td>...</td>\n",
       "      <td>...</td>\n",
       "      <td>...</td>\n",
       "      <td>...</td>\n",
       "      <td>...</td>\n",
       "      <td>...</td>\n",
       "      <td>...</td>\n",
       "      <td>...</td>\n",
       "    </tr>\n",
       "    <tr>\n",
       "      <th>1860627</th>\n",
       "      <td>167832224.0</td>\n",
       "      <td>ip</td>\n",
       "      <td>17081441.0</td>\n",
       "      <td>0.0</td>\n",
       "      <td>凉凉</td>\n",
       "      <td>张碧晨&amp;杨宗纬</td>\n",
       "      <td>333.0</td>\n",
       "      <td>334.0</td>\n",
       "      <td>0.0</td>\n",
       "      <td>0.997006</td>\n",
       "    </tr>\n",
       "    <tr>\n",
       "      <th>1860629</th>\n",
       "      <td>167930051.0</td>\n",
       "      <td>ar</td>\n",
       "      <td>107464.0</td>\n",
       "      <td>0.0</td>\n",
       "      <td>鳄鱼的眼泪</td>\n",
       "      <td>林志炫</td>\n",
       "      <td>72.0</td>\n",
       "      <td>255.0</td>\n",
       "      <td>0.0</td>\n",
       "      <td>0.282353</td>\n",
       "    </tr>\n",
       "    <tr>\n",
       "      <th>1860631</th>\n",
       "      <td>167999511.0</td>\n",
       "      <td>ip</td>\n",
       "      <td>5272489.0</td>\n",
       "      <td>0.0</td>\n",
       "      <td>Sugar</td>\n",
       "      <td>Maroon 5</td>\n",
       "      <td>1.0</td>\n",
       "      <td>235.0</td>\n",
       "      <td>0.0</td>\n",
       "      <td>0.004255</td>\n",
       "    </tr>\n",
       "    <tr>\n",
       "      <th>1860632</th>\n",
       "      <td>167931083.0</td>\n",
       "      <td>ar</td>\n",
       "      <td>6201279.0</td>\n",
       "      <td>0.0</td>\n",
       "      <td>匆匆那年(Live)</td>\n",
       "      <td>杨宗纬</td>\n",
       "      <td>8.0</td>\n",
       "      <td>192.0</td>\n",
       "      <td>0.0</td>\n",
       "      <td>0.041667</td>\n",
       "    </tr>\n",
       "    <tr>\n",
       "      <th>1860633</th>\n",
       "      <td>167886282.0</td>\n",
       "      <td>ip</td>\n",
       "      <td>216945.0</td>\n",
       "      <td>0.0</td>\n",
       "      <td>Careless Whisper</td>\n",
       "      <td>George Michael</td>\n",
       "      <td>45.0</td>\n",
       "      <td>300.0</td>\n",
       "      <td>0.0</td>\n",
       "      <td>0.150000</td>\n",
       "    </tr>\n",
       "    <tr>\n",
       "      <th>1860634</th>\n",
       "      <td>167856068.0</td>\n",
       "      <td>ar</td>\n",
       "      <td>0.0</td>\n",
       "      <td>1.0</td>\n",
       "      <td>庄心妍 - 放过自己</td>\n",
       "      <td>未知歌手</td>\n",
       "      <td>248.0</td>\n",
       "      <td>249.0</td>\n",
       "      <td>0.0</td>\n",
       "      <td>0.995984</td>\n",
       "    </tr>\n",
       "    <tr>\n",
       "      <th>1860635</th>\n",
       "      <td>167758498.0</td>\n",
       "      <td>ar</td>\n",
       "      <td>105269.0</td>\n",
       "      <td>0.0</td>\n",
       "      <td>一言难尽</td>\n",
       "      <td>张宇</td>\n",
       "      <td>0.0</td>\n",
       "      <td>251.0</td>\n",
       "      <td>0.0</td>\n",
       "      <td>0.000000</td>\n",
       "    </tr>\n",
       "    <tr>\n",
       "      <th>1860636</th>\n",
       "      <td>167952415.0</td>\n",
       "      <td>ar</td>\n",
       "      <td>9952802.0</td>\n",
       "      <td>0.0</td>\n",
       "      <td>Apple Tree</td>\n",
       "      <td>儿童歌曲</td>\n",
       "      <td>73.0</td>\n",
       "      <td>73.0</td>\n",
       "      <td>0.0</td>\n",
       "      <td>1.000000</td>\n",
       "    </tr>\n",
       "    <tr>\n",
       "      <th>1860637</th>\n",
       "      <td>167999850.0</td>\n",
       "      <td>ip</td>\n",
       "      <td>4539774.0</td>\n",
       "      <td>0.0</td>\n",
       "      <td>慢三舞曲 几度夕阳红</td>\n",
       "      <td>网络歌手</td>\n",
       "      <td>306.0</td>\n",
       "      <td>307.0</td>\n",
       "      <td>0.0</td>\n",
       "      <td>0.996743</td>\n",
       "    </tr>\n",
       "    <tr>\n",
       "      <th>1860638</th>\n",
       "      <td>1685126.0</td>\n",
       "      <td>ar</td>\n",
       "      <td>23485855.0</td>\n",
       "      <td>0.0</td>\n",
       "      <td>生来倔强</td>\n",
       "      <td>南征北战</td>\n",
       "      <td>128.0</td>\n",
       "      <td>219.0</td>\n",
       "      <td>0.0</td>\n",
       "      <td>0.584475</td>\n",
       "    </tr>\n",
       "    <tr>\n",
       "      <th>1860639</th>\n",
       "      <td>167649809.0</td>\n",
       "      <td>ar</td>\n",
       "      <td>6993092.0</td>\n",
       "      <td>0.0</td>\n",
       "      <td>二十四节气歌</td>\n",
       "      <td>贝瓦儿歌</td>\n",
       "      <td>110.0</td>\n",
       "      <td>125.0</td>\n",
       "      <td>0.0</td>\n",
       "      <td>0.880000</td>\n",
       "    </tr>\n",
       "    <tr>\n",
       "      <th>1860641</th>\n",
       "      <td>167690656.0</td>\n",
       "      <td>ar</td>\n",
       "      <td>1247574.0</td>\n",
       "      <td>0.0</td>\n",
       "      <td>无语</td>\n",
       "      <td>本兮</td>\n",
       "      <td>0.0</td>\n",
       "      <td>218.0</td>\n",
       "      <td>0.0</td>\n",
       "      <td>0.000000</td>\n",
       "    </tr>\n",
       "    <tr>\n",
       "      <th>1860643</th>\n",
       "      <td>167797681.0</td>\n",
       "      <td>ip</td>\n",
       "      <td>6351577.0</td>\n",
       "      <td>0.0</td>\n",
       "      <td>爱</td>\n",
       "      <td>A-Lin</td>\n",
       "      <td>2.0</td>\n",
       "      <td>253.0</td>\n",
       "      <td>0.0</td>\n",
       "      <td>0.007905</td>\n",
       "    </tr>\n",
       "    <tr>\n",
       "      <th>1860644</th>\n",
       "      <td>168046490.0</td>\n",
       "      <td>ar</td>\n",
       "      <td>22806729.0</td>\n",
       "      <td>0.0</td>\n",
       "      <td>你不是我的月亮,我不是你的云</td>\n",
       "      <td>谢军</td>\n",
       "      <td>6.0</td>\n",
       "      <td>283.0</td>\n",
       "      <td>0.0</td>\n",
       "      <td>0.021201</td>\n",
       "    </tr>\n",
       "    <tr>\n",
       "      <th>1860645</th>\n",
       "      <td>168049959.0</td>\n",
       "      <td>ar</td>\n",
       "      <td>0.0</td>\n",
       "      <td>1.0</td>\n",
       "      <td>逆流成河</td>\n",
       "      <td>金南玲</td>\n",
       "      <td>58.0</td>\n",
       "      <td>125.0</td>\n",
       "      <td>0.0</td>\n",
       "      <td>0.464000</td>\n",
       "    </tr>\n",
       "    <tr>\n",
       "      <th>1860646</th>\n",
       "      <td>167925975.0</td>\n",
       "      <td>ar</td>\n",
       "      <td>6402552.0</td>\n",
       "      <td>0.0</td>\n",
       "      <td>南无地藏王菩萨(国语版)</td>\n",
       "      <td>佛教音乐</td>\n",
       "      <td>42.0</td>\n",
       "      <td>42.0</td>\n",
       "      <td>0.0</td>\n",
       "      <td>1.000000</td>\n",
       "    </tr>\n",
       "    <tr>\n",
       "      <th>1860647</th>\n",
       "      <td>168043780.0</td>\n",
       "      <td>ar</td>\n",
       "      <td>3380490.0</td>\n",
       "      <td>0.0</td>\n",
       "      <td>天都黑了</td>\n",
       "      <td>本兮</td>\n",
       "      <td>14.0</td>\n",
       "      <td>227.0</td>\n",
       "      <td>0.0</td>\n",
       "      <td>0.061674</td>\n",
       "    </tr>\n",
       "    <tr>\n",
       "      <th>1860648</th>\n",
       "      <td>168045235.0</td>\n",
       "      <td>ar</td>\n",
       "      <td>22875944.0</td>\n",
       "      <td>0.0</td>\n",
       "      <td>小永远(完整版) - 周二珂</td>\n",
       "      <td>二珂呀呀呀</td>\n",
       "      <td>217.0</td>\n",
       "      <td>239.0</td>\n",
       "      <td>0.0</td>\n",
       "      <td>0.907950</td>\n",
       "    </tr>\n",
       "    <tr>\n",
       "      <th>1860649</th>\n",
       "      <td>168040755.0</td>\n",
       "      <td>ar</td>\n",
       "      <td>4616474.0</td>\n",
       "      <td>0.0</td>\n",
       "      <td>特殊短信铃音</td>\n",
       "      <td>手机铃声</td>\n",
       "      <td>2.0</td>\n",
       "      <td>3.0</td>\n",
       "      <td>0.0</td>\n",
       "      <td>0.666667</td>\n",
       "    </tr>\n",
       "    <tr>\n",
       "      <th>1860650</th>\n",
       "      <td>168052862.0</td>\n",
       "      <td>ar</td>\n",
       "      <td>0.0</td>\n",
       "      <td>1.0</td>\n",
       "      <td>鹿晗、陈嘉桦、大张伟、张丹峰、潘玮柏、刘敏涛 - 重返十七岁</td>\n",
       "      <td>未知歌手</td>\n",
       "      <td>49.0</td>\n",
       "      <td>245.0</td>\n",
       "      <td>0.0</td>\n",
       "      <td>0.200000</td>\n",
       "    </tr>\n",
       "    <tr>\n",
       "      <th>1860651</th>\n",
       "      <td>167925975.0</td>\n",
       "      <td>ar</td>\n",
       "      <td>6402552.0</td>\n",
       "      <td>0.0</td>\n",
       "      <td>南无地藏王菩萨(国语版)</td>\n",
       "      <td>佛教音乐</td>\n",
       "      <td>42.0</td>\n",
       "      <td>42.0</td>\n",
       "      <td>0.0</td>\n",
       "      <td>1.000000</td>\n",
       "    </tr>\n",
       "    <tr>\n",
       "      <th>1860652</th>\n",
       "      <td>167690656.0</td>\n",
       "      <td>ar</td>\n",
       "      <td>15193275.0</td>\n",
       "      <td>0.0</td>\n",
       "      <td>我梦见我梦见我</td>\n",
       "      <td>本兮</td>\n",
       "      <td>0.0</td>\n",
       "      <td>279.0</td>\n",
       "      <td>0.0</td>\n",
       "      <td>0.000000</td>\n",
       "    </tr>\n",
       "    <tr>\n",
       "      <th>1860655</th>\n",
       "      <td>167825961.0</td>\n",
       "      <td>ar</td>\n",
       "      <td>708518.0</td>\n",
       "      <td>0.0</td>\n",
       "      <td>汽车HiFi御用慢摇</td>\n",
       "      <td>DJ舞曲</td>\n",
       "      <td>450.0</td>\n",
       "      <td>450.0</td>\n",
       "      <td>0.0</td>\n",
       "      <td>1.000000</td>\n",
       "    </tr>\n",
       "    <tr>\n",
       "      <th>1860656</th>\n",
       "      <td>167993044.0</td>\n",
       "      <td>ip</td>\n",
       "      <td>2216463.0</td>\n",
       "      <td>0.0</td>\n",
       "      <td>被伤过的心还可以爱谁</td>\n",
       "      <td>孙露</td>\n",
       "      <td>207.0</td>\n",
       "      <td>300.0</td>\n",
       "      <td>0.0</td>\n",
       "      <td>0.690000</td>\n",
       "    </tr>\n",
       "    <tr>\n",
       "      <th>1860658</th>\n",
       "      <td>167574086.0</td>\n",
       "      <td>ar</td>\n",
       "      <td>7185650.0</td>\n",
       "      <td>0.0</td>\n",
       "      <td>棉花糖</td>\n",
       "      <td>至上励合</td>\n",
       "      <td>3.0</td>\n",
       "      <td>231.0</td>\n",
       "      <td>0.0</td>\n",
       "      <td>0.012987</td>\n",
       "    </tr>\n",
       "    <tr>\n",
       "      <th>1860659</th>\n",
       "      <td>1685126.0</td>\n",
       "      <td>ar</td>\n",
       "      <td>16854414.0</td>\n",
       "      <td>0.0</td>\n",
       "      <td>不必在乎我是谁</td>\n",
       "      <td>林忆莲</td>\n",
       "      <td>279.0</td>\n",
       "      <td>302.0</td>\n",
       "      <td>0.0</td>\n",
       "      <td>0.923841</td>\n",
       "    </tr>\n",
       "    <tr>\n",
       "      <th>1860660</th>\n",
       "      <td>167960151.0</td>\n",
       "      <td>ip</td>\n",
       "      <td>21763806.0</td>\n",
       "      <td>0.0</td>\n",
       "      <td>饿狼传说 (Live)</td>\n",
       "      <td>张靓颖</td>\n",
       "      <td>279.0</td>\n",
       "      <td>279.0</td>\n",
       "      <td>0.0</td>\n",
       "      <td>1.000000</td>\n",
       "    </tr>\n",
       "    <tr>\n",
       "      <th>1860661</th>\n",
       "      <td>167589862.0</td>\n",
       "      <td>ar</td>\n",
       "      <td>22056051.0</td>\n",
       "      <td>0.0</td>\n",
       "      <td>刚刚好-(网剧《我与你的光年距离》片尾曲)</td>\n",
       "      <td>薛之谦</td>\n",
       "      <td>7.0</td>\n",
       "      <td>250.0</td>\n",
       "      <td>0.0</td>\n",
       "      <td>0.028000</td>\n",
       "    </tr>\n",
       "    <tr>\n",
       "      <th>1860662</th>\n",
       "      <td>167979086.0</td>\n",
       "      <td>ar</td>\n",
       "      <td>1244660.0</td>\n",
       "      <td>0.0</td>\n",
       "      <td>有点甜-(电视剧《借用一下你的爱》插曲)</td>\n",
       "      <td>汪苏泷&amp;By2</td>\n",
       "      <td>21.0</td>\n",
       "      <td>235.0</td>\n",
       "      <td>0.0</td>\n",
       "      <td>0.089362</td>\n",
       "    </tr>\n",
       "    <tr>\n",
       "      <th>1860663</th>\n",
       "      <td>167969089.0</td>\n",
       "      <td>ar</td>\n",
       "      <td>727161.0</td>\n",
       "      <td>0.0</td>\n",
       "      <td>A.I.N.Y. (爱你)</td>\n",
       "      <td>G.E.M.邓紫棋</td>\n",
       "      <td>0.0</td>\n",
       "      <td>224.0</td>\n",
       "      <td>0.0</td>\n",
       "      <td>0.000000</td>\n",
       "    </tr>\n",
       "  </tbody>\n",
       "</table>\n",
       "<p>1557499 rows × 10 columns</p>\n",
       "</div>"
      ],
      "text/plain": [
       "                 uid device     song_id  song_type  \\\n",
       "1        168029752.0     ar   1026364.0        0.0   \n",
       "3        168029752.0     ar    234903.0        0.0   \n",
       "4        167965547.0     ar   6606144.0        0.0   \n",
       "6        168029752.0     ar   1026363.0        0.0   \n",
       "8        168029752.0     ar    234901.0        0.0   \n",
       "9        167923831.0     ip  13750591.0        0.0   \n",
       "12       168029752.0     ar   1026359.0        0.0   \n",
       "13       167807475.0     ar    348243.0        0.0   \n",
       "14       167900247.0     ar  13667778.0        0.0   \n",
       "15       167958001.0     ar   6266032.0        0.0   \n",
       "16       168029752.0     ar   1026358.0        0.0   \n",
       "17       168029752.0     ar   1026368.0        0.0   \n",
       "18       168047889.0     ip    708741.0        0.0   \n",
       "19       167704566.0     ar   9902748.0        0.0   \n",
       "20       167630166.0     ar    795430.0        0.0   \n",
       "22       167851700.0     ar   6651913.0        0.0   \n",
       "23       167779635.0     ip     77851.0        0.0   \n",
       "24       168029752.0     ar    234896.0        0.0   \n",
       "27       167890362.0     ar   6180670.0        0.0   \n",
       "28       168029752.0     ar    324334.0        0.0   \n",
       "29       168029752.0     ar    234906.0        0.0   \n",
       "30       168029752.0     ar  21770905.0        0.0   \n",
       "31       167850949.0     ar   6692062.0        0.0   \n",
       "32       168029752.0     ar  14831130.0        0.0   \n",
       "33       167947155.0     ar  14708826.0        0.0   \n",
       "34       168029752.0     ar    437853.0        0.0   \n",
       "35       168029752.0     ar    215921.0        0.0   \n",
       "38       168029752.0     ar   1026367.0        0.0   \n",
       "39       168004558.0     ar  14008117.0        0.0   \n",
       "40       167970575.0     ar    854337.0        0.0   \n",
       "...              ...    ...         ...        ...   \n",
       "1860627  167832224.0     ip  17081441.0        0.0   \n",
       "1860629  167930051.0     ar    107464.0        0.0   \n",
       "1860631  167999511.0     ip   5272489.0        0.0   \n",
       "1860632  167931083.0     ar   6201279.0        0.0   \n",
       "1860633  167886282.0     ip    216945.0        0.0   \n",
       "1860634  167856068.0     ar         0.0        1.0   \n",
       "1860635  167758498.0     ar    105269.0        0.0   \n",
       "1860636  167952415.0     ar   9952802.0        0.0   \n",
       "1860637  167999850.0     ip   4539774.0        0.0   \n",
       "1860638    1685126.0     ar  23485855.0        0.0   \n",
       "1860639  167649809.0     ar   6993092.0        0.0   \n",
       "1860641  167690656.0     ar   1247574.0        0.0   \n",
       "1860643  167797681.0     ip   6351577.0        0.0   \n",
       "1860644  168046490.0     ar  22806729.0        0.0   \n",
       "1860645  168049959.0     ar         0.0        1.0   \n",
       "1860646  167925975.0     ar   6402552.0        0.0   \n",
       "1860647  168043780.0     ar   3380490.0        0.0   \n",
       "1860648  168045235.0     ar  22875944.0        0.0   \n",
       "1860649  168040755.0     ar   4616474.0        0.0   \n",
       "1860650  168052862.0     ar         0.0        1.0   \n",
       "1860651  167925975.0     ar   6402552.0        0.0   \n",
       "1860652  167690656.0     ar  15193275.0        0.0   \n",
       "1860655  167825961.0     ar    708518.0        0.0   \n",
       "1860656  167993044.0     ip   2216463.0        0.0   \n",
       "1860658  167574086.0     ar   7185650.0        0.0   \n",
       "1860659    1685126.0     ar  16854414.0        0.0   \n",
       "1860660  167960151.0     ip  21763806.0        0.0   \n",
       "1860661  167589862.0     ar  22056051.0        0.0   \n",
       "1860662  167979086.0     ar   1244660.0        0.0   \n",
       "1860663  167969089.0     ar    727161.0        0.0   \n",
       "\n",
       "                                               song_name          singer  \\\n",
       "1                                                   你在天边            容中尔甲   \n",
       "3                                                梦中的达娃卓玛            容中尔甲   \n",
       "4                                                     心锁          杨小曼&冷漠   \n",
       "6                                                 喜马拉雅恋曲            容中尔甲   \n",
       "8                                                   九寨之子            容中尔甲   \n",
       "9                                              悟空 - Live              戴荃   \n",
       "12                                                 珠穆朗玛峰            容中尔甲   \n",
       "13       Cursed Destiny(C7 Meets Technorocker Radio Mix)           mabra   \n",
       "14                                       Pina Colada Boy      Baby Alice   \n",
       "15                                                  赤裸离开              孙露   \n",
       "16                                                雅鲁藏布情歌            容中尔甲   \n",
       "17                                                 神奇的九寨            容中尔甲   \n",
       "18                                     守候在凌晨两点的伤心酒吧(DJ版)              刀郎   \n",
       "19                                                   来不及             小来哥   \n",
       "20                                                   别再说              小露   \n",
       "22                                               再见只是陌生人             庄心妍   \n",
       "23                                             一场游戏一场梦II              王杰   \n",
       "24                                                   高原红            容中尔甲   \n",
       "27                                                连借口都没有             孙子涵   \n",
       "28                                                 雄鹰在飞翔            容中尔甲   \n",
       "29                                                永远的雪莲花            容中尔甲   \n",
       "30                                           回家的路 (Live)             刘德华   \n",
       "31                                               乱世烽火出英雄            MC王佳   \n",
       "32                                                  恭喜发财         刘德华&卓依婷   \n",
       "33                                                  如果不是             杨炅翰   \n",
       "34                                           练习(国)(Live)             刘德华   \n",
       "35                                                    醉拳              成龙   \n",
       "38                                                 雄鹰在飞翔            容中尔甲   \n",
       "39                                              奥力给(环绕版)             吴司令   \n",
       "40                                     网络歌曲铃声精选3(21秒铃声版)              铃声   \n",
       "...                                                  ...             ...   \n",
       "1860627                                               凉凉         张碧晨&杨宗纬   \n",
       "1860629                                            鳄鱼的眼泪             林志炫   \n",
       "1860631                                            Sugar        Maroon 5   \n",
       "1860632                                       匆匆那年(Live)             杨宗纬   \n",
       "1860633                                 Careless Whisper  George Michael   \n",
       "1860634                                       庄心妍 - 放过自己            未知歌手   \n",
       "1860635                                             一言难尽              张宇   \n",
       "1860636                                       Apple Tree            儿童歌曲   \n",
       "1860637                                       慢三舞曲 几度夕阳红            网络歌手   \n",
       "1860638                                             生来倔强            南征北战   \n",
       "1860639                                           二十四节气歌            贝瓦儿歌   \n",
       "1860641                                               无语              本兮   \n",
       "1860643                                                爱           A-Lin   \n",
       "1860644                                   你不是我的月亮,我不是你的云              谢军   \n",
       "1860645                                             逆流成河             金南玲   \n",
       "1860646                                     南无地藏王菩萨(国语版)            佛教音乐   \n",
       "1860647                                             天都黑了              本兮   \n",
       "1860648                                   小永远(完整版) - 周二珂           二珂呀呀呀   \n",
       "1860649                                           特殊短信铃音            手机铃声   \n",
       "1860650                   鹿晗、陈嘉桦、大张伟、张丹峰、潘玮柏、刘敏涛 - 重返十七岁            未知歌手   \n",
       "1860651                                     南无地藏王菩萨(国语版)            佛教音乐   \n",
       "1860652                                          我梦见我梦见我              本兮   \n",
       "1860655                                       汽车HiFi御用慢摇            DJ舞曲   \n",
       "1860656                                       被伤过的心还可以爱谁              孙露   \n",
       "1860658                                              棉花糖            至上励合   \n",
       "1860659                                          不必在乎我是谁             林忆莲   \n",
       "1860660                                      饿狼传说 (Live)             张靓颖   \n",
       "1860661                            刚刚好-(网剧《我与你的光年距离》片尾曲)             薛之谦   \n",
       "1860662                             有点甜-(电视剧《借用一下你的爱》插曲)         汪苏泷&By2   \n",
       "1860663                                    A.I.N.Y. (爱你)       G.E.M.邓紫棋   \n",
       "\n",
       "         play_time  song_length  paid_flag  play_percent  \n",
       "1              0.0        277.0        0.0      0.000000  \n",
       "3              0.0        315.0        0.0      0.000000  \n",
       "4            256.0        256.0        0.0      1.000000  \n",
       "6              0.0        266.0        0.0      0.000000  \n",
       "8            245.0        245.0        0.0      1.000000  \n",
       "9            197.0        197.0        0.0      1.000000  \n",
       "12             0.0        244.0        0.0      0.000000  \n",
       "13            24.0        190.0        0.0      0.126316  \n",
       "14            55.0        184.0        0.0      0.298913  \n",
       "15             0.0        242.0        0.0      0.000000  \n",
       "16             0.0        282.0        0.0      0.000000  \n",
       "17             0.0        259.0        0.0      0.000000  \n",
       "18           315.0        320.0        0.0      0.984375  \n",
       "19            38.0        187.0        0.0      0.203209  \n",
       "20           179.0        302.0        0.0      0.592715  \n",
       "22           247.0        251.0        0.0      0.984064  \n",
       "23             6.0        137.0        0.0      0.043796  \n",
       "24             0.0        278.0        0.0      0.000000  \n",
       "27           256.0        258.0        0.0      0.992248  \n",
       "28             0.0        325.0        0.0      0.000000  \n",
       "29             0.0        248.0        0.0      0.000000  \n",
       "30             0.0        249.0        0.0      0.000000  \n",
       "31           146.0        146.0        0.0      1.000000  \n",
       "32             0.0        290.0        0.0      0.000000  \n",
       "33           176.0        177.0        0.0      0.994350  \n",
       "34             0.0        341.0        0.0      0.000000  \n",
       "35             0.0        182.0        0.0      0.000000  \n",
       "38             0.0        327.0        0.0      0.000000  \n",
       "39            13.0        156.0        0.0      0.083333  \n",
       "40             4.0         19.0        0.0      0.210526  \n",
       "...            ...          ...        ...           ...  \n",
       "1860627      333.0        334.0        0.0      0.997006  \n",
       "1860629       72.0        255.0        0.0      0.282353  \n",
       "1860631        1.0        235.0        0.0      0.004255  \n",
       "1860632        8.0        192.0        0.0      0.041667  \n",
       "1860633       45.0        300.0        0.0      0.150000  \n",
       "1860634      248.0        249.0        0.0      0.995984  \n",
       "1860635        0.0        251.0        0.0      0.000000  \n",
       "1860636       73.0         73.0        0.0      1.000000  \n",
       "1860637      306.0        307.0        0.0      0.996743  \n",
       "1860638      128.0        219.0        0.0      0.584475  \n",
       "1860639      110.0        125.0        0.0      0.880000  \n",
       "1860641        0.0        218.0        0.0      0.000000  \n",
       "1860643        2.0        253.0        0.0      0.007905  \n",
       "1860644        6.0        283.0        0.0      0.021201  \n",
       "1860645       58.0        125.0        0.0      0.464000  \n",
       "1860646       42.0         42.0        0.0      1.000000  \n",
       "1860647       14.0        227.0        0.0      0.061674  \n",
       "1860648      217.0        239.0        0.0      0.907950  \n",
       "1860649        2.0          3.0        0.0      0.666667  \n",
       "1860650       49.0        245.0        0.0      0.200000  \n",
       "1860651       42.0         42.0        0.0      1.000000  \n",
       "1860652        0.0        279.0        0.0      0.000000  \n",
       "1860655      450.0        450.0        0.0      1.000000  \n",
       "1860656      207.0        300.0        0.0      0.690000  \n",
       "1860658        3.0        231.0        0.0      0.012987  \n",
       "1860659      279.0        302.0        0.0      0.923841  \n",
       "1860660      279.0        279.0        0.0      1.000000  \n",
       "1860661        7.0        250.0        0.0      0.028000  \n",
       "1860662       21.0        235.0        0.0      0.089362  \n",
       "1860663        0.0        224.0        0.0      0.000000  \n",
       "\n",
       "[1557499 rows x 10 columns]"
      ]
     },
     "execution_count": 39,
     "metadata": {},
     "output_type": "execute_result"
    }
   ],
   "source": [
    "df_play_clean"
   ]
  },
  {
   "cell_type": "code",
   "execution_count": 40,
   "metadata": {
    "collapsed": false
   },
   "outputs": [
    {
     "data": {
      "text/html": [
       "<div style=\"max-height:1000px;max-width:1500px;overflow:auto;\"><table frame=\"box\" rules=\"cols\">\n",
       "    <tr>\n",
       "        <th style=\"padding-left: 1em; padding-right: 1em; text-align: center\">uid</th>\n",
       "        <th style=\"padding-left: 1em; padding-right: 1em; text-align: center\">device</th>\n",
       "        <th style=\"padding-left: 1em; padding-right: 1em; text-align: center\">song_id</th>\n",
       "        <th style=\"padding-left: 1em; padding-right: 1em; text-align: center\">song_type</th>\n",
       "        <th style=\"padding-left: 1em; padding-right: 1em; text-align: center\">song_name</th>\n",
       "        <th style=\"padding-left: 1em; padding-right: 1em; text-align: center\">singer</th>\n",
       "        <th style=\"padding-left: 1em; padding-right: 1em; text-align: center\">play_time</th>\n",
       "        <th style=\"padding-left: 1em; padding-right: 1em; text-align: center\">song_length</th>\n",
       "    </tr>\n",
       "    <tr>\n",
       "        <td style=\"padding-left: 1em; padding-right: 1em; text-align: center; vertical-align: top\">168029752.0</td>\n",
       "        <td style=\"padding-left: 1em; padding-right: 1em; text-align: center; vertical-align: top\">ar</td>\n",
       "        <td style=\"padding-left: 1em; padding-right: 1em; text-align: center; vertical-align: top\">1026364.0</td>\n",
       "        <td style=\"padding-left: 1em; padding-right: 1em; text-align: center; vertical-align: top\">0.0</td>\n",
       "        <td style=\"padding-left: 1em; padding-right: 1em; text-align: center; vertical-align: top\">你在天边</td>\n",
       "        <td style=\"padding-left: 1em; padding-right: 1em; text-align: center; vertical-align: top\">容中尔甲</td>\n",
       "        <td style=\"padding-left: 1em; padding-right: 1em; text-align: center; vertical-align: top\">0.0</td>\n",
       "        <td style=\"padding-left: 1em; padding-right: 1em; text-align: center; vertical-align: top\">277.0</td>\n",
       "    </tr>\n",
       "    <tr>\n",
       "        <td style=\"padding-left: 1em; padding-right: 1em; text-align: center; vertical-align: top\">168029752.0</td>\n",
       "        <td style=\"padding-left: 1em; padding-right: 1em; text-align: center; vertical-align: top\">ar</td>\n",
       "        <td style=\"padding-left: 1em; padding-right: 1em; text-align: center; vertical-align: top\">234903.0</td>\n",
       "        <td style=\"padding-left: 1em; padding-right: 1em; text-align: center; vertical-align: top\">0.0</td>\n",
       "        <td style=\"padding-left: 1em; padding-right: 1em; text-align: center; vertical-align: top\">梦中的达娃卓玛</td>\n",
       "        <td style=\"padding-left: 1em; padding-right: 1em; text-align: center; vertical-align: top\">容中尔甲</td>\n",
       "        <td style=\"padding-left: 1em; padding-right: 1em; text-align: center; vertical-align: top\">0.0</td>\n",
       "        <td style=\"padding-left: 1em; padding-right: 1em; text-align: center; vertical-align: top\">315.0</td>\n",
       "    </tr>\n",
       "    <tr>\n",
       "        <td style=\"padding-left: 1em; padding-right: 1em; text-align: center; vertical-align: top\">167965547.0</td>\n",
       "        <td style=\"padding-left: 1em; padding-right: 1em; text-align: center; vertical-align: top\">ar</td>\n",
       "        <td style=\"padding-left: 1em; padding-right: 1em; text-align: center; vertical-align: top\">6606144.0</td>\n",
       "        <td style=\"padding-left: 1em; padding-right: 1em; text-align: center; vertical-align: top\">0.0</td>\n",
       "        <td style=\"padding-left: 1em; padding-right: 1em; text-align: center; vertical-align: top\">心锁</td>\n",
       "        <td style=\"padding-left: 1em; padding-right: 1em; text-align: center; vertical-align: top\">杨小曼&amp;冷漠</td>\n",
       "        <td style=\"padding-left: 1em; padding-right: 1em; text-align: center; vertical-align: top\">256.0</td>\n",
       "        <td style=\"padding-left: 1em; padding-right: 1em; text-align: center; vertical-align: top\">256.0</td>\n",
       "    </tr>\n",
       "    <tr>\n",
       "        <td style=\"padding-left: 1em; padding-right: 1em; text-align: center; vertical-align: top\">168029752.0</td>\n",
       "        <td style=\"padding-left: 1em; padding-right: 1em; text-align: center; vertical-align: top\">ar</td>\n",
       "        <td style=\"padding-left: 1em; padding-right: 1em; text-align: center; vertical-align: top\">1026363.0</td>\n",
       "        <td style=\"padding-left: 1em; padding-right: 1em; text-align: center; vertical-align: top\">0.0</td>\n",
       "        <td style=\"padding-left: 1em; padding-right: 1em; text-align: center; vertical-align: top\">喜马拉雅恋曲</td>\n",
       "        <td style=\"padding-left: 1em; padding-right: 1em; text-align: center; vertical-align: top\">容中尔甲</td>\n",
       "        <td style=\"padding-left: 1em; padding-right: 1em; text-align: center; vertical-align: top\">0.0</td>\n",
       "        <td style=\"padding-left: 1em; padding-right: 1em; text-align: center; vertical-align: top\">266.0</td>\n",
       "    </tr>\n",
       "    <tr>\n",
       "        <td style=\"padding-left: 1em; padding-right: 1em; text-align: center; vertical-align: top\">168029752.0</td>\n",
       "        <td style=\"padding-left: 1em; padding-right: 1em; text-align: center; vertical-align: top\">ar</td>\n",
       "        <td style=\"padding-left: 1em; padding-right: 1em; text-align: center; vertical-align: top\">234901.0</td>\n",
       "        <td style=\"padding-left: 1em; padding-right: 1em; text-align: center; vertical-align: top\">0.0</td>\n",
       "        <td style=\"padding-left: 1em; padding-right: 1em; text-align: center; vertical-align: top\">九寨之子</td>\n",
       "        <td style=\"padding-left: 1em; padding-right: 1em; text-align: center; vertical-align: top\">容中尔甲</td>\n",
       "        <td style=\"padding-left: 1em; padding-right: 1em; text-align: center; vertical-align: top\">245.0</td>\n",
       "        <td style=\"padding-left: 1em; padding-right: 1em; text-align: center; vertical-align: top\">245.0</td>\n",
       "    </tr>\n",
       "    <tr>\n",
       "        <td style=\"padding-left: 1em; padding-right: 1em; text-align: center; vertical-align: top\">167923831.0</td>\n",
       "        <td style=\"padding-left: 1em; padding-right: 1em; text-align: center; vertical-align: top\">ip</td>\n",
       "        <td style=\"padding-left: 1em; padding-right: 1em; text-align: center; vertical-align: top\">13750591.0</td>\n",
       "        <td style=\"padding-left: 1em; padding-right: 1em; text-align: center; vertical-align: top\">0.0</td>\n",
       "        <td style=\"padding-left: 1em; padding-right: 1em; text-align: center; vertical-align: top\">悟空 - Live</td>\n",
       "        <td style=\"padding-left: 1em; padding-right: 1em; text-align: center; vertical-align: top\">戴荃</td>\n",
       "        <td style=\"padding-left: 1em; padding-right: 1em; text-align: center; vertical-align: top\">197.0</td>\n",
       "        <td style=\"padding-left: 1em; padding-right: 1em; text-align: center; vertical-align: top\">197.0</td>\n",
       "    </tr>\n",
       "    <tr>\n",
       "        <td style=\"padding-left: 1em; padding-right: 1em; text-align: center; vertical-align: top\">168029752.0</td>\n",
       "        <td style=\"padding-left: 1em; padding-right: 1em; text-align: center; vertical-align: top\">ar</td>\n",
       "        <td style=\"padding-left: 1em; padding-right: 1em; text-align: center; vertical-align: top\">1026359.0</td>\n",
       "        <td style=\"padding-left: 1em; padding-right: 1em; text-align: center; vertical-align: top\">0.0</td>\n",
       "        <td style=\"padding-left: 1em; padding-right: 1em; text-align: center; vertical-align: top\">珠穆朗玛峰</td>\n",
       "        <td style=\"padding-left: 1em; padding-right: 1em; text-align: center; vertical-align: top\">容中尔甲</td>\n",
       "        <td style=\"padding-left: 1em; padding-right: 1em; text-align: center; vertical-align: top\">0.0</td>\n",
       "        <td style=\"padding-left: 1em; padding-right: 1em; text-align: center; vertical-align: top\">244.0</td>\n",
       "    </tr>\n",
       "    <tr>\n",
       "        <td style=\"padding-left: 1em; padding-right: 1em; text-align: center; vertical-align: top\">167807475.0</td>\n",
       "        <td style=\"padding-left: 1em; padding-right: 1em; text-align: center; vertical-align: top\">ar</td>\n",
       "        <td style=\"padding-left: 1em; padding-right: 1em; text-align: center; vertical-align: top\">348243.0</td>\n",
       "        <td style=\"padding-left: 1em; padding-right: 1em; text-align: center; vertical-align: top\">0.0</td>\n",
       "        <td style=\"padding-left: 1em; padding-right: 1em; text-align: center; vertical-align: top\">Cursed Destiny(C7 Meets<br>Technorocker Radio Mix) ...</td>\n",
       "        <td style=\"padding-left: 1em; padding-right: 1em; text-align: center; vertical-align: top\">mabra</td>\n",
       "        <td style=\"padding-left: 1em; padding-right: 1em; text-align: center; vertical-align: top\">24.0</td>\n",
       "        <td style=\"padding-left: 1em; padding-right: 1em; text-align: center; vertical-align: top\">190.0</td>\n",
       "    </tr>\n",
       "    <tr>\n",
       "        <td style=\"padding-left: 1em; padding-right: 1em; text-align: center; vertical-align: top\">167900247.0</td>\n",
       "        <td style=\"padding-left: 1em; padding-right: 1em; text-align: center; vertical-align: top\">ar</td>\n",
       "        <td style=\"padding-left: 1em; padding-right: 1em; text-align: center; vertical-align: top\">13667778.0</td>\n",
       "        <td style=\"padding-left: 1em; padding-right: 1em; text-align: center; vertical-align: top\">0.0</td>\n",
       "        <td style=\"padding-left: 1em; padding-right: 1em; text-align: center; vertical-align: top\">Pina Colada Boy</td>\n",
       "        <td style=\"padding-left: 1em; padding-right: 1em; text-align: center; vertical-align: top\">Baby Alice</td>\n",
       "        <td style=\"padding-left: 1em; padding-right: 1em; text-align: center; vertical-align: top\">55.0</td>\n",
       "        <td style=\"padding-left: 1em; padding-right: 1em; text-align: center; vertical-align: top\">184.0</td>\n",
       "    </tr>\n",
       "    <tr>\n",
       "        <td style=\"padding-left: 1em; padding-right: 1em; text-align: center; vertical-align: top\">167958001.0</td>\n",
       "        <td style=\"padding-left: 1em; padding-right: 1em; text-align: center; vertical-align: top\">ar</td>\n",
       "        <td style=\"padding-left: 1em; padding-right: 1em; text-align: center; vertical-align: top\">6266032.0</td>\n",
       "        <td style=\"padding-left: 1em; padding-right: 1em; text-align: center; vertical-align: top\">0.0</td>\n",
       "        <td style=\"padding-left: 1em; padding-right: 1em; text-align: center; vertical-align: top\">赤裸离开</td>\n",
       "        <td style=\"padding-left: 1em; padding-right: 1em; text-align: center; vertical-align: top\">孙露</td>\n",
       "        <td style=\"padding-left: 1em; padding-right: 1em; text-align: center; vertical-align: top\">0.0</td>\n",
       "        <td style=\"padding-left: 1em; padding-right: 1em; text-align: center; vertical-align: top\">242.0</td>\n",
       "    </tr>\n",
       "</table>\n",
       "<table frame=\"box\" rules=\"cols\">\n",
       "    <tr>\n",
       "        <th style=\"padding-left: 1em; padding-right: 1em; text-align: center\">paid_flag</th>\n",
       "        <th style=\"padding-left: 1em; padding-right: 1em; text-align: center\">play_percent</th>\n",
       "    </tr>\n",
       "    <tr>\n",
       "        <td style=\"padding-left: 1em; padding-right: 1em; text-align: center; vertical-align: top\">0.0</td>\n",
       "        <td style=\"padding-left: 1em; padding-right: 1em; text-align: center; vertical-align: top\">0.0</td>\n",
       "    </tr>\n",
       "    <tr>\n",
       "        <td style=\"padding-left: 1em; padding-right: 1em; text-align: center; vertical-align: top\">0.0</td>\n",
       "        <td style=\"padding-left: 1em; padding-right: 1em; text-align: center; vertical-align: top\">0.0</td>\n",
       "    </tr>\n",
       "    <tr>\n",
       "        <td style=\"padding-left: 1em; padding-right: 1em; text-align: center; vertical-align: top\">0.0</td>\n",
       "        <td style=\"padding-left: 1em; padding-right: 1em; text-align: center; vertical-align: top\">1.0</td>\n",
       "    </tr>\n",
       "    <tr>\n",
       "        <td style=\"padding-left: 1em; padding-right: 1em; text-align: center; vertical-align: top\">0.0</td>\n",
       "        <td style=\"padding-left: 1em; padding-right: 1em; text-align: center; vertical-align: top\">0.0</td>\n",
       "    </tr>\n",
       "    <tr>\n",
       "        <td style=\"padding-left: 1em; padding-right: 1em; text-align: center; vertical-align: top\">0.0</td>\n",
       "        <td style=\"padding-left: 1em; padding-right: 1em; text-align: center; vertical-align: top\">1.0</td>\n",
       "    </tr>\n",
       "    <tr>\n",
       "        <td style=\"padding-left: 1em; padding-right: 1em; text-align: center; vertical-align: top\">0.0</td>\n",
       "        <td style=\"padding-left: 1em; padding-right: 1em; text-align: center; vertical-align: top\">1.0</td>\n",
       "    </tr>\n",
       "    <tr>\n",
       "        <td style=\"padding-left: 1em; padding-right: 1em; text-align: center; vertical-align: top\">0.0</td>\n",
       "        <td style=\"padding-left: 1em; padding-right: 1em; text-align: center; vertical-align: top\">0.0</td>\n",
       "    </tr>\n",
       "    <tr>\n",
       "        <td style=\"padding-left: 1em; padding-right: 1em; text-align: center; vertical-align: top\">0.0</td>\n",
       "        <td style=\"padding-left: 1em; padding-right: 1em; text-align: center; vertical-align: top\">0.126315789474</td>\n",
       "    </tr>\n",
       "    <tr>\n",
       "        <td style=\"padding-left: 1em; padding-right: 1em; text-align: center; vertical-align: top\">0.0</td>\n",
       "        <td style=\"padding-left: 1em; padding-right: 1em; text-align: center; vertical-align: top\">0.298913043478</td>\n",
       "    </tr>\n",
       "    <tr>\n",
       "        <td style=\"padding-left: 1em; padding-right: 1em; text-align: center; vertical-align: top\">0.0</td>\n",
       "        <td style=\"padding-left: 1em; padding-right: 1em; text-align: center; vertical-align: top\">0.0</td>\n",
       "    </tr>\n",
       "</table>\n",
       "[10 rows x 10 columns]<br/>\n",
       "</div>"
      ],
      "text/plain": [
       "Columns:\n",
       "\tuid\tstr\n",
       "\tdevice\tstr\n",
       "\tsong_id\tstr\n",
       "\tsong_type\tfloat\n",
       "\tsong_name\tstr\n",
       "\tsinger\tstr\n",
       "\tplay_time\tfloat\n",
       "\tsong_length\tfloat\n",
       "\tpaid_flag\tfloat\n",
       "\tplay_percent\tfloat\n",
       "\n",
       "Rows: 10\n",
       "\n",
       "Data:\n",
       "+-------------+--------+------------+-----------+-------------------------------+\n",
       "|     uid     | device |  song_id   | song_type |           song_name           |\n",
       "+-------------+--------+------------+-----------+-------------------------------+\n",
       "| 168029752.0 |   ar   | 1026364.0  |    0.0    |            你在天边           |\n",
       "| 168029752.0 |   ar   |  234903.0  |    0.0    |         梦中的达娃卓玛        |\n",
       "| 167965547.0 |   ar   | 6606144.0  |    0.0    |              心锁             |\n",
       "| 168029752.0 |   ar   | 1026363.0  |    0.0    |          喜马拉雅恋曲         |\n",
       "| 168029752.0 |   ar   |  234901.0  |    0.0    |            九寨之子           |\n",
       "| 167923831.0 |   ip   | 13750591.0 |    0.0    |          悟空 - Live          |\n",
       "| 168029752.0 |   ar   | 1026359.0  |    0.0    |           珠穆朗玛峰          |\n",
       "| 167807475.0 |   ar   |  348243.0  |    0.0    | Cursed Destiny(C7 Meets Te... |\n",
       "| 167900247.0 |   ar   | 13667778.0 |    0.0    |        Pina Colada Boy        |\n",
       "| 167958001.0 |   ar   | 6266032.0  |    0.0    |            赤裸离开           |\n",
       "+-------------+--------+------------+-----------+-------------------------------+\n",
       "+-------------+-----------+-------------+-----------+----------------+\n",
       "|    singer   | play_time | song_length | paid_flag |  play_percent  |\n",
       "+-------------+-----------+-------------+-----------+----------------+\n",
       "|   容中尔甲  |    0.0    |    277.0    |    0.0    |      0.0       |\n",
       "|   容中尔甲  |    0.0    |    315.0    |    0.0    |      0.0       |\n",
       "| 杨小曼&冷漠 |   256.0   |    256.0    |    0.0    |      1.0       |\n",
       "|   容中尔甲  |    0.0    |    266.0    |    0.0    |      0.0       |\n",
       "|   容中尔甲  |   245.0   |    245.0    |    0.0    |      1.0       |\n",
       "|     戴荃    |   197.0   |    197.0    |    0.0    |      1.0       |\n",
       "|   容中尔甲  |    0.0    |    244.0    |    0.0    |      0.0       |\n",
       "|    mabra    |    24.0   |    190.0    |    0.0    | 0.126315789474 |\n",
       "|  Baby Alice |    55.0   |    184.0    |    0.0    | 0.298913043478 |\n",
       "|     孙露    |    0.0    |    242.0    |    0.0    |      0.0       |\n",
       "+-------------+-----------+-------------+-----------+----------------+\n",
       "[10 rows x 10 columns]"
      ]
     },
     "execution_count": 40,
     "metadata": {},
     "output_type": "execute_result"
    }
   ],
   "source": [
    "sf_play_for_rec_on_play_percent = graphlab.SFrame(df_play_clean)\n",
    "sf_play_for_rec_on_play_percent.head()"
   ]
  },
  {
   "cell_type": "code",
   "execution_count": 41,
   "metadata": {
    "collapsed": false
   },
   "outputs": [
    {
     "data": {
      "text/html": [
       "<pre>Recsys training: model = item_similarity</pre>"
      ],
      "text/plain": [
       "Recsys training: model = item_similarity"
      ]
     },
     "metadata": {},
     "output_type": "display_data"
    },
    {
     "data": {
      "text/html": [
       "<pre>Warning: Ignoring columns device, song_type, song_name, singer, play_time, song_length, paid_flag;</pre>"
      ],
      "text/plain": [
       "Warning: Ignoring columns device, song_type, song_name, singer, play_time, song_length, paid_flag;"
      ]
     },
     "metadata": {},
     "output_type": "display_data"
    },
    {
     "data": {
      "text/html": [
       "<pre>    To use these columns in scoring predictions, use a model that allows the use of additional features.</pre>"
      ],
      "text/plain": [
       "    To use these columns in scoring predictions, use a model that allows the use of additional features."
      ]
     },
     "metadata": {},
     "output_type": "display_data"
    },
    {
     "data": {
      "text/html": [
       "<pre>Preparing data set.</pre>"
      ],
      "text/plain": [
       "Preparing data set."
      ]
     },
     "metadata": {},
     "output_type": "display_data"
    },
    {
     "data": {
      "text/html": [
       "<pre>    Data has 1557499 observations with 60830 users and 205798 items.</pre>"
      ],
      "text/plain": [
       "    Data has 1557499 observations with 60830 users and 205798 items."
      ]
     },
     "metadata": {},
     "output_type": "display_data"
    },
    {
     "data": {
      "text/html": [
       "<pre>    Data prepared in: 4.54554s</pre>"
      ],
      "text/plain": [
       "    Data prepared in: 4.54554s"
      ]
     },
     "metadata": {},
     "output_type": "display_data"
    },
    {
     "data": {
      "text/html": [
       "<pre>Training model from provided data.</pre>"
      ],
      "text/plain": [
       "Training model from provided data."
      ]
     },
     "metadata": {},
     "output_type": "display_data"
    },
    {
     "data": {
      "text/html": [
       "<pre>Gathering per-item and per-user statistics.</pre>"
      ],
      "text/plain": [
       "Gathering per-item and per-user statistics."
      ]
     },
     "metadata": {},
     "output_type": "display_data"
    },
    {
     "data": {
      "text/html": [
       "<pre>+--------------------------------+------------+</pre>"
      ],
      "text/plain": [
       "+--------------------------------+------------+"
      ]
     },
     "metadata": {},
     "output_type": "display_data"
    },
    {
     "data": {
      "text/html": [
       "<pre>| Elapsed Time (Item Statistics) | % Complete |</pre>"
      ],
      "text/plain": [
       "| Elapsed Time (Item Statistics) | % Complete |"
      ]
     },
     "metadata": {},
     "output_type": "display_data"
    },
    {
     "data": {
      "text/html": [
       "<pre>+--------------------------------+------------+</pre>"
      ],
      "text/plain": [
       "+--------------------------------+------------+"
      ]
     },
     "metadata": {},
     "output_type": "display_data"
    },
    {
     "data": {
      "text/html": [
       "<pre>| 7.775ms                        | 3.25       |</pre>"
      ],
      "text/plain": [
       "| 7.775ms                        | 3.25       |"
      ]
     },
     "metadata": {},
     "output_type": "display_data"
    },
    {
     "data": {
      "text/html": [
       "<pre>| 140.19ms                       | 100        |</pre>"
      ],
      "text/plain": [
       "| 140.19ms                       | 100        |"
      ]
     },
     "metadata": {},
     "output_type": "display_data"
    },
    {
     "data": {
      "text/html": [
       "<pre>+--------------------------------+------------+</pre>"
      ],
      "text/plain": [
       "+--------------------------------+------------+"
      ]
     },
     "metadata": {},
     "output_type": "display_data"
    },
    {
     "data": {
      "text/html": [
       "<pre>Setting up lookup tables.</pre>"
      ],
      "text/plain": [
       "Setting up lookup tables."
      ]
     },
     "metadata": {},
     "output_type": "display_data"
    },
    {
     "data": {
      "text/html": [
       "<pre>Processing the 32 most common items by brute force search.</pre>"
      ],
      "text/plain": [
       "Processing the 32 most common items by brute force search."
      ]
     },
     "metadata": {},
     "output_type": "display_data"
    },
    {
     "data": {
      "text/html": [
       "<pre>Transposing user-item lists for use in nearest neighbor search.</pre>"
      ],
      "text/plain": [
       "Transposing user-item lists for use in nearest neighbor search."
      ]
     },
     "metadata": {},
     "output_type": "display_data"
    },
    {
     "data": {
      "text/html": [
       "<pre>+------------------------------------+------------+</pre>"
      ],
      "text/plain": [
       "+------------------------------------+------------+"
      ]
     },
     "metadata": {},
     "output_type": "display_data"
    },
    {
     "data": {
      "text/html": [
       "<pre>| Elapsed Time (Data Transposition)) | % Complete |</pre>"
      ],
      "text/plain": [
       "| Elapsed Time (Data Transposition)) | % Complete |"
      ]
     },
     "metadata": {},
     "output_type": "display_data"
    },
    {
     "data": {
      "text/html": [
       "<pre>+------------------------------------+------------+</pre>"
      ],
      "text/plain": [
       "+------------------------------------+------------+"
      ]
     },
     "metadata": {},
     "output_type": "display_data"
    },
    {
     "data": {
      "text/html": [
       "<pre>| 73.752ms                           | 0          |</pre>"
      ],
      "text/plain": [
       "| 73.752ms                           | 0          |"
      ]
     },
     "metadata": {},
     "output_type": "display_data"
    },
    {
     "data": {
      "text/html": [
       "<pre>| 994.939ms                          | 100        |</pre>"
      ],
      "text/plain": [
       "| 994.939ms                          | 100        |"
      ]
     },
     "metadata": {},
     "output_type": "display_data"
    },
    {
     "data": {
      "text/html": [
       "<pre>+------------------------------------+------------+</pre>"
      ],
      "text/plain": [
       "+------------------------------------+------------+"
      ]
     },
     "metadata": {},
     "output_type": "display_data"
    },
    {
     "data": {
      "text/html": [
       "<pre>+-------------------------------------+------------------+-----------------+</pre>"
      ],
      "text/plain": [
       "+-------------------------------------+------------------+-----------------+"
      ]
     },
     "metadata": {},
     "output_type": "display_data"
    },
    {
     "data": {
      "text/html": [
       "<pre>| Elapsed Time (Constructing Lookups) | Total % Complete | Items Processed |</pre>"
      ],
      "text/plain": [
       "| Elapsed Time (Constructing Lookups) | Total % Complete | Items Processed |"
      ]
     },
     "metadata": {},
     "output_type": "display_data"
    },
    {
     "data": {
      "text/html": [
       "<pre>+-------------------------------------+------------------+-----------------+</pre>"
      ],
      "text/plain": [
       "+-------------------------------------+------------------+-----------------+"
      ]
     },
     "metadata": {},
     "output_type": "display_data"
    },
    {
     "data": {
      "text/html": [
       "<pre>| 1.95s                               | 0                | 0               |</pre>"
      ],
      "text/plain": [
       "| 1.95s                               | 0                | 0               |"
      ]
     },
     "metadata": {},
     "output_type": "display_data"
    },
    {
     "data": {
      "text/html": [
       "<pre>| 2.95s                               | 0                | 28              |</pre>"
      ],
      "text/plain": [
       "| 2.95s                               | 0                | 28              |"
      ]
     },
     "metadata": {},
     "output_type": "display_data"
    },
    {
     "data": {
      "text/html": [
       "<pre>+-------------------------------------+------------------+-----------------+</pre>"
      ],
      "text/plain": [
       "+-------------------------------------+------------------+-----------------+"
      ]
     },
     "metadata": {},
     "output_type": "display_data"
    },
    {
     "data": {
      "text/html": [
       "<pre>Processing data in one pass using sparse lookup tables.</pre>"
      ],
      "text/plain": [
       "Processing data in one pass using sparse lookup tables."
      ]
     },
     "metadata": {},
     "output_type": "display_data"
    },
    {
     "data": {
      "text/html": [
       "<pre>+-------------------------------------+------------------+-----------------+</pre>"
      ],
      "text/plain": [
       "+-------------------------------------+------------------+-----------------+"
      ]
     },
     "metadata": {},
     "output_type": "display_data"
    },
    {
     "data": {
      "text/html": [
       "<pre>| Elapsed Time (Constructing Lookups) | Total % Complete | Items Processed |</pre>"
      ],
      "text/plain": [
       "| Elapsed Time (Constructing Lookups) | Total % Complete | Items Processed |"
      ]
     },
     "metadata": {},
     "output_type": "display_data"
    },
    {
     "data": {
      "text/html": [
       "<pre>+-------------------------------------+------------------+-----------------+</pre>"
      ],
      "text/plain": [
       "+-------------------------------------+------------------+-----------------+"
      ]
     },
     "metadata": {},
     "output_type": "display_data"
    },
    {
     "data": {
      "text/html": [
       "<pre>| 5.88s                               | 0                | 32              |</pre>"
      ],
      "text/plain": [
       "| 5.88s                               | 0                | 32              |"
      ]
     },
     "metadata": {},
     "output_type": "display_data"
    },
    {
     "data": {
      "text/html": [
       "<pre>| 6.89s                               | 20.75            | 42721           |</pre>"
      ],
      "text/plain": [
       "| 6.89s                               | 20.75            | 42721           |"
      ]
     },
     "metadata": {},
     "output_type": "display_data"
    },
    {
     "data": {
      "text/html": [
       "<pre>| 7.89s                               | 21.5             | 44544           |</pre>"
      ],
      "text/plain": [
       "| 7.89s                               | 21.5             | 44544           |"
      ]
     },
     "metadata": {},
     "output_type": "display_data"
    },
    {
     "data": {
      "text/html": [
       "<pre>| 8.89s                               | 23.25            | 48009           |</pre>"
      ],
      "text/plain": [
       "| 8.89s                               | 23.25            | 48009           |"
      ]
     },
     "metadata": {},
     "output_type": "display_data"
    },
    {
     "data": {
      "text/html": [
       "<pre>| 9.90s                               | 24.25            | 49994           |</pre>"
      ],
      "text/plain": [
       "| 9.90s                               | 24.25            | 49994           |"
      ]
     },
     "metadata": {},
     "output_type": "display_data"
    },
    {
     "data": {
      "text/html": [
       "<pre>| 10.89s                              | 27               | 55815           |</pre>"
      ],
      "text/plain": [
       "| 10.89s                              | 27               | 55815           |"
      ]
     },
     "metadata": {},
     "output_type": "display_data"
    },
    {
     "data": {
      "text/html": [
       "<pre>| 11.90s                              | 33               | 67992           |</pre>"
      ],
      "text/plain": [
       "| 11.90s                              | 33               | 67992           |"
      ]
     },
     "metadata": {},
     "output_type": "display_data"
    },
    {
     "data": {
      "text/html": [
       "<pre>| 12.89s                              | 33.75            | 69488           |</pre>"
      ],
      "text/plain": [
       "| 12.89s                              | 33.75            | 69488           |"
      ]
     },
     "metadata": {},
     "output_type": "display_data"
    },
    {
     "data": {
      "text/html": [
       "<pre>| 13.90s                              | 34.25            | 70888           |</pre>"
      ],
      "text/plain": [
       "| 13.90s                              | 34.25            | 70888           |"
      ]
     },
     "metadata": {},
     "output_type": "display_data"
    },
    {
     "data": {
      "text/html": [
       "<pre>| 14.89s                              | 36.25            | 74998           |</pre>"
      ],
      "text/plain": [
       "| 14.89s                              | 36.25            | 74998           |"
      ]
     },
     "metadata": {},
     "output_type": "display_data"
    },
    {
     "data": {
      "text/html": [
       "<pre>| 16.25s                              | 38.5             | 79544           |</pre>"
      ],
      "text/plain": [
       "| 16.25s                              | 38.5             | 79544           |"
      ]
     },
     "metadata": {},
     "output_type": "display_data"
    },
    {
     "data": {
      "text/html": [
       "<pre>| 18.26s                              | 55.5             | 114380          |</pre>"
      ],
      "text/plain": [
       "| 18.26s                              | 55.5             | 114380          |"
      ]
     },
     "metadata": {},
     "output_type": "display_data"
    },
    {
     "data": {
      "text/html": [
       "<pre>| 20.96s                              | 56.75            | 117160          |</pre>"
      ],
      "text/plain": [
       "| 20.96s                              | 56.75            | 117160          |"
      ]
     },
     "metadata": {},
     "output_type": "display_data"
    },
    {
     "data": {
      "text/html": [
       "<pre>| 23.11s                              | 57               | 117314          |</pre>"
      ],
      "text/plain": [
       "| 23.11s                              | 57               | 117314          |"
      ]
     },
     "metadata": {},
     "output_type": "display_data"
    },
    {
     "data": {
      "text/html": [
       "<pre>| 26.98s                              | 82               | 169113          |</pre>"
      ],
      "text/plain": [
       "| 26.98s                              | 82               | 169113          |"
      ]
     },
     "metadata": {},
     "output_type": "display_data"
    },
    {
     "data": {
      "text/html": [
       "<pre>| 28.32s                              | 85               | 175216          |</pre>"
      ],
      "text/plain": [
       "| 28.32s                              | 85               | 175216          |"
      ]
     },
     "metadata": {},
     "output_type": "display_data"
    },
    {
     "data": {
      "text/html": [
       "<pre>| 29.37s                              | 86.75            | 178842          |</pre>"
      ],
      "text/plain": [
       "| 29.37s                              | 86.75            | 178842          |"
      ]
     },
     "metadata": {},
     "output_type": "display_data"
    },
    {
     "data": {
      "text/html": [
       "<pre>| 31.41s                              | 99.75            | 205662          |</pre>"
      ],
      "text/plain": [
       "| 31.41s                              | 99.75            | 205662          |"
      ]
     },
     "metadata": {},
     "output_type": "display_data"
    },
    {
     "data": {
      "text/html": [
       "<pre>| 35.69s                              | 100              | 205798          |</pre>"
      ],
      "text/plain": [
       "| 35.69s                              | 100              | 205798          |"
      ]
     },
     "metadata": {},
     "output_type": "display_data"
    },
    {
     "data": {
      "text/html": [
       "<pre>+-------------------------------------+------------------+-----------------+</pre>"
      ],
      "text/plain": [
       "+-------------------------------------+------------------+-----------------+"
      ]
     },
     "metadata": {},
     "output_type": "display_data"
    },
    {
     "data": {
      "text/html": [
       "<pre>Finalizing lookup tables.</pre>"
      ],
      "text/plain": [
       "Finalizing lookup tables."
      ]
     },
     "metadata": {},
     "output_type": "display_data"
    },
    {
     "data": {
      "text/html": [
       "<pre>Generating candidate set for working with new users.</pre>"
      ],
      "text/plain": [
       "Generating candidate set for working with new users."
      ]
     },
     "metadata": {},
     "output_type": "display_data"
    },
    {
     "data": {
      "text/html": [
       "<pre>Finished training in 36.1909s</pre>"
      ],
      "text/plain": [
       "Finished training in 36.1909s"
      ]
     },
     "metadata": {},
     "output_type": "display_data"
    }
   ],
   "source": [
    "item_item_rec_on_play_percent = graphlab.recommender.item_similarity_recommender.create(\n",
    "    sf_play_for_rec_on_play_percent,\n",
    "    user_id = 'uid',\n",
    "    item_id = 'song_id',\n",
    "    target = 'play_percent'\n",
    ")"
   ]
  },
  {
   "cell_type": "code",
   "execution_count": 42,
   "metadata": {
    "collapsed": false
   },
   "outputs": [
    {
     "name": "stdout",
     "output_type": "stream",
     "text": [
      "Class                            : ItemSimilarityRecommender\n",
      "\n",
      "Schema\n",
      "------\n",
      "User ID                          : uid\n",
      "Item ID                          : song_id\n",
      "Target                           : play_percent\n",
      "Additional observation features  : 0\n",
      "User side features               : []\n",
      "Item side features               : []\n",
      "\n",
      "Statistics\n",
      "----------\n",
      "Number of observations           : 1557499\n",
      "Number of users                  : 60830\n",
      "Number of items                  : 205798\n",
      "\n",
      "Training summary\n",
      "----------------\n",
      "Training time                    : 36.1912\n",
      "\n",
      "Model Parameters\n",
      "----------------\n",
      "Model class                      : ItemSimilarityRecommender\n",
      "threshold                        : 0.001\n",
      "similarity_type                  : jaccard\n",
      "training_method                  : auto\n",
      "\n",
      "Other Settings\n",
      "--------------\n",
      "degree_approximation_threshold   : 4096\n",
      "sparse_density_estimation_sample_size : 4096\n",
      "max_data_passes                  : 4096\n",
      "target_memory_usage              : 8589934592\n",
      "seed_item_set_size               : 50\n",
      "nearest_neighbors_interaction_proportion_threshold : 0.05\n",
      "max_item_neighborhood_size       : 64\n",
      "\n"
     ]
    }
   ],
   "source": [
    "item_item_rec_on_play_percent.summary()"
   ]
  },
  {
   "cell_type": "code",
   "execution_count": 43,
   "metadata": {
    "collapsed": false
   },
   "outputs": [
    {
     "data": {
      "text/html": [
       "<div style=\"max-height:1000px;max-width:1500px;overflow:auto;\"><table frame=\"box\" rules=\"cols\">\n",
       "    <tr>\n",
       "        <th style=\"padding-left: 1em; padding-right: 1em; text-align: center\">song_id</th>\n",
       "        <th style=\"padding-left: 1em; padding-right: 1em; text-align: center\">similar</th>\n",
       "        <th style=\"padding-left: 1em; padding-right: 1em; text-align: center\">score</th>\n",
       "        <th style=\"padding-left: 1em; padding-right: 1em; text-align: center\">rank</th>\n",
       "    </tr>\n",
       "    <tr>\n",
       "        <td style=\"padding-left: 1em; padding-right: 1em; text-align: center; vertical-align: top\">1026364.0</td>\n",
       "        <td style=\"padding-left: 1em; padding-right: 1em; text-align: center; vertical-align: top\">234903.0</td>\n",
       "        <td style=\"padding-left: 1em; padding-right: 1em; text-align: center; vertical-align: top\">1.0</td>\n",
       "        <td style=\"padding-left: 1em; padding-right: 1em; text-align: center; vertical-align: top\">1</td>\n",
       "    </tr>\n",
       "    <tr>\n",
       "        <td style=\"padding-left: 1em; padding-right: 1em; text-align: center; vertical-align: top\">1026364.0</td>\n",
       "        <td style=\"padding-left: 1em; padding-right: 1em; text-align: center; vertical-align: top\">1026363.0</td>\n",
       "        <td style=\"padding-left: 1em; padding-right: 1em; text-align: center; vertical-align: top\">1.0</td>\n",
       "        <td style=\"padding-left: 1em; padding-right: 1em; text-align: center; vertical-align: top\">2</td>\n",
       "    </tr>\n",
       "    <tr>\n",
       "        <td style=\"padding-left: 1em; padding-right: 1em; text-align: center; vertical-align: top\">1026364.0</td>\n",
       "        <td style=\"padding-left: 1em; padding-right: 1em; text-align: center; vertical-align: top\">1026363</td>\n",
       "        <td style=\"padding-left: 1em; padding-right: 1em; text-align: center; vertical-align: top\">1.0</td>\n",
       "        <td style=\"padding-left: 1em; padding-right: 1em; text-align: center; vertical-align: top\">3</td>\n",
       "    </tr>\n",
       "    <tr>\n",
       "        <td style=\"padding-left: 1em; padding-right: 1em; text-align: center; vertical-align: top\">1026364.0</td>\n",
       "        <td style=\"padding-left: 1em; padding-right: 1em; text-align: center; vertical-align: top\">1026359.0</td>\n",
       "        <td style=\"padding-left: 1em; padding-right: 1em; text-align: center; vertical-align: top\">1.0</td>\n",
       "        <td style=\"padding-left: 1em; padding-right: 1em; text-align: center; vertical-align: top\">4</td>\n",
       "    </tr>\n",
       "    <tr>\n",
       "        <td style=\"padding-left: 1em; padding-right: 1em; text-align: center; vertical-align: top\">1026364.0</td>\n",
       "        <td style=\"padding-left: 1em; padding-right: 1em; text-align: center; vertical-align: top\">234903</td>\n",
       "        <td style=\"padding-left: 1em; padding-right: 1em; text-align: center; vertical-align: top\">1.0</td>\n",
       "        <td style=\"padding-left: 1em; padding-right: 1em; text-align: center; vertical-align: top\">5</td>\n",
       "    </tr>\n",
       "    <tr>\n",
       "        <td style=\"padding-left: 1em; padding-right: 1em; text-align: center; vertical-align: top\">1026364.0</td>\n",
       "        <td style=\"padding-left: 1em; padding-right: 1em; text-align: center; vertical-align: top\">1026369.0</td>\n",
       "        <td style=\"padding-left: 1em; padding-right: 1em; text-align: center; vertical-align: top\">1.0</td>\n",
       "        <td style=\"padding-left: 1em; padding-right: 1em; text-align: center; vertical-align: top\">6</td>\n",
       "    </tr>\n",
       "    <tr>\n",
       "        <td style=\"padding-left: 1em; padding-right: 1em; text-align: center; vertical-align: top\">1026364.0</td>\n",
       "        <td style=\"padding-left: 1em; padding-right: 1em; text-align: center; vertical-align: top\">1026365.0</td>\n",
       "        <td style=\"padding-left: 1em; padding-right: 1em; text-align: center; vertical-align: top\">1.0</td>\n",
       "        <td style=\"padding-left: 1em; padding-right: 1em; text-align: center; vertical-align: top\">7</td>\n",
       "    </tr>\n",
       "    <tr>\n",
       "        <td style=\"padding-left: 1em; padding-right: 1em; text-align: center; vertical-align: top\">1026364.0</td>\n",
       "        <td style=\"padding-left: 1em; padding-right: 1em; text-align: center; vertical-align: top\">4582304.0</td>\n",
       "        <td style=\"padding-left: 1em; padding-right: 1em; text-align: center; vertical-align: top\">1.0</td>\n",
       "        <td style=\"padding-left: 1em; padding-right: 1em; text-align: center; vertical-align: top\">8</td>\n",
       "    </tr>\n",
       "    <tr>\n",
       "        <td style=\"padding-left: 1em; padding-right: 1em; text-align: center; vertical-align: top\">1026364.0</td>\n",
       "        <td style=\"padding-left: 1em; padding-right: 1em; text-align: center; vertical-align: top\">215921.0</td>\n",
       "        <td style=\"padding-left: 1em; padding-right: 1em; text-align: center; vertical-align: top\">1.0</td>\n",
       "        <td style=\"padding-left: 1em; padding-right: 1em; text-align: center; vertical-align: top\">9</td>\n",
       "    </tr>\n",
       "    <tr>\n",
       "        <td style=\"padding-left: 1em; padding-right: 1em; text-align: center; vertical-align: top\">1026364.0</td>\n",
       "        <td style=\"padding-left: 1em; padding-right: 1em; text-align: center; vertical-align: top\">234901</td>\n",
       "        <td style=\"padding-left: 1em; padding-right: 1em; text-align: center; vertical-align: top\">0.5</td>\n",
       "        <td style=\"padding-left: 1em; padding-right: 1em; text-align: center; vertical-align: top\">10</td>\n",
       "    </tr>\n",
       "</table>\n",
       "[1800366 rows x 4 columns]<br/>Note: Only the head of the SFrame is printed.<br/>You can use print_rows(num_rows=m, num_columns=n) to print more rows and columns.\n",
       "</div>"
      ],
      "text/plain": [
       "Columns:\n",
       "\tsong_id\tstr\n",
       "\tsimilar\tstr\n",
       "\tscore\tfloat\n",
       "\trank\tint\n",
       "\n",
       "Rows: 1800366\n",
       "\n",
       "Data:\n",
       "+-----------+-----------+-------+------+\n",
       "|  song_id  |  similar  | score | rank |\n",
       "+-----------+-----------+-------+------+\n",
       "| 1026364.0 |  234903.0 |  1.0  |  1   |\n",
       "| 1026364.0 | 1026363.0 |  1.0  |  2   |\n",
       "| 1026364.0 |  1026363  |  1.0  |  3   |\n",
       "| 1026364.0 | 1026359.0 |  1.0  |  4   |\n",
       "| 1026364.0 |   234903  |  1.0  |  5   |\n",
       "| 1026364.0 | 1026369.0 |  1.0  |  6   |\n",
       "| 1026364.0 | 1026365.0 |  1.0  |  7   |\n",
       "| 1026364.0 | 4582304.0 |  1.0  |  8   |\n",
       "| 1026364.0 |  215921.0 |  1.0  |  9   |\n",
       "| 1026364.0 |   234901  |  0.5  |  10  |\n",
       "+-----------+-----------+-------+------+\n",
       "[1800366 rows x 4 columns]\n",
       "Note: Only the head of the SFrame is printed.\n",
       "You can use print_rows(num_rows=m, num_columns=n) to print more rows and columns."
      ]
     },
     "execution_count": 43,
     "metadata": {},
     "output_type": "execute_result"
    }
   ],
   "source": [
    "item_item_rec_on_play_percent.get_similar_items()"
   ]
  },
  {
   "cell_type": "code",
   "execution_count": 44,
   "metadata": {
    "collapsed": false
   },
   "outputs": [
    {
     "data": {
      "text/html": [
       "<pre>recommendations finished on 1000/60830 queries. users per second: 311.256</pre>"
      ],
      "text/plain": [
       "recommendations finished on 1000/60830 queries. users per second: 311.256"
      ]
     },
     "metadata": {},
     "output_type": "display_data"
    },
    {
     "data": {
      "text/html": [
       "<pre>recommendations finished on 2000/60830 queries. users per second: 200.177</pre>"
      ],
      "text/plain": [
       "recommendations finished on 2000/60830 queries. users per second: 200.177"
      ]
     },
     "metadata": {},
     "output_type": "display_data"
    },
    {
     "data": {
      "text/html": [
       "<pre>recommendations finished on 3000/60830 queries. users per second: 210.322</pre>"
      ],
      "text/plain": [
       "recommendations finished on 3000/60830 queries. users per second: 210.322"
      ]
     },
     "metadata": {},
     "output_type": "display_data"
    },
    {
     "data": {
      "text/html": [
       "<pre>recommendations finished on 4000/60830 queries. users per second: 209.052</pre>"
      ],
      "text/plain": [
       "recommendations finished on 4000/60830 queries. users per second: 209.052"
      ]
     },
     "metadata": {},
     "output_type": "display_data"
    },
    {
     "data": {
      "text/html": [
       "<pre>recommendations finished on 5000/60830 queries. users per second: 212.582</pre>"
      ],
      "text/plain": [
       "recommendations finished on 5000/60830 queries. users per second: 212.582"
      ]
     },
     "metadata": {},
     "output_type": "display_data"
    },
    {
     "data": {
      "text/html": [
       "<pre>recommendations finished on 6000/60830 queries. users per second: 220.53</pre>"
      ],
      "text/plain": [
       "recommendations finished on 6000/60830 queries. users per second: 220.53"
      ]
     },
     "metadata": {},
     "output_type": "display_data"
    },
    {
     "data": {
      "text/html": [
       "<pre>recommendations finished on 7000/60830 queries. users per second: 223.918</pre>"
      ],
      "text/plain": [
       "recommendations finished on 7000/60830 queries. users per second: 223.918"
      ]
     },
     "metadata": {},
     "output_type": "display_data"
    },
    {
     "data": {
      "text/html": [
       "<pre>recommendations finished on 8000/60830 queries. users per second: 228.541</pre>"
      ],
      "text/plain": [
       "recommendations finished on 8000/60830 queries. users per second: 228.541"
      ]
     },
     "metadata": {},
     "output_type": "display_data"
    },
    {
     "data": {
      "text/html": [
       "<pre>recommendations finished on 9000/60830 queries. users per second: 230.928</pre>"
      ],
      "text/plain": [
       "recommendations finished on 9000/60830 queries. users per second: 230.928"
      ]
     },
     "metadata": {},
     "output_type": "display_data"
    },
    {
     "data": {
      "text/html": [
       "<pre>recommendations finished on 10000/60830 queries. users per second: 234.744</pre>"
      ],
      "text/plain": [
       "recommendations finished on 10000/60830 queries. users per second: 234.744"
      ]
     },
     "metadata": {},
     "output_type": "display_data"
    },
    {
     "data": {
      "text/html": [
       "<pre>recommendations finished on 11000/60830 queries. users per second: 235.2</pre>"
      ],
      "text/plain": [
       "recommendations finished on 11000/60830 queries. users per second: 235.2"
      ]
     },
     "metadata": {},
     "output_type": "display_data"
    },
    {
     "data": {
      "text/html": [
       "<pre>recommendations finished on 12000/60830 queries. users per second: 237.786</pre>"
      ],
      "text/plain": [
       "recommendations finished on 12000/60830 queries. users per second: 237.786"
      ]
     },
     "metadata": {},
     "output_type": "display_data"
    },
    {
     "data": {
      "text/html": [
       "<pre>recommendations finished on 13000/60830 queries. users per second: 238.553</pre>"
      ],
      "text/plain": [
       "recommendations finished on 13000/60830 queries. users per second: 238.553"
      ]
     },
     "metadata": {},
     "output_type": "display_data"
    },
    {
     "data": {
      "text/html": [
       "<pre>recommendations finished on 14000/60830 queries. users per second: 236.305</pre>"
      ],
      "text/plain": [
       "recommendations finished on 14000/60830 queries. users per second: 236.305"
      ]
     },
     "metadata": {},
     "output_type": "display_data"
    },
    {
     "data": {
      "text/html": [
       "<pre>recommendations finished on 15000/60830 queries. users per second: 237.606</pre>"
      ],
      "text/plain": [
       "recommendations finished on 15000/60830 queries. users per second: 237.606"
      ]
     },
     "metadata": {},
     "output_type": "display_data"
    },
    {
     "data": {
      "text/html": [
       "<pre>recommendations finished on 16000/60830 queries. users per second: 239.523</pre>"
      ],
      "text/plain": [
       "recommendations finished on 16000/60830 queries. users per second: 239.523"
      ]
     },
     "metadata": {},
     "output_type": "display_data"
    },
    {
     "data": {
      "text/html": [
       "<pre>recommendations finished on 17000/60830 queries. users per second: 240.161</pre>"
      ],
      "text/plain": [
       "recommendations finished on 17000/60830 queries. users per second: 240.161"
      ]
     },
     "metadata": {},
     "output_type": "display_data"
    },
    {
     "data": {
      "text/html": [
       "<pre>recommendations finished on 18000/60830 queries. users per second: 241.83</pre>"
      ],
      "text/plain": [
       "recommendations finished on 18000/60830 queries. users per second: 241.83"
      ]
     },
     "metadata": {},
     "output_type": "display_data"
    },
    {
     "data": {
      "text/html": [
       "<pre>recommendations finished on 19000/60830 queries. users per second: 244.068</pre>"
      ],
      "text/plain": [
       "recommendations finished on 19000/60830 queries. users per second: 244.068"
      ]
     },
     "metadata": {},
     "output_type": "display_data"
    },
    {
     "data": {
      "text/html": [
       "<pre>recommendations finished on 20000/60830 queries. users per second: 245.124</pre>"
      ],
      "text/plain": [
       "recommendations finished on 20000/60830 queries. users per second: 245.124"
      ]
     },
     "metadata": {},
     "output_type": "display_data"
    },
    {
     "data": {
      "text/html": [
       "<pre>recommendations finished on 21000/60830 queries. users per second: 244.664</pre>"
      ],
      "text/plain": [
       "recommendations finished on 21000/60830 queries. users per second: 244.664"
      ]
     },
     "metadata": {},
     "output_type": "display_data"
    },
    {
     "data": {
      "text/html": [
       "<pre>recommendations finished on 22000/60830 queries. users per second: 244.608</pre>"
      ],
      "text/plain": [
       "recommendations finished on 22000/60830 queries. users per second: 244.608"
      ]
     },
     "metadata": {},
     "output_type": "display_data"
    },
    {
     "data": {
      "text/html": [
       "<pre>recommendations finished on 23000/60830 queries. users per second: 245.37</pre>"
      ],
      "text/plain": [
       "recommendations finished on 23000/60830 queries. users per second: 245.37"
      ]
     },
     "metadata": {},
     "output_type": "display_data"
    },
    {
     "data": {
      "text/html": [
       "<pre>recommendations finished on 24000/60830 queries. users per second: 246.26</pre>"
      ],
      "text/plain": [
       "recommendations finished on 24000/60830 queries. users per second: 246.26"
      ]
     },
     "metadata": {},
     "output_type": "display_data"
    },
    {
     "data": {
      "text/html": [
       "<pre>recommendations finished on 25000/60830 queries. users per second: 246.897</pre>"
      ],
      "text/plain": [
       "recommendations finished on 25000/60830 queries. users per second: 246.897"
      ]
     },
     "metadata": {},
     "output_type": "display_data"
    },
    {
     "data": {
      "text/html": [
       "<pre>recommendations finished on 26000/60830 queries. users per second: 245.599</pre>"
      ],
      "text/plain": [
       "recommendations finished on 26000/60830 queries. users per second: 245.599"
      ]
     },
     "metadata": {},
     "output_type": "display_data"
    },
    {
     "data": {
      "text/html": [
       "<pre>recommendations finished on 27000/60830 queries. users per second: 246.704</pre>"
      ],
      "text/plain": [
       "recommendations finished on 27000/60830 queries. users per second: 246.704"
      ]
     },
     "metadata": {},
     "output_type": "display_data"
    },
    {
     "data": {
      "text/html": [
       "<pre>recommendations finished on 28000/60830 queries. users per second: 246.86</pre>"
      ],
      "text/plain": [
       "recommendations finished on 28000/60830 queries. users per second: 246.86"
      ]
     },
     "metadata": {},
     "output_type": "display_data"
    },
    {
     "data": {
      "text/html": [
       "<pre>recommendations finished on 29000/60830 queries. users per second: 245.78</pre>"
      ],
      "text/plain": [
       "recommendations finished on 29000/60830 queries. users per second: 245.78"
      ]
     },
     "metadata": {},
     "output_type": "display_data"
    },
    {
     "data": {
      "text/html": [
       "<pre>recommendations finished on 30000/60830 queries. users per second: 245.948</pre>"
      ],
      "text/plain": [
       "recommendations finished on 30000/60830 queries. users per second: 245.948"
      ]
     },
     "metadata": {},
     "output_type": "display_data"
    },
    {
     "data": {
      "text/html": [
       "<pre>recommendations finished on 31000/60830 queries. users per second: 244.607</pre>"
      ],
      "text/plain": [
       "recommendations finished on 31000/60830 queries. users per second: 244.607"
      ]
     },
     "metadata": {},
     "output_type": "display_data"
    },
    {
     "data": {
      "text/html": [
       "<pre>recommendations finished on 32000/60830 queries. users per second: 244.503</pre>"
      ],
      "text/plain": [
       "recommendations finished on 32000/60830 queries. users per second: 244.503"
      ]
     },
     "metadata": {},
     "output_type": "display_data"
    },
    {
     "data": {
      "text/html": [
       "<pre>recommendations finished on 33000/60830 queries. users per second: 244.599</pre>"
      ],
      "text/plain": [
       "recommendations finished on 33000/60830 queries. users per second: 244.599"
      ]
     },
     "metadata": {},
     "output_type": "display_data"
    },
    {
     "data": {
      "text/html": [
       "<pre>recommendations finished on 34000/60830 queries. users per second: 244.064</pre>"
      ],
      "text/plain": [
       "recommendations finished on 34000/60830 queries. users per second: 244.064"
      ]
     },
     "metadata": {},
     "output_type": "display_data"
    },
    {
     "data": {
      "text/html": [
       "<pre>recommendations finished on 35000/60830 queries. users per second: 243.751</pre>"
      ],
      "text/plain": [
       "recommendations finished on 35000/60830 queries. users per second: 243.751"
      ]
     },
     "metadata": {},
     "output_type": "display_data"
    },
    {
     "data": {
      "text/html": [
       "<pre>recommendations finished on 36000/60830 queries. users per second: 241.878</pre>"
      ],
      "text/plain": [
       "recommendations finished on 36000/60830 queries. users per second: 241.878"
      ]
     },
     "metadata": {},
     "output_type": "display_data"
    },
    {
     "data": {
      "text/html": [
       "<pre>recommendations finished on 37000/60830 queries. users per second: 241.445</pre>"
      ],
      "text/plain": [
       "recommendations finished on 37000/60830 queries. users per second: 241.445"
      ]
     },
     "metadata": {},
     "output_type": "display_data"
    },
    {
     "data": {
      "text/html": [
       "<pre>recommendations finished on 38000/60830 queries. users per second: 242.183</pre>"
      ],
      "text/plain": [
       "recommendations finished on 38000/60830 queries. users per second: 242.183"
      ]
     },
     "metadata": {},
     "output_type": "display_data"
    },
    {
     "data": {
      "text/html": [
       "<pre>recommendations finished on 39000/60830 queries. users per second: 242.159</pre>"
      ],
      "text/plain": [
       "recommendations finished on 39000/60830 queries. users per second: 242.159"
      ]
     },
     "metadata": {},
     "output_type": "display_data"
    },
    {
     "data": {
      "text/html": [
       "<pre>recommendations finished on 40000/60830 queries. users per second: 241.989</pre>"
      ],
      "text/plain": [
       "recommendations finished on 40000/60830 queries. users per second: 241.989"
      ]
     },
     "metadata": {},
     "output_type": "display_data"
    },
    {
     "data": {
      "text/html": [
       "<pre>recommendations finished on 41000/60830 queries. users per second: 242.365</pre>"
      ],
      "text/plain": [
       "recommendations finished on 41000/60830 queries. users per second: 242.365"
      ]
     },
     "metadata": {},
     "output_type": "display_data"
    },
    {
     "data": {
      "text/html": [
       "<pre>recommendations finished on 42000/60830 queries. users per second: 242.245</pre>"
      ],
      "text/plain": [
       "recommendations finished on 42000/60830 queries. users per second: 242.245"
      ]
     },
     "metadata": {},
     "output_type": "display_data"
    },
    {
     "data": {
      "text/html": [
       "<pre>recommendations finished on 43000/60830 queries. users per second: 241.899</pre>"
      ],
      "text/plain": [
       "recommendations finished on 43000/60830 queries. users per second: 241.899"
      ]
     },
     "metadata": {},
     "output_type": "display_data"
    },
    {
     "data": {
      "text/html": [
       "<pre>recommendations finished on 44000/60830 queries. users per second: 242.848</pre>"
      ],
      "text/plain": [
       "recommendations finished on 44000/60830 queries. users per second: 242.848"
      ]
     },
     "metadata": {},
     "output_type": "display_data"
    },
    {
     "data": {
      "text/html": [
       "<pre>recommendations finished on 45000/60830 queries. users per second: 241.881</pre>"
      ],
      "text/plain": [
       "recommendations finished on 45000/60830 queries. users per second: 241.881"
      ]
     },
     "metadata": {},
     "output_type": "display_data"
    },
    {
     "data": {
      "text/html": [
       "<pre>recommendations finished on 46000/60830 queries. users per second: 241.569</pre>"
      ],
      "text/plain": [
       "recommendations finished on 46000/60830 queries. users per second: 241.569"
      ]
     },
     "metadata": {},
     "output_type": "display_data"
    },
    {
     "data": {
      "text/html": [
       "<pre>recommendations finished on 47000/60830 queries. users per second: 241.447</pre>"
      ],
      "text/plain": [
       "recommendations finished on 47000/60830 queries. users per second: 241.447"
      ]
     },
     "metadata": {},
     "output_type": "display_data"
    },
    {
     "data": {
      "text/html": [
       "<pre>recommendations finished on 48000/60830 queries. users per second: 241.462</pre>"
      ],
      "text/plain": [
       "recommendations finished on 48000/60830 queries. users per second: 241.462"
      ]
     },
     "metadata": {},
     "output_type": "display_data"
    },
    {
     "data": {
      "text/html": [
       "<pre>recommendations finished on 49000/60830 queries. users per second: 241.466</pre>"
      ],
      "text/plain": [
       "recommendations finished on 49000/60830 queries. users per second: 241.466"
      ]
     },
     "metadata": {},
     "output_type": "display_data"
    },
    {
     "data": {
      "text/html": [
       "<pre>recommendations finished on 50000/60830 queries. users per second: 241.634</pre>"
      ],
      "text/plain": [
       "recommendations finished on 50000/60830 queries. users per second: 241.634"
      ]
     },
     "metadata": {},
     "output_type": "display_data"
    },
    {
     "data": {
      "text/html": [
       "<pre>recommendations finished on 51000/60830 queries. users per second: 241.385</pre>"
      ],
      "text/plain": [
       "recommendations finished on 51000/60830 queries. users per second: 241.385"
      ]
     },
     "metadata": {},
     "output_type": "display_data"
    },
    {
     "data": {
      "text/html": [
       "<pre>recommendations finished on 52000/60830 queries. users per second: 241.189</pre>"
      ],
      "text/plain": [
       "recommendations finished on 52000/60830 queries. users per second: 241.189"
      ]
     },
     "metadata": {},
     "output_type": "display_data"
    },
    {
     "data": {
      "text/html": [
       "<pre>recommendations finished on 53000/60830 queries. users per second: 240.411</pre>"
      ],
      "text/plain": [
       "recommendations finished on 53000/60830 queries. users per second: 240.411"
      ]
     },
     "metadata": {},
     "output_type": "display_data"
    },
    {
     "data": {
      "text/html": [
       "<pre>recommendations finished on 54000/60830 queries. users per second: 240.256</pre>"
      ],
      "text/plain": [
       "recommendations finished on 54000/60830 queries. users per second: 240.256"
      ]
     },
     "metadata": {},
     "output_type": "display_data"
    },
    {
     "data": {
      "text/html": [
       "<pre>recommendations finished on 55000/60830 queries. users per second: 239.265</pre>"
      ],
      "text/plain": [
       "recommendations finished on 55000/60830 queries. users per second: 239.265"
      ]
     },
     "metadata": {},
     "output_type": "display_data"
    },
    {
     "data": {
      "text/html": [
       "<pre>recommendations finished on 56000/60830 queries. users per second: 238.225</pre>"
      ],
      "text/plain": [
       "recommendations finished on 56000/60830 queries. users per second: 238.225"
      ]
     },
     "metadata": {},
     "output_type": "display_data"
    },
    {
     "data": {
      "text/html": [
       "<pre>recommendations finished on 57000/60830 queries. users per second: 237.813</pre>"
      ],
      "text/plain": [
       "recommendations finished on 57000/60830 queries. users per second: 237.813"
      ]
     },
     "metadata": {},
     "output_type": "display_data"
    },
    {
     "data": {
      "text/html": [
       "<pre>recommendations finished on 58000/60830 queries. users per second: 237.768</pre>"
      ],
      "text/plain": [
       "recommendations finished on 58000/60830 queries. users per second: 237.768"
      ]
     },
     "metadata": {},
     "output_type": "display_data"
    },
    {
     "data": {
      "text/html": [
       "<pre>recommendations finished on 59000/60830 queries. users per second: 237.961</pre>"
      ],
      "text/plain": [
       "recommendations finished on 59000/60830 queries. users per second: 237.961"
      ]
     },
     "metadata": {},
     "output_type": "display_data"
    },
    {
     "data": {
      "text/html": [
       "<pre>recommendations finished on 60000/60830 queries. users per second: 237.8</pre>"
      ],
      "text/plain": [
       "recommendations finished on 60000/60830 queries. users per second: 237.8"
      ]
     },
     "metadata": {},
     "output_type": "display_data"
    },
    {
     "data": {
      "text/html": [
       "<div style=\"max-height:1000px;max-width:1500px;overflow:auto;\"><table frame=\"box\" rules=\"cols\">\n",
       "    <tr>\n",
       "        <th style=\"padding-left: 1em; padding-right: 1em; text-align: center\">uid</th>\n",
       "        <th style=\"padding-left: 1em; padding-right: 1em; text-align: center\">song_id</th>\n",
       "        <th style=\"padding-left: 1em; padding-right: 1em; text-align: center\">score</th>\n",
       "        <th style=\"padding-left: 1em; padding-right: 1em; text-align: center\">rank</th>\n",
       "    </tr>\n",
       "    <tr>\n",
       "        <td style=\"padding-left: 1em; padding-right: 1em; text-align: center; vertical-align: top\">168029752.0</td>\n",
       "        <td style=\"padding-left: 1em; padding-right: 1em; text-align: center; vertical-align: top\">509369.0</td>\n",
       "        <td style=\"padding-left: 1em; padding-right: 1em; text-align: center; vertical-align: top\">0.0692783303039</td>\n",
       "        <td style=\"padding-left: 1em; padding-right: 1em; text-align: center; vertical-align: top\">1</td>\n",
       "    </tr>\n",
       "    <tr>\n",
       "        <td style=\"padding-left: 1em; padding-right: 1em; text-align: center; vertical-align: top\">168029752.0</td>\n",
       "        <td style=\"padding-left: 1em; padding-right: 1em; text-align: center; vertical-align: top\">507512.0</td>\n",
       "        <td style=\"padding-left: 1em; padding-right: 1em; text-align: center; vertical-align: top\">0.0549969589987</td>\n",
       "        <td style=\"padding-left: 1em; padding-right: 1em; text-align: center; vertical-align: top\">2</td>\n",
       "    </tr>\n",
       "    <tr>\n",
       "        <td style=\"padding-left: 1em; padding-right: 1em; text-align: center; vertical-align: top\">168029752.0</td>\n",
       "        <td style=\"padding-left: 1em; padding-right: 1em; text-align: center; vertical-align: top\">4398523.0</td>\n",
       "        <td style=\"padding-left: 1em; padding-right: 1em; text-align: center; vertical-align: top\">0.0549969589987</td>\n",
       "        <td style=\"padding-left: 1em; padding-right: 1em; text-align: center; vertical-align: top\">3</td>\n",
       "    </tr>\n",
       "    <tr>\n",
       "        <td style=\"padding-left: 1em; padding-right: 1em; text-align: center; vertical-align: top\">168029752.0</td>\n",
       "        <td style=\"padding-left: 1em; padding-right: 1em; text-align: center; vertical-align: top\">1080078.0</td>\n",
       "        <td style=\"padding-left: 1em; padding-right: 1em; text-align: center; vertical-align: top\">0.0470485562502</td>\n",
       "        <td style=\"padding-left: 1em; padding-right: 1em; text-align: center; vertical-align: top\">4</td>\n",
       "    </tr>\n",
       "    <tr>\n",
       "        <td style=\"padding-left: 1em; padding-right: 1em; text-align: center; vertical-align: top\">168029752.0</td>\n",
       "        <td style=\"padding-left: 1em; padding-right: 1em; text-align: center; vertical-align: top\">4842459.0</td>\n",
       "        <td style=\"padding-left: 1em; padding-right: 1em; text-align: center; vertical-align: top\">0.042120406794</td>\n",
       "        <td style=\"padding-left: 1em; padding-right: 1em; text-align: center; vertical-align: top\">5</td>\n",
       "    </tr>\n",
       "    <tr>\n",
       "        <td style=\"padding-left: 1em; padding-right: 1em; text-align: center; vertical-align: top\">168029752.0</td>\n",
       "        <td style=\"padding-left: 1em; padding-right: 1em; text-align: center; vertical-align: top\">22857490.0</td>\n",
       "        <td style=\"padding-left: 1em; padding-right: 1em; text-align: center; vertical-align: top\">0.0366555909778</td>\n",
       "        <td style=\"padding-left: 1em; padding-right: 1em; text-align: center; vertical-align: top\">6</td>\n",
       "    </tr>\n",
       "    <tr>\n",
       "        <td style=\"padding-left: 1em; padding-right: 1em; text-align: center; vertical-align: top\">168029752.0</td>\n",
       "        <td style=\"padding-left: 1em; padding-right: 1em; text-align: center; vertical-align: top\">12567883.0</td>\n",
       "        <td style=\"padding-left: 1em; padding-right: 1em; text-align: center; vertical-align: top\">0.0366555909778</td>\n",
       "        <td style=\"padding-left: 1em; padding-right: 1em; text-align: center; vertical-align: top\">7</td>\n",
       "    </tr>\n",
       "    <tr>\n",
       "        <td style=\"padding-left: 1em; padding-right: 1em; text-align: center; vertical-align: top\">168029752.0</td>\n",
       "        <td style=\"padding-left: 1em; padding-right: 1em; text-align: center; vertical-align: top\">5023221.0</td>\n",
       "        <td style=\"padding-left: 1em; padding-right: 1em; text-align: center; vertical-align: top\">0.0366555909778</td>\n",
       "        <td style=\"padding-left: 1em; padding-right: 1em; text-align: center; vertical-align: top\">8</td>\n",
       "    </tr>\n",
       "    <tr>\n",
       "        <td style=\"padding-left: 1em; padding-right: 1em; text-align: center; vertical-align: top\">168029752.0</td>\n",
       "        <td style=\"padding-left: 1em; padding-right: 1em; text-align: center; vertical-align: top\">5057301.0</td>\n",
       "        <td style=\"padding-left: 1em; padding-right: 1em; text-align: center; vertical-align: top\">0.0351052034733</td>\n",
       "        <td style=\"padding-left: 1em; padding-right: 1em; text-align: center; vertical-align: top\">9</td>\n",
       "    </tr>\n",
       "    <tr>\n",
       "        <td style=\"padding-left: 1em; padding-right: 1em; text-align: center; vertical-align: top\">168029752.0</td>\n",
       "        <td style=\"padding-left: 1em; padding-right: 1em; text-align: center; vertical-align: top\">1079706.0</td>\n",
       "        <td style=\"padding-left: 1em; padding-right: 1em; text-align: center; vertical-align: top\">0.0351052034733</td>\n",
       "        <td style=\"padding-left: 1em; padding-right: 1em; text-align: center; vertical-align: top\">10</td>\n",
       "    </tr>\n",
       "</table>\n",
       "[608300 rows x 4 columns]<br/>Note: Only the head of the SFrame is printed.<br/>You can use print_rows(num_rows=m, num_columns=n) to print more rows and columns.\n",
       "</div>"
      ],
      "text/plain": [
       "Columns:\n",
       "\tuid\tstr\n",
       "\tsong_id\tstr\n",
       "\tscore\tfloat\n",
       "\trank\tint\n",
       "\n",
       "Rows: 608300\n",
       "\n",
       "Data:\n",
       "+-------------+------------+-----------------+------+\n",
       "|     uid     |  song_id   |      score      | rank |\n",
       "+-------------+------------+-----------------+------+\n",
       "| 168029752.0 |  509369.0  | 0.0692783303039 |  1   |\n",
       "| 168029752.0 |  507512.0  | 0.0549969589987 |  2   |\n",
       "| 168029752.0 | 4398523.0  | 0.0549969589987 |  3   |\n",
       "| 168029752.0 | 1080078.0  | 0.0470485562502 |  4   |\n",
       "| 168029752.0 | 4842459.0  |  0.042120406794 |  5   |\n",
       "| 168029752.0 | 22857490.0 | 0.0366555909778 |  6   |\n",
       "| 168029752.0 | 12567883.0 | 0.0366555909778 |  7   |\n",
       "| 168029752.0 | 5023221.0  | 0.0366555909778 |  8   |\n",
       "| 168029752.0 | 5057301.0  | 0.0351052034733 |  9   |\n",
       "| 168029752.0 | 1079706.0  | 0.0351052034733 |  10  |\n",
       "+-------------+------------+-----------------+------+\n",
       "[608300 rows x 4 columns]\n",
       "Note: Only the head of the SFrame is printed.\n",
       "You can use print_rows(num_rows=m, num_columns=n) to print more rows and columns."
      ]
     },
     "execution_count": 44,
     "metadata": {},
     "output_type": "execute_result"
    }
   ],
   "source": [
    "item_item_rec_on_play_percent.recommend()"
   ]
  },
  {
   "cell_type": "code",
   "execution_count": null,
   "metadata": {
    "collapsed": true
   },
   "outputs": [],
   "source": []
  },
  {
   "cell_type": "markdown",
   "metadata": {},
   "source": [
    "#  Popularity-based  recommender\n",
    "#Reference: https://turi.com/products/create/docs/generated/graphlab.recommender.item_similarity_recommender.ItemSimilarityRecommender.html"
   ]
  },
  {
   "cell_type": "code",
   "execution_count": 45,
   "metadata": {
    "collapsed": false
   },
   "outputs": [
    {
     "data": {
      "text/html": [
       "<div>\n",
       "<table border=\"1\" class=\"dataframe\">\n",
       "  <thead>\n",
       "    <tr style=\"text-align: right;\">\n",
       "      <th></th>\n",
       "      <th>uid</th>\n",
       "      <th>song_id</th>\n",
       "      <th>play_percent</th>\n",
       "    </tr>\n",
       "  </thead>\n",
       "  <tbody>\n",
       "    <tr>\n",
       "      <th>1</th>\n",
       "      <td>168029752.0</td>\n",
       "      <td>1026364.0</td>\n",
       "      <td>0.000000</td>\n",
       "    </tr>\n",
       "    <tr>\n",
       "      <th>3</th>\n",
       "      <td>168029752.0</td>\n",
       "      <td>234903.0</td>\n",
       "      <td>0.000000</td>\n",
       "    </tr>\n",
       "    <tr>\n",
       "      <th>4</th>\n",
       "      <td>167965547.0</td>\n",
       "      <td>6606144.0</td>\n",
       "      <td>1.000000</td>\n",
       "    </tr>\n",
       "    <tr>\n",
       "      <th>6</th>\n",
       "      <td>168029752.0</td>\n",
       "      <td>1026363.0</td>\n",
       "      <td>0.000000</td>\n",
       "    </tr>\n",
       "    <tr>\n",
       "      <th>8</th>\n",
       "      <td>168029752.0</td>\n",
       "      <td>234901.0</td>\n",
       "      <td>1.000000</td>\n",
       "    </tr>\n",
       "    <tr>\n",
       "      <th>9</th>\n",
       "      <td>167923831.0</td>\n",
       "      <td>13750591.0</td>\n",
       "      <td>1.000000</td>\n",
       "    </tr>\n",
       "    <tr>\n",
       "      <th>12</th>\n",
       "      <td>168029752.0</td>\n",
       "      <td>1026359.0</td>\n",
       "      <td>0.000000</td>\n",
       "    </tr>\n",
       "    <tr>\n",
       "      <th>13</th>\n",
       "      <td>167807475.0</td>\n",
       "      <td>348243.0</td>\n",
       "      <td>0.126316</td>\n",
       "    </tr>\n",
       "    <tr>\n",
       "      <th>14</th>\n",
       "      <td>167900247.0</td>\n",
       "      <td>13667778.0</td>\n",
       "      <td>0.298913</td>\n",
       "    </tr>\n",
       "    <tr>\n",
       "      <th>15</th>\n",
       "      <td>167958001.0</td>\n",
       "      <td>6266032.0</td>\n",
       "      <td>0.000000</td>\n",
       "    </tr>\n",
       "    <tr>\n",
       "      <th>16</th>\n",
       "      <td>168029752.0</td>\n",
       "      <td>1026358.0</td>\n",
       "      <td>0.000000</td>\n",
       "    </tr>\n",
       "    <tr>\n",
       "      <th>17</th>\n",
       "      <td>168029752.0</td>\n",
       "      <td>1026368.0</td>\n",
       "      <td>0.000000</td>\n",
       "    </tr>\n",
       "    <tr>\n",
       "      <th>18</th>\n",
       "      <td>168047889.0</td>\n",
       "      <td>708741.0</td>\n",
       "      <td>0.984375</td>\n",
       "    </tr>\n",
       "    <tr>\n",
       "      <th>19</th>\n",
       "      <td>167704566.0</td>\n",
       "      <td>9902748.0</td>\n",
       "      <td>0.203209</td>\n",
       "    </tr>\n",
       "    <tr>\n",
       "      <th>20</th>\n",
       "      <td>167630166.0</td>\n",
       "      <td>795430.0</td>\n",
       "      <td>0.592715</td>\n",
       "    </tr>\n",
       "    <tr>\n",
       "      <th>22</th>\n",
       "      <td>167851700.0</td>\n",
       "      <td>6651913.0</td>\n",
       "      <td>0.984064</td>\n",
       "    </tr>\n",
       "    <tr>\n",
       "      <th>23</th>\n",
       "      <td>167779635.0</td>\n",
       "      <td>77851.0</td>\n",
       "      <td>0.043796</td>\n",
       "    </tr>\n",
       "    <tr>\n",
       "      <th>24</th>\n",
       "      <td>168029752.0</td>\n",
       "      <td>234896.0</td>\n",
       "      <td>0.000000</td>\n",
       "    </tr>\n",
       "    <tr>\n",
       "      <th>27</th>\n",
       "      <td>167890362.0</td>\n",
       "      <td>6180670.0</td>\n",
       "      <td>0.992248</td>\n",
       "    </tr>\n",
       "    <tr>\n",
       "      <th>28</th>\n",
       "      <td>168029752.0</td>\n",
       "      <td>324334.0</td>\n",
       "      <td>0.000000</td>\n",
       "    </tr>\n",
       "    <tr>\n",
       "      <th>29</th>\n",
       "      <td>168029752.0</td>\n",
       "      <td>234906.0</td>\n",
       "      <td>0.000000</td>\n",
       "    </tr>\n",
       "    <tr>\n",
       "      <th>30</th>\n",
       "      <td>168029752.0</td>\n",
       "      <td>21770905.0</td>\n",
       "      <td>0.000000</td>\n",
       "    </tr>\n",
       "    <tr>\n",
       "      <th>31</th>\n",
       "      <td>167850949.0</td>\n",
       "      <td>6692062.0</td>\n",
       "      <td>1.000000</td>\n",
       "    </tr>\n",
       "    <tr>\n",
       "      <th>32</th>\n",
       "      <td>168029752.0</td>\n",
       "      <td>14831130.0</td>\n",
       "      <td>0.000000</td>\n",
       "    </tr>\n",
       "    <tr>\n",
       "      <th>33</th>\n",
       "      <td>167947155.0</td>\n",
       "      <td>14708826.0</td>\n",
       "      <td>0.994350</td>\n",
       "    </tr>\n",
       "    <tr>\n",
       "      <th>34</th>\n",
       "      <td>168029752.0</td>\n",
       "      <td>437853.0</td>\n",
       "      <td>0.000000</td>\n",
       "    </tr>\n",
       "    <tr>\n",
       "      <th>35</th>\n",
       "      <td>168029752.0</td>\n",
       "      <td>215921.0</td>\n",
       "      <td>0.000000</td>\n",
       "    </tr>\n",
       "    <tr>\n",
       "      <th>38</th>\n",
       "      <td>168029752.0</td>\n",
       "      <td>1026367.0</td>\n",
       "      <td>0.000000</td>\n",
       "    </tr>\n",
       "    <tr>\n",
       "      <th>39</th>\n",
       "      <td>168004558.0</td>\n",
       "      <td>14008117.0</td>\n",
       "      <td>0.083333</td>\n",
       "    </tr>\n",
       "    <tr>\n",
       "      <th>40</th>\n",
       "      <td>167970575.0</td>\n",
       "      <td>854337.0</td>\n",
       "      <td>0.210526</td>\n",
       "    </tr>\n",
       "    <tr>\n",
       "      <th>...</th>\n",
       "      <td>...</td>\n",
       "      <td>...</td>\n",
       "      <td>...</td>\n",
       "    </tr>\n",
       "    <tr>\n",
       "      <th>1860627</th>\n",
       "      <td>167832224.0</td>\n",
       "      <td>17081441.0</td>\n",
       "      <td>0.997006</td>\n",
       "    </tr>\n",
       "    <tr>\n",
       "      <th>1860629</th>\n",
       "      <td>167930051.0</td>\n",
       "      <td>107464.0</td>\n",
       "      <td>0.282353</td>\n",
       "    </tr>\n",
       "    <tr>\n",
       "      <th>1860631</th>\n",
       "      <td>167999511.0</td>\n",
       "      <td>5272489.0</td>\n",
       "      <td>0.004255</td>\n",
       "    </tr>\n",
       "    <tr>\n",
       "      <th>1860632</th>\n",
       "      <td>167931083.0</td>\n",
       "      <td>6201279.0</td>\n",
       "      <td>0.041667</td>\n",
       "    </tr>\n",
       "    <tr>\n",
       "      <th>1860633</th>\n",
       "      <td>167886282.0</td>\n",
       "      <td>216945.0</td>\n",
       "      <td>0.150000</td>\n",
       "    </tr>\n",
       "    <tr>\n",
       "      <th>1860634</th>\n",
       "      <td>167856068.0</td>\n",
       "      <td>0.0</td>\n",
       "      <td>0.995984</td>\n",
       "    </tr>\n",
       "    <tr>\n",
       "      <th>1860635</th>\n",
       "      <td>167758498.0</td>\n",
       "      <td>105269.0</td>\n",
       "      <td>0.000000</td>\n",
       "    </tr>\n",
       "    <tr>\n",
       "      <th>1860636</th>\n",
       "      <td>167952415.0</td>\n",
       "      <td>9952802.0</td>\n",
       "      <td>1.000000</td>\n",
       "    </tr>\n",
       "    <tr>\n",
       "      <th>1860637</th>\n",
       "      <td>167999850.0</td>\n",
       "      <td>4539774.0</td>\n",
       "      <td>0.996743</td>\n",
       "    </tr>\n",
       "    <tr>\n",
       "      <th>1860638</th>\n",
       "      <td>1685126.0</td>\n",
       "      <td>23485855.0</td>\n",
       "      <td>0.584475</td>\n",
       "    </tr>\n",
       "    <tr>\n",
       "      <th>1860639</th>\n",
       "      <td>167649809.0</td>\n",
       "      <td>6993092.0</td>\n",
       "      <td>0.880000</td>\n",
       "    </tr>\n",
       "    <tr>\n",
       "      <th>1860641</th>\n",
       "      <td>167690656.0</td>\n",
       "      <td>1247574.0</td>\n",
       "      <td>0.000000</td>\n",
       "    </tr>\n",
       "    <tr>\n",
       "      <th>1860643</th>\n",
       "      <td>167797681.0</td>\n",
       "      <td>6351577.0</td>\n",
       "      <td>0.007905</td>\n",
       "    </tr>\n",
       "    <tr>\n",
       "      <th>1860644</th>\n",
       "      <td>168046490.0</td>\n",
       "      <td>22806729.0</td>\n",
       "      <td>0.021201</td>\n",
       "    </tr>\n",
       "    <tr>\n",
       "      <th>1860645</th>\n",
       "      <td>168049959.0</td>\n",
       "      <td>0.0</td>\n",
       "      <td>0.464000</td>\n",
       "    </tr>\n",
       "    <tr>\n",
       "      <th>1860646</th>\n",
       "      <td>167925975.0</td>\n",
       "      <td>6402552.0</td>\n",
       "      <td>1.000000</td>\n",
       "    </tr>\n",
       "    <tr>\n",
       "      <th>1860647</th>\n",
       "      <td>168043780.0</td>\n",
       "      <td>3380490.0</td>\n",
       "      <td>0.061674</td>\n",
       "    </tr>\n",
       "    <tr>\n",
       "      <th>1860648</th>\n",
       "      <td>168045235.0</td>\n",
       "      <td>22875944.0</td>\n",
       "      <td>0.907950</td>\n",
       "    </tr>\n",
       "    <tr>\n",
       "      <th>1860649</th>\n",
       "      <td>168040755.0</td>\n",
       "      <td>4616474.0</td>\n",
       "      <td>0.666667</td>\n",
       "    </tr>\n",
       "    <tr>\n",
       "      <th>1860650</th>\n",
       "      <td>168052862.0</td>\n",
       "      <td>0.0</td>\n",
       "      <td>0.200000</td>\n",
       "    </tr>\n",
       "    <tr>\n",
       "      <th>1860651</th>\n",
       "      <td>167925975.0</td>\n",
       "      <td>6402552.0</td>\n",
       "      <td>1.000000</td>\n",
       "    </tr>\n",
       "    <tr>\n",
       "      <th>1860652</th>\n",
       "      <td>167690656.0</td>\n",
       "      <td>15193275.0</td>\n",
       "      <td>0.000000</td>\n",
       "    </tr>\n",
       "    <tr>\n",
       "      <th>1860655</th>\n",
       "      <td>167825961.0</td>\n",
       "      <td>708518.0</td>\n",
       "      <td>1.000000</td>\n",
       "    </tr>\n",
       "    <tr>\n",
       "      <th>1860656</th>\n",
       "      <td>167993044.0</td>\n",
       "      <td>2216463.0</td>\n",
       "      <td>0.690000</td>\n",
       "    </tr>\n",
       "    <tr>\n",
       "      <th>1860658</th>\n",
       "      <td>167574086.0</td>\n",
       "      <td>7185650.0</td>\n",
       "      <td>0.012987</td>\n",
       "    </tr>\n",
       "    <tr>\n",
       "      <th>1860659</th>\n",
       "      <td>1685126.0</td>\n",
       "      <td>16854414.0</td>\n",
       "      <td>0.923841</td>\n",
       "    </tr>\n",
       "    <tr>\n",
       "      <th>1860660</th>\n",
       "      <td>167960151.0</td>\n",
       "      <td>21763806.0</td>\n",
       "      <td>1.000000</td>\n",
       "    </tr>\n",
       "    <tr>\n",
       "      <th>1860661</th>\n",
       "      <td>167589862.0</td>\n",
       "      <td>22056051.0</td>\n",
       "      <td>0.028000</td>\n",
       "    </tr>\n",
       "    <tr>\n",
       "      <th>1860662</th>\n",
       "      <td>167979086.0</td>\n",
       "      <td>1244660.0</td>\n",
       "      <td>0.089362</td>\n",
       "    </tr>\n",
       "    <tr>\n",
       "      <th>1860663</th>\n",
       "      <td>167969089.0</td>\n",
       "      <td>727161.0</td>\n",
       "      <td>0.000000</td>\n",
       "    </tr>\n",
       "  </tbody>\n",
       "</table>\n",
       "<p>1557499 rows × 3 columns</p>\n",
       "</div>"
      ],
      "text/plain": [
       "                 uid     song_id  play_percent\n",
       "1        168029752.0   1026364.0      0.000000\n",
       "3        168029752.0    234903.0      0.000000\n",
       "4        167965547.0   6606144.0      1.000000\n",
       "6        168029752.0   1026363.0      0.000000\n",
       "8        168029752.0    234901.0      1.000000\n",
       "9        167923831.0  13750591.0      1.000000\n",
       "12       168029752.0   1026359.0      0.000000\n",
       "13       167807475.0    348243.0      0.126316\n",
       "14       167900247.0  13667778.0      0.298913\n",
       "15       167958001.0   6266032.0      0.000000\n",
       "16       168029752.0   1026358.0      0.000000\n",
       "17       168029752.0   1026368.0      0.000000\n",
       "18       168047889.0    708741.0      0.984375\n",
       "19       167704566.0   9902748.0      0.203209\n",
       "20       167630166.0    795430.0      0.592715\n",
       "22       167851700.0   6651913.0      0.984064\n",
       "23       167779635.0     77851.0      0.043796\n",
       "24       168029752.0    234896.0      0.000000\n",
       "27       167890362.0   6180670.0      0.992248\n",
       "28       168029752.0    324334.0      0.000000\n",
       "29       168029752.0    234906.0      0.000000\n",
       "30       168029752.0  21770905.0      0.000000\n",
       "31       167850949.0   6692062.0      1.000000\n",
       "32       168029752.0  14831130.0      0.000000\n",
       "33       167947155.0  14708826.0      0.994350\n",
       "34       168029752.0    437853.0      0.000000\n",
       "35       168029752.0    215921.0      0.000000\n",
       "38       168029752.0   1026367.0      0.000000\n",
       "39       168004558.0  14008117.0      0.083333\n",
       "40       167970575.0    854337.0      0.210526\n",
       "...              ...         ...           ...\n",
       "1860627  167832224.0  17081441.0      0.997006\n",
       "1860629  167930051.0    107464.0      0.282353\n",
       "1860631  167999511.0   5272489.0      0.004255\n",
       "1860632  167931083.0   6201279.0      0.041667\n",
       "1860633  167886282.0    216945.0      0.150000\n",
       "1860634  167856068.0         0.0      0.995984\n",
       "1860635  167758498.0    105269.0      0.000000\n",
       "1860636  167952415.0   9952802.0      1.000000\n",
       "1860637  167999850.0   4539774.0      0.996743\n",
       "1860638    1685126.0  23485855.0      0.584475\n",
       "1860639  167649809.0   6993092.0      0.880000\n",
       "1860641  167690656.0   1247574.0      0.000000\n",
       "1860643  167797681.0   6351577.0      0.007905\n",
       "1860644  168046490.0  22806729.0      0.021201\n",
       "1860645  168049959.0         0.0      0.464000\n",
       "1860646  167925975.0   6402552.0      1.000000\n",
       "1860647  168043780.0   3380490.0      0.061674\n",
       "1860648  168045235.0  22875944.0      0.907950\n",
       "1860649  168040755.0   4616474.0      0.666667\n",
       "1860650  168052862.0         0.0      0.200000\n",
       "1860651  167925975.0   6402552.0      1.000000\n",
       "1860652  167690656.0  15193275.0      0.000000\n",
       "1860655  167825961.0    708518.0      1.000000\n",
       "1860656  167993044.0   2216463.0      0.690000\n",
       "1860658  167574086.0   7185650.0      0.012987\n",
       "1860659    1685126.0  16854414.0      0.923841\n",
       "1860660  167960151.0  21763806.0      1.000000\n",
       "1860661  167589862.0  22056051.0      0.028000\n",
       "1860662  167979086.0   1244660.0      0.089362\n",
       "1860663  167969089.0    727161.0      0.000000\n",
       "\n",
       "[1557499 rows x 3 columns]"
      ]
     },
     "execution_count": 45,
     "metadata": {},
     "output_type": "execute_result"
    }
   ],
   "source": [
    "# recommend based on 'useful'\n",
    "df_for_rec_on_popularity = df_play_clean[['uid', 'song_id', 'play_percent']]\n",
    "df_for_rec_on_popularity"
   ]
  },
  {
   "cell_type": "code",
   "execution_count": 49,
   "metadata": {
    "collapsed": false
   },
   "outputs": [
    {
     "data": {
      "text/html": [
       "<div>\n",
       "<table border=\"1\" class=\"dataframe\">\n",
       "  <thead>\n",
       "    <tr style=\"text-align: right;\">\n",
       "      <th></th>\n",
       "      <th>user_id</th>\n",
       "      <th>item_id</th>\n",
       "      <th>play_percent</th>\n",
       "    </tr>\n",
       "  </thead>\n",
       "  <tbody>\n",
       "    <tr>\n",
       "      <th>1</th>\n",
       "      <td>168029752.0</td>\n",
       "      <td>1026364.0</td>\n",
       "      <td>0.000000</td>\n",
       "    </tr>\n",
       "    <tr>\n",
       "      <th>3</th>\n",
       "      <td>168029752.0</td>\n",
       "      <td>234903.0</td>\n",
       "      <td>0.000000</td>\n",
       "    </tr>\n",
       "    <tr>\n",
       "      <th>4</th>\n",
       "      <td>167965547.0</td>\n",
       "      <td>6606144.0</td>\n",
       "      <td>1.000000</td>\n",
       "    </tr>\n",
       "    <tr>\n",
       "      <th>6</th>\n",
       "      <td>168029752.0</td>\n",
       "      <td>1026363.0</td>\n",
       "      <td>0.000000</td>\n",
       "    </tr>\n",
       "    <tr>\n",
       "      <th>8</th>\n",
       "      <td>168029752.0</td>\n",
       "      <td>234901.0</td>\n",
       "      <td>1.000000</td>\n",
       "    </tr>\n",
       "    <tr>\n",
       "      <th>9</th>\n",
       "      <td>167923831.0</td>\n",
       "      <td>13750591.0</td>\n",
       "      <td>1.000000</td>\n",
       "    </tr>\n",
       "    <tr>\n",
       "      <th>12</th>\n",
       "      <td>168029752.0</td>\n",
       "      <td>1026359.0</td>\n",
       "      <td>0.000000</td>\n",
       "    </tr>\n",
       "    <tr>\n",
       "      <th>13</th>\n",
       "      <td>167807475.0</td>\n",
       "      <td>348243.0</td>\n",
       "      <td>0.126316</td>\n",
       "    </tr>\n",
       "    <tr>\n",
       "      <th>14</th>\n",
       "      <td>167900247.0</td>\n",
       "      <td>13667778.0</td>\n",
       "      <td>0.298913</td>\n",
       "    </tr>\n",
       "    <tr>\n",
       "      <th>15</th>\n",
       "      <td>167958001.0</td>\n",
       "      <td>6266032.0</td>\n",
       "      <td>0.000000</td>\n",
       "    </tr>\n",
       "    <tr>\n",
       "      <th>16</th>\n",
       "      <td>168029752.0</td>\n",
       "      <td>1026358.0</td>\n",
       "      <td>0.000000</td>\n",
       "    </tr>\n",
       "    <tr>\n",
       "      <th>17</th>\n",
       "      <td>168029752.0</td>\n",
       "      <td>1026368.0</td>\n",
       "      <td>0.000000</td>\n",
       "    </tr>\n",
       "    <tr>\n",
       "      <th>18</th>\n",
       "      <td>168047889.0</td>\n",
       "      <td>708741.0</td>\n",
       "      <td>0.984375</td>\n",
       "    </tr>\n",
       "    <tr>\n",
       "      <th>19</th>\n",
       "      <td>167704566.0</td>\n",
       "      <td>9902748.0</td>\n",
       "      <td>0.203209</td>\n",
       "    </tr>\n",
       "    <tr>\n",
       "      <th>20</th>\n",
       "      <td>167630166.0</td>\n",
       "      <td>795430.0</td>\n",
       "      <td>0.592715</td>\n",
       "    </tr>\n",
       "    <tr>\n",
       "      <th>22</th>\n",
       "      <td>167851700.0</td>\n",
       "      <td>6651913.0</td>\n",
       "      <td>0.984064</td>\n",
       "    </tr>\n",
       "    <tr>\n",
       "      <th>23</th>\n",
       "      <td>167779635.0</td>\n",
       "      <td>77851.0</td>\n",
       "      <td>0.043796</td>\n",
       "    </tr>\n",
       "    <tr>\n",
       "      <th>24</th>\n",
       "      <td>168029752.0</td>\n",
       "      <td>234896.0</td>\n",
       "      <td>0.000000</td>\n",
       "    </tr>\n",
       "    <tr>\n",
       "      <th>27</th>\n",
       "      <td>167890362.0</td>\n",
       "      <td>6180670.0</td>\n",
       "      <td>0.992248</td>\n",
       "    </tr>\n",
       "    <tr>\n",
       "      <th>28</th>\n",
       "      <td>168029752.0</td>\n",
       "      <td>324334.0</td>\n",
       "      <td>0.000000</td>\n",
       "    </tr>\n",
       "    <tr>\n",
       "      <th>29</th>\n",
       "      <td>168029752.0</td>\n",
       "      <td>234906.0</td>\n",
       "      <td>0.000000</td>\n",
       "    </tr>\n",
       "    <tr>\n",
       "      <th>30</th>\n",
       "      <td>168029752.0</td>\n",
       "      <td>21770905.0</td>\n",
       "      <td>0.000000</td>\n",
       "    </tr>\n",
       "    <tr>\n",
       "      <th>31</th>\n",
       "      <td>167850949.0</td>\n",
       "      <td>6692062.0</td>\n",
       "      <td>1.000000</td>\n",
       "    </tr>\n",
       "    <tr>\n",
       "      <th>32</th>\n",
       "      <td>168029752.0</td>\n",
       "      <td>14831130.0</td>\n",
       "      <td>0.000000</td>\n",
       "    </tr>\n",
       "    <tr>\n",
       "      <th>33</th>\n",
       "      <td>167947155.0</td>\n",
       "      <td>14708826.0</td>\n",
       "      <td>0.994350</td>\n",
       "    </tr>\n",
       "    <tr>\n",
       "      <th>34</th>\n",
       "      <td>168029752.0</td>\n",
       "      <td>437853.0</td>\n",
       "      <td>0.000000</td>\n",
       "    </tr>\n",
       "    <tr>\n",
       "      <th>35</th>\n",
       "      <td>168029752.0</td>\n",
       "      <td>215921.0</td>\n",
       "      <td>0.000000</td>\n",
       "    </tr>\n",
       "    <tr>\n",
       "      <th>38</th>\n",
       "      <td>168029752.0</td>\n",
       "      <td>1026367.0</td>\n",
       "      <td>0.000000</td>\n",
       "    </tr>\n",
       "    <tr>\n",
       "      <th>39</th>\n",
       "      <td>168004558.0</td>\n",
       "      <td>14008117.0</td>\n",
       "      <td>0.083333</td>\n",
       "    </tr>\n",
       "    <tr>\n",
       "      <th>40</th>\n",
       "      <td>167970575.0</td>\n",
       "      <td>854337.0</td>\n",
       "      <td>0.210526</td>\n",
       "    </tr>\n",
       "    <tr>\n",
       "      <th>...</th>\n",
       "      <td>...</td>\n",
       "      <td>...</td>\n",
       "      <td>...</td>\n",
       "    </tr>\n",
       "    <tr>\n",
       "      <th>1860627</th>\n",
       "      <td>167832224.0</td>\n",
       "      <td>17081441.0</td>\n",
       "      <td>0.997006</td>\n",
       "    </tr>\n",
       "    <tr>\n",
       "      <th>1860629</th>\n",
       "      <td>167930051.0</td>\n",
       "      <td>107464.0</td>\n",
       "      <td>0.282353</td>\n",
       "    </tr>\n",
       "    <tr>\n",
       "      <th>1860631</th>\n",
       "      <td>167999511.0</td>\n",
       "      <td>5272489.0</td>\n",
       "      <td>0.004255</td>\n",
       "    </tr>\n",
       "    <tr>\n",
       "      <th>1860632</th>\n",
       "      <td>167931083.0</td>\n",
       "      <td>6201279.0</td>\n",
       "      <td>0.041667</td>\n",
       "    </tr>\n",
       "    <tr>\n",
       "      <th>1860633</th>\n",
       "      <td>167886282.0</td>\n",
       "      <td>216945.0</td>\n",
       "      <td>0.150000</td>\n",
       "    </tr>\n",
       "    <tr>\n",
       "      <th>1860634</th>\n",
       "      <td>167856068.0</td>\n",
       "      <td>0.0</td>\n",
       "      <td>0.995984</td>\n",
       "    </tr>\n",
       "    <tr>\n",
       "      <th>1860635</th>\n",
       "      <td>167758498.0</td>\n",
       "      <td>105269.0</td>\n",
       "      <td>0.000000</td>\n",
       "    </tr>\n",
       "    <tr>\n",
       "      <th>1860636</th>\n",
       "      <td>167952415.0</td>\n",
       "      <td>9952802.0</td>\n",
       "      <td>1.000000</td>\n",
       "    </tr>\n",
       "    <tr>\n",
       "      <th>1860637</th>\n",
       "      <td>167999850.0</td>\n",
       "      <td>4539774.0</td>\n",
       "      <td>0.996743</td>\n",
       "    </tr>\n",
       "    <tr>\n",
       "      <th>1860638</th>\n",
       "      <td>1685126.0</td>\n",
       "      <td>23485855.0</td>\n",
       "      <td>0.584475</td>\n",
       "    </tr>\n",
       "    <tr>\n",
       "      <th>1860639</th>\n",
       "      <td>167649809.0</td>\n",
       "      <td>6993092.0</td>\n",
       "      <td>0.880000</td>\n",
       "    </tr>\n",
       "    <tr>\n",
       "      <th>1860641</th>\n",
       "      <td>167690656.0</td>\n",
       "      <td>1247574.0</td>\n",
       "      <td>0.000000</td>\n",
       "    </tr>\n",
       "    <tr>\n",
       "      <th>1860643</th>\n",
       "      <td>167797681.0</td>\n",
       "      <td>6351577.0</td>\n",
       "      <td>0.007905</td>\n",
       "    </tr>\n",
       "    <tr>\n",
       "      <th>1860644</th>\n",
       "      <td>168046490.0</td>\n",
       "      <td>22806729.0</td>\n",
       "      <td>0.021201</td>\n",
       "    </tr>\n",
       "    <tr>\n",
       "      <th>1860645</th>\n",
       "      <td>168049959.0</td>\n",
       "      <td>0.0</td>\n",
       "      <td>0.464000</td>\n",
       "    </tr>\n",
       "    <tr>\n",
       "      <th>1860646</th>\n",
       "      <td>167925975.0</td>\n",
       "      <td>6402552.0</td>\n",
       "      <td>1.000000</td>\n",
       "    </tr>\n",
       "    <tr>\n",
       "      <th>1860647</th>\n",
       "      <td>168043780.0</td>\n",
       "      <td>3380490.0</td>\n",
       "      <td>0.061674</td>\n",
       "    </tr>\n",
       "    <tr>\n",
       "      <th>1860648</th>\n",
       "      <td>168045235.0</td>\n",
       "      <td>22875944.0</td>\n",
       "      <td>0.907950</td>\n",
       "    </tr>\n",
       "    <tr>\n",
       "      <th>1860649</th>\n",
       "      <td>168040755.0</td>\n",
       "      <td>4616474.0</td>\n",
       "      <td>0.666667</td>\n",
       "    </tr>\n",
       "    <tr>\n",
       "      <th>1860650</th>\n",
       "      <td>168052862.0</td>\n",
       "      <td>0.0</td>\n",
       "      <td>0.200000</td>\n",
       "    </tr>\n",
       "    <tr>\n",
       "      <th>1860651</th>\n",
       "      <td>167925975.0</td>\n",
       "      <td>6402552.0</td>\n",
       "      <td>1.000000</td>\n",
       "    </tr>\n",
       "    <tr>\n",
       "      <th>1860652</th>\n",
       "      <td>167690656.0</td>\n",
       "      <td>15193275.0</td>\n",
       "      <td>0.000000</td>\n",
       "    </tr>\n",
       "    <tr>\n",
       "      <th>1860655</th>\n",
       "      <td>167825961.0</td>\n",
       "      <td>708518.0</td>\n",
       "      <td>1.000000</td>\n",
       "    </tr>\n",
       "    <tr>\n",
       "      <th>1860656</th>\n",
       "      <td>167993044.0</td>\n",
       "      <td>2216463.0</td>\n",
       "      <td>0.690000</td>\n",
       "    </tr>\n",
       "    <tr>\n",
       "      <th>1860658</th>\n",
       "      <td>167574086.0</td>\n",
       "      <td>7185650.0</td>\n",
       "      <td>0.012987</td>\n",
       "    </tr>\n",
       "    <tr>\n",
       "      <th>1860659</th>\n",
       "      <td>1685126.0</td>\n",
       "      <td>16854414.0</td>\n",
       "      <td>0.923841</td>\n",
       "    </tr>\n",
       "    <tr>\n",
       "      <th>1860660</th>\n",
       "      <td>167960151.0</td>\n",
       "      <td>21763806.0</td>\n",
       "      <td>1.000000</td>\n",
       "    </tr>\n",
       "    <tr>\n",
       "      <th>1860661</th>\n",
       "      <td>167589862.0</td>\n",
       "      <td>22056051.0</td>\n",
       "      <td>0.028000</td>\n",
       "    </tr>\n",
       "    <tr>\n",
       "      <th>1860662</th>\n",
       "      <td>167979086.0</td>\n",
       "      <td>1244660.0</td>\n",
       "      <td>0.089362</td>\n",
       "    </tr>\n",
       "    <tr>\n",
       "      <th>1860663</th>\n",
       "      <td>167969089.0</td>\n",
       "      <td>727161.0</td>\n",
       "      <td>0.000000</td>\n",
       "    </tr>\n",
       "  </tbody>\n",
       "</table>\n",
       "<p>1557499 rows × 3 columns</p>\n",
       "</div>"
      ],
      "text/plain": [
       "             user_id     item_id  play_percent\n",
       "1        168029752.0   1026364.0      0.000000\n",
       "3        168029752.0    234903.0      0.000000\n",
       "4        167965547.0   6606144.0      1.000000\n",
       "6        168029752.0   1026363.0      0.000000\n",
       "8        168029752.0    234901.0      1.000000\n",
       "9        167923831.0  13750591.0      1.000000\n",
       "12       168029752.0   1026359.0      0.000000\n",
       "13       167807475.0    348243.0      0.126316\n",
       "14       167900247.0  13667778.0      0.298913\n",
       "15       167958001.0   6266032.0      0.000000\n",
       "16       168029752.0   1026358.0      0.000000\n",
       "17       168029752.0   1026368.0      0.000000\n",
       "18       168047889.0    708741.0      0.984375\n",
       "19       167704566.0   9902748.0      0.203209\n",
       "20       167630166.0    795430.0      0.592715\n",
       "22       167851700.0   6651913.0      0.984064\n",
       "23       167779635.0     77851.0      0.043796\n",
       "24       168029752.0    234896.0      0.000000\n",
       "27       167890362.0   6180670.0      0.992248\n",
       "28       168029752.0    324334.0      0.000000\n",
       "29       168029752.0    234906.0      0.000000\n",
       "30       168029752.0  21770905.0      0.000000\n",
       "31       167850949.0   6692062.0      1.000000\n",
       "32       168029752.0  14831130.0      0.000000\n",
       "33       167947155.0  14708826.0      0.994350\n",
       "34       168029752.0    437853.0      0.000000\n",
       "35       168029752.0    215921.0      0.000000\n",
       "38       168029752.0   1026367.0      0.000000\n",
       "39       168004558.0  14008117.0      0.083333\n",
       "40       167970575.0    854337.0      0.210526\n",
       "...              ...         ...           ...\n",
       "1860627  167832224.0  17081441.0      0.997006\n",
       "1860629  167930051.0    107464.0      0.282353\n",
       "1860631  167999511.0   5272489.0      0.004255\n",
       "1860632  167931083.0   6201279.0      0.041667\n",
       "1860633  167886282.0    216945.0      0.150000\n",
       "1860634  167856068.0         0.0      0.995984\n",
       "1860635  167758498.0    105269.0      0.000000\n",
       "1860636  167952415.0   9952802.0      1.000000\n",
       "1860637  167999850.0   4539774.0      0.996743\n",
       "1860638    1685126.0  23485855.0      0.584475\n",
       "1860639  167649809.0   6993092.0      0.880000\n",
       "1860641  167690656.0   1247574.0      0.000000\n",
       "1860643  167797681.0   6351577.0      0.007905\n",
       "1860644  168046490.0  22806729.0      0.021201\n",
       "1860645  168049959.0         0.0      0.464000\n",
       "1860646  167925975.0   6402552.0      1.000000\n",
       "1860647  168043780.0   3380490.0      0.061674\n",
       "1860648  168045235.0  22875944.0      0.907950\n",
       "1860649  168040755.0   4616474.0      0.666667\n",
       "1860650  168052862.0         0.0      0.200000\n",
       "1860651  167925975.0   6402552.0      1.000000\n",
       "1860652  167690656.0  15193275.0      0.000000\n",
       "1860655  167825961.0    708518.0      1.000000\n",
       "1860656  167993044.0   2216463.0      0.690000\n",
       "1860658  167574086.0   7185650.0      0.012987\n",
       "1860659    1685126.0  16854414.0      0.923841\n",
       "1860660  167960151.0  21763806.0      1.000000\n",
       "1860661  167589862.0  22056051.0      0.028000\n",
       "1860662  167979086.0   1244660.0      0.089362\n",
       "1860663  167969089.0    727161.0      0.000000\n",
       "\n",
       "[1557499 rows x 3 columns]"
      ]
     },
     "execution_count": 49,
     "metadata": {},
     "output_type": "execute_result"
    }
   ],
   "source": [
    "df_for_rec_on_popularity = df_for_rec_on_popularity.rename(index=str, columns={\"uid\": \"user_id\", \"song_id\": \"item_id\"})\n",
    "df_for_rec_on_popularity"
   ]
  },
  {
   "cell_type": "code",
   "execution_count": null,
   "metadata": {
    "collapsed": false
   },
   "outputs": [
    {
     "data": {
      "text/html": [
       "<pre>Recsys training: model = popularity</pre>"
      ],
      "text/plain": [
       "Recsys training: model = popularity"
      ]
     },
     "metadata": {},
     "output_type": "display_data"
    },
    {
     "data": {
      "text/html": [
       "<pre>Preparing data set.</pre>"
      ],
      "text/plain": [
       "Preparing data set."
      ]
     },
     "metadata": {},
     "output_type": "display_data"
    },
    {
     "data": {
      "text/html": [
       "<pre>    Data has 1557499 observations with 60830 users and 205798 items.</pre>"
      ],
      "text/plain": [
       "    Data has 1557499 observations with 60830 users and 205798 items."
      ]
     },
     "metadata": {},
     "output_type": "display_data"
    },
    {
     "data": {
      "text/html": [
       "<pre>    Data prepared in: 2.53916s</pre>"
      ],
      "text/plain": [
       "    Data prepared in: 2.53916s"
      ]
     },
     "metadata": {},
     "output_type": "display_data"
    },
    {
     "data": {
      "text/html": [
       "<pre>1557499 observations to process; with 205798 unique items.</pre>"
      ],
      "text/plain": [
       "1557499 observations to process; with 205798 unique items."
      ]
     },
     "metadata": {},
     "output_type": "display_data"
    },
    {
     "data": {
      "text/plain": [
       "Class                            : PopularityRecommender\n",
       "\n",
       "Schema\n",
       "------\n",
       "User ID                          : user_id\n",
       "Item ID                          : item_id\n",
       "Target                           : play_percent\n",
       "Additional observation features  : 0\n",
       "User side features               : []\n",
       "Item side features               : []\n",
       "\n",
       "Statistics\n",
       "----------\n",
       "Number of observations           : 1557499\n",
       "Number of users                  : 60830\n",
       "Number of items                  : 205798\n",
       "\n",
       "Training summary\n",
       "----------------\n",
       "Training time                    : 0.4595\n",
       "\n",
       "Model Parameters\n",
       "----------------\n",
       "Model class                      : PopularityRecommender"
      ]
     },
     "execution_count": 50,
     "metadata": {},
     "output_type": "execute_result"
    }
   ],
   "source": [
    "sf_for_rec_on_popularity = graphlab.SFrame(df_for_rec_on_popularity)\n",
    "sf_for_rec_on_popularity\n",
    "item_rec_on_popularity = graphlab.popularity_recommender.create(sf_for_rec_on_popularity, target='play_percent')\n",
    "item_rec_on_popularity"
   ]
  },
  {
   "cell_type": "code",
   "execution_count": null,
   "metadata": {
    "collapsed": true
   },
   "outputs": [],
   "source": [
    "item_rec_on_popularity.get_similar_items()"
   ]
  },
  {
   "cell_type": "code",
   "execution_count": null,
   "metadata": {
    "collapsed": true
   },
   "outputs": [],
   "source": [
    "item_rec_on_popularity.recommend()"
   ]
  },
  {
   "cell_type": "code",
   "execution_count": null,
   "metadata": {
    "collapsed": true
   },
   "outputs": [],
   "source": []
  },
  {
   "cell_type": "code",
   "execution_count": null,
   "metadata": {
    "collapsed": true
   },
   "outputs": [],
   "source": []
  },
  {
   "cell_type": "code",
   "execution_count": null,
   "metadata": {
    "collapsed": true
   },
   "outputs": [],
   "source": []
  }
 ],
 "metadata": {
  "kernelspec": {
   "display_name": "Python 2",
   "language": "python",
   "name": "python2"
  },
  "language_info": {
   "codemirror_mode": {
    "name": "ipython",
    "version": 2
   },
   "file_extension": ".py",
   "mimetype": "text/x-python",
   "name": "python",
   "nbconvert_exporter": "python",
   "pygments_lexer": "ipython2",
   "version": "2.7.13"
  }
 },
 "nbformat": 4,
 "nbformat_minor": 1
}
